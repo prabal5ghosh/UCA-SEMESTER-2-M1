{
 "cells": [
  {
   "cell_type": "markdown",
   "metadata": {},
   "source": [
    "# TP boosting\n",
    "## dataset: MNIST"
   ]
  },
  {
   "cell_type": "code",
   "execution_count": 2,
   "metadata": {
    "ExecuteTime": {
     "end_time": "2023-01-23T10:43:51.430710Z",
     "start_time": "2023-01-23T10:43:35.318042Z"
    }
   },
   "outputs": [
    {
     "name": "stderr",
     "output_type": "stream",
     "text": [
      "/home/lingrand/.local/lib/python3.8/site-packages/pandas/core/computation/expressions.py:20: UserWarning: Pandas requires version '2.7.3' or newer of 'numexpr' (version '2.7.1' currently installed).\n",
      "  from pandas.core.computation.check import NUMEXPR_INSTALLED\n"
     ]
    },
    {
     "name": "stdout",
     "output_type": "stream",
     "text": [
      "nb of train samples 60000\n"
     ]
    }
   ],
   "source": [
    "from tensorflow.keras.datasets import mnist\n",
    "(x_train, y_train), (x_test, y_test) = mnist.load_data()\n",
    "\n",
    "print(\"nb of train samples\",len(y_train))"
   ]
  },
  {
   "cell_type": "code",
   "execution_count": 3,
   "metadata": {
    "ExecuteTime": {
     "end_time": "2023-01-23T10:43:52.918680Z",
     "start_time": "2023-01-23T10:43:51.706124Z"
    }
   },
   "outputs": [],
   "source": [
    "#quelques imports pour la suite\n",
    "import numpy as np\n",
    "from sklearn.utils import shuffle\n",
    "import sklearn\n",
    "import matplotlib.pyplot as plt"
   ]
  },
  {
   "cell_type": "markdown",
   "metadata": {},
   "source": [
    "We choose 2 classes only for the binary classification: '4' and '8'. You can make another choice."
   ]
  },
  {
   "cell_type": "code",
   "execution_count": 3,
   "metadata": {},
   "outputs": [
    {
     "name": "stdout",
     "output_type": "stream",
     "text": [
      "(11693, 28, 28) (11693,)\n"
     ]
    }
   ],
   "source": [
    "# class of '4'\n",
    "x_train4 = x_train[y_train==4,:]\n",
    "# class of '8'\n",
    "x_train8 = x_train[y_train==8,:]\n",
    "\n",
    "# together\n",
    "x_trainBinaire = np.append(x_train4,x_train8,axis=0)\n",
    "# positive class: '8' ; negative class: '4' \n",
    "y_trainBinaire = np.append(np.full(len(x_train4),-1), np.full(len(x_train8),1))\n",
    "\n",
    "print(x_trainBinaire.shape, y_trainBinaire.shape)\n",
    "\n",
    "# shuffle together\n",
    "(x_trainBinaire,y_trainBinaire) = shuffle(x_trainBinaire,y_trainBinaire,random_state=0)"
   ]
  },
  {
   "cell_type": "markdown",
   "metadata": {},
   "source": [
    "## simple boosting on the data\n"
   ]
  },
  {
   "cell_type": "code",
   "execution_count": 4,
   "metadata": {},
   "outputs": [
    {
     "name": "stdout",
     "output_type": "stream",
     "text": [
      "(11693, 784)\n"
     ]
    }
   ],
   "source": [
    "n = x_trainBinaire.shape[0]\n",
    "x_trainBinaire = x_trainBinaire.reshape(n,-1)\n",
    "print(x_trainBinaire.shape)"
   ]
  },
  {
   "cell_type": "code",
   "execution_count": 4,
   "metadata": {
    "ExecuteTime": {
     "end_time": "2023-01-23T10:43:53.330740Z",
     "start_time": "2023-01-23T10:43:52.926068Z"
    }
   },
   "outputs": [],
   "source": [
    "from sklearn import ensemble\n",
    "from sklearn.ensemble import AdaBoostClassifier\n",
    "from sklearn.metrics import confusion_matrix, plot_confusion_matrix\n",
    "\n",
    "from sklearn.utils import shuffle"
   ]
  },
  {
   "cell_type": "code",
   "execution_count": 26,
   "metadata": {},
   "outputs": [
    {
     "name": "stdout",
     "output_type": "stream",
     "text": [
      "confusion matrix on train data [[5842    0]\n",
      " [   0 5851]]\n"
     ]
    }
   ],
   "source": [
    "## boosting (Adaboost)\n",
    "# object boosting\n",
    "myboosting = sklearn.ensemble.AdaBoostClassifier(n_estimators=200, learning_rate=1, algorithm='SAMME.R')\n",
    "# learning on the training dataset\n",
    "myboosting.fit(x_trainBinaire,y_trainBinaire)\n",
    "# prediction\n",
    "y_predBinaire = myboosting.predict(x_trainBinaire)\n",
    "print('confusion matrix on train data',confusion_matrix(y_trainBinaire,y_predBinaire))"
   ]
  },
  {
   "cell_type": "markdown",
   "metadata": {},
   "source": [
    "We printed the confusion matrix on train dataset. What is the influence of the variable n_estimators ?"
   ]
  },
  {
   "cell_type": "markdown",
   "metadata": {},
   "source": [
    "It is possible to display nicely the confusion matrix. For that, read the documentation: https://scikit-learn.org/stable/auto_examples/model_selection/plot_confusion_matrix.html."
   ]
  },
  {
   "cell_type": "markdown",
   "metadata": {},
   "source": [
    "Now compute the confusion matrix on the test dataset"
   ]
  },
  {
   "cell_type": "code",
   "execution_count": 12,
   "metadata": {},
   "outputs": [],
   "source": [
    "TO BE WRITTEN\n",
    "# pre-processing of test dataset (2 classes ....)\n",
    "\n",
    "\n",
    "# confusion matrix computation and display\n"
   ]
  },
  {
   "cell_type": "code",
   "execution_count": 27,
   "metadata": {},
   "outputs": [
    {
     "name": "stdout",
     "output_type": "stream",
     "text": [
      "(1956, 28, 28) (1956,)\n",
      "confusion matrix [[975   7]\n",
      " [ 10 964]]\n"
     ]
    },
    {
     "data": {
      "text/plain": [
       "Text(0.5, 1.0, 'Matrice de confusion')"
      ]
     },
     "execution_count": 27,
     "metadata": {},
     "output_type": "execute_result"
    },
    {
     "data": {
      "image/png": "[encoded data removed]",
      "text/plain": [
       "<Figure size 432x288 with 2 Axes>"
      ]
     },
     "metadata": {
      "needs_background": "light"
     },
     "output_type": "display_data"
    }
   ],
   "source": [
    "#choose classes 4 and 8\n",
    "x_test4 = x_test[y_test==4,:]\n",
    "x_test8 = x_test[y_test==8,:]\n",
    "\n",
    "x_testBinaire = np.append(x_test4,x_test8,axis=0)\n",
    "y_testBinaire = np.append(np.full(len(x_test4),-1), np.full(len(x_test8),1))\n",
    "\n",
    "print(x_testBinaire.shape, y_testBinaire.shape)\n",
    "\n",
    "(x_testBinaire,y_testBinaire) = shuffle(x_testBinaire,y_testBinaire,random_state=0)\n",
    "\n",
    "nT = x_testBinaire.shape[0]\n",
    "x_testBinaire = x_testBinaire.reshape(nT,-1)\n",
    "\n",
    "# calcul de la matrice de confusion et affichage\n",
    "\n",
    "y_predBinaire = myboosting.predict(x_testBinaire)\n",
    "print('confusion matrix',confusion_matrix(y_testBinaire,y_predBinaire))\n",
    "\n",
    "disp = plot_confusion_matrix(myboosting, x_testBinaire, y_testBinaire,\n",
    "                                 display_labels=['class 4','class 8'],\n",
    "                                 cmap=plt.cm.Blues,\n",
    "                                 normalize=None)\n",
    "disp.ax_.set_title('Matrice de confusion')"
   ]
  },
  {
   "cell_type": "markdown",
   "metadata": {},
   "source": [
    "## boosting on the 10 classes from MNIST:\n"
   ]
  },
  {
   "cell_type": "code",
   "execution_count": 5,
   "metadata": {
    "ExecuteTime": {
     "end_time": "2023-01-23T10:43:56.605707Z",
     "start_time": "2023-01-23T10:43:56.595943Z"
    }
   },
   "outputs": [],
   "source": [
    "n = x_train.shape[0]\n",
    "xTrain = x_train.reshape(n,-1)\n",
    "n = x_test.shape[0]\n",
    "xTest = x_test.reshape(n,-1)"
   ]
  },
  {
   "cell_type": "code",
   "execution_count": 7,
   "metadata": {
    "ExecuteTime": {
     "end_time": "2023-01-23T10:50:24.061744Z",
     "start_time": "2023-01-23T10:46:02.816240Z"
    }
   },
   "outputs": [
    {
     "name": "stdout",
     "output_type": "stream",
     "text": [
      "confusion matrix on test data [[ 867    0    5    1    1   21   81    2    1    1]\n",
      " [   0 1081    2   14    1    5    5   18    9    0]\n",
      " [  67   60  422   73   10   15  298   17   66    4]\n",
      " [ 103   33    9  620    3   89   32   21   84   16]\n",
      " [   5    1   21    7  780    9   29   47    5   78]\n",
      " [  67   29    7   63   10  513   88    6   77   32]\n",
      " [  10    3   18    1   21   15  886    0    3    1]\n",
      " [  26   26   28   10   28    2    1  750   10  147]\n",
      " [  31   63    8   67   16   38   59    8  664   20]\n",
      " [  15   19   19   13  221    3    0   64   32  623]]\n"
     ]
    }
   ],
   "source": [
    "## boosting (Adaboost)\n",
    "# object boosting\n",
    "myboosting = sklearn.ensemble.AdaBoostClassifier(n_estimators=200, learning_rate=1, algorithm='SAMME.R')\n",
    "# learning on the training dataset\n",
    "myboosting.fit(xTrain,y_train)\n",
    "# prediction\n",
    "y_pred = myboosting.predict(xTest)\n",
    "print('confusion matrix on test data',confusion_matrix(y_test,y_pred))"
   ]
  },
  {
   "cell_type": "code",
   "execution_count": 9,
   "metadata": {
    "ExecuteTime": {
     "end_time": "2023-01-23T11:00:36.137025Z",
     "start_time": "2023-01-23T11:00:36.130320Z"
    }
   },
   "outputs": [
    {
     "name": "stdout",
     "output_type": "stream",
     "text": [
      "DecisionTreeClassifier(max_depth=1, random_state=393783479)\n"
     ]
    }
   ],
   "source": [
    "print(myboosting.estimators_[0])"
   ]
  },
  {
   "cell_type": "code",
   "execution_count": 10,
   "metadata": {
    "ExecuteTime": {
     "end_time": "2023-01-23T11:01:24.566531Z",
     "start_time": "2023-01-23T11:01:24.562498Z"
    }
   },
   "outputs": [],
   "source": [
    "from sklearn import tree"
   ]
  },
  {
   "cell_type": "code",
   "execution_count": 12,
   "metadata": {
    "ExecuteTime": {
     "end_time": "2023-01-23T11:03:02.838974Z",
     "start_time": "2023-01-23T11:03:02.461620Z"
    }
   },
   "outputs": [
    {
     "data": {
      "text/plain": [
       "[Text(0.5, 0.75, 'X[350] <= 131.5\\ngini = 0.9\\nsamples = 60000\\nvalue = [0.099, 0.112, 0.099, 0.102, 0.097, 0.09, 0.099, 0.104\\n0.098, 0.099]'),\n",
       " Text(0.25, 0.25, 'gini = 0.881\\nsamples = 39160\\nvalue = [0.091, 0.01, 0.08, 0.022, 0.089, 0.054, 0.08, 0.096\\n0.051, 0.08]'),\n",
       " Text(0.75, 0.25, 'gini = 0.821\\nsamples = 20840\\nvalue = [0.008, 0.102, 0.02, 0.08, 0.008, 0.036, 0.019, 0.008\\n0.046, 0.02]')]"
      ]
     },
     "execution_count": 12,
     "metadata": {},
     "output_type": "execute_result"
    },
    {
     "data": {
      "image/png": "[encoded data removed]",
      "text/plain": [
       "<Figure size 432x288 with 1 Axes>"
      ]
     },
     "metadata": {
      "needs_background": "light"
     },
     "output_type": "display_data"
    }
   ],
   "source": [
    "tree.plot_tree(myboosting.estimators_[0])"
   ]
  },
  {
   "cell_type": "markdown",
   "metadata": {},
   "source": [
    "## binary boosting using Haar filters\n",
    "The first step is the preparation of the data."
   ]
  },
  {
   "cell_type": "markdown",
   "metadata": {},
   "source": [
    "### Haar filters"
   ]
  },
  {
   "cell_type": "code",
   "execution_count": 29,
   "metadata": {},
   "outputs": [],
   "source": [
    "from skimage import feature\n",
    "from skimage import transform"
   ]
  },
  {
   "cell_type": "markdown",
   "metadata": {},
   "source": [
    "For Haar filters, it is possible to generate them from the library tools or to build them by hand."
   ]
  },
  {
   "cell_type": "code",
   "execution_count": 37,
   "metadata": {},
   "outputs": [],
   "source": [
    "# automatic generation from:\n",
    "#       'type-2-x' and 'type-2-y'\n",
    "# and images dimension: 28x28\n",
    "feat_coord, feat_type = feature.haar_like_feature_coord(4,4, ['type-2-x','type-2-y'])"
   ]
  },
  {
   "cell_type": "markdown",
   "metadata": {},
   "source": [
    "How many filters ? And compared to pixels number ?"
   ]
  },
  {
   "cell_type": "code",
   "execution_count": 38,
   "metadata": {},
   "outputs": [
    {
     "name": "stdout",
     "output_type": "stream",
     "text": [
      "[list([[(0, 0), (0, 0)], [(0, 1), (0, 1)]])\n",
      " list([[(0, 0), (0, 1)], [(0, 2), (0, 3)]])\n",
      " list([[(0, 0), (1, 0)], [(0, 1), (1, 1)]])\n",
      " list([[(0, 0), (1, 1)], [(0, 2), (1, 3)]])\n",
      " list([[(0, 0), (2, 0)], [(0, 1), (2, 1)]])\n",
      " list([[(0, 0), (2, 1)], [(0, 2), (2, 3)]])\n",
      " list([[(0, 1), (0, 1)], [(0, 2), (0, 2)]])\n",
      " list([[(0, 1), (1, 1)], [(0, 2), (1, 2)]])\n",
      " list([[(0, 1), (2, 1)], [(0, 2), (2, 2)]])\n",
      " list([[(0, 2), (0, 2)], [(0, 3), (0, 3)]])\n",
      " list([[(0, 2), (1, 2)], [(0, 3), (1, 3)]])\n",
      " list([[(0, 2), (2, 2)], [(0, 3), (2, 3)]])\n",
      " list([[(1, 0), (1, 0)], [(1, 1), (1, 1)]])\n",
      " list([[(1, 0), (1, 1)], [(1, 2), (1, 3)]])\n",
      " list([[(1, 0), (2, 0)], [(1, 1), (2, 1)]])\n",
      " list([[(1, 0), (2, 1)], [(1, 2), (2, 3)]])\n",
      " list([[(1, 0), (3, 0)], [(1, 1), (3, 1)]])\n",
      " list([[(1, 0), (3, 1)], [(1, 2), (3, 3)]])\n",
      " list([[(1, 1), (1, 1)], [(1, 2), (1, 2)]])\n",
      " list([[(1, 1), (2, 1)], [(1, 2), (2, 2)]])\n",
      " list([[(1, 1), (3, 1)], [(1, 2), (3, 2)]])\n",
      " list([[(1, 2), (1, 2)], [(1, 3), (1, 3)]])\n",
      " list([[(1, 2), (2, 2)], [(1, 3), (2, 3)]])\n",
      " list([[(1, 2), (3, 2)], [(1, 3), (3, 3)]])\n",
      " list([[(2, 0), (2, 0)], [(2, 1), (2, 1)]])\n",
      " list([[(2, 0), (2, 1)], [(2, 2), (2, 3)]])\n",
      " list([[(2, 0), (3, 0)], [(2, 1), (3, 1)]])\n",
      " list([[(2, 0), (3, 1)], [(2, 2), (3, 3)]])\n",
      " list([[(2, 1), (2, 1)], [(2, 2), (2, 2)]])\n",
      " list([[(2, 1), (3, 1)], [(2, 2), (3, 2)]])\n",
      " list([[(2, 2), (2, 2)], [(2, 3), (2, 3)]])\n",
      " list([[(2, 2), (3, 2)], [(2, 3), (3, 3)]])\n",
      " list([[(3, 0), (3, 0)], [(3, 1), (3, 1)]])\n",
      " list([[(3, 0), (3, 1)], [(3, 2), (3, 3)]])\n",
      " list([[(3, 1), (3, 1)], [(3, 2), (3, 2)]])\n",
      " list([[(3, 2), (3, 2)], [(3, 3), (3, 3)]])\n",
      " list([[(0, 0), (0, 0)], [(1, 0), (1, 0)]])\n",
      " list([[(0, 0), (0, 1)], [(1, 0), (1, 1)]])\n",
      " list([[(0, 0), (0, 2)], [(1, 0), (1, 2)]])\n",
      " list([[(0, 0), (1, 0)], [(2, 0), (3, 0)]])\n",
      " list([[(0, 0), (1, 1)], [(2, 0), (3, 1)]])\n",
      " list([[(0, 0), (1, 2)], [(2, 0), (3, 2)]])\n",
      " list([[(0, 1), (0, 1)], [(1, 1), (1, 1)]])\n",
      " list([[(0, 1), (0, 2)], [(1, 1), (1, 2)]])\n",
      " list([[(0, 1), (0, 3)], [(1, 1), (1, 3)]])\n",
      " list([[(0, 1), (1, 1)], [(2, 1), (3, 1)]])\n",
      " list([[(0, 1), (1, 2)], [(2, 1), (3, 2)]])\n",
      " list([[(0, 1), (1, 3)], [(2, 1), (3, 3)]])\n",
      " list([[(0, 2), (0, 2)], [(1, 2), (1, 2)]])\n",
      " list([[(0, 2), (0, 3)], [(1, 2), (1, 3)]])\n",
      " list([[(0, 2), (1, 2)], [(2, 2), (3, 2)]])\n",
      " list([[(0, 2), (1, 3)], [(2, 2), (3, 3)]])\n",
      " list([[(0, 3), (0, 3)], [(1, 3), (1, 3)]])\n",
      " list([[(0, 3), (1, 3)], [(2, 3), (3, 3)]])\n",
      " list([[(1, 0), (1, 0)], [(2, 0), (2, 0)]])\n",
      " list([[(1, 0), (1, 1)], [(2, 0), (2, 1)]])\n",
      " list([[(1, 0), (1, 2)], [(2, 0), (2, 2)]])\n",
      " list([[(1, 1), (1, 1)], [(2, 1), (2, 1)]])\n",
      " list([[(1, 1), (1, 2)], [(2, 1), (2, 2)]])\n",
      " list([[(1, 1), (1, 3)], [(2, 1), (2, 3)]])\n",
      " list([[(1, 2), (1, 2)], [(2, 2), (2, 2)]])\n",
      " list([[(1, 2), (1, 3)], [(2, 2), (2, 3)]])\n",
      " list([[(1, 3), (1, 3)], [(2, 3), (2, 3)]])\n",
      " list([[(2, 0), (2, 0)], [(3, 0), (3, 0)]])\n",
      " list([[(2, 0), (2, 1)], [(3, 0), (3, 1)]])\n",
      " list([[(2, 0), (2, 2)], [(3, 0), (3, 2)]])\n",
      " list([[(2, 1), (2, 1)], [(3, 1), (3, 1)]])\n",
      " list([[(2, 1), (2, 2)], [(3, 1), (3, 2)]])\n",
      " list([[(2, 1), (2, 3)], [(3, 1), (3, 3)]])\n",
      " list([[(2, 2), (2, 2)], [(3, 2), (3, 2)]])\n",
      " list([[(2, 2), (2, 3)], [(3, 2), (3, 3)]])\n",
      " list([[(2, 3), (2, 3)], [(3, 3), (3, 3)]])]\n"
     ]
    }
   ],
   "source": [
    "print(feat_coord)\n"
   ]
  },
  {
   "cell_type": "code",
   "execution_count": null,
   "metadata": {},
   "outputs": [],
   "source": [
    "# images transformation: we apply all filters\n",
    "cpt=0\n",
    "\n",
    "for image in x_trainBinaire:\n",
    "    # integral image computation\n",
    "    int_image = transform.integral_image(image)\n",
    "    print(int_image.shape)\n",
    "    # Haar filters computation\n",
    "    features = feature.haar_like_feature(int_image, 0, 0, 28, 28,feature_type=feat_type,feature_coord=feat_coord)\n",
    "    if cpt%1000 == 0:\n",
    "        ftrain = [features]\n",
    "    else:\n",
    "        ftrain = np.append(ftrain,[features],axis=0)\n",
    "    cpt += 1"
   ]
  },
  {
   "cell_type": "markdown",
   "metadata": {},
   "source": [
    "You may encounter size problems. Try to remove some filters. Which ones ? How many ? That's the question ...."
   ]
  },
  {
   "cell_type": "code",
   "execution_count": null,
   "metadata": {},
   "outputs": [],
   "source": [
    "# for you"
   ]
  },
  {
   "cell_type": "markdown",
   "metadata": {},
   "source": [
    "Other alternatives: build the filters. As for example:"
   ]
  },
  {
   "cell_type": "code",
   "execution_count": null,
   "metadata": {},
   "outputs": [],
   "source": [
    "feat_coord = np.array([list([[(0, 0), (6, 0)], [(6, 6), (6, 6)]]),\n",
    "       list([[(0, 0), (0, 6)], [(0, 13), (0, 20)]])])\n",
    "\n",
    "feat_type = np.array(['type-2-x', 'type-2-x'])\n"
   ]
  },
  {
   "cell_type": "markdown",
   "metadata": {},
   "source": [
    "Applying Haar filters can take some time. Don't hesitate to save the results."
   ]
  },
  {
   "cell_type": "code",
   "execution_count": null,
   "metadata": {},
   "outputs": [],
   "source": [
    "# code for saving and loading python object\n",
    "import pickle\n",
    "# save ftrain in the file 'features.bin'\n",
    "with open('features.bin', 'wb') as output:\n",
    "        pickle.dump(ftrain, output, pickle.HIGHEST_PROTOCOL)\n",
    "# load ftrain from the saved file\n",
    "with open('features.bin', 'rb') as output:\n",
    "        ftrain = pickle.load(output)\n"
   ]
  },
  {
   "cell_type": "markdown",
   "metadata": {},
   "source": [
    "## binary boosting with Haar filters\n",
    "Compare the different options for the filters. Compare with the first boosting in this notebook. "
   ]
  },
  {
   "cell_type": "code",
   "execution_count": null,
   "metadata": {},
   "outputs": [],
   "source": [
    "# for you  !"
   ]
  },
  {
   "cell_type": "markdown",
   "metadata": {},
   "source": [
    "## 10 classes boosting with Haar filters\n",
    "Same questions"
   ]
  },
  {
   "cell_type": "code",
   "execution_count": null,
   "metadata": {},
   "outputs": [],
   "source": []
  }
 ],
 "metadata": {
  "hide_input": false,
  "kernelspec": {
   "display_name": "Python 3 (ipykernel)",
   "language": "python",
   "name": "python3"
  },
  "language_info": {
   "codemirror_mode": {
    "name": "ipython",
    "version": 3
   },
   "file_extension": ".py",
   "mimetype": "text/x-python",
   "name": "python",
   "nbconvert_exporter": "python",
   "pygments_lexer": "ipython3",
   "version": "3.10.13"
  },
  "latex_envs": {
   "LaTeX_envs_menu_present": true,
   "autoclose": false,
   "autocomplete": true,
   "bibliofile": "biblio.bib",
   "cite_by": "apalike",
   "current_citInitial": 1,
   "eqLabelWithNumbers": true,
   "eqNumInitial": 1,
   "hotkeys": {
    "equation": "Ctrl-E",
    "itemize": "Ctrl-I"
   },
   "labels_anchors": false,
   "latex_user_defs": false,
   "report_style_numbering": false,
   "user_envs_cfg": false
  },
  "varInspector": {
   "cols": {
    "lenName": 16,
    "lenType": 16,
    "lenVar": 40
   },
   "kernels_config": {
    "python": {
     "delete_cmd_postfix": "",
     "delete_cmd_prefix": "del ",
     "library": "var_list.py",
     "varRefreshCmd": "print(var_dic_list())"
    },
    "r": {
     "delete_cmd_postfix": ") ",
     "delete_cmd_prefix": "rm(",
     "library": "var_list.r",
     "varRefreshCmd": "cat(var_dic_list()) "
    }
   },
   "types_to_exclude": [
    "module",
    "function",
    "builtin_function_or_method",
    "instance",
    "_Feature"
   ],
   "window_display": false
  }
 },
 "nbformat": 4,
 "nbformat_minor": 2
}
