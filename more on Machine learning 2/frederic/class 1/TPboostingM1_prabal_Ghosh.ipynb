{
 "cells": [
  {
   "cell_type": "markdown",
   "metadata": {},
   "source": [
    "# Prabal Ghosh"
   ]
  },
  {
   "cell_type": "markdown",
   "metadata": {},
   "source": [
    "# Lab= TP boosting\n",
    "## dataset: MNIST"
   ]
  },
  {
   "cell_type": "code",
   "execution_count": 1,
   "metadata": {
    "ExecuteTime": {
     "end_time": "2023-01-23T10:43:51.430710Z",
     "start_time": "2023-01-23T10:43:35.318042Z"
    },
    "tags": []
   },
   "outputs": [
    {
     "name": "stdout",
     "output_type": "stream",
     "text": [
      "WARNING:tensorflow:From C:\\Users\\praba\\anaconda3\\Lib\\site-packages\\keras\\src\\losses.py:2976: The name tf.losses.sparse_softmax_cross_entropy is deprecated. Please use tf.compat.v1.losses.sparse_softmax_cross_entropy instead.\n",
      "\n",
      "nb of train samples 60000\n"
     ]
    }
   ],
   "source": [
    "from tensorflow.keras.datasets import mnist\n",
    "(x_train, y_train), (x_test, y_test) = mnist.load_data()\n",
    "\n",
    "print(\"nb of train samples\",len(y_train))"
   ]
  },
  {
   "cell_type": "code",
   "execution_count": 2,
   "metadata": {
    "ExecuteTime": {
     "end_time": "2023-01-23T10:43:52.918680Z",
     "start_time": "2023-01-23T10:43:51.706124Z"
    },
    "tags": []
   },
   "outputs": [],
   "source": [
    "#quelques imports pour la suite\n",
    "import numpy as np\n",
    "from sklearn.utils import shuffle\n",
    "import sklearn\n",
    "import matplotlib.pyplot as plt"
   ]
  },
  {
   "cell_type": "markdown",
   "metadata": {},
   "source": [
    "We choose 2 classes only for the binary classification: '4' and '8'. You can make another choice."
   ]
  },
  {
   "cell_type": "code",
   "execution_count": 3,
   "metadata": {
    "tags": []
   },
   "outputs": [
    {
     "name": "stdout",
     "output_type": "stream",
     "text": [
      "(11693, 28, 28) (11693,)\n"
     ]
    }
   ],
   "source": [
    "# class of '4'\n",
    "x_train4 = x_train[y_train==4,:]\n",
    "# class of '8'\n",
    "x_train8 = x_train[y_train==8,:]\n",
    "\n",
    "# together\n",
    "x_trainBinaire = np.append(x_train4,x_train8,axis=0)\n",
    "# positive class: '8' ; negative class: '4' \n",
    "y_trainBinaire = np.append(np.full(len(x_train4),-1), np.full(len(x_train8),1))\n",
    "\n",
    "print(x_trainBinaire.shape, y_trainBinaire.shape)\n",
    "\n",
    "# shuffle together\n",
    "(x_trainBinaire,y_trainBinaire) = shuffle(x_trainBinaire,y_trainBinaire,random_state=0)"
   ]
  },
  {
   "cell_type": "markdown",
   "metadata": {},
   "source": [
    "## simple boosting on the data\n"
   ]
  },
  {
   "cell_type": "code",
   "execution_count": 4,
   "metadata": {
    "tags": []
   },
   "outputs": [
    {
     "name": "stdout",
     "output_type": "stream",
     "text": [
      "(11693, 784)\n"
     ]
    }
   ],
   "source": [
    "n = x_trainBinaire.shape[0]\n",
    "x_trainBinaire = x_trainBinaire.reshape(n,-1)\n",
    "print(x_trainBinaire.shape)"
   ]
  },
  {
   "cell_type": "code",
   "execution_count": 5,
   "metadata": {
    "tags": []
   },
   "outputs": [],
   "source": [
    "# pip install --upgrade scikit-learn\n"
   ]
  },
  {
   "cell_type": "code",
   "execution_count": 6,
   "metadata": {
    "tags": []
   },
   "outputs": [],
   "source": [
    "# pip install --force-reinstall scikit-learn\n"
   ]
  },
  {
   "cell_type": "code",
   "execution_count": 7,
   "metadata": {
    "ExecuteTime": {
     "end_time": "2023-01-23T10:43:53.330740Z",
     "start_time": "2023-01-23T10:43:52.926068Z"
    },
    "tags": []
   },
   "outputs": [],
   "source": [
    "from sklearn import ensemble\n",
    "from sklearn.ensemble import AdaBoostClassifier\n",
    "from sklearn.metrics import confusion_matrix\n",
    "# from sklearn.metrics import  plot_confusion_matrix\n",
    "\n",
    "from sklearn.utils import shuffle"
   ]
  },
  {
   "cell_type": "code",
   "execution_count": 8,
   "metadata": {},
   "outputs": [
    {
     "name": "stderr",
     "output_type": "stream",
     "text": [
      "C:\\Users\\praba\\anaconda3\\Lib\\site-packages\\sklearn\\ensemble\\_weight_boosting.py:519: FutureWarning: The SAMME.R algorithm (the default) is deprecated and will be removed in 1.6. Use the SAMME algorithm to circumvent this warning.\n",
      "  warnings.warn(\n"
     ]
    },
    {
     "name": "stdout",
     "output_type": "stream",
     "text": [
      "confusion matrix on train data [[5842    0]\n",
      " [   0 5851]]\n"
     ]
    }
   ],
   "source": [
    "## boosting (Adaboost)\n",
    "# object boosting\n",
    "myboosting = sklearn.ensemble.AdaBoostClassifier(n_estimators=200, learning_rate=1, algorithm='SAMME.R')\n",
    "\n",
    "# learning on the training dataset\n",
    "myboosting.fit(x_trainBinaire,y_trainBinaire)\n",
    "# prediction\n",
    "y_predBinaire = myboosting.predict(x_trainBinaire)\n",
    "print('confusion matrix on train data',confusion_matrix(y_trainBinaire,y_predBinaire))"
   ]
  },
  {
   "cell_type": "code",
   "execution_count": 9,
   "metadata": {},
   "outputs": [
    {
     "name": "stderr",
     "output_type": "stream",
     "text": [
      "C:\\Users\\praba\\anaconda3\\Lib\\site-packages\\sklearn\\ensemble\\_weight_boosting.py:519: FutureWarning: The SAMME.R algorithm (the default) is deprecated and will be removed in 1.6. Use the SAMME algorithm to circumvent this warning.\n",
      "  warnings.warn(\n"
     ]
    },
    {
     "name": "stdout",
     "output_type": "stream",
     "text": [
      "confusion matrix on train data [[5838    4]\n",
      " [   7 5844]]\n"
     ]
    }
   ],
   "source": [
    "## boosting (Adaboost)\n",
    "# object boosting\n",
    "myboosting = sklearn.ensemble.AdaBoostClassifier(n_estimators=120, learning_rate=1.0, algorithm='SAMME.R')\n",
    "\n",
    "# learning on the training dataset\n",
    "myboosting.fit(x_trainBinaire,y_trainBinaire)\n",
    "# prediction\n",
    "y_predBinaire = myboosting.predict(x_trainBinaire)\n",
    "print('confusion matrix on train data',confusion_matrix(y_trainBinaire,y_predBinaire))"
   ]
  },
  {
   "cell_type": "markdown",
   "metadata": {},
   "source": [
    "We printed the confusion matrix on train dataset. What is the influence of the variable n_estimators ?"
   ]
  },
  {
   "cell_type": "markdown",
   "metadata": {},
   "source": [
    "## AdaBoost Parameters\n",
    "\n",
    "- **n_estimators** (int, default=50):\n",
    "  - The maximum number of estimators at which boosting is terminated. In case of perfect fit, the learning procedure is stopped early. Values must be in the range [1, inf).\n",
    "  - **When n_estimators is set too high, the model may start memorizing the training data, leading to overfitting. On the other hand, if n_estimators is too low, the model may not be able to capture all the underlying patterns in the data, resulting in underfitting.**\n",
    "\n",
    "\n",
    "\n",
    "\n",
    "/\n",
    "- **learning_rate** (float, default=1.0):\n",
    "  - Weight applied to each classifier at each boosting iteration. A higher learning rate increases the contribution of each classifier. There is a trade-off between the `learning_rate` and `n_estimators` parameters. Values must be in the range (0.0, inf).\n",
    "  - **We can choose low learning_rate to reduce overfitting but it will slow down the learning process**\n",
    "\n",
    "\n",
    "- **Thats why I choose n_estimators =120 and learning_rate =1.0**\n"
   ]
  },
  {
   "cell_type": "markdown",
   "metadata": {},
   "source": [
    "It is possible to display nicely the confusion matrix. For that, read the documentation: https://scikit-learn.org/stable/auto_examples/model_selection/plot_confusion_matrix.html."
   ]
  },
  {
   "cell_type": "code",
   "execution_count": 10,
   "metadata": {},
   "outputs": [
    {
     "data": {
      "text/plain": [
       "Text(0.5, 1.0, 'Confusion matrix on training data')"
      ]
     },
     "execution_count": 10,
     "metadata": {},
     "output_type": "execute_result"
    },
    {
     "data": {
      "image/png": "[encoded data removed]",
      "text/plain": [
       "<Figure size 600x400 with 2 Axes>"
      ]
     },
     "metadata": {},
     "output_type": "display_data"
    }
   ],
   "source": [
    "from sklearn.metrics import classification_report, confusion_matrix, ConfusionMatrixDisplay\n",
    "\n",
    "\n",
    "cm = confusion_matrix(y_trainBinaire, y_predBinaire)\n",
    "\n",
    "fig, ax = plt.subplots(figsize=(6, 4)) \n",
    "\n",
    "disp = ConfusionMatrixDisplay(confusion_matrix=cm, display_labels=['Class 4', 'Class 8'])\n",
    "# disp.plot()\n",
    "disp.plot(ax=ax)\n",
    "\n",
    "disp.ax_.set_title('Confusion matrix on training data')"
   ]
  },
  {
   "cell_type": "markdown",
   "metadata": {},
   "source": [
    "Now compute the confusion matrix on the test dataset"
   ]
  },
  {
   "cell_type": "code",
   "execution_count": 11,
   "metadata": {},
   "outputs": [
    {
     "name": "stdout",
     "output_type": "stream",
     "text": [
      "(1956, 28, 28) (1956,)\n"
     ]
    },
    {
     "data": {
      "text/plain": [
       "Text(0.5, 1.0, 'Confusion matrix on test data')"
      ]
     },
     "execution_count": 11,
     "metadata": {},
     "output_type": "execute_result"
    },
    {
     "data": {
      "image/png": "[encoded data removed]",
      "text/plain": [
       "<Figure size 600x400 with 2 Axes>"
      ]
     },
     "metadata": {},
     "output_type": "display_data"
    }
   ],
   "source": [
    "# TO BE WRITTEN\n",
    "# pre-processing of test dataset (2 classes ....)\n",
    "\n",
    "# class of '4'\n",
    "x_test4 = x_test[y_test==4,:]\n",
    "# class of '8'\n",
    "x_test8 = x_test[y_test==8,:]\n",
    "\n",
    "# together\n",
    "x_testBinaire = np.append(x_test4,x_test8,axis=0)\n",
    "# positive class: '8' ; negative class: '4' \n",
    "y_testBinaire = np.append(np.full(len(x_test4),-1), np.full(len(x_test8),1))\n",
    "\n",
    "print(x_testBinaire.shape, y_testBinaire.shape)\n",
    "\n",
    "nT = x_testBinaire.shape[0]\n",
    "x_testBinaire = x_testBinaire.reshape(nT,-1)\n",
    "\n",
    "\n",
    "\n",
    "\n",
    "#prediction\n",
    "\n",
    "y_test_pred_Binaire = myboosting.predict(x_testBinaire)\n",
    "\n",
    "\n",
    "\n",
    "\n",
    "\n",
    "# confusion matrix computation and display\n",
    "\n",
    "from sklearn.metrics import classification_report, confusion_matrix, ConfusionMatrixDisplay\n",
    "\n",
    "\n",
    "cm_test = confusion_matrix(y_testBinaire, y_test_pred_Binaire)\n",
    "\n",
    "fig, ax = plt.subplots(figsize=(6, 4)) \n",
    "\n",
    "disp = ConfusionMatrixDisplay(confusion_matrix=cm_test, display_labels=['Class 4', 'Class 8'])\n",
    "# disp.plot()\n",
    "disp.plot(ax=ax)\n",
    "\n",
    "disp.ax_.set_title('Confusion matrix on test data')\n"
   ]
  },
  {
   "cell_type": "code",
   "execution_count": 12,
   "metadata": {},
   "outputs": [
    {
     "name": "stdout",
     "output_type": "stream",
     "text": [
      "(1956, 28, 28) (1956,)\n",
      "confusion matrix [[978   4]\n",
      " [ 11 963]]\n"
     ]
    }
   ],
   "source": [
    "#choose classes 4 and 8\n",
    "x_test4 = x_test[y_test==4,:]\n",
    "x_test8 = x_test[y_test==8,:]\n",
    "\n",
    "x_testBinaire = np.append(x_test4,x_test8,axis=0)\n",
    "y_testBinaire = np.append(np.full(len(x_test4),-1), np.full(len(x_test8),1))\n",
    "\n",
    "print(x_testBinaire.shape, y_testBinaire.shape)\n",
    "\n",
    "(x_testBinaire,y_testBinaire) = shuffle(x_testBinaire,y_testBinaire,random_state=0)\n",
    "\n",
    "nT = x_testBinaire.shape[0]\n",
    "x_testBinaire = x_testBinaire.reshape(nT,-1)\n",
    "\n",
    "# calcul de la matrice de confusion et affichage\n",
    "\n",
    "y_predBinaire = myboosting.predict(x_testBinaire)\n",
    "print('confusion matrix',confusion_matrix(y_testBinaire,y_predBinaire))\n",
    "\n",
    "# disp = plot_confusion_matrix(myboosting, x_testBinaire, y_testBinaire,\n",
    "#                                  display_labels=['class 4','class 8'],\n",
    "#                                  cmap=plt.cm.Blues,\n",
    "#                                  normalize=None)\n",
    "# disp.ax_.set_title('Matrice de confusion')"
   ]
  },
  {
   "cell_type": "markdown",
   "metadata": {},
   "source": [
    "## boosting on the 10 classes from MNIST:\n"
   ]
  },
  {
   "cell_type": "code",
   "execution_count": 13,
   "metadata": {
    "ExecuteTime": {
     "end_time": "2023-01-23T10:43:56.605707Z",
     "start_time": "2023-01-23T10:43:56.595943Z"
    }
   },
   "outputs": [],
   "source": [
    "n = x_train.shape[0]\n",
    "xTrain = x_train.reshape(n,-1)\n",
    "n = x_test.shape[0]\n",
    "xTest = x_test.reshape(n,-1)"
   ]
  },
  {
   "cell_type": "code",
   "execution_count": 14,
   "metadata": {
    "ExecuteTime": {
     "end_time": "2023-01-23T10:50:24.061744Z",
     "start_time": "2023-01-23T10:46:02.816240Z"
    }
   },
   "outputs": [
    {
     "name": "stdout",
     "output_type": "stream",
     "text": [
      "confusion matrix on test data [[ 600    2    7    3    0  352    5    4    6    1]\n",
      " [   0 1009   57   21    1    1    4    5   37    0]\n",
      " [  15   44  703   19   13   27  103   22   77    9]\n",
      " [  20    2   36  675    1  105    8   21  126   16]\n",
      " [   1    0   10   14  664    8   13   31   38  203]\n",
      " [  15   13   10  172   11  506   20   13  103   29]\n",
      " [  20    5   33   10   67   43  741    0   29   10]\n",
      " [   4   14   35   10   13    6    1  858   17   70]\n",
      " [   6   16   17   53   10   39   15   16  774   28]\n",
      " [   4    6    7   43  122   14    1  105   59  648]]\n"
     ]
    }
   ],
   "source": [
    "## boosting (Adaboost)\n",
    "# object boosting\n",
    "# myboosting = sklearn.ensemble.AdaBoostClassifier(n_estimators=200, learning_rate=1, algorithm='SAMME.R')\n",
    "myboosting = sklearn.ensemble.AdaBoostClassifier(n_estimators=120, learning_rate=1, algorithm='SAMME')\n",
    "\n",
    "# learning on the training dataset\n",
    "myboosting.fit(xTrain,y_train)\n",
    "# prediction\n",
    "y_pred = myboosting.predict(xTest)\n",
    "print('confusion matrix on test data',confusion_matrix(y_test,y_pred))"
   ]
  },
  {
   "cell_type": "code",
   "execution_count": 15,
   "metadata": {
    "ExecuteTime": {
     "end_time": "2023-01-23T11:00:36.137025Z",
     "start_time": "2023-01-23T11:00:36.130320Z"
    }
   },
   "outputs": [
    {
     "name": "stdout",
     "output_type": "stream",
     "text": [
      "DecisionTreeClassifier(max_depth=1, random_state=586802872)\n"
     ]
    }
   ],
   "source": [
    "print(myboosting.estimators_[0])"
   ]
  },
  {
   "cell_type": "code",
   "execution_count": 16,
   "metadata": {
    "ExecuteTime": {
     "end_time": "2023-01-23T11:01:24.566531Z",
     "start_time": "2023-01-23T11:01:24.562498Z"
    }
   },
   "outputs": [],
   "source": [
    "from sklearn import tree"
   ]
  },
  {
   "cell_type": "code",
   "execution_count": 17,
   "metadata": {
    "ExecuteTime": {
     "end_time": "2023-01-23T11:03:02.838974Z",
     "start_time": "2023-01-23T11:03:02.461620Z"
    }
   },
   "outputs": [
    {
     "data": {
      "text/plain": [
       "[Text(0.5, 0.75, 'x[350] <= 131.5\\ngini = 0.9\\nsamples = 60000\\nvalue = [0.099, 0.112, 0.099, 0.102, 0.097, 0.09, 0.099, 0.104\\n0.098, 0.099]'),\n",
       " Text(0.25, 0.25, 'gini = 0.881\\nsamples = 39160\\nvalue = [0.091, 0.01, 0.08, 0.022, 0.089, 0.054, 0.08, 0.096\\n0.051, 0.08]'),\n",
       " Text(0.75, 0.25, 'gini = 0.821\\nsamples = 20840\\nvalue = [0.008, 0.102, 0.02, 0.08, 0.008, 0.036, 0.019, 0.008\\n0.046, 0.02]')]"
      ]
     },
     "execution_count": 17,
     "metadata": {},
     "output_type": "execute_result"
    },
    {
     "data": {
      "image/png": "[encoded data removed]",
      "text/plain": [
       "<Figure size 640x480 with 1 Axes>"
      ]
     },
     "metadata": {},
     "output_type": "display_data"
    }
   ],
   "source": [
    "tree.plot_tree(myboosting.estimators_[0])"
   ]
  },
  {
   "cell_type": "markdown",
   "metadata": {},
   "source": [
    "## binary boosting using Haar filters\n",
    "The first step is the preparation of the data."
   ]
  },
  {
   "cell_type": "markdown",
   "metadata": {},
   "source": [
    "### Haar filters"
   ]
  },
  {
   "cell_type": "code",
   "execution_count": 18,
   "metadata": {},
   "outputs": [],
   "source": [
    "from skimage import feature\n",
    "from skimage import transform"
   ]
  },
  {
   "cell_type": "markdown",
   "metadata": {},
   "source": [
    "For Haar filters, it is possible to generate them from the library tools or to build them by hand."
   ]
  },
  {
   "cell_type": "code",
   "execution_count": 19,
   "metadata": {},
   "outputs": [],
   "source": [
    "# automatic generation from:\n",
    "#       'type-2-x' and 'type-2-y'\n",
    "# and images dimension: 28x28\n",
    "feat_coord, feat_type = feature.haar_like_feature_coord(4,4, ['type-2-x','type-2-y'])"
   ]
  },
  {
   "cell_type": "code",
   "execution_count": 20,
   "metadata": {},
   "outputs": [
    {
     "data": {
      "text/plain": [
       "array(['type-2-x', 'type-2-x', 'type-2-x', 'type-2-x', 'type-2-x',\n",
       "       'type-2-x', 'type-2-x', 'type-2-x', 'type-2-x', 'type-2-x',\n",
       "       'type-2-x', 'type-2-x', 'type-2-x', 'type-2-x', 'type-2-x',\n",
       "       'type-2-x', 'type-2-x', 'type-2-x', 'type-2-x', 'type-2-x',\n",
       "       'type-2-x', 'type-2-x', 'type-2-x', 'type-2-x', 'type-2-x',\n",
       "       'type-2-x', 'type-2-x', 'type-2-x', 'type-2-x', 'type-2-x',\n",
       "       'type-2-x', 'type-2-x', 'type-2-x', 'type-2-x', 'type-2-x',\n",
       "       'type-2-x', 'type-2-x', 'type-2-x', 'type-2-x', 'type-2-x',\n",
       "       'type-2-y', 'type-2-y', 'type-2-y', 'type-2-y', 'type-2-y',\n",
       "       'type-2-y', 'type-2-y', 'type-2-y', 'type-2-y', 'type-2-y',\n",
       "       'type-2-y', 'type-2-y', 'type-2-y', 'type-2-y', 'type-2-y',\n",
       "       'type-2-y', 'type-2-y', 'type-2-y', 'type-2-y', 'type-2-y',\n",
       "       'type-2-y', 'type-2-y', 'type-2-y', 'type-2-y', 'type-2-y',\n",
       "       'type-2-y', 'type-2-y', 'type-2-y', 'type-2-y', 'type-2-y',\n",
       "       'type-2-y', 'type-2-y', 'type-2-y', 'type-2-y', 'type-2-y',\n",
       "       'type-2-y', 'type-2-y', 'type-2-y', 'type-2-y', 'type-2-y'],\n",
       "      dtype=object)"
      ]
     },
     "execution_count": 20,
     "metadata": {},
     "output_type": "execute_result"
    }
   ],
   "source": [
    "feat_type"
   ]
  },
  {
   "cell_type": "markdown",
   "metadata": {},
   "source": [
    "How many filters ? And compared to pixels number ?"
   ]
  },
  {
   "cell_type": "markdown",
   "metadata": {},
   "source": [
    "Answer =\n",
    "### Number of filters is 80\n",
    "\n",
    "### Number of Pixels is 28X28= 784\n",
    "\n"
   ]
  },
  {
   "cell_type": "code",
   "execution_count": 21,
   "metadata": {},
   "outputs": [
    {
     "name": "stdout",
     "output_type": "stream",
     "text": [
      "[list([[(0, 0), (0, 0)], [(0, 1), (0, 1)]])\n",
      " list([[(0, 0), (0, 1)], [(0, 2), (0, 3)]])\n",
      " list([[(0, 0), (1, 0)], [(0, 1), (1, 1)]])\n",
      " list([[(0, 0), (1, 1)], [(0, 2), (1, 3)]])\n",
      " list([[(0, 0), (2, 0)], [(0, 1), (2, 1)]])\n",
      " list([[(0, 0), (2, 1)], [(0, 2), (2, 3)]])\n",
      " list([[(0, 0), (3, 0)], [(0, 1), (3, 1)]])\n",
      " list([[(0, 0), (3, 1)], [(0, 2), (3, 3)]])\n",
      " list([[(0, 1), (0, 1)], [(0, 2), (0, 2)]])\n",
      " list([[(0, 1), (1, 1)], [(0, 2), (1, 2)]])\n",
      " list([[(0, 1), (2, 1)], [(0, 2), (2, 2)]])\n",
      " list([[(0, 1), (3, 1)], [(0, 2), (3, 2)]])\n",
      " list([[(0, 2), (0, 2)], [(0, 3), (0, 3)]])\n",
      " list([[(0, 2), (1, 2)], [(0, 3), (1, 3)]])\n",
      " list([[(0, 2), (2, 2)], [(0, 3), (2, 3)]])\n",
      " list([[(0, 2), (3, 2)], [(0, 3), (3, 3)]])\n",
      " list([[(1, 0), (1, 0)], [(1, 1), (1, 1)]])\n",
      " list([[(1, 0), (1, 1)], [(1, 2), (1, 3)]])\n",
      " list([[(1, 0), (2, 0)], [(1, 1), (2, 1)]])\n",
      " list([[(1, 0), (2, 1)], [(1, 2), (2, 3)]])\n",
      " list([[(1, 0), (3, 0)], [(1, 1), (3, 1)]])\n",
      " list([[(1, 0), (3, 1)], [(1, 2), (3, 3)]])\n",
      " list([[(1, 1), (1, 1)], [(1, 2), (1, 2)]])\n",
      " list([[(1, 1), (2, 1)], [(1, 2), (2, 2)]])\n",
      " list([[(1, 1), (3, 1)], [(1, 2), (3, 2)]])\n",
      " list([[(1, 2), (1, 2)], [(1, 3), (1, 3)]])\n",
      " list([[(1, 2), (2, 2)], [(1, 3), (2, 3)]])\n",
      " list([[(1, 2), (3, 2)], [(1, 3), (3, 3)]])\n",
      " list([[(2, 0), (2, 0)], [(2, 1), (2, 1)]])\n",
      " list([[(2, 0), (2, 1)], [(2, 2), (2, 3)]])\n",
      " list([[(2, 0), (3, 0)], [(2, 1), (3, 1)]])\n",
      " list([[(2, 0), (3, 1)], [(2, 2), (3, 3)]])\n",
      " list([[(2, 1), (2, 1)], [(2, 2), (2, 2)]])\n",
      " list([[(2, 1), (3, 1)], [(2, 2), (3, 2)]])\n",
      " list([[(2, 2), (2, 2)], [(2, 3), (2, 3)]])\n",
      " list([[(2, 2), (3, 2)], [(2, 3), (3, 3)]])\n",
      " list([[(3, 0), (3, 0)], [(3, 1), (3, 1)]])\n",
      " list([[(3, 0), (3, 1)], [(3, 2), (3, 3)]])\n",
      " list([[(3, 1), (3, 1)], [(3, 2), (3, 2)]])\n",
      " list([[(3, 2), (3, 2)], [(3, 3), (3, 3)]])\n",
      " list([[(0, 0), (0, 0)], [(1, 0), (1, 0)]])\n",
      " list([[(0, 0), (0, 1)], [(1, 0), (1, 1)]])\n",
      " list([[(0, 0), (0, 2)], [(1, 0), (1, 2)]])\n",
      " list([[(0, 0), (0, 3)], [(1, 0), (1, 3)]])\n",
      " list([[(0, 0), (1, 0)], [(2, 0), (3, 0)]])\n",
      " list([[(0, 0), (1, 1)], [(2, 0), (3, 1)]])\n",
      " list([[(0, 0), (1, 2)], [(2, 0), (3, 2)]])\n",
      " list([[(0, 0), (1, 3)], [(2, 0), (3, 3)]])\n",
      " list([[(0, 1), (0, 1)], [(1, 1), (1, 1)]])\n",
      " list([[(0, 1), (0, 2)], [(1, 1), (1, 2)]])\n",
      " list([[(0, 1), (0, 3)], [(1, 1), (1, 3)]])\n",
      " list([[(0, 1), (1, 1)], [(2, 1), (3, 1)]])\n",
      " list([[(0, 1), (1, 2)], [(2, 1), (3, 2)]])\n",
      " list([[(0, 1), (1, 3)], [(2, 1), (3, 3)]])\n",
      " list([[(0, 2), (0, 2)], [(1, 2), (1, 2)]])\n",
      " list([[(0, 2), (0, 3)], [(1, 2), (1, 3)]])\n",
      " list([[(0, 2), (1, 2)], [(2, 2), (3, 2)]])\n",
      " list([[(0, 2), (1, 3)], [(2, 2), (3, 3)]])\n",
      " list([[(0, 3), (0, 3)], [(1, 3), (1, 3)]])\n",
      " list([[(0, 3), (1, 3)], [(2, 3), (3, 3)]])\n",
      " list([[(1, 0), (1, 0)], [(2, 0), (2, 0)]])\n",
      " list([[(1, 0), (1, 1)], [(2, 0), (2, 1)]])\n",
      " list([[(1, 0), (1, 2)], [(2, 0), (2, 2)]])\n",
      " list([[(1, 0), (1, 3)], [(2, 0), (2, 3)]])\n",
      " list([[(1, 1), (1, 1)], [(2, 1), (2, 1)]])\n",
      " list([[(1, 1), (1, 2)], [(2, 1), (2, 2)]])\n",
      " list([[(1, 1), (1, 3)], [(2, 1), (2, 3)]])\n",
      " list([[(1, 2), (1, 2)], [(2, 2), (2, 2)]])\n",
      " list([[(1, 2), (1, 3)], [(2, 2), (2, 3)]])\n",
      " list([[(1, 3), (1, 3)], [(2, 3), (2, 3)]])\n",
      " list([[(2, 0), (2, 0)], [(3, 0), (3, 0)]])\n",
      " list([[(2, 0), (2, 1)], [(3, 0), (3, 1)]])\n",
      " list([[(2, 0), (2, 2)], [(3, 0), (3, 2)]])\n",
      " list([[(2, 0), (2, 3)], [(3, 0), (3, 3)]])\n",
      " list([[(2, 1), (2, 1)], [(3, 1), (3, 1)]])\n",
      " list([[(2, 1), (2, 2)], [(3, 1), (3, 2)]])\n",
      " list([[(2, 1), (2, 3)], [(3, 1), (3, 3)]])\n",
      " list([[(2, 2), (2, 2)], [(3, 2), (3, 2)]])\n",
      " list([[(2, 2), (2, 3)], [(3, 2), (3, 3)]])\n",
      " list([[(2, 3), (2, 3)], [(3, 3), (3, 3)]])]\n"
     ]
    }
   ],
   "source": [
    "print(feat_coord)\n"
   ]
  },
  {
   "cell_type": "code",
   "execution_count": 22,
   "metadata": {},
   "outputs": [],
   "source": [
    "# # images transformation: we apply all filters\n",
    "# cpt=0\n",
    "\n",
    "# for image in x_trainBinaire:\n",
    "#     # integral image computation\n",
    "    \n",
    "    \n",
    "\n",
    "#     int_image = transform.integral_image(image)\n",
    "#     print(int_image.shape)\n",
    "#     # Haar filters computation\n",
    "#     features = feature.haar_like_feature(int_image, 0, 0, 28, 28,feature_type=feat_type,feature_coord=feat_coord)\n",
    "#     if cpt%1000 == 0:\n",
    "#         ftrain = [features]\n",
    "#     else:\n",
    "#         ftrain = np.append(ftrain,[features],axis=0)\n",
    "#     cpt += 1"
   ]
  },
  {
   "cell_type": "markdown",
   "metadata": {},
   "source": [
    "You may encounter size problems. Try to remove some filters. Which ones ? How many ? That's the question ...."
   ]
  },
  {
   "cell_type": "markdown",
   "metadata": {},
   "source": [
    "**I segregated the filters into categories in X and y, each containing 40 filters. In total, there were 80 filters, which I calculated using the length of feat_coord.**\n",
    "\n",
    "Here are the three types of filters I created:\n",
    "\n",
    "- **One filter exclusively comprised of type-2-x.**\n",
    "- **Another filter consisting solely of type-2-y.**\n",
    "- **A third filter generated randomly.**\n",
    "\n",
    "These distinct filter sets enable targeted analysis and comparison, facilitating a deeper understanding of the data and its characteristics.\n"
   ]
  },
  {
   "cell_type": "markdown",
   "metadata": {},
   "source": [
    "# binary boosting with Haar filters\n",
    "Compare the different options for the filters. Compare with the first boosting in this notebook. "
   ]
  },
  {
   "cell_type": "markdown",
   "metadata": {},
   "source": [
    "## Using only X filters"
   ]
  },
  {
   "cell_type": "code",
   "execution_count": 23,
   "metadata": {},
   "outputs": [],
   "source": [
    "filtered_typey_x = np.where(feat_type != 'type-2-y')[0]\n",
    "feat_type_filtered_x = feat_type[filtered_typey_x]\n",
    "feat_coord_filtered_x = np.array([feat_coord[i] for i in filtered_typey_x])"
   ]
  },
  {
   "cell_type": "code",
   "execution_count": 24,
   "metadata": {},
   "outputs": [
    {
     "data": {
      "text/plain": [
       "array(['type-2-x', 'type-2-x', 'type-2-x', 'type-2-x', 'type-2-x',\n",
       "       'type-2-x', 'type-2-x', 'type-2-x', 'type-2-x', 'type-2-x',\n",
       "       'type-2-x', 'type-2-x', 'type-2-x', 'type-2-x', 'type-2-x',\n",
       "       'type-2-x', 'type-2-x', 'type-2-x', 'type-2-x', 'type-2-x',\n",
       "       'type-2-x', 'type-2-x', 'type-2-x', 'type-2-x', 'type-2-x',\n",
       "       'type-2-x', 'type-2-x', 'type-2-x', 'type-2-x', 'type-2-x',\n",
       "       'type-2-x', 'type-2-x', 'type-2-x', 'type-2-x', 'type-2-x',\n",
       "       'type-2-x', 'type-2-x', 'type-2-x', 'type-2-x', 'type-2-x'],\n",
       "      dtype=object)"
      ]
     },
     "execution_count": 24,
     "metadata": {},
     "output_type": "execute_result"
    }
   ],
   "source": [
    "feat_type_filtered_x"
   ]
  },
  {
   "cell_type": "code",
   "execution_count": 25,
   "metadata": {},
   "outputs": [
    {
     "data": {
      "text/plain": [
       "array([ 0,  1,  2,  3,  4,  5,  6,  7,  8,  9, 10, 11, 12, 13, 14, 15, 16,\n",
       "       17, 18, 19, 20, 21, 22, 23, 24, 25, 26, 27, 28, 29, 30, 31, 32, 33,\n",
       "       34, 35, 36, 37, 38, 39], dtype=int64)"
      ]
     },
     "execution_count": 25,
     "metadata": {},
     "output_type": "execute_result"
    }
   ],
   "source": [
    "filtered_typey_x\n"
   ]
  },
  {
   "cell_type": "code",
   "execution_count": 26,
   "metadata": {},
   "outputs": [
    {
     "name": "stdout",
     "output_type": "stream",
     "text": [
      "[[[[0 0]\n",
      "   [0 0]]\n",
      "\n",
      "  [[0 1]\n",
      "   [0 1]]]\n",
      "\n",
      "\n",
      " [[[0 0]\n",
      "   [0 1]]\n",
      "\n",
      "  [[0 2]\n",
      "   [0 3]]]\n",
      "\n",
      "\n",
      " [[[0 0]\n",
      "   [1 0]]\n",
      "\n",
      "  [[0 1]\n",
      "   [1 1]]]\n",
      "\n",
      "\n",
      " [[[0 0]\n",
      "   [1 1]]\n",
      "\n",
      "  [[0 2]\n",
      "   [1 3]]]\n",
      "\n",
      "\n",
      " [[[0 0]\n",
      "   [2 0]]\n",
      "\n",
      "  [[0 1]\n",
      "   [2 1]]]\n",
      "\n",
      "\n",
      " [[[0 0]\n",
      "   [2 1]]\n",
      "\n",
      "  [[0 2]\n",
      "   [2 3]]]\n",
      "\n",
      "\n",
      " [[[0 0]\n",
      "   [3 0]]\n",
      "\n",
      "  [[0 1]\n",
      "   [3 1]]]\n",
      "\n",
      "\n",
      " [[[0 0]\n",
      "   [3 1]]\n",
      "\n",
      "  [[0 2]\n",
      "   [3 3]]]\n",
      "\n",
      "\n",
      " [[[0 1]\n",
      "   [0 1]]\n",
      "\n",
      "  [[0 2]\n",
      "   [0 2]]]\n",
      "\n",
      "\n",
      " [[[0 1]\n",
      "   [1 1]]\n",
      "\n",
      "  [[0 2]\n",
      "   [1 2]]]\n",
      "\n",
      "\n",
      " [[[0 1]\n",
      "   [2 1]]\n",
      "\n",
      "  [[0 2]\n",
      "   [2 2]]]\n",
      "\n",
      "\n",
      " [[[0 1]\n",
      "   [3 1]]\n",
      "\n",
      "  [[0 2]\n",
      "   [3 2]]]\n",
      "\n",
      "\n",
      " [[[0 2]\n",
      "   [0 2]]\n",
      "\n",
      "  [[0 3]\n",
      "   [0 3]]]\n",
      "\n",
      "\n",
      " [[[0 2]\n",
      "   [1 2]]\n",
      "\n",
      "  [[0 3]\n",
      "   [1 3]]]\n",
      "\n",
      "\n",
      " [[[0 2]\n",
      "   [2 2]]\n",
      "\n",
      "  [[0 3]\n",
      "   [2 3]]]\n",
      "\n",
      "\n",
      " [[[0 2]\n",
      "   [3 2]]\n",
      "\n",
      "  [[0 3]\n",
      "   [3 3]]]\n",
      "\n",
      "\n",
      " [[[1 0]\n",
      "   [1 0]]\n",
      "\n",
      "  [[1 1]\n",
      "   [1 1]]]\n",
      "\n",
      "\n",
      " [[[1 0]\n",
      "   [1 1]]\n",
      "\n",
      "  [[1 2]\n",
      "   [1 3]]]\n",
      "\n",
      "\n",
      " [[[1 0]\n",
      "   [2 0]]\n",
      "\n",
      "  [[1 1]\n",
      "   [2 1]]]\n",
      "\n",
      "\n",
      " [[[1 0]\n",
      "   [2 1]]\n",
      "\n",
      "  [[1 2]\n",
      "   [2 3]]]\n",
      "\n",
      "\n",
      " [[[1 0]\n",
      "   [3 0]]\n",
      "\n",
      "  [[1 1]\n",
      "   [3 1]]]\n",
      "\n",
      "\n",
      " [[[1 0]\n",
      "   [3 1]]\n",
      "\n",
      "  [[1 2]\n",
      "   [3 3]]]\n",
      "\n",
      "\n",
      " [[[1 1]\n",
      "   [1 1]]\n",
      "\n",
      "  [[1 2]\n",
      "   [1 2]]]\n",
      "\n",
      "\n",
      " [[[1 1]\n",
      "   [2 1]]\n",
      "\n",
      "  [[1 2]\n",
      "   [2 2]]]\n",
      "\n",
      "\n",
      " [[[1 1]\n",
      "   [3 1]]\n",
      "\n",
      "  [[1 2]\n",
      "   [3 2]]]\n",
      "\n",
      "\n",
      " [[[1 2]\n",
      "   [1 2]]\n",
      "\n",
      "  [[1 3]\n",
      "   [1 3]]]\n",
      "\n",
      "\n",
      " [[[1 2]\n",
      "   [2 2]]\n",
      "\n",
      "  [[1 3]\n",
      "   [2 3]]]\n",
      "\n",
      "\n",
      " [[[1 2]\n",
      "   [3 2]]\n",
      "\n",
      "  [[1 3]\n",
      "   [3 3]]]\n",
      "\n",
      "\n",
      " [[[2 0]\n",
      "   [2 0]]\n",
      "\n",
      "  [[2 1]\n",
      "   [2 1]]]\n",
      "\n",
      "\n",
      " [[[2 0]\n",
      "   [2 1]]\n",
      "\n",
      "  [[2 2]\n",
      "   [2 3]]]\n",
      "\n",
      "\n",
      " [[[2 0]\n",
      "   [3 0]]\n",
      "\n",
      "  [[2 1]\n",
      "   [3 1]]]\n",
      "\n",
      "\n",
      " [[[2 0]\n",
      "   [3 1]]\n",
      "\n",
      "  [[2 2]\n",
      "   [3 3]]]\n",
      "\n",
      "\n",
      " [[[2 1]\n",
      "   [2 1]]\n",
      "\n",
      "  [[2 2]\n",
      "   [2 2]]]\n",
      "\n",
      "\n",
      " [[[2 1]\n",
      "   [3 1]]\n",
      "\n",
      "  [[2 2]\n",
      "   [3 2]]]\n",
      "\n",
      "\n",
      " [[[2 2]\n",
      "   [2 2]]\n",
      "\n",
      "  [[2 3]\n",
      "   [2 3]]]\n",
      "\n",
      "\n",
      " [[[2 2]\n",
      "   [3 2]]\n",
      "\n",
      "  [[2 3]\n",
      "   [3 3]]]\n",
      "\n",
      "\n",
      " [[[3 0]\n",
      "   [3 0]]\n",
      "\n",
      "  [[3 1]\n",
      "   [3 1]]]\n",
      "\n",
      "\n",
      " [[[3 0]\n",
      "   [3 1]]\n",
      "\n",
      "  [[3 2]\n",
      "   [3 3]]]\n",
      "\n",
      "\n",
      " [[[3 1]\n",
      "   [3 1]]\n",
      "\n",
      "  [[3 2]\n",
      "   [3 2]]]\n",
      "\n",
      "\n",
      " [[[3 2]\n",
      "   [3 2]]\n",
      "\n",
      "  [[3 3]\n",
      "   [3 3]]]]\n"
     ]
    }
   ],
   "source": [
    "print(feat_coord_filtered_x)"
   ]
  },
  {
   "cell_type": "code",
   "execution_count": 27,
   "metadata": {},
   "outputs": [
    {
     "name": "stdout",
     "output_type": "stream",
     "text": [
      "Processed 1000 images\n",
      "Processed 2000 images\n",
      "Processed 3000 images\n",
      "Processed 4000 images\n",
      "Processed 5000 images\n",
      "Processed 6000 images\n",
      "Processed 7000 images\n",
      "Processed 8000 images\n",
      "Processed 9000 images\n",
      "Processed 10000 images\n",
      "Processed 11000 images\n"
     ]
    },
    {
     "data": {
      "text/plain": [
       "(11693, 40)"
      ]
     },
     "execution_count": 27,
     "metadata": {},
     "output_type": "execute_result"
    }
   ],
   "source": [
    "# for you\n",
    "# Processing images\n",
    "ftrain_x = []\n",
    "cpt = 0\n",
    "\n",
    "for image in x_trainBinaire:\n",
    "    # Reshaping each image back to 28x28\n",
    "    image_reshaped = image.reshape(28, 28)\n",
    "    # Computing the integral image\n",
    "    int_image = transform.integral_image(image_reshaped)\n",
    "    # Haar features computation\n",
    "    features = feature.haar_like_feature(int_image, 0, 0, 28, 28, feature_type=feat_type_filtered_x, feature_coord=feat_coord_filtered_x)\n",
    "    ftrain_x.append(features)\n",
    "    cpt += 1\n",
    "    if cpt % 1000 == 0: # to keep count of the images per 1000\n",
    "        print(f\"Processed {cpt} images\")\n",
    "\n",
    "# Converting ftrain to a numpy array\n",
    "ftrain_x = np.array(ftrain_x)\n",
    "\n",
    "ftrain_x.shape\n",
    "\n"
   ]
  },
  {
   "cell_type": "code",
   "execution_count": 28,
   "metadata": {},
   "outputs": [],
   "source": [
    "# # for you\n",
    "\n",
    "# # images transformation: we apply all filters\n",
    "# cpt=0\n",
    "# ftrain = []\n",
    "\n",
    "# for image in x_trainBinaire:\n",
    "#     # integral image computation\n",
    "#     image_reshaped = image.reshape(28, 28)\n",
    "#     int_image = transform.integral_image(image_reshaped)\n",
    "    \n",
    "    \n",
    "\n",
    "# #     int_image = transform.integral_image(image)\n",
    "#     print(int_image.shape)\n",
    "#     # Haar filters computation\n",
    "#     features = feature.haar_like_feature(int_image, 0, 0, 28, 28,feature_type=feat_type,feature_coord=feat_coord)\n",
    "#     if cpt%1000 == 0:\n",
    "#         ftrain = [features]\n",
    "#     else:\n",
    "#         ftrain = np.append(ftrain,[features],axis=0)\n",
    "#     cpt += 1"
   ]
  },
  {
   "cell_type": "code",
   "execution_count": 29,
   "metadata": {},
   "outputs": [
    {
     "name": "stderr",
     "output_type": "stream",
     "text": [
      "C:\\Users\\praba\\anaconda3\\Lib\\site-packages\\sklearn\\ensemble\\_weight_boosting.py:519: FutureWarning: The SAMME.R algorithm (the default) is deprecated and will be removed in 1.6. Use the SAMME algorithm to circumvent this warning.\n",
      "  warnings.warn(\n"
     ]
    },
    {
     "name": "stdout",
     "output_type": "stream",
     "text": [
      "Confusion matrix on train data with Haar features: [[   0 5842]\n",
      " [   0 5851]]\n"
     ]
    }
   ],
   "source": [
    "# for you  !\n",
    "from sklearn.ensemble import AdaBoostClassifier\n",
    "from sklearn.metrics import confusion_matrix\n",
    "import numpy as np\n",
    "from sklearn.utils import shuffle\n",
    "\n",
    "\n",
    "ftrain_x, y_trainBinaire = shuffle(ftrain_x, y_trainBinaire, random_state=0)\n",
    "haar_boosting = AdaBoostClassifier(n_estimators=120, learning_rate=1, algorithm='SAMME.R')\n",
    "haar_boosting.fit(ftrain_x, y_trainBinaire)\n",
    "y_predHaar = haar_boosting.predict(ftrain_x)\n",
    "\n",
    "# Confusion matrix\n",
    "print('Confusion matrix on train data with Haar features:', confusion_matrix(y_trainBinaire, y_predHaar))"
   ]
  },
  {
   "cell_type": "code",
   "execution_count": 30,
   "metadata": {},
   "outputs": [
    {
     "data": {
      "text/plain": [
       "Text(0.5, 1.0, 'Confusion matrix on training data')"
      ]
     },
     "execution_count": 30,
     "metadata": {},
     "output_type": "execute_result"
    },
    {
     "data": {
      "image/png": "[encoded data removed]",
      "text/plain": [
       "<Figure size 1200x700 with 2 Axes>"
      ]
     },
     "metadata": {},
     "output_type": "display_data"
    }
   ],
   "source": [
    "from sklearn.metrics import classification_report, confusion_matrix, ConfusionMatrixDisplay\n",
    "\n",
    "\n",
    "cm = confusion_matrix(y_trainBinaire, y_predHaar)\n",
    "\n",
    "fig, ax = plt.subplots(figsize=(12, 7)) \n",
    "\n",
    "disp = ConfusionMatrixDisplay(confusion_matrix=cm)\n",
    "# disp.plot()\n",
    "disp.plot(ax=ax)\n",
    "\n",
    "disp.ax_.set_title('Confusion matrix on training data')"
   ]
  },
  {
   "cell_type": "markdown",
   "metadata": {},
   "source": [
    "## Using only Y filters"
   ]
  },
  {
   "cell_type": "code",
   "execution_count": 31,
   "metadata": {},
   "outputs": [],
   "source": [
    "filtered_type_y = np.where(feat_type != 'type-2-x')[0]\n",
    "feat_type_filtered_y = feat_type[filtered_type_y]\n",
    "feat_coord_filtered_y = np.array([feat_coord[i] for i in filtered_type_y])"
   ]
  },
  {
   "cell_type": "code",
   "execution_count": 32,
   "metadata": {},
   "outputs": [
    {
     "data": {
      "text/plain": [
       "array([40, 41, 42, 43, 44, 45, 46, 47, 48, 49, 50, 51, 52, 53, 54, 55, 56,\n",
       "       57, 58, 59, 60, 61, 62, 63, 64, 65, 66, 67, 68, 69, 70, 71, 72, 73,\n",
       "       74, 75, 76, 77, 78, 79], dtype=int64)"
      ]
     },
     "execution_count": 32,
     "metadata": {},
     "output_type": "execute_result"
    }
   ],
   "source": [
    "filtered_type_y"
   ]
  },
  {
   "cell_type": "code",
   "execution_count": 33,
   "metadata": {},
   "outputs": [
    {
     "data": {
      "text/plain": [
       "(40,)"
      ]
     },
     "execution_count": 33,
     "metadata": {},
     "output_type": "execute_result"
    }
   ],
   "source": [
    "filtered_type_y.shape"
   ]
  },
  {
   "cell_type": "code",
   "execution_count": 34,
   "metadata": {},
   "outputs": [
    {
     "data": {
      "text/plain": [
       "array(['type-2-y', 'type-2-y', 'type-2-y', 'type-2-y', 'type-2-y',\n",
       "       'type-2-y', 'type-2-y', 'type-2-y', 'type-2-y', 'type-2-y',\n",
       "       'type-2-y', 'type-2-y', 'type-2-y', 'type-2-y', 'type-2-y',\n",
       "       'type-2-y', 'type-2-y', 'type-2-y', 'type-2-y', 'type-2-y',\n",
       "       'type-2-y', 'type-2-y', 'type-2-y', 'type-2-y', 'type-2-y',\n",
       "       'type-2-y', 'type-2-y', 'type-2-y', 'type-2-y', 'type-2-y',\n",
       "       'type-2-y', 'type-2-y', 'type-2-y', 'type-2-y', 'type-2-y',\n",
       "       'type-2-y', 'type-2-y', 'type-2-y', 'type-2-y', 'type-2-y'],\n",
       "      dtype=object)"
      ]
     },
     "execution_count": 34,
     "metadata": {},
     "output_type": "execute_result"
    }
   ],
   "source": [
    "feat_type_filtered_y"
   ]
  },
  {
   "cell_type": "code",
   "execution_count": 35,
   "metadata": {},
   "outputs": [
    {
     "data": {
      "text/plain": [
       "array([[[[0, 0],\n",
       "         [0, 0]],\n",
       "\n",
       "        [[1, 0],\n",
       "         [1, 0]]],\n",
       "\n",
       "\n",
       "       [[[0, 0],\n",
       "         [0, 1]],\n",
       "\n",
       "        [[1, 0],\n",
       "         [1, 1]]],\n",
       "\n",
       "\n",
       "       [[[0, 0],\n",
       "         [0, 2]],\n",
       "\n",
       "        [[1, 0],\n",
       "         [1, 2]]],\n",
       "\n",
       "\n",
       "       [[[0, 0],\n",
       "         [0, 3]],\n",
       "\n",
       "        [[1, 0],\n",
       "         [1, 3]]],\n",
       "\n",
       "\n",
       "       [[[0, 0],\n",
       "         [1, 0]],\n",
       "\n",
       "        [[2, 0],\n",
       "         [3, 0]]],\n",
       "\n",
       "\n",
       "       [[[0, 0],\n",
       "         [1, 1]],\n",
       "\n",
       "        [[2, 0],\n",
       "         [3, 1]]],\n",
       "\n",
       "\n",
       "       [[[0, 0],\n",
       "         [1, 2]],\n",
       "\n",
       "        [[2, 0],\n",
       "         [3, 2]]],\n",
       "\n",
       "\n",
       "       [[[0, 0],\n",
       "         [1, 3]],\n",
       "\n",
       "        [[2, 0],\n",
       "         [3, 3]]],\n",
       "\n",
       "\n",
       "       [[[0, 1],\n",
       "         [0, 1]],\n",
       "\n",
       "        [[1, 1],\n",
       "         [1, 1]]],\n",
       "\n",
       "\n",
       "       [[[0, 1],\n",
       "         [0, 2]],\n",
       "\n",
       "        [[1, 1],\n",
       "         [1, 2]]],\n",
       "\n",
       "\n",
       "       [[[0, 1],\n",
       "         [0, 3]],\n",
       "\n",
       "        [[1, 1],\n",
       "         [1, 3]]],\n",
       "\n",
       "\n",
       "       [[[0, 1],\n",
       "         [1, 1]],\n",
       "\n",
       "        [[2, 1],\n",
       "         [3, 1]]],\n",
       "\n",
       "\n",
       "       [[[0, 1],\n",
       "         [1, 2]],\n",
       "\n",
       "        [[2, 1],\n",
       "         [3, 2]]],\n",
       "\n",
       "\n",
       "       [[[0, 1],\n",
       "         [1, 3]],\n",
       "\n",
       "        [[2, 1],\n",
       "         [3, 3]]],\n",
       "\n",
       "\n",
       "       [[[0, 2],\n",
       "         [0, 2]],\n",
       "\n",
       "        [[1, 2],\n",
       "         [1, 2]]],\n",
       "\n",
       "\n",
       "       [[[0, 2],\n",
       "         [0, 3]],\n",
       "\n",
       "        [[1, 2],\n",
       "         [1, 3]]],\n",
       "\n",
       "\n",
       "       [[[0, 2],\n",
       "         [1, 2]],\n",
       "\n",
       "        [[2, 2],\n",
       "         [3, 2]]],\n",
       "\n",
       "\n",
       "       [[[0, 2],\n",
       "         [1, 3]],\n",
       "\n",
       "        [[2, 2],\n",
       "         [3, 3]]],\n",
       "\n",
       "\n",
       "       [[[0, 3],\n",
       "         [0, 3]],\n",
       "\n",
       "        [[1, 3],\n",
       "         [1, 3]]],\n",
       "\n",
       "\n",
       "       [[[0, 3],\n",
       "         [1, 3]],\n",
       "\n",
       "        [[2, 3],\n",
       "         [3, 3]]],\n",
       "\n",
       "\n",
       "       [[[1, 0],\n",
       "         [1, 0]],\n",
       "\n",
       "        [[2, 0],\n",
       "         [2, 0]]],\n",
       "\n",
       "\n",
       "       [[[1, 0],\n",
       "         [1, 1]],\n",
       "\n",
       "        [[2, 0],\n",
       "         [2, 1]]],\n",
       "\n",
       "\n",
       "       [[[1, 0],\n",
       "         [1, 2]],\n",
       "\n",
       "        [[2, 0],\n",
       "         [2, 2]]],\n",
       "\n",
       "\n",
       "       [[[1, 0],\n",
       "         [1, 3]],\n",
       "\n",
       "        [[2, 0],\n",
       "         [2, 3]]],\n",
       "\n",
       "\n",
       "       [[[1, 1],\n",
       "         [1, 1]],\n",
       "\n",
       "        [[2, 1],\n",
       "         [2, 1]]],\n",
       "\n",
       "\n",
       "       [[[1, 1],\n",
       "         [1, 2]],\n",
       "\n",
       "        [[2, 1],\n",
       "         [2, 2]]],\n",
       "\n",
       "\n",
       "       [[[1, 1],\n",
       "         [1, 3]],\n",
       "\n",
       "        [[2, 1],\n",
       "         [2, 3]]],\n",
       "\n",
       "\n",
       "       [[[1, 2],\n",
       "         [1, 2]],\n",
       "\n",
       "        [[2, 2],\n",
       "         [2, 2]]],\n",
       "\n",
       "\n",
       "       [[[1, 2],\n",
       "         [1, 3]],\n",
       "\n",
       "        [[2, 2],\n",
       "         [2, 3]]],\n",
       "\n",
       "\n",
       "       [[[1, 3],\n",
       "         [1, 3]],\n",
       "\n",
       "        [[2, 3],\n",
       "         [2, 3]]],\n",
       "\n",
       "\n",
       "       [[[2, 0],\n",
       "         [2, 0]],\n",
       "\n",
       "        [[3, 0],\n",
       "         [3, 0]]],\n",
       "\n",
       "\n",
       "       [[[2, 0],\n",
       "         [2, 1]],\n",
       "\n",
       "        [[3, 0],\n",
       "         [3, 1]]],\n",
       "\n",
       "\n",
       "       [[[2, 0],\n",
       "         [2, 2]],\n",
       "\n",
       "        [[3, 0],\n",
       "         [3, 2]]],\n",
       "\n",
       "\n",
       "       [[[2, 0],\n",
       "         [2, 3]],\n",
       "\n",
       "        [[3, 0],\n",
       "         [3, 3]]],\n",
       "\n",
       "\n",
       "       [[[2, 1],\n",
       "         [2, 1]],\n",
       "\n",
       "        [[3, 1],\n",
       "         [3, 1]]],\n",
       "\n",
       "\n",
       "       [[[2, 1],\n",
       "         [2, 2]],\n",
       "\n",
       "        [[3, 1],\n",
       "         [3, 2]]],\n",
       "\n",
       "\n",
       "       [[[2, 1],\n",
       "         [2, 3]],\n",
       "\n",
       "        [[3, 1],\n",
       "         [3, 3]]],\n",
       "\n",
       "\n",
       "       [[[2, 2],\n",
       "         [2, 2]],\n",
       "\n",
       "        [[3, 2],\n",
       "         [3, 2]]],\n",
       "\n",
       "\n",
       "       [[[2, 2],\n",
       "         [2, 3]],\n",
       "\n",
       "        [[3, 2],\n",
       "         [3, 3]]],\n",
       "\n",
       "\n",
       "       [[[2, 3],\n",
       "         [2, 3]],\n",
       "\n",
       "        [[3, 3],\n",
       "         [3, 3]]]])"
      ]
     },
     "execution_count": 35,
     "metadata": {},
     "output_type": "execute_result"
    }
   ],
   "source": [
    "feat_coord_filtered_y"
   ]
  },
  {
   "cell_type": "code",
   "execution_count": 36,
   "metadata": {},
   "outputs": [
    {
     "name": "stdout",
     "output_type": "stream",
     "text": [
      "Processed 1000 images\n",
      "Processed 2000 images\n",
      "Processed 3000 images\n",
      "Processed 4000 images\n",
      "Processed 5000 images\n",
      "Processed 6000 images\n",
      "Processed 7000 images\n",
      "Processed 8000 images\n",
      "Processed 9000 images\n",
      "Processed 10000 images\n",
      "Processed 11000 images\n"
     ]
    },
    {
     "data": {
      "text/plain": [
       "(11693, 40)"
      ]
     },
     "execution_count": 36,
     "metadata": {},
     "output_type": "execute_result"
    }
   ],
   "source": [
    "# for you\n",
    "# Processing images\n",
    "ftrain_y = []\n",
    "cpt = 0\n",
    "\n",
    "for image in x_trainBinaire:\n",
    "    # Reshaping each image back to 28x28\n",
    "    image_reshaped = image.reshape(28, 28)\n",
    "    # Computing the integral image\n",
    "    int_image = transform.integral_image(image_reshaped)\n",
    "    # Haar features computation\n",
    "    features = feature.haar_like_feature(int_image, 0, 0, 28, 28, feature_type=feat_type_filtered_y, feature_coord=feat_coord_filtered_y)\n",
    "    ftrain_y.append(features)\n",
    "    cpt += 1\n",
    "    if cpt % 1000 == 0:\n",
    "        print(f\"Processed {cpt} images\")\n",
    "\n",
    "# Converting ftrain to a numpy array\n",
    "ftrain_y = np.array(ftrain_y)\n",
    "\n",
    "ftrain_y.shape\n"
   ]
  },
  {
   "cell_type": "code",
   "execution_count": 37,
   "metadata": {},
   "outputs": [
    {
     "name": "stderr",
     "output_type": "stream",
     "text": [
      "C:\\Users\\praba\\anaconda3\\Lib\\site-packages\\sklearn\\ensemble\\_weight_boosting.py:519: FutureWarning: The SAMME.R algorithm (the default) is deprecated and will be removed in 1.6. Use the SAMME algorithm to circumvent this warning.\n",
      "  warnings.warn(\n"
     ]
    },
    {
     "name": "stdout",
     "output_type": "stream",
     "text": [
      "Confusion matrix on train data with Haar features: [[   0 5842]\n",
      " [   0 5851]]\n"
     ]
    }
   ],
   "source": [
    "# for you  !\n",
    "from sklearn.ensemble import AdaBoostClassifier\n",
    "from sklearn.metrics import confusion_matrix\n",
    "import numpy as np\n",
    "from sklearn.utils import shuffle\n",
    "\n",
    "\n",
    "ftrain_y, y_trainBinaire = shuffle(ftrain_y, y_trainBinaire, random_state=0)\n",
    "haar_boosting = AdaBoostClassifier(n_estimators=120, learning_rate=1, algorithm='SAMME.R')\n",
    "haar_boosting.fit(ftrain_y, y_trainBinaire)\n",
    "y_predHaar = haar_boosting.predict(ftrain_y)\n",
    "\n",
    "# Confusion matrix\n",
    "print('Confusion matrix on train data with Haar features:', confusion_matrix(y_trainBinaire, y_predHaar))"
   ]
  },
  {
   "cell_type": "code",
   "execution_count": 38,
   "metadata": {},
   "outputs": [
    {
     "data": {
      "text/plain": [
       "Text(0.5, 1.0, 'Confusion matrix on training data')"
      ]
     },
     "execution_count": 38,
     "metadata": {},
     "output_type": "execute_result"
    },
    {
     "data": {
      "image/png": "[encoded data removed]",
      "text/plain": [
       "<Figure size 1200x700 with 2 Axes>"
      ]
     },
     "metadata": {},
     "output_type": "display_data"
    }
   ],
   "source": [
    "from sklearn.metrics import classification_report, confusion_matrix, ConfusionMatrixDisplay\n",
    "\n",
    "\n",
    "cm = confusion_matrix(y_trainBinaire, y_predHaar)\n",
    "\n",
    "fig, ax = plt.subplots(figsize=(12, 7)) \n",
    "\n",
    "disp = ConfusionMatrixDisplay(confusion_matrix=cm)\n",
    "# disp.plot()\n",
    "disp.plot(ax=ax)\n",
    "\n",
    "disp.ax_.set_title('Confusion matrix on training data')"
   ]
  },
  {
   "cell_type": "markdown",
   "metadata": {},
   "source": [
    "# Other alternatives: build the filters. As for example:"
   ]
  },
  {
   "cell_type": "code",
   "execution_count": 39,
   "metadata": {},
   "outputs": [],
   "source": [
    "feat_coord_alt = np.array([list([[(0, 0), (6, 0)], [(6, 6), (6, 6)]]),\n",
    "       list([[(0, 0), (0, 6)], [(0, 13), (0, 20)]])])\n",
    "\n",
    "feat_type_alt = np.array(['type-2-x', 'type-2-x'])\n"
   ]
  },
  {
   "cell_type": "code",
   "execution_count": 40,
   "metadata": {},
   "outputs": [
    {
     "name": "stdout",
     "output_type": "stream",
     "text": [
      "Processed 1000 images\n",
      "Processed 2000 images\n",
      "Processed 3000 images\n",
      "Processed 4000 images\n",
      "Processed 5000 images\n",
      "Processed 6000 images\n",
      "Processed 7000 images\n",
      "Processed 8000 images\n",
      "Processed 9000 images\n",
      "Processed 10000 images\n",
      "Processed 11000 images\n"
     ]
    },
    {
     "data": {
      "text/plain": [
       "(11693, 2)"
      ]
     },
     "execution_count": 40,
     "metadata": {},
     "output_type": "execute_result"
    }
   ],
   "source": [
    "# for you\n",
    "# Processing images\n",
    "ftrain_alt = []\n",
    "cpt = 0\n",
    "\n",
    "for image in x_trainBinaire:\n",
    "    # Reshaping each image back to 28x28\n",
    "    image_reshaped = image.reshape(28, 28)\n",
    "    # Computing the integral image\n",
    "    int_image = transform.integral_image(image_reshaped)\n",
    "    # Haar features computation\n",
    "    features = feature.haar_like_feature(int_image, 0, 0, 28, 28, feature_type=feat_type_alt, feature_coord=feat_coord_alt)\n",
    "    ftrain_alt.append(features)\n",
    "    cpt += 1\n",
    "    if cpt % 1000 == 0: # to keep count of the images per 1000\n",
    "        print(f\"Processed {cpt} images\")\n",
    "\n",
    "# Converting ftrain to a numpy array\n",
    "ftrain_alt = np.array(ftrain_alt)\n",
    "\n",
    "ftrain_alt.shape\n"
   ]
  },
  {
   "cell_type": "code",
   "execution_count": 41,
   "metadata": {},
   "outputs": [
    {
     "name": "stderr",
     "output_type": "stream",
     "text": [
      "C:\\Users\\praba\\anaconda3\\Lib\\site-packages\\sklearn\\ensemble\\_weight_boosting.py:519: FutureWarning: The SAMME.R algorithm (the default) is deprecated and will be removed in 1.6. Use the SAMME algorithm to circumvent this warning.\n",
      "  warnings.warn(\n"
     ]
    },
    {
     "name": "stdout",
     "output_type": "stream",
     "text": [
      "Confusion matrix on train data with Haar features: [[ 139 5703]\n",
      " [  84 5767]]\n"
     ]
    }
   ],
   "source": [
    "# for you  !\n",
    "from sklearn.ensemble import AdaBoostClassifier\n",
    "from sklearn.metrics import confusion_matrix\n",
    "import numpy as np\n",
    "from sklearn.utils import shuffle\n",
    "\n",
    "\n",
    "ftrain_alt, y_trainBinaire = shuffle(ftrain_alt, y_trainBinaire, random_state=0)\n",
    "haar_boosting = AdaBoostClassifier(n_estimators=120, learning_rate=1, algorithm='SAMME.R')\n",
    "haar_boosting.fit(ftrain_alt, y_trainBinaire)\n",
    "y_predHaar = haar_boosting.predict(ftrain_alt)\n",
    "\n",
    "# Confusion matrix\n",
    "print('Confusion matrix on train data with Haar features:', confusion_matrix(y_trainBinaire, y_predHaar))"
   ]
  },
  {
   "cell_type": "code",
   "execution_count": 42,
   "metadata": {},
   "outputs": [
    {
     "data": {
      "text/plain": [
       "Text(0.5, 1.0, 'Confusion matrix on training data')"
      ]
     },
     "execution_count": 42,
     "metadata": {},
     "output_type": "execute_result"
    },
    {
     "data": {
      "image/png": "[encoded data removed]",
      "text/plain": [
       "<Figure size 1200x700 with 2 Axes>"
      ]
     },
     "metadata": {},
     "output_type": "display_data"
    }
   ],
   "source": [
    "from sklearn.metrics import classification_report, confusion_matrix, ConfusionMatrixDisplay\n",
    "\n",
    "\n",
    "cm = confusion_matrix(y_trainBinaire, y_predHaar)\n",
    "\n",
    "fig, ax = plt.subplots(figsize=(12, 7)) \n",
    "\n",
    "disp = ConfusionMatrixDisplay(confusion_matrix=cm)\n",
    "# disp.plot()\n",
    "disp.plot(ax=ax)\n",
    "\n",
    "disp.ax_.set_title('Confusion matrix on training data')"
   ]
  },
  {
   "cell_type": "markdown",
   "metadata": {},
   "source": [
    "**Observation:**\n",
    "\n",
    "Boosting with Haar parameters appears to perform poorly when I divide the filters into X type and Y type. It correctly predicts the positive class (TP), but it fails to consider the negative class (TN).\n",
    "\n",
    "However, there's an exception with the custom filter:\n",
    "\n",
    "```python\n",
    "feat_coord_e = np.array([list([[(0, 0), (6, 0)], [(6, 6), (6, 6)]]),\n",
    "       list([[(0, 0), (0, 6)], [(0, 13), (0, 20)]])])\n",
    "\n",
    "feat_type_e = np.array(['type-2-x', 'type-2-x'])\n",
    "```\n",
    "\n",
    "- **Interestingly, this custom filter showed some level of TP and TN, indicating a more balanced performance compared to the others.**\n",
    "\n",
    "This observation highlights the importance of understanding the characteristics of different filters and their impact on boosting performance.\n",
    "\n",
    "\n"
   ]
  },
  {
   "cell_type": "code",
   "execution_count": null,
   "metadata": {},
   "outputs": [],
   "source": []
  },
  {
   "cell_type": "markdown",
   "metadata": {},
   "source": [
    "Applying Haar filters can take some time. Don't hesitate to save the results."
   ]
  },
  {
   "cell_type": "code",
   "execution_count": 43,
   "metadata": {},
   "outputs": [],
   "source": [
    "# code for saving and loading python object\n",
    "import pickle\n",
    "# save ftrain in the file 'features.bin'\n",
    "with open('features.bin', 'wb') as output:\n",
    "        pickle.dump(ftrain_alt, output, pickle.HIGHEST_PROTOCOL)\n",
    "# load ftrain from the saved file\n",
    "with open('features.bin', 'rb') as output:\n",
    "        ftrain_alt = pickle.load(output)\n"
   ]
  },
  {
   "cell_type": "markdown",
   "metadata": {},
   "source": []
  },
  {
   "cell_type": "markdown",
   "metadata": {},
   "source": [
    "## 10 classes boosting with Haar filters\n",
    "Same questions"
   ]
  },
  {
   "cell_type": "markdown",
   "metadata": {},
   "source": [
    "## Using only x filters"
   ]
  },
  {
   "cell_type": "code",
   "execution_count": 44,
   "metadata": {},
   "outputs": [
    {
     "name": "stdout",
     "output_type": "stream",
     "text": [
      "Processed 3000 images\n",
      "Processed 6000 images\n",
      "Processed 9000 images\n",
      "Processed 12000 images\n",
      "Processed 15000 images\n",
      "Processed 18000 images\n",
      "Processed 21000 images\n",
      "Processed 24000 images\n",
      "Processed 27000 images\n",
      "Processed 30000 images\n",
      "Processed 33000 images\n",
      "Processed 36000 images\n",
      "Processed 39000 images\n",
      "Processed 42000 images\n",
      "Processed 45000 images\n",
      "Processed 48000 images\n",
      "Processed 51000 images\n",
      "Processed 54000 images\n",
      "Processed 57000 images\n",
      "Processed 60000 images\n"
     ]
    },
    {
     "data": {
      "text/plain": [
       "(60000, 40)"
      ]
     },
     "execution_count": 44,
     "metadata": {},
     "output_type": "execute_result"
    }
   ],
   "source": [
    "# for you\n",
    "# Processing images\n",
    "ftrain = []\n",
    "cpt = 0\n",
    "\n",
    "for image in xTrain:\n",
    "    # Reshaping each image back to 28x28\n",
    "    image_reshaped = image.reshape(28, 28)\n",
    "    # Computing the integral image\n",
    "    int_image = transform.integral_image(image_reshaped)\n",
    "    # Haar features computation\n",
    "    features = feature.haar_like_feature(int_image, 0, 0, 28, 28, feature_type=feat_type_filtered_x, feature_coord=feat_coord_filtered_x)\n",
    "    ftrain.append(features)\n",
    "    cpt += 1\n",
    "    if cpt % 3000 == 0: # to keep count of the images per 1000\n",
    "        print(f\"Processed {cpt} images\")\n",
    "\n",
    "# Converting ftrain to a numpy array\n",
    "ftrain = np.array(ftrain)\n",
    "\n",
    "ftrain.shape\n"
   ]
  },
  {
   "cell_type": "code",
   "execution_count": 45,
   "metadata": {},
   "outputs": [
    {
     "name": "stderr",
     "output_type": "stream",
     "text": [
      "C:\\Users\\praba\\anaconda3\\Lib\\site-packages\\sklearn\\ensemble\\_weight_boosting.py:519: FutureWarning: The SAMME.R algorithm (the default) is deprecated and will be removed in 1.6. Use the SAMME algorithm to circumvent this warning.\n",
      "  warnings.warn(\n"
     ]
    },
    {
     "name": "stdout",
     "output_type": "stream",
     "text": [
      "Confusion matrix on train data with Haar features: [[   0 5922    0    0    0    0    1    0    0    0]\n",
      " [   0 6742    0    0    0    0    0    0    0    0]\n",
      " [   0 5956    2    0    0    0    0    0    0    0]\n",
      " [   0 6131    0    0    0    0    0    0    0    0]\n",
      " [   0 5842    0    0    0    0    0    0    0    0]\n",
      " [   0 5420    0    0    0    1    0    0    0    0]\n",
      " [   0 5914    0    0    0    0    4    0    0    0]\n",
      " [   0 6265    0    0    0    0    0    0    0    0]\n",
      " [   0 5851    0    0    0    0    0    0    0    0]\n",
      " [   0 5949    0    0    0    0    0    0    0    0]]\n"
     ]
    }
   ],
   "source": [
    "# for you  !\n",
    "from sklearn.ensemble import AdaBoostClassifier\n",
    "from sklearn.metrics import confusion_matrix\n",
    "import numpy as np\n",
    "from sklearn.utils import shuffle\n",
    "\n",
    "\n",
    "ftrain, y_train = shuffle(ftrain, y_train, random_state=0)\n",
    "haar_boosting = AdaBoostClassifier(n_estimators=120, learning_rate=1, algorithm='SAMME.R')\n",
    "haar_boosting.fit(ftrain, y_train)\n",
    "y_predHaar = haar_boosting.predict(ftrain)\n",
    "\n",
    "# Confusion matrix\n",
    "print('Confusion matrix on train data with Haar features:', confusion_matrix(y_train, y_predHaar))"
   ]
  },
  {
   "cell_type": "code",
   "execution_count": 46,
   "metadata": {},
   "outputs": [
    {
     "data": {
      "text/plain": [
       "Text(0.5, 1.0, 'Confusion matrix on training data')"
      ]
     },
     "execution_count": 46,
     "metadata": {},
     "output_type": "execute_result"
    },
    {
     "data": {
      "image/png": "[encoded data removed]",
      "text/plain": [
       "<Figure size 1200x700 with 2 Axes>"
      ]
     },
     "metadata": {},
     "output_type": "display_data"
    }
   ],
   "source": [
    "from sklearn.metrics import classification_report, confusion_matrix, ConfusionMatrixDisplay\n",
    "\n",
    "\n",
    "cm = confusion_matrix(y_train, y_predHaar)\n",
    "\n",
    "fig, ax = plt.subplots(figsize=(12, 7)) \n",
    "\n",
    "disp = ConfusionMatrixDisplay(confusion_matrix=cm)\n",
    "# disp.plot()\n",
    "disp.plot(ax=ax)\n",
    "\n",
    "disp.ax_.set_title('Confusion matrix on training data')"
   ]
  },
  {
   "cell_type": "markdown",
   "metadata": {},
   "source": [
    "# Using only Y filters"
   ]
  },
  {
   "cell_type": "code",
   "execution_count": 47,
   "metadata": {},
   "outputs": [
    {
     "name": "stdout",
     "output_type": "stream",
     "text": [
      "Processed 3000 images\n",
      "Processed 6000 images\n",
      "Processed 9000 images\n",
      "Processed 12000 images\n",
      "Processed 15000 images\n",
      "Processed 18000 images\n",
      "Processed 21000 images\n",
      "Processed 24000 images\n",
      "Processed 27000 images\n",
      "Processed 30000 images\n",
      "Processed 33000 images\n",
      "Processed 36000 images\n",
      "Processed 39000 images\n",
      "Processed 42000 images\n",
      "Processed 45000 images\n",
      "Processed 48000 images\n",
      "Processed 51000 images\n",
      "Processed 54000 images\n",
      "Processed 57000 images\n",
      "Processed 60000 images\n"
     ]
    },
    {
     "data": {
      "text/plain": [
       "(60000, 40)"
      ]
     },
     "execution_count": 47,
     "metadata": {},
     "output_type": "execute_result"
    }
   ],
   "source": [
    "# for you\n",
    "# Processing images\n",
    "ftrain = []\n",
    "cpt = 0\n",
    "\n",
    "for image in xTrain:\n",
    "    # Reshaping each image back to 28x28\n",
    "    image_reshaped = image.reshape(28, 28)\n",
    "    # Computing the integral image\n",
    "    int_image = transform.integral_image(image_reshaped)\n",
    "    # Haar features computation\n",
    "    features = feature.haar_like_feature(int_image, 0, 0, 28, 28, feature_type=feat_type_filtered_y, feature_coord=feat_coord_filtered_y)\n",
    "    ftrain.append(features)\n",
    "    cpt += 1\n",
    "    if cpt % 3000 == 0: # to keep count of the images per 1000\n",
    "        print(f\"Processed {cpt} images\")\n",
    "\n",
    "# Converting ftrain to a numpy array\n",
    "ftrain = np.array(ftrain)\n",
    "\n",
    "ftrain.shape\n"
   ]
  },
  {
   "cell_type": "code",
   "execution_count": 48,
   "metadata": {},
   "outputs": [
    {
     "name": "stderr",
     "output_type": "stream",
     "text": [
      "C:\\Users\\praba\\anaconda3\\Lib\\site-packages\\sklearn\\ensemble\\_weight_boosting.py:519: FutureWarning: The SAMME.R algorithm (the default) is deprecated and will be removed in 1.6. Use the SAMME algorithm to circumvent this warning.\n",
      "  warnings.warn(\n"
     ]
    },
    {
     "name": "stdout",
     "output_type": "stream",
     "text": [
      "Confusion matrix on train data with Haar features: [[   0 5922    1    0    0    0    0    0    0    0]\n",
      " [   0 6742    0    0    0    0    0    0    0    0]\n",
      " [   0 5957    1    0    0    0    0    0    0    0]\n",
      " [   0 6131    0    0    0    0    0    0    0    0]\n",
      " [   0 5841    0    0    1    0    0    0    0    0]\n",
      " [   0 5420    0    0    0    1    0    0    0    0]\n",
      " [   0 5915    0    0    0    0    3    0    0    0]\n",
      " [   0 6265    0    0    0    0    0    0    0    0]\n",
      " [   0 5851    0    0    0    0    0    0    0    0]\n",
      " [   0 5948    0    0    0    0    0    0    0    1]]\n"
     ]
    }
   ],
   "source": [
    "# for you  !\n",
    "from sklearn.ensemble import AdaBoostClassifier\n",
    "from sklearn.metrics import confusion_matrix\n",
    "import numpy as np\n",
    "from sklearn.utils import shuffle\n",
    "\n",
    "\n",
    "ftrain, y_train = shuffle(ftrain, y_train, random_state=0)\n",
    "haar_boosting = AdaBoostClassifier(n_estimators=120, learning_rate=1, algorithm='SAMME.R')\n",
    "haar_boosting.fit(ftrain, y_train)\n",
    "y_predHaar = haar_boosting.predict(ftrain)\n",
    "\n",
    "# Confusion matrix\n",
    "print('Confusion matrix on train data with Haar features:', confusion_matrix(y_train, y_predHaar))"
   ]
  },
  {
   "cell_type": "code",
   "execution_count": 49,
   "metadata": {},
   "outputs": [
    {
     "data": {
      "text/plain": [
       "Text(0.5, 1.0, 'Confusion matrix on training data')"
      ]
     },
     "execution_count": 49,
     "metadata": {},
     "output_type": "execute_result"
    },
    {
     "data": {
      "image/png": "[encoded data removed]",
      "text/plain": [
       "<Figure size 1200x700 with 2 Axes>"
      ]
     },
     "metadata": {},
     "output_type": "display_data"
    }
   ],
   "source": [
    "from sklearn.metrics import classification_report, confusion_matrix, ConfusionMatrixDisplay\n",
    "\n",
    "\n",
    "cm = confusion_matrix(y_train, y_predHaar)\n",
    "\n",
    "fig, ax = plt.subplots(figsize=(12, 7)) \n",
    "\n",
    "disp = ConfusionMatrixDisplay(confusion_matrix=cm)\n",
    "# disp.plot()\n",
    "disp.plot(ax=ax)\n",
    "\n",
    "disp.ax_.set_title('Confusion matrix on training data')"
   ]
  },
  {
   "cell_type": "markdown",
   "metadata": {},
   "source": [
    "# Other alternatives filters"
   ]
  },
  {
   "cell_type": "code",
   "execution_count": 50,
   "metadata": {},
   "outputs": [
    {
     "name": "stdout",
     "output_type": "stream",
     "text": [
      "Processed 3000 images\n",
      "Processed 6000 images\n",
      "Processed 9000 images\n",
      "Processed 12000 images\n",
      "Processed 15000 images\n",
      "Processed 18000 images\n",
      "Processed 21000 images\n",
      "Processed 24000 images\n",
      "Processed 27000 images\n",
      "Processed 30000 images\n",
      "Processed 33000 images\n",
      "Processed 36000 images\n",
      "Processed 39000 images\n",
      "Processed 42000 images\n",
      "Processed 45000 images\n",
      "Processed 48000 images\n",
      "Processed 51000 images\n",
      "Processed 54000 images\n",
      "Processed 57000 images\n",
      "Processed 60000 images\n"
     ]
    },
    {
     "data": {
      "text/plain": [
       "(60000, 2)"
      ]
     },
     "execution_count": 50,
     "metadata": {},
     "output_type": "execute_result"
    }
   ],
   "source": [
    "# for you\n",
    "# Processing images\n",
    "ftrain = []\n",
    "cpt = 0\n",
    "\n",
    "for image in xTrain:\n",
    "    # Reshaping each image back to 28x28\n",
    "    image_reshaped = image.reshape(28, 28)\n",
    "    # Computing the integral image\n",
    "    int_image = transform.integral_image(image_reshaped)\n",
    "    # Haar features computation\n",
    "    features = feature.haar_like_feature(int_image, 0, 0, 28, 28, feature_type=feat_type_alt, feature_coord=feat_coord_alt)\n",
    "    ftrain.append(features)\n",
    "    cpt += 1\n",
    "    if cpt % 3000 == 0: # to keep count of the images per 1000\n",
    "        print(f\"Processed {cpt} images\")\n",
    "\n",
    "# Converting ftrain to a numpy array\n",
    "ftrain = np.array(ftrain)\n",
    "\n",
    "ftrain.shape\n"
   ]
  },
  {
   "cell_type": "code",
   "execution_count": 51,
   "metadata": {},
   "outputs": [
    {
     "name": "stderr",
     "output_type": "stream",
     "text": [
      "C:\\Users\\praba\\anaconda3\\Lib\\site-packages\\sklearn\\ensemble\\_weight_boosting.py:519: FutureWarning: The SAMME.R algorithm (the default) is deprecated and will be removed in 1.6. Use the SAMME algorithm to circumvent this warning.\n",
      "  warnings.warn(\n"
     ]
    },
    {
     "name": "stdout",
     "output_type": "stream",
     "text": [
      "Confusion matrix on train data with Haar features: [[  17 5672    0    5    0    0   66   73   19   71]\n",
      " [  16 6482    0    8    0    0   61   62   22   91]\n",
      " [  12 5733    0    7    0    0   51   59   21   75]\n",
      " [   4 5906    0   10    0    0   55   62   24   70]\n",
      " [   4 5601    0   13    0    0   57   76   27   64]\n",
      " [  15 5208    0   12    0    0   43   58   22   63]\n",
      " [   8 5663    0    7    0    0   89   70   20   61]\n",
      " [   7 6030    0    7    0    0   34   90   19   78]\n",
      " [  10 5601    0    3    0    0   57   56   37   87]\n",
      " [  12 5698    0    5    0    0   54   55   15  110]]\n"
     ]
    }
   ],
   "source": [
    "# for you  !\n",
    "from sklearn.ensemble import AdaBoostClassifier\n",
    "from sklearn.metrics import confusion_matrix\n",
    "import numpy as np\n",
    "from sklearn.utils import shuffle\n",
    "\n",
    "\n",
    "ftrain, y_train = shuffle(ftrain, y_train, random_state=0)\n",
    "haar_boosting = AdaBoostClassifier(n_estimators=120, learning_rate=1, algorithm='SAMME.R')\n",
    "haar_boosting.fit(ftrain, y_train)\n",
    "y_predHaar = haar_boosting.predict(ftrain)\n",
    "\n",
    "# Confusion matrix\n",
    "print('Confusion matrix on train data with Haar features:', confusion_matrix(y_train, y_predHaar))"
   ]
  },
  {
   "cell_type": "code",
   "execution_count": 52,
   "metadata": {},
   "outputs": [
    {
     "data": {
      "text/plain": [
       "Text(0.5, 1.0, 'Confusion matrix on training data')"
      ]
     },
     "execution_count": 52,
     "metadata": {},
     "output_type": "execute_result"
    },
    {
     "data": {
      "image/png": "[encoded data removed]",
      "text/plain": [
       "<Figure size 1200x700 with 2 Axes>"
      ]
     },
     "metadata": {},
     "output_type": "display_data"
    }
   ],
   "source": [
    "from sklearn.metrics import classification_report, confusion_matrix, ConfusionMatrixDisplay\n",
    "\n",
    "\n",
    "cm = confusion_matrix(y_train, y_predHaar)\n",
    "\n",
    "fig, ax = plt.subplots(figsize=(12, 7)) \n",
    "\n",
    "disp = ConfusionMatrixDisplay(confusion_matrix=cm)\n",
    "# disp.plot()\n",
    "disp.plot(ax=ax)\n",
    "\n",
    "disp.ax_.set_title('Confusion matrix on training data')"
   ]
  },
  {
   "cell_type": "code",
   "execution_count": null,
   "metadata": {},
   "outputs": [],
   "source": []
  }
 ],
 "metadata": {
  "hide_input": false,
  "kernelspec": {
   "display_name": "Python 3 (ipykernel)",
   "language": "python",
   "name": "python3"
  },
  "language_info": {
   "codemirror_mode": {
    "name": "ipython",
    "version": 3
   },
   "file_extension": ".py",
   "mimetype": "text/x-python",
   "name": "python",
   "nbconvert_exporter": "python",
   "pygments_lexer": "ipython3",
   "version": "3.11.5"
  },
  "latex_envs": {
   "LaTeX_envs_menu_present": true,
   "autoclose": false,
   "autocomplete": true,
   "bibliofile": "biblio.bib",
   "cite_by": "apalike",
   "current_citInitial": 1,
   "eqLabelWithNumbers": true,
   "eqNumInitial": 1,
   "hotkeys": {
    "equation": "Ctrl-E",
    "itemize": "Ctrl-I"
   },
   "labels_anchors": false,
   "latex_user_defs": false,
   "report_style_numbering": false,
   "user_envs_cfg": false
  },
  "varInspector": {
   "cols": {
    "lenName": 16,
    "lenType": 16,
    "lenVar": 40
   },
   "kernels_config": {
    "python": {
     "delete_cmd_postfix": "",
     "delete_cmd_prefix": "del ",
     "library": "var_list.py",
     "varRefreshCmd": "print(var_dic_list())"
    },
    "r": {
     "delete_cmd_postfix": ") ",
     "delete_cmd_prefix": "rm(",
     "library": "var_list.r",
     "varRefreshCmd": "cat(var_dic_list()) "
    }
   },
   "types_to_exclude": [
    "module",
    "function",
    "builtin_function_or_method",
    "instance",
    "_Feature"
   ],
   "window_display": false
  }
 },
 "nbformat": 4,
 "nbformat_minor": 4
}
