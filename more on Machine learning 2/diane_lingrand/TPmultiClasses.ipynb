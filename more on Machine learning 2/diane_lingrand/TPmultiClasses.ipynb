{
  "cells": [
    {
      "cell_type": "markdown",
      "metadata": {
        "id": "_g7VGUynIUOb"
      },
      "source": [
        "# TP multi-class classification\n",
        "\n",
        "Diane Lingrand (diane.lingrand@univ-cotedazur.fr)\n",
        "\n",
        "University Côte d'Azur - 2024"
      ]
    },
    {
      "cell_type": "markdown",
      "metadata": {
        "id": "PEDW2-XHIUOc"
      },
      "source": [
        "## necessary imports"
      ]
    },
    {
      "cell_type": "code",
      "execution_count": null,
      "metadata": {
        "ExecuteTime": {
          "end_time": "2022-11-14T13:51:34.286491Z",
          "start_time": "2022-11-14T13:51:27.172676Z"
        },
        "id": "fzXrMVACIUOd"
      },
      "outputs": [],
      "source": [
        "import matplotlib.pyplot as plt\n",
        "import random\n",
        "import numpy as np\n",
        "\n",
        "from sklearn.metrics import ConfusionMatrixDisplay, f1_score, confusion_matrix\n",
        "from sklearn.utils import shuffle\n",
        "from tensorflow.keras.models import Sequential\n",
        "from tensorflow.keras.layers import Dense, Activation, Conv2D, Flatten, MaxPooling2D, Dropout\n",
        "from tensorflow.keras.callbacks import EarlyStopping\n",
        "import tensorflow.keras.utils"
      ]
    },
    {
      "cell_type": "code",
      "source": [
        "from pandas import pandas"
      ],
      "metadata": {
        "id": "OSszjy84mNq8"
      },
      "execution_count": null,
      "outputs": []
    },
    {
      "cell_type": "code",
      "execution_count": null,
      "metadata": {
        "ExecuteTime": {
          "end_time": "2022-11-14T13:52:05.755716Z",
          "start_time": "2022-11-14T13:52:05.420903Z"
        },
        "id": "yr5AQsmzIUOe"
      },
      "outputs": [],
      "source": [
        "# reading the dataset\n",
        "from tensorflow.keras.datasets import cifar100\n",
        "\n",
        "(x_train, y_train), (x_test, y_test) = cifar100.load_data(label_mode='fine')"
      ]
    },
    {
      "cell_type": "code",
      "execution_count": null,
      "metadata": {
        "ExecuteTime": {
          "end_time": "2022-11-14T13:58:46.141357Z",
          "start_time": "2022-11-14T13:58:46.136121Z"
        },
        "id": "EnFvGphHIUOf"
      },
      "outputs": [],
      "source": [
        "print(\"shape of x_train:\", x_train.shape)\n",
        "print(\"shape of y_train:\", y_train.shape)"
      ]
    },
    {
      "cell_type": "code",
      "execution_count": null,
      "metadata": {
        "id": "Ap6fGgt6IUOg"
      },
      "outputs": [],
      "source": [
        "fine_label = [\n",
        "'apple', # id 0\n",
        "'aquarium_fish','baby','bear','beaver','bed','bee','beetle','bicycle','bottle','bowl','boy','bridge','bus','butterfly','camel','can','castle','caterpillar','cattle','chair','chimpanzee','clock',\n",
        "'cloud','cockroach','couch','crab','crocodile','cup','dinosaur','dolphin','elephant','flatfish','forest','fox','girl','hamster','house','kangaroo','computer_keyboard','lamp','lawn_mower','leopard',\n",
        "'lion','lizard','lobster','man','maple_tree','motorcycle','mountain','mouse','mushroom','oak_tree','orange','orchid','otter','palm_tree','pear','pickup_truck','pine_tree','plain','plate','poppy',\n",
        "'porcupine','possum','rabbit','raccoon','ray','road','rocket','rose','sea','seal','shark','shrew','skunk','skyscraper','snail','snake','spider','squirrel','streetcar','sunflower','sweet_pepper',\n",
        "'table','tank','telephone','television','tiger','tractor','train','trout','tulip','turtle','wardrobe','whale','willow_tree','wolf','woman','worm',\n",
        "]"
      ]
    },
    {
      "cell_type": "code",
      "execution_count": null,
      "metadata": {
        "id": "RzTS9rPRIUOh"
      },
      "outputs": [],
      "source": [
        "mapping = {\n",
        "'aquatic mammals': ['beaver', 'dolphin', 'otter', 'seal', 'whale'],\n",
        "'fish': ['aquarium_fish', 'flatfish', 'ray', 'shark', 'trout'],\n",
        "'flowers': ['orchid', 'poppy', 'rose', 'sunflower', 'tulip'],\n",
        "'food containers': ['bottle', 'bowl', 'can', 'cup', 'plate'],\n",
        "'fruit and vegetables': ['apple', 'mushroom', 'orange', 'pear', 'sweet_pepper'],\n",
        "'household electrical device': ['clock', 'computer_keyboard', 'lamp', 'telephone', 'television'],\n",
        "'household furniture': ['bed', 'chair', 'couch', 'table', 'wardrobe'],\n",
        "'insects': ['bee', 'beetle', 'butterfly', 'caterpillar', 'cockroach'],\n",
        "'large carnivores': ['bear', 'leopard', 'lion', 'tiger', 'wolf'],\n",
        "'large man-made outdoor things': ['bridge', 'castle', 'house', 'road', 'skyscraper'],\n",
        "'large natural outdoor scenes': ['cloud', 'forest', 'mountain', 'plain', 'sea'],\n",
        "'large omnivores and herbivores': ['camel', 'cattle', 'chimpanzee', 'elephant', 'kangaroo'],\n",
        "'medium-sized mammals': ['fox', 'porcupine', 'possum', 'raccoon', 'skunk'],\n",
        "'non-insect invertebrates': ['crab', 'lobster', 'snail', 'spider', 'worm'],\n",
        "'people': ['baby', 'boy', 'girl', 'man', 'woman'],\n",
        "'reptiles': ['crocodile', 'dinosaur', 'lizard', 'snake', 'turtle'],\n",
        "'small mammals': ['hamster', 'mouse', 'rabbit', 'shrew', 'squirrel'],\n",
        "'trees': ['maple_tree', 'oak_tree', 'palm_tree', 'pine_tree', 'willow_tree'],\n",
        "'vehicles 1': ['bicycle', 'bus', 'motorcycle', 'pickup_truck', 'train'],\n",
        "'vehicles 2': ['lawn_mower', 'rocket', 'streetcar', 'tank', 'tractor'],\n",
        "}"
      ]
    },
    {
      "cell_type": "code",
      "execution_count": null,
      "metadata": {
        "id": "bYhZJOZSIUOh"
      },
      "outputs": [],
      "source": [
        "# classes to sup classes\n",
        "fine_to_coarse = {0: 4, 1: 1, 2: 14, 3: 8, 4: 0, 5: 6, 6: 7, 7: 7, 8: 18,\n",
        " 9: 3, 10: 3, 11: 14, 12: 9, 13: 18, 14: 7, 15: 11, 16: 3,\n",
        " 17: 9, 18: 7, 19: 11, 20: 6, 21: 11, 22: 5, 23: 10, 24: 7, 25: 6,\n",
        " 26: 13, 27: 15, 28: 3, 29: 15, 30: 0, 31: 11, 32: 1, 33: 10, 34: 12,\n",
        " 35: 14, 36: 16, 37: 9, 38: 11, 39: 5, 40: 5, 41: 19, 42: 8, 43: 8, 44: 15,\n",
        " 45: 13, 46: 14, 47: 17, 48: 18, 49: 10, 50: 16, 51: 4, 52: 17, 53: 4, 54: 2, 55: 0,\n",
        " 56: 17, 57: 4, 58: 18, 59: 17, 60: 10, 61: 3, 62: 2, 63: 12, 64: 12, 65: 16,\n",
        " 66: 12, 67: 1, 68: 9, 69: 19, 70: 2, 71: 10, 72: 0, 73: 1, 74: 16, 75: 12, 76: 9,\n",
        " 77: 13, 78: 15, 79: 13, 80: 16, 81: 19, 82: 2, 83: 4, 84: 6, 85: 19, 86: 5,\n",
        " 87: 5, 88: 8, 89: 19, 90: 18, 91: 1, 92: 2, 93: 15, 94: 6, 95: 0,\n",
        " 96: 17, 97: 8, 98: 14, 99: 13}"
      ]
    },
    {
      "cell_type": "code",
      "execution_count": null,
      "metadata": {
        "id": "YFUQXJ-LIUOj"
      },
      "outputs": [],
      "source": [
        "coarse_label = ['aquatic mammals',\n",
        "'fish', 'flowers','food containers','fruit and vegetables','household electrical device','household furniture','insects','large carnivores','large man-made outdoor things','large natural outdoor scenes',\n",
        "'large omnivores and herbivores','medium-sized mammals','non-insect invertebrates','people','reptiles','small mammals','trees','vehicles 1','vehicles 2']"
      ]
    },
    {
      "cell_type": "code",
      "execution_count": null,
      "metadata": {
        "ExecuteTime": {
          "end_time": "2022-11-14T13:52:06.104027Z",
          "start_time": "2022-11-14T13:52:05.967253Z"
        },
        "scrolled": true,
        "id": "GxB2fzSwIUOk"
      },
      "outputs": [],
      "source": [
        "# display a random image from the train dataset (re-run the cell in order to change the image)\n",
        "import matplotlib.pyplot as plt\n",
        "i = random.randint(0,len(x_train)-1)\n",
        "plt.imshow(x_train[i])\n",
        "print(y_train[i], fine_to_coarse[y_train[i]])\n",
        "plt.title(fine_label[y_train[i]]+' : '+coarse_label[fine_to_coarse[y_train[i]]])\n",
        "plt.show()"
      ]
    },
    {
      "cell_type": "markdown",
      "metadata": {
        "id": "ZpvFyRmDIUOk"
      },
      "source": [
        "Extract a subset of cifar100 containing all classes from 3 supclasses:"
      ]
    },
    {
      "cell_type": "code",
      "execution_count": null,
      "metadata": {
        "id": "aWgm1e-JIUOl"
      },
      "outputs": [],
      "source": [
        "# selected sup classes\n",
        "filterSupCl = [ # up to you to choose 3 super classes ]\n",
        "\n"
      ]
    },
    {
      "cell_type": "code",
      "source": [
        "# build the list of corresponding classes to these selected sup classes\n",
        "filterCl=[]\n",
        "# to be continued"
      ],
      "metadata": {
        "id": "2m11xLvr7Q0J"
      },
      "execution_count": null,
      "outputs": []
    },
    {
      "cell_type": "markdown",
      "source": [
        "You will probably need arrays for mapping classes, superclasses, indices ...\n"
      ],
      "metadata": {
        "id": "F1mNxmbWK54T"
      }
    },
    {
      "cell_type": "code",
      "execution_count": null,
      "metadata": {
        "id": "ql6iEMBCIUOm"
      },
      "outputs": [],
      "source": [
        "# your work"
      ]
    },
    {
      "cell_type": "markdown",
      "source": [
        "Using filters on indices, build the train and test parts for data and labels. Don't forget to divide pixels values by 255 and save the values as float."
      ],
      "metadata": {
        "id": "plaZ_bJiIwKZ"
      }
    },
    {
      "cell_type": "code",
      "execution_count": 2,
      "metadata": {
        "id": "BuRStzU1IUOn"
      },
      "outputs": [],
      "source": [
        "# your work"
      ]
    },
    {
      "cell_type": "markdown",
      "metadata": {
        "id": "eCcRxjtFIUOp"
      },
      "source": [
        "# 1. superclasses classification\n",
        "In this part, we will compare the multiclass classification of the 3 superclasses with the 15 classes classification for 3 superclasses."
      ]
    },
    {
      "cell_type": "markdown",
      "metadata": {
        "id": "h7WShaNgIUOp"
      },
      "source": [
        "### 1.1 Classification of the selected superclasses"
      ]
    },
    {
      "cell_type": "markdown",
      "source": [
        "First, prepare yTrainSup and yTestSup."
      ],
      "metadata": {
        "id": "47_2RWxwJaU5"
      }
    },
    {
      "cell_type": "code",
      "execution_count": null,
      "metadata": {
        "id": "o-SdLnPoIUOp"
      },
      "outputs": [],
      "source": [
        "# your work\n"
      ]
    },
    {
      "cell_type": "markdown",
      "source": [
        "Build a simple neural network for the classification:"
      ],
      "metadata": {
        "id": "-421uDYSJnQm"
      }
    },
    {
      "cell_type": "code",
      "execution_count": null,
      "metadata": {
        "id": "2wYGFPmwIUOp"
      },
      "outputs": [],
      "source": [
        ".\n",
        "#Let's build a simple neural network using the keras sequential method\n",
        "model = Sequential()\n",
        "\n",
        "model.add(Conv2D(32, (3, 3), activation='relu', padding='same', input_shape=(32, 32, 3)))\n",
        "model.add(Conv2D(32, (3, 3), activation='relu', padding='same'))\n",
        "model.add(MaxPooling2D((2, 2)))\n",
        "model.add(Dropout(0.2))\n",
        "model.add(Conv2D(64, (3, 3), activation='relu', padding='same'))\n",
        "model.add(Conv2D(64, (3, 3), activation='relu', padding='same'))\n",
        "model.add(MaxPooling2D((2, 2)))\n",
        "model.add(Dropout(0.3))\n",
        "model.add(Conv2D(128, (3, 3), activation='relu', padding='same'))\n",
        "model.add(Conv2D(128, (3, 3), activation='relu', padding='same'))\n",
        "model.add(MaxPooling2D((2, 2)))\n",
        "model.add(Dropout(0.4))\n",
        "model.add(Flatten())\n",
        "#model.add(Dense(64, activation='relu'))\n",
        "#model.add(Dropout(0.5))\n",
        "model.add(Dense(nbSupClasses, activation='softmax'))"
      ]
    },
    {
      "cell_type": "markdown",
      "source": [
        "Compile, learn and display evaluation metrics."
      ],
      "metadata": {
        "id": "Dym2PcsbJ7XP"
      }
    },
    {
      "cell_type": "markdown",
      "source": [
        "### classification in classes and metrics on the 3 superclasses"
      ],
      "metadata": {
        "id": "ZO6kgzczpqet"
      }
    },
    {
      "cell_type": "markdown",
      "source": [
        "Build a similar model (except the last layer, of course), using the classes corresponding to your 3 superclasses. It could be around 15 classes. As usual, train and display metrics."
      ],
      "metadata": {
        "id": "UJ1ju-XwKBhv"
      }
    },
    {
      "cell_type": "code",
      "source": [
        "# your work"
      ],
      "metadata": {
        "id": "Z1U08SwUyn_8"
      },
      "execution_count": 4,
      "outputs": []
    },
    {
      "cell_type": "markdown",
      "source": [
        "Compute now the metrics by considering only the 3 superclasses."
      ],
      "metadata": {
        "id": "mEkSoVm8KlPr"
      }
    },
    {
      "cell_type": "code",
      "source": [
        "# your work"
      ],
      "metadata": {
        "id": "IPF07cPWq0-s"
      },
      "execution_count": null,
      "outputs": []
    },
    {
      "cell_type": "markdown",
      "source": [
        "# 2. Local classifiers (or top-down)\n",
        "  In this part, the goal is the class classification using a classifier per sup-class. If you choose 3 sup-classes, you need to build 3 classifiers + 1 for the root."
      ],
      "metadata": {
        "id": "CRPNopby78br"
      }
    },
    {
      "cell_type": "markdown",
      "source": [
        "# 3. Hierarchical loss: HXE (from *Making better Mistakes*, CVPR 2000)\n",
        "In this part, you will implement some of the ideas of the paper [Making better Mistakes, CVPR 2000](https://https://openaccess.thecvf.com/content_CVPR_2020/papers/Bertinetto_Making_Better_Mistakes_Leveraging_Class_Hierarchies_With_Deep_Networks_CVPR_2020_paper.pdf)"
      ],
      "metadata": {
        "id": "5rCSrk3_8XZ2"
      }
    },
    {
      "cell_type": "markdown",
      "source": [
        "## 3.1 Implement the HXE\n",
        "using a similar architecture as in 1.1 or 1.2"
      ],
      "metadata": {
        "id": "2J9v6zE7_5Ce"
      }
    },
    {
      "cell_type": "markdown",
      "source": [
        "## 3.2 Add specific metrics for HMC\n",
        "as for example 'average hierarchical distance of top-k'."
      ],
      "metadata": {
        "id": "ZIHNcwWG8-lF"
      }
    },
    {
      "cell_type": "code",
      "source": [],
      "metadata": {
        "id": "XXhH6dg1_tny"
      },
      "execution_count": null,
      "outputs": []
    },
    {
      "cell_type": "markdown",
      "source": [
        "## 3.3 Add the soft label (from Making better Mistakes, CVPR 2000)"
      ],
      "metadata": {
        "id": "t2p-vY4Y9DTH"
      }
    },
    {
      "cell_type": "code",
      "source": [],
      "metadata": {
        "id": "2GsxaDmn_uOb"
      },
      "execution_count": null,
      "outputs": []
    }
  ],
  "metadata": {
    "celltoolbar": "Raw Cell Format",
    "hide_input": false,
    "kernelspec": {
      "display_name": "Python [conda env:mlgpu]",
      "language": "python",
      "name": "conda-env-mlgpu-py"
    },
    "language_info": {
      "codemirror_mode": {
        "name": "ipython",
        "version": 3
      },
      "file_extension": ".py",
      "mimetype": "text/x-python",
      "name": "python",
      "nbconvert_exporter": "python",
      "pygments_lexer": "ipython3",
      "version": "3.9.18"
    },
    "latex_envs": {
      "LaTeX_envs_menu_present": true,
      "autoclose": false,
      "autocomplete": true,
      "bibliofile": "biblio.bib",
      "cite_by": "apalike",
      "current_citInitial": 1,
      "eqLabelWithNumbers": true,
      "eqNumInitial": 1,
      "hotkeys": {
        "equation": "Ctrl-E",
        "itemize": "Ctrl-I"
      },
      "labels_anchors": false,
      "latex_user_defs": false,
      "report_style_numbering": false,
      "user_envs_cfg": false
    },
    "varInspector": {
      "cols": {
        "lenName": 16,
        "lenType": 16,
        "lenVar": 40
      },
      "kernels_config": {
        "python": {
          "delete_cmd_postfix": "",
          "delete_cmd_prefix": "del ",
          "library": "var_list.py",
          "varRefreshCmd": "print(var_dic_list())"
        },
        "r": {
          "delete_cmd_postfix": ") ",
          "delete_cmd_prefix": "rm(",
          "library": "var_list.r",
          "varRefreshCmd": "cat(var_dic_list()) "
        }
      },
      "types_to_exclude": [
        "module",
        "function",
        "builtin_function_or_method",
        "instance",
        "_Feature"
      ],
      "window_display": false
    },
    "colab": {
      "provenance": []
    }
  },
  "nbformat": 4,
  "nbformat_minor": 0
}