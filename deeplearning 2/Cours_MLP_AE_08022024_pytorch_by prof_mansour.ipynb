{
 "cells": [
  {
   "cell_type": "code",
   "execution_count": 1,
   "metadata": {},
   "outputs": [],
   "source": [
    "# ressources\n",
    "#https://pytorch.org/tutorials/beginner/introyt/introyt1_tutorial.html\n",
    "%matplotlib inline"
   ]
  },
  {
   "cell_type": "markdown",
   "metadata": {},
   "source": [
    "# Install packages"
   ]
  },
  {
   "cell_type": "code",
   "execution_count": 1,
   "metadata": {},
   "outputs": [],
   "source": [
    "## Install torch\n",
    "#!pip install torch\n",
    "#!pip install torchvision ## contains the image data sets that are ready for use in PyTorch.\n",
    "!pip3 install torch torchvision torchaudio\n"
   ]
  },
  {
   "cell_type": "code",
   "execution_count": 34,
   "metadata": {},
   "outputs": [],
   "source": [
    "import torch,torchvision\n",
    "import torch\n",
    "import torch.nn as nn\n",
    "import torch.optim as optim\n",
    "\n"
   ]
  },
  {
   "cell_type": "markdown",
   "metadata": {},
   "source": [
    "# Initialization: some useful functions in Pytorch"
   ]
  },
  {
   "cell_type": "markdown",
   "metadata": {},
   "source": [
    "# 0.1) From numpy array to tensors"
   ]
  },
  {
   "cell_type": "markdown",
   "metadata": {},
   "source": [
    "#### Tensor to Numpy, and Numpy to Tensor\n"
   ]
  },
  {
   "cell_type": "code",
   "execution_count": 68,
   "metadata": {},
   "outputs": [],
   "source": [
    "import numpy as np"
   ]
  },
  {
   "cell_type": "code",
   "execution_count": 72,
   "metadata": {},
   "outputs": [
    {
     "name": "stdout",
     "output_type": "stream",
     "text": [
      "tensor([4, 5, 6, 8], dtype=torch.int32)\n"
     ]
    }
   ],
   "source": [
    "ndarray = np.array([4,5,6,8]) ## creat a numpy array \n",
    "t = torch.from_numpy(ndarray) # convert the numpy araay to tensor\n",
    "print(t) \n"
   ]
  },
  {
   "cell_type": "code",
   "execution_count": 73,
   "metadata": {},
   "outputs": [
    {
     "name": "stdout",
     "output_type": "stream",
     "text": [
      "torch.Size([4])\n",
      "torch.int32\n",
      "cpu\n"
     ]
    }
   ],
   "source": [
    "print(t.shape) # the size of the tensor\n",
    "print(t.dtype) # the type of data stored in the tensor\n",
    "print(t.device) # the device in which the tensor is stored: cpu or gpu"
   ]
  },
  {
   "cell_type": "code",
   "execution_count": 75,
   "metadata": {},
   "outputs": [
    {
     "data": {
      "text/plain": [
       "(4,)"
      ]
     },
     "execution_count": 75,
     "metadata": {},
     "output_type": "execute_result"
    }
   ],
   "source": [
    "ndarray.shape"
   ]
  },
  {
   "cell_type": "code",
   "execution_count": null,
   "metadata": {},
   "outputs": [],
   "source": [
    "np_arr=t.numpy() ## convert tensor to numpy array"
   ]
  },
  {
   "cell_type": "markdown",
   "metadata": {},
   "source": [
    "We can always instantiate a tensor from a Python list\n",
    "\n"
   ]
  },
  {
   "cell_type": "code",
   "execution_count": 79,
   "metadata": {},
   "outputs": [
    {
     "name": "stdout",
     "output_type": "stream",
     "text": [
      "tensor([4., 5., 6., 8.])\n"
     ]
    }
   ],
   "source": [
    "l=torch.Tensor([4,5,6,8])\n",
    "print(l)"
   ]
  },
  {
   "cell_type": "code",
   "execution_count": 82,
   "metadata": {},
   "outputs": [
    {
     "name": "stdout",
     "output_type": "stream",
     "text": [
      "tensor([[1., 5., 4., 6.],\n",
      "        [1., 5., 8., 8.]])\n"
     ]
    }
   ],
   "source": [
    "t=np.array([[1,5,4,6],[1,5,8,8]]) # np array\n",
    "t=torch.Tensor(t) # or use torch.from_numpy\n",
    "print(t)"
   ]
  },
  {
   "cell_type": "code",
   "execution_count": 68,
   "metadata": {},
   "outputs": [
    {
     "data": {
      "text/plain": [
       "tensor([[1., 4., 5., 6., 7.],\n",
       "        [0., 3., 5., 7., 0.]])"
      ]
     },
     "execution_count": 68,
     "metadata": {},
     "output_type": "execute_result"
    }
   ],
   "source": [
    "# We can also create a tensor from lists like in numpy\n",
    "torch.Tensor(.....)"
   ]
  },
  {
   "cell_type": "markdown",
   "metadata": {},
   "source": [
    "# There are many other alternatives. Vry similar to numpy!"
   ]
  },
  {
   "cell_type": "markdown",
   "metadata": {},
   "source": [
    "torch.zeros: Creates a tensor filled with zeros\n",
    "\n",
    "torch.ones: Creates a tensor filled with ones\n",
    "\n",
    "torch.rand: Creates a tensor with random values uniformly sampled between 0 and 1\n",
    "\n",
    "torch.randn: Creates a tensor with random values sampled from a normal distribution with mean 0 and variance 1\n",
    "\n",
    "torch.arange: Creates a tensor containing the values \n",
    "\n",
    "torch.Tensor (input list): Creates a tensor from the list elements you provide"
   ]
  },
  {
   "cell_type": "code",
   "execution_count": 74,
   "metadata": {},
   "outputs": [
    {
     "name": "stdout",
     "output_type": "stream",
     "text": [
      "tensor([[0.9397, 0.8656, 0.5207],\n",
      "        [0.6865, 0.3614, 0.6493],\n",
      "        [0.2633, 0.4762, 0.0548]])\n"
     ]
    }
   ],
   "source": [
    "## We can create random tensors with values uniformly sampled between 0 and 1\n",
    "\n",
    "my_shape = (3, 3)\n",
    "rand_t = torch.rand(my_shape)\n",
    "print(rand_t)"
   ]
  },
  {
   "cell_type": "code",
   "execution_count": 85,
   "metadata": {},
   "outputs": [
    {
     "data": {
      "text/plain": [
       "tensor([[[0.5439, 0.2302, 0.6723, 0.9261],\n",
       "         [0.7169, 0.1625, 0.4611, 0.4584]],\n",
       "\n",
       "        [[0.7646, 0.5345, 0.0068, 0.9452],\n",
       "         [0.0443, 0.1215, 0.7797, 0.5597]],\n",
       "\n",
       "        [[0.7320, 0.4091, 0.3398, 0.6808],\n",
       "         [0.1764, 0.8265, 0.6264, 0.0807]],\n",
       "\n",
       "        [[0.8701, 0.9340, 0.3777, 0.6816],\n",
       "         [0.4325, 0.3482, 0.5079, 0.8972]]])"
      ]
     },
     "execution_count": 85,
     "metadata": {},
     "output_type": "execute_result"
    }
   ],
   "source": [
    "torch.rand(4,2,4)"
   ]
  },
  {
   "cell_type": "code",
   "execution_count": 86,
   "metadata": {},
   "outputs": [
    {
     "name": "stdout",
     "output_type": "stream",
     "text": [
      "tensor([[-0.9506, -0.6409,  1.9381, -0.9873, -0.2205],\n",
      "        [-0.2141, -1.1039,  1.7254,  1.2415,  2.8506],\n",
      "        [ 0.3340,  0.0512,  0.9789, -0.4196,  0.8912]])\n"
     ]
    }
   ],
   "source": [
    "## We can create random tensors with gaussian distribution mean 0 and variance 1\n",
    "t=torch.randn([3,5])\n",
    "print(t)"
   ]
  },
  {
   "cell_type": "markdown",
   "metadata": {},
   "source": [
    "Let’s see a few basic tensor manipulations. First, just a few of the\n",
    "ways to create tensors:\\\\\n",
    "It is very similar to numpy and tensorflow\n",
    "\n",
    "\n"
   ]
  },
  {
   "cell_type": "code",
   "execution_count": 87,
   "metadata": {},
   "outputs": [
    {
     "name": "stdout",
     "output_type": "stream",
     "text": [
      "tensor([[0., 0., 0.],\n",
      "        [0., 0., 0.],\n",
      "        [0., 0., 0.],\n",
      "        [0., 0., 0.],\n",
      "        [0., 0., 0.]])\n",
      "torch.float32\n"
     ]
    }
   ],
   "source": [
    "z = torch.zeros(5, 3)\n",
    "print(z)\n",
    "print(z.dtype)"
   ]
  },
  {
   "cell_type": "code",
   "execution_count": 89,
   "metadata": {},
   "outputs": [
    {
     "data": {
      "text/plain": [
       "array([[0., 0.],\n",
       "       [0., 0.],\n",
       "       [0., 0.],\n",
       "       [0., 0.]])"
      ]
     },
     "execution_count": 89,
     "metadata": {},
     "output_type": "execute_result"
    }
   ],
   "source": [
    "np.zeros([4,2])"
   ]
  },
  {
   "cell_type": "code",
   "execution_count": 90,
   "metadata": {},
   "outputs": [
    {
     "name": "stdout",
     "output_type": "stream",
     "text": [
      "tensor([[1, 1, 1],\n",
      "        [1, 1, 1],\n",
      "        [1, 1, 1],\n",
      "        [1, 1, 1],\n",
      "        [1, 1, 1]], dtype=torch.int16)\n"
     ]
    }
   ],
   "source": [
    "## We can chane the default data type \n",
    "i = torch.ones((5, 3), dtype=torch.int16)\n",
    "print(i)"
   ]
  },
  {
   "cell_type": "code",
   "execution_count": 93,
   "metadata": {},
   "outputs": [
    {
     "data": {
      "text/plain": [
       "tensor([[1., 1.],\n",
       "        [1., 1.],\n",
       "        [1., 1.],\n",
       "        [1., 1.]], dtype=torch.float64)"
      ]
     },
     "execution_count": 93,
     "metadata": {},
     "output_type": "execute_result"
    }
   ],
   "source": [
    "torch.from_numpy(np.ones([4,2]))"
   ]
  },
  {
   "cell_type": "code",
   "execution_count": 94,
   "metadata": {},
   "outputs": [
    {
     "data": {
      "text/plain": [
       "tensor([[3.2398, 1.3816, 2.3633, 2.8296, 1.9870],\n",
       "        [1.8627, 2.5787, 2.9601, 1.5630, 1.2213],\n",
       "        [1.5364, 1.9314, 2.1633, 2.4138, 2.0535],\n",
       "        [2.2152, 1.8140, 1.3268, 1.5711, 1.3361]])"
      ]
     },
     "execution_count": 94,
     "metadata": {},
     "output_type": "execute_result"
    }
   ],
   "source": [
    "## From normal distribution with size, mean and std\n",
    "torch.normal(size=[4,5],mean=2,std=0.5)"
   ]
  },
  {
   "cell_type": "markdown",
   "metadata": {},
   "source": [
    "# Setting the random seed\n",
    "\n",
    "It’s common to initialize learning weights randomly, often with a\n",
    "specific seed :\n",
    "\n",
    "\n"
   ]
  },
  {
   "cell_type": "code",
   "execution_count": 69,
   "metadata": {},
   "outputs": [
    {
     "name": "stdout",
     "output_type": "stream",
     "text": [
      "A random tensor:\n",
      "tensor([[0.3126, 0.3791],\n",
      "        [0.3087, 0.0736]])\n",
      "\n",
      "A different random tensor:\n",
      "tensor([[0.4216, 0.0691],\n",
      "        [0.2332, 0.4047]])\n",
      "\n",
      "Should match r1:\n",
      "tensor([[0.3126, 0.3791],\n",
      "        [0.3087, 0.0736]])\n"
     ]
    }
   ],
   "source": [
    "torch.manual_seed(1729)\n",
    "r1 = torch.rand(2, 2)\n",
    "print('A random tensor:')\n",
    "print(r1)\n",
    "\n",
    "r2 = torch.rand(2, 2)\n",
    "print('\\nA different random tensor:')\n",
    "print(r2) # new values\n",
    "\n",
    "torch.manual_seed(1729)\n",
    "r3 = torch.rand(2, 2)\n",
    "print('\\nShould match r1:')\n",
    "print(r3) # repeats values of r1 because of re-seed"
   ]
  },
  {
   "cell_type": "markdown",
   "metadata": {},
   "source": [
    "# Operations on tensors are similar to tensorflow \n",
    "\n",
    "\n"
   ]
  },
  {
   "cell_type": "code",
   "execution_count": null,
   "metadata": {},
   "outputs": [],
   "source": [
    "ones = torch.ones(2, 3)\n",
    "print(ones)\n",
    "\n",
    "twos = torch.ones(2, 3) * 2 # every element is multiplied by 2\n",
    "print(twos)\n",
    "\n",
    "threes = ones + twos       # addition allowed because shapes are similar\n",
    "print(threes)              # tensors are added element-wise\n",
    "print(threes.shape)        # this has the same dimensions as input tensors\n",
    "\n",
    "r1 = torch.rand(2, 3)\n",
    "r2 = torch.rand(3, 2)\n",
    "# uncomment this line to get a runtime error\n",
    "# r3 = r1 + r2"
   ]
  },
  {
   "cell_type": "code",
   "execution_count": 75,
   "metadata": {},
   "outputs": [
    {
     "name": "stdout",
     "output_type": "stream",
     "text": [
      "tensor([[0., 0., 0.],\n",
      "        [0., 0., 0.]])\n"
     ]
    }
   ],
   "source": [
    "zeros_tensor = torch.zeros((2, 3))\n",
    "print(zeros_tensor)\n"
   ]
  },
  {
   "cell_type": "code",
   "execution_count": 76,
   "metadata": {},
   "outputs": [
    {
     "name": "stdout",
     "output_type": "stream",
     "text": [
      "tensor([[0., 0.],\n",
      "        [0., 0.],\n",
      "        [0., 0.]])\n"
     ]
    }
   ],
   "source": [
    "## transpose the tensors\n",
    "transposed = zeros_tensor.T\n",
    "print(transposed)"
   ]
  },
  {
   "cell_type": "code",
   "execution_count": 111,
   "metadata": {},
   "outputs": [
    {
     "ename": "TypeError",
     "evalue": "matmul(): argument 'input' (position 1) must be Tensor, not numpy.ndarray",
     "output_type": "error",
     "traceback": [
      "\u001b[1;31m---------------------------------------------------------------------------\u001b[0m",
      "\u001b[1;31mTypeError\u001b[0m                                 Traceback (most recent call last)",
      "Cell \u001b[1;32mIn [111], line 3\u001b[0m\n\u001b[0;32m      1\u001b[0m A\u001b[38;5;241m=\u001b[39mnp\u001b[38;5;241m.\u001b[39marray([[\u001b[38;5;241m4\u001b[39m,\u001b[38;5;241m8\u001b[39m,\u001b[38;5;241m4\u001b[39m,\u001b[38;5;241m7\u001b[39m,\u001b[38;5;241m8\u001b[39m],[\u001b[38;5;241m4\u001b[39m,\u001b[38;5;241m8\u001b[39m,\u001b[38;5;241m4\u001b[39m,\u001b[38;5;241m7\u001b[39m,\u001b[38;5;241m8\u001b[39m],[\u001b[38;5;241m4\u001b[39m,\u001b[38;5;241m8\u001b[39m,\u001b[38;5;241m4\u001b[39m,\u001b[38;5;241m7\u001b[39m,\u001b[38;5;241m8\u001b[39m]])\u001b[38;5;241m.\u001b[39mT\n\u001b[0;32m      2\u001b[0m B\u001b[38;5;241m=\u001b[39mnp\u001b[38;5;241m.\u001b[39marray([[\u001b[38;5;241m4\u001b[39m,\u001b[38;5;241m8\u001b[39m,\u001b[38;5;241m4\u001b[39m,\u001b[38;5;241m7\u001b[39m,\u001b[38;5;241m8\u001b[39m],[\u001b[38;5;241m4\u001b[39m,\u001b[38;5;241m8\u001b[39m,\u001b[38;5;241m4\u001b[39m,\u001b[38;5;241m7\u001b[39m,\u001b[38;5;241m8\u001b[39m],[\u001b[38;5;241m4\u001b[39m,\u001b[38;5;241m8\u001b[39m,\u001b[38;5;241m4\u001b[39m,\u001b[38;5;241m7\u001b[39m,\u001b[38;5;241m8\u001b[39m]])\u001b[38;5;241m.\u001b[39mT\n\u001b[1;32m----> 3\u001b[0m \u001b[43mtorch\u001b[49m\u001b[38;5;241;43m.\u001b[39;49m\u001b[43mmatmul\u001b[49m\u001b[43m(\u001b[49m\u001b[43mA\u001b[49m\u001b[43m,\u001b[49m\u001b[43mB\u001b[49m\u001b[38;5;241;43m.\u001b[39;49m\u001b[43mT\u001b[49m\u001b[43m)\u001b[49m\n",
      "\u001b[1;31mTypeError\u001b[0m: matmul(): argument 'input' (position 1) must be Tensor, not numpy.ndarray"
     ]
    }
   ],
   "source": [
    "A=np.array([[4,8,4,7,8],[4,8,4,7,8],[4,8,4,7,8]]).T\n",
    "B=np.array([[4,8,4,7,8],[4,8,4,7,8],[4,8,4,7,8]]).T\n",
    "torch.matmul(A,B.T)"
   ]
  },
  {
   "cell_type": "code",
   "execution_count": 112,
   "metadata": {},
   "outputs": [
    {
     "data": {
      "text/plain": [
       "array([[ 48,  96,  48,  84,  96],\n",
       "       [ 96, 192,  96, 168, 192],\n",
       "       [ 48,  96,  48,  84,  96],\n",
       "       [ 84, 168,  84, 147, 168],\n",
       "       [ 96, 192,  96, 168, 192]])"
      ]
     },
     "execution_count": 112,
     "metadata": {},
     "output_type": "execute_result"
    }
   ],
   "source": [
    "A @ B.T"
   ]
  },
  {
   "cell_type": "code",
   "execution_count": 107,
   "metadata": {},
   "outputs": [
    {
     "name": "stdout",
     "output_type": "stream",
     "text": [
      "tensor([[0., 0., 0.],\n",
      "        [0., 0., 0.],\n",
      "        [0., 0., 0.]])\n"
     ]
    }
   ],
   "source": [
    "## multiply the tensors\n",
    "A = torch.ones(3, 3)\n",
    "B = torch.zeros(3, 3)\n",
    "\n",
    "product = torch.matmul(B, A) ## similar to zeros_tensor @ ones_tensor\n",
    "print(product)"
   ]
  },
  {
   "cell_type": "code",
   "execution_count": 108,
   "metadata": {},
   "outputs": [
    {
     "data": {
      "text/plain": [
       "tensor([[0., 0., 0.],\n",
       "        [0., 0., 0.],\n",
       "        [0., 0., 0.]])"
      ]
     },
     "execution_count": 108,
     "metadata": {},
     "output_type": "execute_result"
    }
   ],
   "source": [
    "A @ B"
   ]
  },
  {
   "cell_type": "markdown",
   "metadata": {},
   "source": [
    "# Some simple the mathematical operations available:\n",
    "\n",
    "\n"
   ]
  },
  {
   "cell_type": "code",
   "execution_count": 113,
   "metadata": {},
   "outputs": [
    {
     "name": "stdout",
     "output_type": "stream",
     "text": [
      "A random matrix, r:\n",
      "tensor([[-0.2990, -0.2335],\n",
      "        [-0.3906, -0.0302]])\n",
      "\n",
      "Absolute value of r:\n",
      "tensor([[0.2990, 0.2335],\n",
      "        [0.3906, 0.0302]])\n"
     ]
    }
   ],
   "source": [
    "r = (torch.rand(2, 2) - 0.5) * 2 # values between -1 and 1\n",
    "print('A random matrix, r:')\n",
    "print(r)\n",
    "\n",
    "# Common mathematical operations are supported:\n",
    "print('\\nAbsolute value of r:')\n",
    "print(torch.abs(r))\n",
    "\n"
   ]
  },
  {
   "cell_type": "code",
   "execution_count": 114,
   "metadata": {},
   "outputs": [
    {
     "name": "stdout",
     "output_type": "stream",
     "text": [
      "\n",
      "Inverse sine of r:\n",
      "tensor([[-0.3036, -0.2357],\n",
      "        [-0.4013, -0.0302]])\n"
     ]
    }
   ],
   "source": [
    "# ...as are trigonometric functions:\n",
    "print('\\nInverse sine of r:')\n",
    "print(torch.asin(r))"
   ]
  },
  {
   "cell_type": "code",
   "execution_count": 34,
   "metadata": {},
   "outputs": [
    {
     "name": "stdout",
     "output_type": "stream",
     "text": [
      "\n",
      "Determinant of r:\n",
      "tensor(0.5933)\n",
      "\n",
      "Singular value decomposition of r:\n",
      "torch.return_types.svd(\n",
      "U=tensor([[-0.9072,  0.4207],\n",
      "        [ 0.4207,  0.9072]]),\n",
      "S=tensor([1.1418, 0.5197]),\n",
      "V=tensor([[-0.9646, -0.2637],\n",
      "        [-0.2637,  0.9646]]))\n"
     ]
    }
   ],
   "source": [
    "# ...and linear algebra operations like determinant and singular value decomposition\n",
    "print('\\nDeterminant of r:')\n",
    "print(torch.det(r))\n",
    "print('\\nSingular value decomposition of r:')\n",
    "print(torch.svd(r))\n",
    "\n"
   ]
  },
  {
   "cell_type": "code",
   "execution_count": 35,
   "metadata": {},
   "outputs": [
    {
     "name": "stdout",
     "output_type": "stream",
     "text": [
      "\n",
      "Average and standard deviation of r:\n",
      "(tensor(0.6413), tensor(0.2915))\n",
      "\n",
      "Maximum value of r:\n",
      "tensor(0.9415)\n"
     ]
    }
   ],
   "source": [
    "# ...and statistical and aggregate operations:\n",
    "print('\\nAverage and standard deviation of r:')\n",
    "print(torch.std_mean(r))\n",
    "print('\\nMaximum value of r:')\n",
    "print(torch.max(r))"
   ]
  },
  {
   "cell_type": "markdown",
   "metadata": {},
   "source": [
    "# 1.0) Matrix multiplication: Numpy Vs Tensorflow Vs Pytorch"
   ]
  },
  {
   "cell_type": "code",
   "execution_count": 122,
   "metadata": {},
   "outputs": [
    {
     "data": {
      "text/plain": [
       "array([[0.06269272, 0.01309893, 0.        , ..., 0.        , 0.02229892,\n",
       "        0.00861616],\n",
       "       [0.03447442, 0.        , 0.        , ..., 0.        , 0.04669992,\n",
       "        0.        ],\n",
       "       [0.        , 0.        , 0.00461784, ..., 0.01169454, 0.03735917,\n",
       "        0.        ],\n",
       "       ...,\n",
       "       [0.        , 0.02164196, 0.02541601, ..., 0.02520748, 0.        ,\n",
       "        0.03940637],\n",
       "       [0.02462838, 0.03035602, 0.01864925, ..., 0.01229853, 0.        ,\n",
       "        0.05017874],\n",
       "       [0.06068724, 0.02035486, 0.00393041, ..., 0.        , 0.00815378,\n",
       "        0.02401096]], dtype=float32)"
      ]
     },
     "execution_count": 122,
     "metadata": {},
     "output_type": "execute_result"
    }
   ],
   "source": [
    "import numpy as np\n",
    "## Lets genrate some random data with numpy and do some matrix multiplications\n",
    "n_samples=120\n",
    "X = np.array([np.cos(np.arange(12) + i) for i in range(n_samples)],dtype=np.float32)\n",
    "d_x = X.shape[-1] ## take the last dimension of the array\n",
    "d_hid = 10\n",
    "W = np.random.normal(loc=0., scale=0.01, size=[d_x, d_hid]).astype(np.float32)\n",
    "b = np.ones(d_hid, dtype=np.float32) * 0.01\n",
    "z = X @ W # matric multiplication using numpy\n",
    "a = z + b\n",
    "s = np.maximum(a, 0.) # relu activation\n",
    "s"
   ]
  },
  {
   "cell_type": "code",
   "execution_count": 120,
   "metadata": {},
   "outputs": [
    {
     "data": {
      "text/plain": [
       "12"
      ]
     },
     "execution_count": 120,
     "metadata": {},
     "output_type": "execute_result"
    }
   ],
   "source": [
    "X.shape[-1]"
   ]
  },
  {
   "cell_type": "code",
   "execution_count": 125,
   "metadata": {},
   "outputs": [
    {
     "data": {
      "text/plain": [
       "array([[0.00749123, 0.03988706, 0.        , ..., 0.02255894, 0.0312355 ,\n",
       "        0.        ],\n",
       "       [0.        , 0.        , 0.        , ..., 0.        , 0.03544924,\n",
       "        0.        ],\n",
       "       [0.        , 0.        , 0.03065569, ..., 0.        , 0.01626507,\n",
       "        0.00770971],\n",
       "       ...,\n",
       "       [0.02722229, 0.01758951, 0.04183291, ..., 0.02946413, 0.        ,\n",
       "        0.03816407],\n",
       "       [0.03145926, 0.05726943, 0.        , ..., 0.05303454, 0.        ,\n",
       "        0.01908847],\n",
       "       [0.01596669, 0.05349006, 0.        , ..., 0.03703919, 0.02354805,\n",
       "        0.        ]], dtype=float32)"
      ]
     },
     "execution_count": 125,
     "metadata": {},
     "output_type": "execute_result"
    }
   ],
   "source": [
    "### With tensorflow\n",
    "import tensorflow as tf\n",
    "X_tf=tf.convert_to_tensor(X, dtype=tf.float32)\n",
    "W_tf=tf.random.normal([d_x, d_hid],mean=0.,stddev=0.01,dtype=float)\n",
    "b_tf=tf.ones(d_hid,dtype=float)*0.01\n",
    "z_tf = tf.matmul(X_tf, W_tf) # matric multiplication using numpy\n",
    "a_tf = z_tf + b_tf\n",
    "s_tf = np.maximum(a_tf, 0.) # relu activation\n",
    "s_tf"
   ]
  },
  {
   "cell_type": "code",
   "execution_count": 128,
   "metadata": {},
   "outputs": [
    {
     "data": {
      "text/plain": [
       "torch.Size([120, 10])"
      ]
     },
     "execution_count": 128,
     "metadata": {},
     "output_type": "execute_result"
    }
   ],
   "source": [
    "### With Pytorch\n",
    "X = np.array([np.cos(np.arange(12) + i) for i in range(n_samples)],dtype=np.float32)\n",
    "\n",
    "import torch \n",
    "X=torch.from_numpy(X) # convert the numpy array into tensor\n",
    "W=torch.normal(size=[d_x, d_hid],std=0.01,mean=0.)\n",
    "## mean=0., std=0.01 and size=[d_x, d_hid]\n",
    "b=torch.ones(d_hid,dtype=float)*0.01\n",
    "z = torch.matmul(X,W) # matric multiplication using numpy\n",
    "a = z + b\n",
    "s = np.maximum(a, 0.) # relu activation\n",
    "s.shape"
   ]
  },
  {
   "cell_type": "code",
   "execution_count": 49,
   "metadata": {},
   "outputs": [
    {
     "data": {
      "text/plain": [
       "tensor([[0.1184, 0.0000, 0.0000,  ..., 0.0000, 0.0432, 0.0000],\n",
       "        [0.1285, 0.0000, 0.0000,  ..., 0.0697, 0.2693, 0.1333],\n",
       "        [0.0296, 0.0000, 0.0000,  ..., 0.1122, 0.2570, 0.2132],\n",
       "        ...,\n",
       "        [0.0000, 0.1340, 0.1242,  ..., 0.0000, 0.0000, 0.0000],\n",
       "        [0.0000, 0.1605, 0.1355,  ..., 0.0000, 0.0000, 0.0000],\n",
       "        [0.0842, 0.0486, 0.0315,  ..., 0.0000, 0.0000, 0.0000]],\n",
       "       dtype=torch.float64)"
      ]
     },
     "execution_count": 49,
     "metadata": {},
     "output_type": "execute_result"
    }
   ],
   "source": [
    "#X=torch.from_numpy(X)\n",
    "W=torch.normal(size=[d_x,d_hid],mean=0.0,std=0.01)\n",
    "b=torch.ones(d_hid,dtype=float)*0.01\n",
    "z=torch.matmul(X,W)\n",
    "a=z+b\n",
    "s=np.maximum(a,0.)\n",
    "s"
   ]
  },
  {
   "cell_type": "markdown",
   "metadata": {},
   "source": [
    "## 1.1) Simple Gradient computation: Backpropagation\n",
    "\n",
    "One of the main reasons for using PyTorch in Deep Learning projects is that we can automatically get gradients/derivatives of functions that we define."
   ]
  },
  {
   "cell_type": "markdown",
   "metadata": {},
   "source": [
    "The first thing we have to do is to specify which tensors require gradients. By default, when we create a tensor, it does not require gradients.\n",
    "\n"
   ]
  },
  {
   "cell_type": "code",
   "execution_count": 130,
   "metadata": {},
   "outputs": [
    {
     "name": "stdout",
     "output_type": "stream",
     "text": [
      "False\n"
     ]
    }
   ],
   "source": [
    "x=torch.zeros(3)\n",
    "print(x.requires_grad)"
   ]
  },
  {
   "cell_type": "code",
   "execution_count": 131,
   "metadata": {},
   "outputs": [
    {
     "data": {
      "text/plain": [
       "<function Tensor.requires_grad_>"
      ]
     },
     "execution_count": 131,
     "metadata": {},
     "output_type": "execute_result"
    }
   ],
   "source": [
    "# We can change this for an existing tensor using the function requires_grad_()\n",
    "x.requires_grad_\n"
   ]
  },
  {
   "cell_type": "code",
   "execution_count": 134,
   "metadata": {},
   "outputs": [
    {
     "name": "stdout",
     "output_type": "stream",
     "text": [
      "True\n"
     ]
    }
   ],
   "source": [
    "#This signals to autograd that every operation on them should be tracked.\n",
    "x=torch.rand([2,4],requires_grad=True)\n",
    "print(x.requires_grad) ## we can compute the gradient on this variable"
   ]
  },
  {
   "cell_type": "code",
   "execution_count": null,
   "metadata": {},
   "outputs": [],
   "source": []
  },
  {
   "cell_type": "code",
   "execution_count": 135,
   "metadata": {},
   "outputs": [
    {
     "name": "stdout",
     "output_type": "stream",
     "text": [
      "Does `a` require gradients? : False\n",
      "Does `b` require gradients?: True\n"
     ]
    }
   ],
   "source": [
    "x = torch.rand(5, 5)\n",
    "y = torch.rand(5, 5)\n",
    "z = torch.rand((5, 5), requires_grad=True)\n",
    "\n",
    "a = x + y\n",
    "print(f\"Does `a` require gradients? : {a.requires_grad}\")\n",
    "b = x + z\n",
    "print(f\"Does `b` require gradients?: {b.requires_grad}\")"
   ]
  },
  {
   "cell_type": "markdown",
   "metadata": {},
   "source": [
    "## a Simple Example"
   ]
  },
  {
   "cell_type": "markdown",
   "metadata": {},
   "source": [
    "$y=\\frac{\\sum_i [(x_{i}-4)^{3}+2]}{n}$\n",
    "\n",
    "where we use n to denote the number of elements in x.\n",
    "\n",
    "We could imagine that x are the parameters and we want to optimize (either maximize or minimize) the output y. \n",
    "\n",
    "So the goal is to compute the gradient of x."
   ]
  },
  {
   "cell_type": "markdown",
   "metadata": {},
   "source": [
    "As we manipulate our input, we are automatically creating a computational graph. This graph shows how to arrive at our output from our input.\n",
    "\n",
    " PyTorch is a define-by-run framework; this means that we can just do our manipulations, and PyTorch will keep track of that graph for us. \n",
    " \n",
    " Thus, we create a dynamic computation graph along the way."
   ]
  },
  {
   "cell_type": "code",
   "execution_count": 138,
   "metadata": {},
   "outputs": [
    {
     "name": "stdout",
     "output_type": "stream",
     "text": [
      "tensor([0., 1., 2., 3., 4.], dtype=torch.float64, requires_grad=True)\n"
     ]
    }
   ],
   "source": [
    "## Lets define de inputs of x\n",
    "x=torch.arange(5,requires_grad=True,dtype=float) # remember Only float tensors can have gradients\n",
    "print(x)"
   ]
  },
  {
   "cell_type": "markdown",
   "metadata": {},
   "source": [
    "Lets compute y step by step using some intermediate variables\n",
    "\n",
    "$a = x - 4$\n",
    "\n",
    "$b = a^{3}$\n",
    "\n",
    "$c = b + 2$\n",
    "\n",
    "$y=mean (c)$"
   ]
  },
  {
   "cell_type": "code",
   "execution_count": 140,
   "metadata": {},
   "outputs": [
    {
     "name": "stdout",
     "output_type": "stream",
     "text": [
      "Y tensor(-18., dtype=torch.float64, grad_fn=<MeanBackward0>)\n"
     ]
    }
   ],
   "source": [
    "a = x - 4\n",
    "b = a ** 3\n",
    "c = b + 2\n",
    "y = c.mean()\n",
    "print(\"Y\", y)"
   ]
  },
  {
   "cell_type": "code",
   "execution_count": 141,
   "metadata": {},
   "outputs": [
    {
     "data": {
      "text/plain": [
       "True"
      ]
     },
     "execution_count": 141,
     "metadata": {},
     "output_type": "execute_result"
    }
   ],
   "source": [
    "y.requires_grad"
   ]
  },
  {
   "cell_type": "code",
   "execution_count": 142,
   "metadata": {},
   "outputs": [],
   "source": [
    "## This where the gradient is computed!\n",
    "y.backward()"
   ]
  },
  {
   "cell_type": "code",
   "execution_count": 143,
   "metadata": {},
   "outputs": [
    {
     "name": "stdout",
     "output_type": "stream",
     "text": [
      "tensor([9.6000, 5.4000, 2.4000, 0.6000, 0.0000], dtype=torch.float64)\n"
     ]
    }
   ],
   "source": [
    "# lets now print the gradients values of x\n",
    "print(x.grad)"
   ]
  },
  {
   "cell_type": "markdown",
   "metadata": {},
   "source": [
    "\n",
    "# 2) PyTorch Models\n",
    "\n",
    "How we can express models in PyTorch\n",
    "\n",
    "\n"
   ]
  },
  {
   "cell_type": "code",
   "execution_count": 3,
   "metadata": {},
   "outputs": [],
   "source": [
    "import torch                     # for all things PyTorch\n",
    "import torch.nn as nn            # for torch.nn.Module, the parent object for PyTorch models\n",
    "import torch.nn.functional as F  # for the activation function"
   ]
  },
  {
   "cell_type": "markdown",
   "metadata": {},
   "source": [
    "## 2.0) With tensorflow: easy"
   ]
  },
  {
   "cell_type": "code",
   "execution_count": 3,
   "metadata": {
    "collapsed": true
   },
   "outputs": [
    {
     "name": "stdout",
     "output_type": "stream",
     "text": [
      "Model: \"my_model_2\"\n",
      "_________________________________________________________________\n",
      " Layer (type)                Output Shape              Param #   \n",
      "=================================================================\n",
      " conv2d_2 (Conv2D)           multiple                  320       \n",
      "                                                                 \n",
      " flatten_2 (Flatten)         multiple                  0         \n",
      "                                                                 \n",
      " dense_4 (Dense)             multiple                  2769024   \n",
      "                                                                 \n",
      " dense_5 (Dense)             multiple                  1290      \n",
      "                                                                 \n",
      "=================================================================\n",
      "Total params: 2,770,634\n",
      "Trainable params: 2,770,634\n",
      "Non-trainable params: 0\n",
      "_________________________________________________________________\n"
     ]
    }
   ],
   "source": [
    "import tensorflow as tf # tf.__version__: '2.1.0'\n",
    "from tensorflow.keras.layers import Dense, Flatten, Conv2D\n",
    "from tensorflow.keras import Model\n",
    "\n",
    "class MyModel(Model):\n",
    "    def __init__(self):\n",
    "        super(MyModel, self).__init__()\n",
    "        self.conv1 = Conv2D(32, 3, activation='relu')\n",
    "        self.flatten = Flatten()\n",
    "        self.d1 = Dense(128, activation='relu')\n",
    "        self.d2 = Dense(10)\n",
    "        \n",
    "    def call(self, x):\n",
    "        x = self.conv1(x)\n",
    "        x = self.flatten(x)\n",
    "        x = self.d1(x)\n",
    "        return self.d2(x)\n",
    "model=MyModel()\n",
    "input_data = tf.random.normal((1, 28, 28, 1))  # Example input data\n",
    "output = model(input_data)\n",
    "\n",
    "model.summary()"
   ]
  },
  {
   "cell_type": "code",
   "execution_count": null,
   "metadata": {},
   "outputs": [],
   "source": []
  },
  {
   "cell_type": "markdown",
   "metadata": {},
   "source": [
    "## 2.1) nn.Module\n",
    "In PyTorch, a neural network is built up out of modules. A neural networks is a module.\n"
   ]
  },
  {
   "cell_type": "code",
   "execution_count": 54,
   "metadata": {},
   "outputs": [
    {
     "data": {
      "text/plain": [
       "10"
      ]
     },
     "execution_count": 54,
     "metadata": {},
     "output_type": "execute_result"
    }
   ],
   "source": [
    "class MyModel(nn.Module): ## basic example sums an input with constants x0 and y0 initialized inside.\n",
    "    def __init__(self):\n",
    "        super().__init__()\n",
    "        # Some init for my module\n",
    "\n",
    "    def forward(self, x):\n",
    "        y=....\n",
    "        # Function for performing the calculation of the module.\n",
    "        return y\n",
    "\n",
    "MyModule()(1)"
   ]
  },
  {
   "cell_type": "markdown",
   "metadata": {},
   "source": [
    "## 2.1) Simple MLP with torch"
   ]
  },
  {
   "cell_type": "code",
   "execution_count": 195,
   "metadata": {},
   "outputs": [],
   "source": [
    "## Two ways of creating models: 2 hidden layers\n",
    "class MLP2(nn.Module):\n",
    "    \"\"\"\n",
    "    Without sequential.\n",
    "    \"\"\"\n",
    "    def __init__(self,input_dim=28*28*2,output_dim=10):\n",
    "        super().__init__()\n",
    "        # Initialize the modules we need to build the network\n",
    "        self.flatten = nn.Flatten()\n",
    "        self.hidden1=nn.Linear(input_dim,64) # hidden layer 1\n",
    "        self.hidden2=nn.Linear(64,32) # hidden layer 2\n",
    "        self.output= nn.Linear(32,10) # output layer\n",
    "        self.activation= nn.ReLU()\n",
    "    def forward(self, x):\n",
    "         # Perform the calculation of the model to determine the prediction\n",
    "        x = self.flatten(x)\n",
    "        x=self.hidden1(x)\n",
    "        x=self.activation(x)\n",
    "        x=self.hidden2(x)\n",
    "        x=self.activation(x)\n",
    "        logits=self.output(x)\n",
    "\n",
    "        return logits ## outputs directely the logits\n"
   ]
  },
  {
   "cell_type": "code",
   "execution_count": 24,
   "metadata": {},
   "outputs": [],
   "source": [
    "class MLP1(nn.Module):\n",
    "    \"\"\"\n",
    "    With sequential\n",
    "    \"\"\"\n",
    "    def __init__(self,input_dim=28*28,output_dim=10):\n",
    "        super().__init__()\n",
    "        self.flatten = nn.Flatten()\n",
    "        self.linear_relu_stack = nn.Sequential( nn.Linear(),nn.Relu(),nn.Linear())\n",
    "\n",
    "    def forward(self, x):\n",
    "        x = self.flatten(x)\n",
    "        logits = self.linear_relu_stack(x)\n",
    "        return logits ## outputs logits that have to be converted into probabilities\n"
   ]
  },
  {
   "cell_type": "markdown",
   "metadata": {},
   "source": [
    "$\\textbf Important:$ Note that we do not apply a sigmoid on the output yet.\n",
    "\n",
    " This is because other functions, especially the loss, are more efficient and precise to calculate on the original outputs instead of the sigmoid output. "
   ]
  },
  {
   "cell_type": "code",
   "execution_count": 197,
   "metadata": {},
   "outputs": [
    {
     "name": "stdout",
     "output_type": "stream",
     "text": [
      "MLP2(\n",
      "  (flatten): Flatten(start_dim=1, end_dim=-1)\n",
      "  (hidden1): Linear(in_features=1568, out_features=64, bias=True)\n",
      "  (hidden2): Linear(in_features=64, out_features=32, bias=True)\n",
      "  (output): Linear(in_features=32, out_features=10, bias=True)\n",
      "  (activation): ReLU()\n",
      ")\n"
     ]
    }
   ],
   "source": [
    "#The following line instantiates our model:\n",
    "model = MLP2()\n",
    "print(model)\n"
   ]
  },
  {
   "cell_type": "code",
   "execution_count": 156,
   "metadata": {},
   "outputs": [
    {
     "name": "stdout",
     "output_type": "stream",
     "text": [
      "Parameter hidden1.weight, shape torch.Size([64, 784])\n",
      "Parameter hidden1.bias, shape torch.Size([64])\n",
      "Parameter hidden2.weight, shape torch.Size([32, 64])\n",
      "Parameter hidden2.bias, shape torch.Size([32])\n",
      "Parameter output.weight, shape torch.Size([10, 32])\n",
      "Parameter output.bias, shape torch.Size([10])\n"
     ]
    }
   ],
   "source": [
    "# The parameters of a module can be obtained by using its parameters() functions\n",
    "for name, param in model.named_parameters():\n",
    "    print(f\"Parameter {name}, shape {param.shape}\")"
   ]
  },
  {
   "cell_type": "markdown",
   "metadata": {},
   "source": [
    "## Model Layers\n"
   ]
  },
  {
   "cell_type": "markdown",
   "metadata": {},
   "source": [
    "### Softmax"
   ]
  },
  {
   "cell_type": "code",
   "execution_count": 187,
   "metadata": {},
   "outputs": [
    {
     "data": {
      "text/plain": [
       "torch.Size([100, 28, 28])"
      ]
     },
     "execution_count": 187,
     "metadata": {},
     "output_type": "execute_result"
    }
   ],
   "source": [
    "X = torch.rand(100, 28,28)\n",
    "X.shape"
   ]
  },
  {
   "cell_type": "code",
   "execution_count": 198,
   "metadata": {},
   "outputs": [
    {
     "name": "stdout",
     "output_type": "stream",
     "text": [
      "Predicted class: tensor([9, 9, 9, 9, 9, 9, 9, 9, 9, 9, 9, 9, 8, 9, 8, 8, 9, 8, 9, 9, 9, 9, 8, 9,\n",
      "        9, 9, 9, 8, 9, 9, 8, 9, 2, 3, 9, 9, 9, 9, 9, 3, 9, 9, 9, 9, 8, 9, 9, 9,\n",
      "        8, 9, 9, 9, 9, 9, 9, 9, 9, 8, 3, 8, 9, 3, 3, 8, 9, 9, 9, 9, 9, 9, 8, 9,\n",
      "        8, 9, 9, 9, 9, 9, 8, 9, 9, 2, 9, 9, 8, 3, 2, 9, 9, 9, 9, 9, 2, 3, 3, 9,\n",
      "        9, 3, 9, 9])\n"
     ]
    }
   ],
   "source": [
    "X = torch.rand(100, 28,28,2)\n",
    "logits = model(X) ## the output of the model\n",
    "pred_probab = nn.Softmax(dim=1)(logits) ## convert them into probabilities\n",
    "y_pred = pred_probab.argmax(1) ### The higher probability\n",
    "print(f\"Predicted class: {y_pred}\")"
   ]
  },
  {
   "cell_type": "code",
   "execution_count": 162,
   "metadata": {},
   "outputs": [
    {
     "data": {
      "text/plain": [
       "tensor([[0.0966, 0.1152, 0.1092, 0.1056, 0.0894, 0.1022, 0.1051, 0.1000, 0.0941,\n",
       "         0.0827],\n",
       "        [0.0978, 0.1148, 0.1099, 0.1039, 0.0911, 0.1070, 0.1002, 0.0999, 0.0928,\n",
       "         0.0827],\n",
       "        [0.0972, 0.1157, 0.1095, 0.1056, 0.0893, 0.1051, 0.1012, 0.1015, 0.0912,\n",
       "         0.0837],\n",
       "        [0.0981, 0.1168, 0.1111, 0.1046, 0.0880, 0.1040, 0.1009, 0.1019, 0.0928,\n",
       "         0.0817],\n",
       "        [0.0987, 0.1113, 0.1100, 0.1090, 0.0884, 0.1051, 0.1030, 0.1000, 0.0915,\n",
       "         0.0831],\n",
       "        [0.0954, 0.1117, 0.1098, 0.1063, 0.0905, 0.1054, 0.1079, 0.0971, 0.0937,\n",
       "         0.0822],\n",
       "        [0.0983, 0.1127, 0.1086, 0.1073, 0.0936, 0.1058, 0.1005, 0.1008, 0.0909,\n",
       "         0.0817],\n",
       "        [0.0964, 0.1121, 0.1127, 0.1087, 0.0878, 0.1051, 0.1045, 0.1008, 0.0932,\n",
       "         0.0788],\n",
       "        [0.0976, 0.1124, 0.1110, 0.1063, 0.0915, 0.1048, 0.1015, 0.1010, 0.0940,\n",
       "         0.0800],\n",
       "        [0.0959, 0.1182, 0.1072, 0.1043, 0.0907, 0.1062, 0.0999, 0.1014, 0.0930,\n",
       "         0.0833],\n",
       "        [0.0988, 0.1119, 0.1115, 0.1089, 0.0903, 0.1066, 0.0977, 0.1003, 0.0925,\n",
       "         0.0816],\n",
       "        [0.0934, 0.1162, 0.1098, 0.1030, 0.0926, 0.1074, 0.1063, 0.1010, 0.0883,\n",
       "         0.0821],\n",
       "        [0.0944, 0.1140, 0.1129, 0.1064, 0.0894, 0.1037, 0.1038, 0.1003, 0.0950,\n",
       "         0.0800],\n",
       "        [0.0974, 0.1096, 0.1132, 0.1100, 0.0882, 0.1067, 0.0997, 0.1024, 0.0906,\n",
       "         0.0823],\n",
       "        [0.0926, 0.1159, 0.1111, 0.1063, 0.0939, 0.1065, 0.1058, 0.1018, 0.0882,\n",
       "         0.0778],\n",
       "        [0.0971, 0.1151, 0.1092, 0.1039, 0.0912, 0.1049, 0.1020, 0.1021, 0.0924,\n",
       "         0.0821],\n",
       "        [0.0962, 0.1126, 0.1121, 0.1080, 0.0881, 0.1040, 0.1024, 0.0997, 0.0962,\n",
       "         0.0808],\n",
       "        [0.0965, 0.1146, 0.1118, 0.1083, 0.0894, 0.1068, 0.1016, 0.1002, 0.0915,\n",
       "         0.0794],\n",
       "        [0.0957, 0.1187, 0.1101, 0.1045, 0.0878, 0.1035, 0.1003, 0.1046, 0.0921,\n",
       "         0.0828],\n",
       "        [0.0938, 0.1134, 0.1149, 0.1110, 0.0882, 0.1053, 0.1015, 0.1050, 0.0885,\n",
       "         0.0783],\n",
       "        [0.0952, 0.1171, 0.1101, 0.1060, 0.0897, 0.1035, 0.1052, 0.1022, 0.0894,\n",
       "         0.0815],\n",
       "        [0.0997, 0.1133, 0.1090, 0.1068, 0.0883, 0.1038, 0.1072, 0.0987, 0.0924,\n",
       "         0.0809],\n",
       "        [0.0991, 0.1125, 0.1099, 0.1051, 0.0920, 0.1070, 0.1022, 0.0998, 0.0914,\n",
       "         0.0808],\n",
       "        [0.0981, 0.1131, 0.1118, 0.1050, 0.0901, 0.1101, 0.1019, 0.1031, 0.0857,\n",
       "         0.0810],\n",
       "        [0.0959, 0.1123, 0.1119, 0.1071, 0.0873, 0.1051, 0.1062, 0.0959, 0.0973,\n",
       "         0.0811],\n",
       "        [0.1005, 0.1167, 0.1068, 0.1021, 0.0874, 0.1044, 0.0982, 0.0990, 0.0993,\n",
       "         0.0855],\n",
       "        [0.0965, 0.1154, 0.1127, 0.1066, 0.0900, 0.1046, 0.1017, 0.1020, 0.0914,\n",
       "         0.0791],\n",
       "        [0.0949, 0.1135, 0.1131, 0.1090, 0.0934, 0.1078, 0.1015, 0.1020, 0.0863,\n",
       "         0.0785],\n",
       "        [0.0969, 0.1139, 0.1103, 0.1083, 0.0896, 0.1042, 0.1033, 0.1006, 0.0916,\n",
       "         0.0813],\n",
       "        [0.0968, 0.1143, 0.1051, 0.1021, 0.0962, 0.1058, 0.1007, 0.0984, 0.0957,\n",
       "         0.0849],\n",
       "        [0.0967, 0.1104, 0.1129, 0.1111, 0.0901, 0.1040, 0.1019, 0.1011, 0.0929,\n",
       "         0.0789],\n",
       "        [0.0974, 0.1124, 0.1101, 0.1068, 0.0917, 0.1018, 0.1064, 0.1019, 0.0914,\n",
       "         0.0801],\n",
       "        [0.0929, 0.1152, 0.1138, 0.1061, 0.0890, 0.1018, 0.1068, 0.1001, 0.0950,\n",
       "         0.0792],\n",
       "        [0.0972, 0.1118, 0.1134, 0.1093, 0.0891, 0.1062, 0.1001, 0.1014, 0.0909,\n",
       "         0.0807],\n",
       "        [0.0972, 0.1118, 0.1135, 0.1086, 0.0900, 0.1025, 0.1026, 0.1004, 0.0941,\n",
       "         0.0793],\n",
       "        [0.0970, 0.1120, 0.1109, 0.1063, 0.0919, 0.1037, 0.1037, 0.0984, 0.0954,\n",
       "         0.0807],\n",
       "        [0.0974, 0.1170, 0.1098, 0.1040, 0.0874, 0.1053, 0.1029, 0.1016, 0.0920,\n",
       "         0.0827],\n",
       "        [0.0977, 0.1165, 0.1093, 0.1053, 0.0907, 0.1067, 0.1006, 0.1012, 0.0896,\n",
       "         0.0822],\n",
       "        [0.0955, 0.1127, 0.1119, 0.1077, 0.0907, 0.1039, 0.1052, 0.1015, 0.0902,\n",
       "         0.0805],\n",
       "        [0.0917, 0.1168, 0.1108, 0.1077, 0.0909, 0.1070, 0.1075, 0.0982, 0.0912,\n",
       "         0.0782],\n",
       "        [0.0932, 0.1159, 0.1121, 0.1064, 0.0907, 0.1087, 0.1030, 0.1010, 0.0900,\n",
       "         0.0789],\n",
       "        [0.0979, 0.1125, 0.1112, 0.1051, 0.0894, 0.1051, 0.1008, 0.1013, 0.0946,\n",
       "         0.0822],\n",
       "        [0.0956, 0.1141, 0.1103, 0.1069, 0.0919, 0.1044, 0.1044, 0.1013, 0.0904,\n",
       "         0.0809],\n",
       "        [0.0986, 0.1160, 0.1089, 0.1064, 0.0883, 0.1042, 0.0997, 0.1032, 0.0922,\n",
       "         0.0826],\n",
       "        [0.0967, 0.1124, 0.1109, 0.1088, 0.0899, 0.1046, 0.1003, 0.1034, 0.0911,\n",
       "         0.0819],\n",
       "        [0.0993, 0.1213, 0.1036, 0.0981, 0.0906, 0.1047, 0.1003, 0.1009, 0.0950,\n",
       "         0.0862],\n",
       "        [0.0962, 0.1173, 0.1108, 0.1040, 0.0885, 0.1053, 0.1036, 0.0980, 0.0959,\n",
       "         0.0804],\n",
       "        [0.0968, 0.1162, 0.1099, 0.1031, 0.0912, 0.1035, 0.1019, 0.1026, 0.0924,\n",
       "         0.0825],\n",
       "        [0.0972, 0.1123, 0.1122, 0.1091, 0.0877, 0.1074, 0.0995, 0.0989, 0.0955,\n",
       "         0.0801],\n",
       "        [0.0966, 0.1149, 0.1100, 0.1049, 0.0917, 0.1042, 0.1006, 0.1020, 0.0920,\n",
       "         0.0831],\n",
       "        [0.0960, 0.1146, 0.1096, 0.1066, 0.0908, 0.1046, 0.1058, 0.1008, 0.0890,\n",
       "         0.0823],\n",
       "        [0.0947, 0.1143, 0.1094, 0.1054, 0.0915, 0.1061, 0.1052, 0.0987, 0.0925,\n",
       "         0.0821],\n",
       "        [0.0968, 0.1184, 0.1081, 0.1011, 0.0897, 0.1047, 0.1001, 0.1008, 0.0961,\n",
       "         0.0842],\n",
       "        [0.0956, 0.1186, 0.1083, 0.1013, 0.0904, 0.1057, 0.1044, 0.0985, 0.0962,\n",
       "         0.0810],\n",
       "        [0.0963, 0.1132, 0.1145, 0.1082, 0.0891, 0.1038, 0.1021, 0.1010, 0.0934,\n",
       "         0.0784],\n",
       "        [0.0978, 0.1112, 0.1117, 0.1077, 0.0909, 0.1057, 0.1002, 0.1011, 0.0932,\n",
       "         0.0805],\n",
       "        [0.0981, 0.1132, 0.1106, 0.1100, 0.0928, 0.1090, 0.0979, 0.1052, 0.0836,\n",
       "         0.0796],\n",
       "        [0.0989, 0.1124, 0.1070, 0.1043, 0.0923, 0.1056, 0.1027, 0.1011, 0.0899,\n",
       "         0.0858],\n",
       "        [0.0940, 0.1125, 0.1124, 0.1084, 0.0918, 0.1057, 0.1035, 0.1009, 0.0897,\n",
       "         0.0811],\n",
       "        [0.0955, 0.1112, 0.1142, 0.1101, 0.0876, 0.1045, 0.1042, 0.1018, 0.0920,\n",
       "         0.0787],\n",
       "        [0.0989, 0.1188, 0.1075, 0.1010, 0.0900, 0.1046, 0.1014, 0.1019, 0.0927,\n",
       "         0.0834],\n",
       "        [0.0936, 0.1152, 0.1090, 0.1081, 0.0941, 0.1103, 0.1057, 0.0971, 0.0879,\n",
       "         0.0790],\n",
       "        [0.0952, 0.1145, 0.1119, 0.1047, 0.0928, 0.1040, 0.1054, 0.1018, 0.0887,\n",
       "         0.0811],\n",
       "        [0.0952, 0.1123, 0.1138, 0.1103, 0.0896, 0.1063, 0.1012, 0.1024, 0.0902,\n",
       "         0.0787],\n",
       "        [0.0968, 0.1148, 0.1073, 0.1067, 0.0936, 0.1085, 0.1022, 0.1009, 0.0877,\n",
       "         0.0816],\n",
       "        [0.0944, 0.1144, 0.1127, 0.1083, 0.0872, 0.1023, 0.1062, 0.1020, 0.0929,\n",
       "         0.0796],\n",
       "        [0.0957, 0.1140, 0.1103, 0.1061, 0.0918, 0.1053, 0.1043, 0.1017, 0.0890,\n",
       "         0.0818],\n",
       "        [0.0993, 0.1153, 0.1063, 0.1035, 0.0911, 0.1053, 0.1016, 0.0995, 0.0932,\n",
       "         0.0849],\n",
       "        [0.0982, 0.1126, 0.1103, 0.1044, 0.0896, 0.1081, 0.1005, 0.1011, 0.0922,\n",
       "         0.0829],\n",
       "        [0.0984, 0.1149, 0.1097, 0.1055, 0.0878, 0.1053, 0.1039, 0.1006, 0.0919,\n",
       "         0.0820],\n",
       "        [0.1003, 0.1179, 0.1059, 0.0994, 0.0898, 0.1065, 0.1000, 0.0997, 0.0943,\n",
       "         0.0862],\n",
       "        [0.0967, 0.1143, 0.1111, 0.1079, 0.0925, 0.1044, 0.1013, 0.1025, 0.0898,\n",
       "         0.0794],\n",
       "        [0.0958, 0.1162, 0.1088, 0.1047, 0.0907, 0.1060, 0.1030, 0.0988, 0.0934,\n",
       "         0.0825],\n",
       "        [0.0969, 0.1134, 0.1097, 0.1060, 0.0917, 0.1038, 0.1023, 0.1004, 0.0928,\n",
       "         0.0828],\n",
       "        [0.0951, 0.1158, 0.1109, 0.1038, 0.0895, 0.1055, 0.1022, 0.1010, 0.0938,\n",
       "         0.0825],\n",
       "        [0.0962, 0.1187, 0.1075, 0.0999, 0.0926, 0.1074, 0.1031, 0.0993, 0.0918,\n",
       "         0.0835],\n",
       "        [0.0972, 0.1140, 0.1104, 0.1057, 0.0909, 0.1056, 0.1031, 0.1001, 0.0917,\n",
       "         0.0814],\n",
       "        [0.0975, 0.1157, 0.1066, 0.1019, 0.0929, 0.1050, 0.1006, 0.1017, 0.0929,\n",
       "         0.0852],\n",
       "        [0.0971, 0.1139, 0.1079, 0.1063, 0.0903, 0.1052, 0.0994, 0.1027, 0.0916,\n",
       "         0.0858],\n",
       "        [0.0983, 0.1181, 0.1088, 0.1032, 0.0919, 0.1098, 0.0996, 0.0984, 0.0913,\n",
       "         0.0804],\n",
       "        [0.0984, 0.1140, 0.1096, 0.1042, 0.0906, 0.1059, 0.1008, 0.1007, 0.0933,\n",
       "         0.0824],\n",
       "        [0.0953, 0.1160, 0.1120, 0.1056, 0.0882, 0.1053, 0.1021, 0.1016, 0.0929,\n",
       "         0.0809],\n",
       "        [0.0971, 0.1165, 0.1078, 0.1024, 0.0917, 0.1057, 0.0992, 0.1012, 0.0935,\n",
       "         0.0849],\n",
       "        [0.0954, 0.1140, 0.1132, 0.1063, 0.0888, 0.1032, 0.1051, 0.1026, 0.0923,\n",
       "         0.0790],\n",
       "        [0.0971, 0.1127, 0.1112, 0.1057, 0.0912, 0.1046, 0.1030, 0.1010, 0.0919,\n",
       "         0.0815],\n",
       "        [0.0930, 0.1126, 0.1162, 0.1102, 0.0891, 0.1050, 0.1053, 0.0998, 0.0926,\n",
       "         0.0763],\n",
       "        [0.0962, 0.1137, 0.1116, 0.1084, 0.0899, 0.1045, 0.1014, 0.1027, 0.0917,\n",
       "         0.0801],\n",
       "        [0.0974, 0.1172, 0.1110, 0.1027, 0.0862, 0.1029, 0.1023, 0.0994, 0.0994,\n",
       "         0.0815],\n",
       "        [0.0964, 0.1115, 0.1119, 0.1088, 0.0888, 0.1072, 0.1044, 0.1008, 0.0889,\n",
       "         0.0814],\n",
       "        [0.0960, 0.1143, 0.1090, 0.1048, 0.0913, 0.1046, 0.1044, 0.1009, 0.0921,\n",
       "         0.0827],\n",
       "        [0.0935, 0.1166, 0.1099, 0.1045, 0.0929, 0.1043, 0.1045, 0.0996, 0.0927,\n",
       "         0.0816],\n",
       "        [0.0970, 0.1140, 0.1120, 0.1039, 0.0915, 0.1067, 0.1017, 0.1019, 0.0900,\n",
       "         0.0814],\n",
       "        [0.0959, 0.1127, 0.1098, 0.1080, 0.0930, 0.1059, 0.1021, 0.1034, 0.0880,\n",
       "         0.0812],\n",
       "        [0.0992, 0.1154, 0.1084, 0.1049, 0.0895, 0.1048, 0.0994, 0.1015, 0.0934,\n",
       "         0.0836],\n",
       "        [0.0985, 0.1215, 0.1064, 0.0994, 0.0927, 0.1053, 0.0982, 0.1012, 0.0929,\n",
       "         0.0837],\n",
       "        [0.0991, 0.1129, 0.1106, 0.1053, 0.0879, 0.1040, 0.1027, 0.1022, 0.0924,\n",
       "         0.0829],\n",
       "        [0.0995, 0.1100, 0.1108, 0.1068, 0.0897, 0.1049, 0.1032, 0.0972, 0.0966,\n",
       "         0.0812],\n",
       "        [0.0932, 0.1184, 0.1069, 0.1026, 0.0919, 0.1058, 0.1073, 0.0985, 0.0923,\n",
       "         0.0831],\n",
       "        [0.0920, 0.1110, 0.1133, 0.1084, 0.0908, 0.1081, 0.1069, 0.1010, 0.0885,\n",
       "         0.0799],\n",
       "        [0.0964, 0.1116, 0.1149, 0.1059, 0.0897, 0.1057, 0.1070, 0.1011, 0.0908,\n",
       "         0.0769]], grad_fn=<SoftmaxBackward0>)"
      ]
     },
     "execution_count": 162,
     "metadata": {},
     "output_type": "execute_result"
    }
   ],
   "source": [
    "pred_probab"
   ]
  },
  {
   "cell_type": "code",
   "execution_count": 34,
   "metadata": {},
   "outputs": [
    {
     "data": {
      "text/plain": [
       "tensor([[ 3.6288e-02,  3.3409e-02,  4.2441e-02, -3.8083e-02, -6.7565e-02,\n",
       "          9.0034e-02, -1.2382e-01, -3.4726e-02, -1.5941e-04,  3.7221e-02],\n",
       "        [ 6.0397e-02,  2.2293e-02,  6.9168e-02, -4.0038e-02, -6.8014e-02,\n",
       "          1.0718e-01, -1.5971e-01, -1.3794e-02, -5.5164e-02,  7.9719e-02],\n",
       "        [ 3.5429e-02,  2.8472e-02,  3.0367e-02, -5.9989e-02, -6.9345e-02,\n",
       "          6.9354e-02, -1.0350e-01, -1.8783e-02,  4.6146e-03,  1.4187e-02],\n",
       "        [ 4.2412e-02,  1.1728e-02,  4.4688e-02, -7.4096e-02,  2.1778e-02,\n",
       "          7.4859e-02, -1.4955e-01, -2.0191e-02, -1.1721e-02,  5.2977e-02],\n",
       "        [ 4.8830e-02, -2.3926e-02,  7.4265e-02, -8.7849e-02, -1.8633e-02,\n",
       "          6.5680e-02, -1.5895e-01, -1.4471e-02, -3.2816e-03,  2.3128e-02],\n",
       "        [ 3.2070e-02, -3.3130e-02,  1.8524e-03, -5.8257e-03,  2.9485e-02,\n",
       "          6.2760e-02, -8.8588e-02, -2.7023e-02,  1.6403e-02,  3.3617e-02],\n",
       "        [-8.8108e-03, -8.8457e-03,  9.3299e-03, -7.1882e-02, -2.6476e-02,\n",
       "          4.2596e-04, -1.4691e-01, -2.1568e-02, -9.4099e-03,  2.9547e-02],\n",
       "        [ 3.7589e-02, -3.3820e-04,  6.7273e-02, -5.5769e-02, -7.0716e-02,\n",
       "          7.9766e-02, -1.2617e-01, -5.8135e-02, -3.2674e-02,  7.1474e-02],\n",
       "        [ 3.7938e-02, -1.4445e-02,  8.3840e-02, -5.0121e-02, -6.5925e-02,\n",
       "          8.6856e-02, -1.4767e-01,  1.8506e-02, -1.4500e-02,  7.8571e-02],\n",
       "        [ 4.4286e-02, -5.1838e-03,  1.9109e-02, -4.0366e-02, -1.4044e-02,\n",
       "          5.1595e-02, -1.5154e-01, -1.8844e-02, -1.4682e-02,  2.4339e-02],\n",
       "        [-4.2766e-03,  2.9094e-02,  3.8442e-02, -6.5816e-02, -3.6731e-02,\n",
       "          1.0051e-01, -1.4837e-01, -3.8363e-02, -1.0223e-02,  1.0984e-02],\n",
       "        [ 4.3453e-02, -5.0231e-02,  3.1982e-02, -2.9435e-02, -6.3446e-03,\n",
       "          4.2320e-02, -1.7729e-01,  2.6423e-03, -1.8401e-03,  5.5004e-02],\n",
       "        [ 5.1152e-02, -6.5294e-03,  4.7039e-02, -6.0776e-02, -2.1399e-02,\n",
       "          6.6293e-02, -1.2463e-01, -4.8815e-02,  5.0793e-03,  5.8423e-02],\n",
       "        [ 3.3040e-02, -3.1623e-02,  7.7428e-03, -8.1152e-02,  3.5904e-03,\n",
       "          7.6443e-02, -1.7936e-01, -4.1414e-02, -4.3970e-02,  9.0790e-02],\n",
       "        [ 5.1114e-02, -7.2763e-03,  3.8776e-02, -6.7238e-02, -7.4424e-03,\n",
       "          5.9106e-02, -1.8735e-01, -2.8940e-02, -2.7874e-02,  5.1583e-02],\n",
       "        [ 7.6067e-02, -2.7965e-02,  6.8432e-02, -7.7048e-02, -4.7580e-02,\n",
       "          9.0308e-02, -1.7717e-01,  1.3066e-02, -4.0969e-02,  5.6492e-02],\n",
       "        [ 3.0598e-02, -4.0592e-02,  7.4214e-02, -4.6183e-02, -6.5421e-02,\n",
       "          5.6309e-02, -1.4432e-01, -3.5871e-02, -2.3562e-02,  2.3093e-02],\n",
       "        [-8.8536e-03, -2.0422e-02, -2.0152e-02, -7.1672e-02, -3.1505e-02,\n",
       "          5.2132e-02, -1.3958e-01, -2.4694e-02,  1.0864e-02,  4.2113e-02],\n",
       "        [ 2.6131e-03, -2.0861e-02,  3.4781e-02, -2.7962e-02,  7.0847e-03,\n",
       "          6.1039e-02, -1.3412e-01, -3.6862e-02,  2.7698e-02,  6.1128e-02],\n",
       "        [ 1.7498e-02,  2.1981e-03,  3.9898e-02, -8.9401e-02, -3.7524e-02,\n",
       "          8.4613e-02, -1.1847e-01, -5.2560e-02, -2.8218e-02,  4.8069e-02],\n",
       "        [-3.8895e-03,  2.0289e-02,  2.6020e-02, -2.3165e-02, -3.1258e-02,\n",
       "          8.0755e-02, -1.2556e-01, -4.0040e-02, -3.7396e-03,  8.0545e-04],\n",
       "        [ 1.8411e-02,  1.6498e-02,  1.6335e-02, -4.1626e-02, -6.0897e-02,\n",
       "          5.4696e-02, -1.5445e-01, -2.9815e-02, -4.4203e-03,  9.3139e-02],\n",
       "        [ 1.0270e-03,  6.3485e-03,  4.4274e-02, -3.8611e-02, -2.5177e-02,\n",
       "          7.2643e-02, -1.8812e-01,  1.3240e-04,  1.7866e-02,  8.1972e-02],\n",
       "        [ 4.7978e-02, -1.2095e-02,  3.9284e-03, -7.0193e-02, -4.8492e-02,\n",
       "          1.0178e-01, -1.3649e-01, -1.4498e-02, -5.8855e-02, -1.0002e-02],\n",
       "        [ 7.6368e-03, -4.3865e-02,  2.1811e-02, -1.0166e-01,  3.0139e-02,\n",
       "          4.8957e-02, -1.3230e-01,  3.8202e-03, -3.8275e-02,  6.7077e-02],\n",
       "        [ 4.3379e-02,  9.0688e-03,  3.1775e-02, -3.9352e-02, -6.4777e-02,\n",
       "          7.4808e-02, -1.4600e-01, -2.8460e-02, -2.0399e-02,  2.6941e-02],\n",
       "        [ 5.6014e-02,  2.1029e-03,  2.8619e-02, -8.2340e-02, -4.1064e-02,\n",
       "          5.6814e-02, -1.2907e-01,  4.4668e-04,  2.2933e-02,  3.6185e-02],\n",
       "        [ 1.4142e-02, -1.9355e-04,  3.5460e-02, -5.6682e-02, -3.4410e-02,\n",
       "          7.8407e-02, -1.4411e-01, -5.2172e-02, -3.9152e-02,  8.4588e-02],\n",
       "        [-6.9672e-03,  2.7104e-02,  1.4370e-03, -1.0335e-01, -6.0106e-02,\n",
       "          5.2335e-02, -1.4691e-01, -1.2089e-02,  2.9119e-03,  4.9471e-02],\n",
       "        [ 4.4881e-02, -2.0349e-02,  3.7863e-02, -1.1698e-01, -5.1419e-02,\n",
       "          5.3139e-02, -1.1645e-01, -3.8927e-02, -4.6272e-02,  7.4985e-02],\n",
       "        [-1.0726e-02, -1.2589e-02, -2.9007e-03, -5.8607e-02, -6.9840e-02,\n",
       "          7.2636e-02, -9.2620e-02,  1.8282e-02, -3.1684e-02,  7.2293e-02],\n",
       "        [-2.8071e-03, -2.6284e-02,  2.4687e-02, -7.9614e-02, -3.3120e-02,\n",
       "          2.7011e-02, -1.2065e-01, -4.9213e-02,  1.6935e-02,  8.4359e-02],\n",
       "        [ 3.4700e-02,  8.1771e-05,  7.6337e-02, -8.8394e-02, -1.4706e-02,\n",
       "          7.5248e-02, -1.6565e-01, -6.3748e-02, -2.3489e-02,  4.8070e-02],\n",
       "        [ 3.9833e-02,  5.3783e-03,  4.0708e-02, -5.9184e-02, -2.1075e-02,\n",
       "          6.7866e-02, -1.9810e-01, -2.6653e-02, -2.2853e-02,  1.3454e-02],\n",
       "        [ 4.0890e-02, -6.7694e-03,  8.0698e-02, -3.1770e-02, -1.8798e-02,\n",
       "          4.1090e-02, -1.3963e-01,  2.2642e-02, -3.2908e-02,  2.0663e-02],\n",
       "        [ 8.4860e-02, -4.2558e-02,  4.1522e-02, -9.7428e-02, -1.7891e-02,\n",
       "          8.9283e-02, -1.1755e-01,  2.3514e-02, -3.9448e-02,  4.8103e-02],\n",
       "        [ 5.2271e-02,  1.0450e-02,  3.7719e-02, -5.6134e-02, -3.2148e-04,\n",
       "          6.3192e-02, -1.6457e-01, -1.5015e-02, -4.6961e-02,  6.2360e-02],\n",
       "        [ 2.1722e-02, -2.3072e-03, -4.7415e-03, -9.5882e-02, -1.0390e-01,\n",
       "          7.0104e-02, -1.9423e-01, -2.8789e-02, -4.4831e-02,  7.6191e-02],\n",
       "        [ 1.7593e-02, -9.8833e-03,  3.7876e-02, -5.6087e-02, -3.1962e-02,\n",
       "          7.0142e-02, -1.5449e-01, -3.2812e-02, -1.6927e-02,  5.5496e-02],\n",
       "        [ 7.4836e-02,  1.8738e-02,  4.8894e-02, -8.1321e-02,  3.4293e-02,\n",
       "          4.5498e-02, -1.4888e-01, -3.1182e-02, -5.7330e-02,  1.0077e-01],\n",
       "        [ 5.6764e-02,  2.1420e-02,  7.7713e-02, -4.5425e-02, -1.8532e-02,\n",
       "          7.5787e-02, -1.2863e-01,  2.0097e-03, -5.7357e-02,  3.4890e-02],\n",
       "        [ 4.6204e-02, -5.0618e-03,  1.1671e-02, -5.2567e-02, -4.0147e-02,\n",
       "          5.0453e-02, -1.3614e-01, -8.8345e-03, -5.3554e-03,  9.1660e-02],\n",
       "        [ 3.2028e-02,  1.9266e-03,  6.4448e-02, -5.9585e-02, -1.9843e-02,\n",
       "          4.2833e-02, -1.6176e-01, -3.5544e-03, -3.9968e-02,  2.4752e-02],\n",
       "        [ 2.9882e-03,  2.4372e-02,  4.3798e-02, -9.1402e-02,  7.9835e-03,\n",
       "          5.2771e-02, -8.0732e-02, -3.0100e-02, -1.4574e-02,  5.1387e-02],\n",
       "        [ 3.0145e-02, -1.7339e-03,  2.3643e-02, -6.6519e-02, -2.9779e-02,\n",
       "          5.7247e-02, -1.4545e-01, -3.0715e-02, -4.1115e-02,  6.1603e-02],\n",
       "        [ 2.4541e-02, -1.0717e-02,  5.3549e-02, -6.1491e-02,  1.4038e-02,\n",
       "          2.2037e-02, -2.1015e-01, -3.5720e-03,  3.6174e-03,  6.1375e-02],\n",
       "        [ 3.0654e-02,  6.5688e-03,  3.7614e-02, -1.4111e-02, -4.8980e-04,\n",
       "          6.5473e-02, -1.5882e-01, -2.2187e-02, -6.0163e-02,  3.2232e-02],\n",
       "        [ 2.5847e-02,  3.0585e-02, -2.3449e-03, -2.1637e-02, -3.1402e-02,\n",
       "          6.9043e-02, -1.4916e-01,  2.1601e-02, -1.3141e-02,  4.4336e-02],\n",
       "        [ 1.5792e-02,  2.5636e-02,  4.3298e-02, -6.1775e-02, -5.9628e-02,\n",
       "          6.4357e-02, -1.6756e-01, -1.5486e-02, -1.7057e-02,  2.2423e-02],\n",
       "        [ 3.9402e-02, -1.9934e-02,  1.9257e-02, -2.5567e-02, -6.3333e-02,\n",
       "          6.5841e-02, -1.4290e-01, -3.1991e-02,  1.3679e-02,  7.6202e-02],\n",
       "        [ 5.2211e-02, -8.2943e-03,  2.5962e-02, -4.4677e-02, -6.0748e-02,\n",
       "          7.1131e-02, -1.1425e-01,  8.1454e-03, -5.1216e-02,  3.1537e-02],\n",
       "        [ 5.7970e-02,  2.3679e-02,  4.7406e-02, -6.5189e-02,  1.5912e-02,\n",
       "          4.5877e-02, -1.7045e-01, -6.8480e-04, -3.3091e-02,  2.7905e-02],\n",
       "        [ 2.4366e-02, -7.0291e-03,  1.2258e-02, -7.6804e-02, -2.2232e-03,\n",
       "          7.2616e-02, -1.5402e-01, -1.4260e-02, -2.4218e-03, -2.9896e-02],\n",
       "        [ 4.8571e-02, -5.7425e-03,  4.2113e-02, -5.7990e-02, -2.9673e-02,\n",
       "          6.4556e-02, -1.4996e-01, -9.9553e-03,  2.8287e-03,  4.9904e-02],\n",
       "        [ 4.2508e-02, -1.7697e-02,  6.6371e-02, -1.0712e-01,  2.2032e-02,\n",
       "          2.8930e-02, -1.5318e-01, -1.3324e-02, -2.0005e-02,  6.3003e-02],\n",
       "        [ 7.5261e-02, -1.0088e-03,  2.7530e-02, -5.0291e-02, -4.9671e-02,\n",
       "          7.2710e-02, -1.5775e-01, -7.3025e-03, -5.1142e-02,  5.7655e-03],\n",
       "        [ 4.4868e-02, -4.4309e-03,  4.1811e-02, -2.1671e-02, -2.5790e-03,\n",
       "          6.0107e-02, -9.4784e-02, -2.1072e-02,  3.5656e-03,  3.5757e-02],\n",
       "        [ 2.2375e-02, -4.9037e-02,  3.7886e-02, -6.3275e-02, -3.0990e-02,\n",
       "          8.4392e-02, -1.5714e-01, -5.6015e-02, -7.4052e-02,  6.4765e-02],\n",
       "        [ 5.2726e-02,  2.4952e-02,  6.3095e-02, -6.9752e-02, -2.8644e-02,\n",
       "          5.0749e-02, -1.6346e-01, -4.5115e-02, -3.2287e-02,  3.6678e-02],\n",
       "        [ 1.8846e-02, -6.9676e-03, -2.1051e-02, -4.2520e-02, -1.9027e-02,\n",
       "          5.2339e-02, -1.1693e-01, -7.1074e-03, -3.5049e-02,  3.2621e-02],\n",
       "        [ 6.1339e-03,  6.0197e-03,  6.3585e-02, -7.0578e-02, -3.4755e-02,\n",
       "          4.8381e-02, -1.3970e-01, -7.6077e-02, -8.8344e-03,  4.8328e-02],\n",
       "        [ 4.9759e-02,  8.4130e-03,  5.1967e-02, -8.6471e-02, -3.6940e-03,\n",
       "          8.7375e-02, -1.6406e-01, -2.1220e-02, -7.2587e-02,  6.9447e-02],\n",
       "        [-2.0942e-03, -1.6942e-02,  6.0480e-02, -3.7606e-02, -5.0327e-02,\n",
       "          9.0179e-02, -1.4880e-01, -5.5453e-02, -1.2688e-02,  6.8489e-02],\n",
       "        [ 3.7507e-02, -1.8017e-02,  4.2436e-02, -1.0575e-01, -1.6165e-02,\n",
       "          8.4568e-02, -1.0438e-01, -1.4479e-02, -1.4652e-02,  6.1225e-02],\n",
       "        [ 2.4779e-02,  1.7322e-02,  1.4026e-02, -8.5160e-02,  9.4968e-03,\n",
       "          6.2679e-02, -1.4494e-01, -4.5565e-03, -8.9457e-04,  6.8846e-02],\n",
       "        [ 1.5882e-04,  8.3668e-03,  5.2325e-02, -6.5917e-02, -4.6395e-02,\n",
       "          5.3743e-02, -1.3642e-01, -4.2385e-02, -4.1367e-02,  4.8918e-02],\n",
       "        [ 3.8200e-02, -1.1308e-02,  1.5901e-02, -6.8492e-02,  3.7290e-03,\n",
       "          6.4099e-02, -1.2879e-01, -2.7331e-02, -7.4743e-03,  5.9687e-02],\n",
       "        [ 1.3504e-02, -1.5147e-02,  2.3598e-02, -3.8782e-02, -1.0570e-02,\n",
       "          9.3418e-02, -1.8207e-01, -2.9348e-02, -6.3900e-02,  1.2286e-01],\n",
       "        [ 1.7142e-02,  2.0143e-02,  3.5792e-02, -7.6748e-02, -2.6309e-04,\n",
       "          9.7967e-02, -1.6216e-01, -5.0851e-03, -5.1328e-03,  3.2052e-02],\n",
       "        [ 2.0283e-02, -2.9508e-02,  6.0138e-02, -2.6740e-02, -3.3359e-02,\n",
       "          3.8926e-02, -1.7106e-01, -7.0610e-02,  2.4457e-02,  6.9659e-02],\n",
       "        [ 2.4005e-02, -1.4389e-02,  6.3883e-02, -4.7438e-02, -3.8247e-02,\n",
       "          4.5714e-02, -1.1348e-01, -5.0375e-02,  4.9462e-02,  4.7709e-02],\n",
       "        [ 3.7607e-02,  7.9041e-03,  5.3846e-02, -9.8819e-02, -1.7781e-02,\n",
       "          3.2282e-02, -1.5451e-01, -1.0878e-02, -3.5695e-02,  7.6592e-02],\n",
       "        [ 7.7136e-02,  6.0925e-03,  2.5750e-02, -5.7844e-02, -2.6519e-02,\n",
       "          1.0644e-01, -1.3207e-01, -5.6440e-02, -2.7595e-02,  1.7404e-02],\n",
       "        [ 2.9514e-03, -5.1518e-02,  2.5514e-02, -8.7070e-02, -3.0121e-02,\n",
       "          9.6879e-02, -9.4292e-02, -1.9067e-02,  4.0338e-03,  8.4650e-02],\n",
       "        [ 1.2569e-02,  5.0042e-03,  6.5549e-02, -9.0790e-02, -2.3148e-02,\n",
       "          6.3301e-02, -1.8205e-01, -2.5744e-03, -2.7214e-02,  7.2408e-02],\n",
       "        [ 2.2520e-02,  1.5807e-02,  1.0023e-01, -3.9302e-02, -7.9957e-02,\n",
       "          7.7551e-02, -1.4855e-01, -2.0882e-02, -1.1974e-02,  3.0790e-02],\n",
       "        [ 2.4822e-02,  2.0251e-02,  1.3781e-02, -1.3535e-01, -6.1591e-02,\n",
       "          6.7018e-02, -1.9275e-01, -2.8841e-02, -2.1674e-02,  5.7158e-02],\n",
       "        [ 2.3163e-02, -1.1359e-02, -2.1560e-03, -1.2262e-01,  2.8285e-03,\n",
       "          4.0415e-02, -1.3830e-01, -2.4443e-02, -1.5348e-03,  3.2864e-03],\n",
       "        [ 3.2005e-02, -2.7640e-02,  8.7419e-02, -4.2345e-02, -4.9278e-02,\n",
       "          7.3122e-02, -1.3358e-01, -5.5392e-02, -1.4387e-02,  3.1247e-02],\n",
       "        [ 5.7642e-02,  2.8391e-02,  3.4712e-02, -5.8415e-02, -1.5838e-02,\n",
       "          8.3800e-02, -1.4213e-01, -3.0043e-02, -5.5803e-02,  1.4424e-02],\n",
       "        [ 8.2353e-02,  1.1312e-02,  7.3515e-02, -5.3677e-02, -1.8963e-02,\n",
       "          5.0283e-02, -1.7542e-01, -1.3225e-02,  1.5301e-03,  5.8561e-02],\n",
       "        [ 5.6416e-02,  2.9617e-02,  5.2307e-02, -5.0334e-02, -5.0371e-03,\n",
       "          7.9687e-02, -1.4220e-01, -9.5647e-03, -4.5365e-02,  2.3402e-02],\n",
       "        [ 9.9588e-02,  4.3307e-03,  7.1840e-02, -7.1349e-02,  4.2314e-03,\n",
       "          6.7531e-02, -1.3787e-01, -1.9248e-02, -3.1076e-02,  4.6298e-02],\n",
       "        [ 2.4180e-02, -8.7371e-03, -3.9197e-03, -1.0750e-01, -5.7852e-02,\n",
       "          6.6987e-02, -1.4443e-01, -7.4801e-02, -2.2486e-02,  1.6536e-02],\n",
       "        [ 1.5576e-02,  2.4377e-02,  7.4968e-02, -5.6232e-02, -2.9417e-02,\n",
       "          3.4547e-02, -1.4996e-01, -4.9828e-02, -2.8529e-02,  2.3706e-02],\n",
       "        [ 3.9314e-02, -2.6279e-03,  2.4837e-02, -4.5933e-02, -3.2477e-02,\n",
       "          6.0757e-02, -1.1696e-01, -1.2774e-02, -2.4367e-02,  5.7222e-02],\n",
       "        [ 1.7119e-02,  1.0345e-02,  5.7954e-02, -8.7965e-02, -3.8354e-02,\n",
       "          6.2161e-02, -1.6054e-01, -2.8124e-02, -1.9113e-02,  9.7905e-02],\n",
       "        [ 6.5135e-02, -1.3803e-02,  1.9448e-02, -8.0310e-02, -3.5271e-02,\n",
       "          5.6302e-02, -1.5177e-01, -3.4226e-02, -5.5057e-02,  6.4113e-02],\n",
       "        [ 2.6795e-02,  4.1383e-03, -4.3700e-03, -7.8388e-02, -8.7333e-03,\n",
       "          1.4727e-02, -1.5261e-01, -4.3870e-02, -1.1396e-02,  3.8976e-02],\n",
       "        [ 6.0966e-02, -1.4580e-02,  6.2143e-02, -6.1129e-02, -4.8994e-02,\n",
       "          6.2649e-02, -1.5037e-01,  1.3394e-02, -4.7410e-02,  5.9305e-02],\n",
       "        [ 7.1070e-02, -2.4000e-02,  3.3016e-02, -7.0064e-02,  1.7569e-02,\n",
       "          4.7693e-02, -1.0061e-01,  1.9711e-02, -3.8707e-02,  8.9853e-02],\n",
       "        [ 3.2600e-02, -5.5045e-02,  2.7024e-03, -8.0810e-02,  1.6589e-03,\n",
       "          1.8941e-02, -1.5254e-01, -3.4279e-02, -2.0122e-02,  7.0420e-02],\n",
       "        [ 1.9698e-02,  1.1038e-02,  6.6350e-02, -7.1087e-02, -1.8712e-02,\n",
       "          6.4089e-02, -1.7171e-01, -1.3329e-02, -1.7398e-02,  2.6146e-02],\n",
       "        [ 1.4109e-02,  1.1973e-02,  2.0594e-02, -1.0129e-01, -2.9718e-02,\n",
       "          5.6558e-02, -1.3618e-01, -2.9612e-02,  3.7324e-03,  5.3082e-02],\n",
       "        [ 3.7287e-02, -1.2076e-02, -1.3756e-02, -5.9990e-02, -5.4298e-02,\n",
       "          6.4647e-02, -1.5681e-01,  2.0728e-02, -4.2830e-02,  2.4759e-02],\n",
       "        [ 2.6508e-02,  4.7252e-02,  4.7962e-02, -1.9140e-02,  2.0812e-02,\n",
       "          7.5062e-02, -1.2129e-01, -5.4316e-02, -1.2625e-02,  1.3874e-02],\n",
       "        [ 2.9737e-02, -2.3737e-02,  5.4858e-02, -8.8860e-02, -1.8872e-03,\n",
       "          7.2981e-02, -1.4185e-01, -1.9398e-02, -4.1905e-02,  4.5458e-02],\n",
       "        [ 1.5380e-02, -2.4031e-02,  2.7097e-02, -1.5393e-02, -4.4880e-02,\n",
       "          5.6027e-02, -1.0974e-01, -9.0155e-03,  2.6489e-02,  3.1756e-02],\n",
       "        [ 6.1961e-02,  1.9650e-02,  3.6991e-02, -7.9167e-02, -2.2106e-02,\n",
       "          3.1626e-02, -1.5790e-01, -1.7660e-02,  6.5692e-04,  4.6090e-02],\n",
       "        [ 2.7676e-02, -2.6603e-02,  3.9074e-02, -5.8122e-02, -5.7450e-02,\n",
       "          4.6209e-02, -1.4556e-01, -3.2270e-02, -1.1191e-02,  8.5510e-02]],\n",
       "       grad_fn=<AddmmBackward0>)"
      ]
     },
     "execution_count": 34,
     "metadata": {},
     "output_type": "execute_result"
    }
   ],
   "source": [
    "logits"
   ]
  },
  {
   "cell_type": "code",
   "execution_count": 200,
   "metadata": {},
   "outputs": [
    {
     "name": "stdout",
     "output_type": "stream",
     "text": [
      "torch.Size([5, 28, 28])\n"
     ]
    }
   ],
   "source": [
    "input_2d = torch.rand(5,28,28) ## a batch of 5 images\n",
    "print(input_2d.size())"
   ]
  },
  {
   "cell_type": "markdown",
   "metadata": {},
   "source": [
    "### nn.Flatten\n",
    "convert each 2D 28x28 image into a contiguous array of 784 pixel values ( the minibatch dimension (at dim=0) is maintained)."
   ]
  },
  {
   "cell_type": "code",
   "execution_count": 201,
   "metadata": {},
   "outputs": [
    {
     "name": "stdout",
     "output_type": "stream",
     "text": [
      "torch.Size([5, 784])\n"
     ]
    }
   ],
   "source": [
    "flatten = nn.Flatten()\n",
    "flat_image = flatten(input_2d)\n",
    "print(flat_image.size())"
   ]
  },
  {
   "cell_type": "markdown",
   "metadata": {},
   "source": [
    "## nn.Linear\n",
    "applies a linear transformation on the input using its stored weights and biases"
   ]
  },
  {
   "cell_type": "code",
   "execution_count": 202,
   "metadata": {},
   "outputs": [
    {
     "name": "stdout",
     "output_type": "stream",
     "text": [
      "torch.Size([5, 20])\n"
     ]
    }
   ],
   "source": [
    "layer1 = nn.Linear(in_features=28*28, out_features=20)\n",
    "hidden1 = layer1(flat_image)\n",
    "print(hidden1.size())"
   ]
  },
  {
   "cell_type": "markdown",
   "metadata": {},
   "source": [
    "## nn.Sequential\n",
    "ordered container of modules. The data is passed through all the modules in the same order as defined. "
   ]
  },
  {
   "cell_type": "code",
   "execution_count": 204,
   "metadata": {},
   "outputs": [
    {
     "data": {
      "text/plain": [
       "tensor([[-0.1350, -0.1783, -0.0639,  0.1425, -0.0999,  0.4580,  0.0020,  0.0332,\n",
       "          0.1387,  0.0701],\n",
       "        [-0.1333, -0.1175, -0.1876,  0.1870, -0.2183,  0.3747, -0.0378, -0.0054,\n",
       "          0.0085, -0.0535],\n",
       "        [-0.1559, -0.2372,  0.1528,  0.2656, -0.2158,  0.5447,  0.0083,  0.0855,\n",
       "          0.0253,  0.0873]], grad_fn=<AddmmBackward0>)"
      ]
     },
     "execution_count": 204,
     "metadata": {},
     "output_type": "execute_result"
    }
   ],
   "source": [
    "seq_modules = nn.Sequential(\n",
    "    flatten,\n",
    "    layer1,\n",
    "    nn.ReLU(),\n",
    "    nn.Linear(20, 10)\n",
    ")\n",
    "input_image = torch.rand(3,28,28)\n",
    "logits = seq_modules(input_image)\n",
    "logits"
   ]
  },
  {
   "cell_type": "markdown",
   "metadata": {},
   "source": [
    "## nn.Softmax\n",
    "The last linear layer of the neural network returns logits [-infty, infty] and Softmax return values [0, 1] representing the model’s predicted probabilities for each class"
   ]
  },
  {
   "cell_type": "code",
   "execution_count": 205,
   "metadata": {},
   "outputs": [
    {
     "data": {
      "text/plain": [
       "tensor([[0.0829, 0.0793, 0.0890, 0.1094, 0.0858, 0.1499, 0.0950, 0.0980, 0.1089,\n",
       "         0.1017],\n",
       "        [0.0878, 0.0892, 0.0831, 0.1209, 0.0806, 0.1459, 0.0966, 0.0997, 0.1011,\n",
       "         0.0951],\n",
       "        [0.0788, 0.0726, 0.1073, 0.1201, 0.0742, 0.1588, 0.0929, 0.1003, 0.0945,\n",
       "         0.1005]], grad_fn=<SoftmaxBackward0>)"
      ]
     },
     "execution_count": 205,
     "metadata": {},
     "output_type": "execute_result"
    }
   ],
   "source": [
    "softmax = nn.Softmax(dim=1)\n",
    "pred_probab = softmax(logits)\n",
    "pred_probab"
   ]
  },
  {
   "cell_type": "code",
   "execution_count": null,
   "metadata": {},
   "outputs": [],
   "source": []
  },
  {
   "cell_type": "markdown",
   "metadata": {},
   "source": [
    "## Optimization: Loss function and their inputs\n",
    "\n",
    "PyTorch provides a list of predefined loss functions which we can used.\n",
    "\n",
    "For instance, for BCE, PyTorch has two modules: nn.BCELoss(), nn.BCEWithLogitsLoss().\n",
    "\n",
    "nn.BCELoss:  expects the inputs x to be in the range [0,1], i.e. the output of a sigmoid\n",
    "\n",
    "nn.BCEWithLogitsLoss: combines a sigmoid layer and the BCE loss in a single class."
   ]
  },
  {
   "cell_type": "markdown",
   "metadata": {},
   "source": [
    "## Numerical stability\n",
    "https://jaykmody.com/blog/stable-softmax/"
   ]
  },
  {
   "cell_type": "code",
   "execution_count": 212,
   "metadata": {},
   "outputs": [
    {
     "data": {
      "text/plain": [
       "array([0.28310553, 0.63006295, 0.00156177, 0.08526975])"
      ]
     },
     "execution_count": 212,
     "metadata": {},
     "output_type": "execute_result"
    }
   ],
   "source": [
    "def softmax(x):\n",
    "    # assumes x is a vector\n",
    "    return np.exp(x) / np.sum(np.exp(x))\n",
    "\n",
    "x = np.array([1.2, 2, -4, 0.0]) # might represent raw output logits of a neural network\n",
    "softmax(x)"
   ]
  },
  {
   "cell_type": "markdown",
   "metadata": {},
   "source": [
    "For very large inputs, we start seeing some numerical instability:\n",
    "\n"
   ]
  },
  {
   "cell_type": "code",
   "execution_count": 207,
   "metadata": {},
   "outputs": [
    {
     "name": "stderr",
     "output_type": "stream",
     "text": [
      "C:\\Users\\manso\\AppData\\Local\\Temp\\ipykernel_31084\\596217392.py:3: RuntimeWarning: overflow encountered in exp\n",
      "  return np.exp(x) / np.sum(np.exp(x))\n",
      "C:\\Users\\manso\\AppData\\Local\\Temp\\ipykernel_31084\\596217392.py:3: RuntimeWarning: invalid value encountered in divide\n",
      "  return np.exp(x) / np.sum(np.exp(x))\n"
     ]
    },
    {
     "data": {
      "text/plain": [
       "array([ 0., nan,  0.,  0.])"
      ]
     },
     "execution_count": 207,
     "metadata": {},
     "output_type": "execute_result"
    }
   ],
   "source": [
    "x = np.array([1.2, 2000, -4000, 0.0])\n",
    "softmax(x)"
   ]
  },
  {
   "cell_type": "markdown",
   "metadata": {},
   "source": [
    "Why? Because floating point numbers aren't magic, they have limits:\n",
    "\n"
   ]
  },
  {
   "cell_type": "code",
   "execution_count": 30,
   "metadata": {},
   "outputs": [
    {
     "data": {
      "text/plain": [
       "1.7976931348623157e+308"
      ]
     },
     "execution_count": 30,
     "metadata": {},
     "output_type": "execute_result"
    }
   ],
   "source": [
    "np.finfo(np.float64).max #largest positive number\n"
   ]
  },
  {
   "cell_type": "code",
   "execution_count": 31,
   "metadata": {},
   "outputs": [
    {
     "data": {
      "text/plain": [
       "2.2250738585072014e-308"
      ]
     },
     "execution_count": 31,
     "metadata": {},
     "output_type": "execute_result"
    }
   ],
   "source": [
    "\n",
    "np.finfo(np.float64).tiny # smallest positive number at full precision"
   ]
  },
  {
   "cell_type": "code",
   "execution_count": 32,
   "metadata": {},
   "outputs": [
    {
     "data": {
      "text/plain": [
       "5e-324"
      ]
     },
     "execution_count": 32,
     "metadata": {},
     "output_type": "execute_result"
    }
   ],
   "source": [
    "np.finfo(np.float64).smallest_subnormal #smallest positive number"
   ]
  },
  {
   "cell_type": "markdown",
   "metadata": {},
   "source": [
    "When we go beyond these limits, we start seeing weird behaviors:\n",
    "\n"
   ]
  },
  {
   "cell_type": "code",
   "execution_count": 33,
   "metadata": {},
   "outputs": [
    {
     "name": "stderr",
     "output_type": "stream",
     "text": [
      "C:\\Users\\manso\\AppData\\Local\\Temp\\ipykernel_11924\\3265680459.py:1: RuntimeWarning: overflow encountered in double_scalars\n",
      "  np.finfo(np.float64).max * 2\n"
     ]
    },
    {
     "data": {
      "text/plain": [
       "inf"
      ]
     },
     "execution_count": 33,
     "metadata": {},
     "output_type": "execute_result"
    }
   ],
   "source": [
    "np.finfo(np.float64).max * 2"
   ]
  },
  {
   "cell_type": "code",
   "execution_count": 34,
   "metadata": {},
   "outputs": [
    {
     "data": {
      "text/plain": [
       "nan"
      ]
     },
     "execution_count": 34,
     "metadata": {},
     "output_type": "execute_result"
    }
   ],
   "source": [
    "np.inf - np.inf\n"
   ]
  },
  {
   "cell_type": "code",
   "execution_count": 35,
   "metadata": {},
   "outputs": [
    {
     "data": {
      "text/plain": [
       "0.0"
      ]
     },
     "execution_count": 35,
     "metadata": {},
     "output_type": "execute_result"
    }
   ],
   "source": [
    "np.finfo(np.float64).smallest_subnormal / 2\n"
   ]
  },
  {
   "cell_type": "markdown",
   "metadata": {},
   "source": [
    "To avoid infs, we need to avoid overflows.\n",
    "$\\begin{align}\n",
    "\\text{softmax}(x)_i\n",
    "&= \\frac{e^{x_i}}{\\sum_j e^{x_j}} \\\\\n",
    "&= 1\\cdot \\frac{e^{x_i}}{\\sum_j e^{x_j}} \\\\\n",
    "&= \\frac{C}{C}\\frac{e^{x_i}}{\\sum_j e^{x_j}} \\\\\n",
    "&= \\frac{Ce^{x_i}}{\\sum_j Ce^{x_j}} \\\\\n",
    "&= \\frac{e^{x_i + \\log C}}{\\sum_j e^{x_j + \\log C}} \\\\\n",
    "\\end{align}$"
   ]
  },
  {
   "cell_type": "markdown",
   "metadata": {},
   "source": [
    "As a result, we are given the ability to offset our inputs by any constant of our choosing. For example, if we set that constant to $\\log C = -\\max(x)$\n",
    "\n",
    "$\\begin{align} \\text{softmax}(x)_i = \\frac{e^{x_i - \\max(x)}}{\\sum_j e^{x_j - \\max(x)}} \\end{align}$\n"
   ]
  },
  {
   "cell_type": "code",
   "execution_count": 214,
   "metadata": {},
   "outputs": [
    {
     "data": {
      "text/plain": [
       "array([0.28310553, 0.63006295, 0.00156177, 0.08526975])"
      ]
     },
     "execution_count": 214,
     "metadata": {},
     "output_type": "execute_result"
    }
   ],
   "source": [
    "def softmax(x):\n",
    "    # assumes x is a vector\n",
    "    x = x - np.max(x)\n",
    "    return np.exp(x) / np.sum(np.exp(x))\n",
    "\n",
    "x = np.array([1.2, 2, -4, 0])\n",
    "softmax(x)\n"
   ]
  },
  {
   "cell_type": "code",
   "execution_count": 215,
   "metadata": {},
   "outputs": [
    {
     "data": {
      "text/plain": [
       "array([0., 1., 0., 0.])"
      ]
     },
     "execution_count": 215,
     "metadata": {},
     "output_type": "execute_result"
    }
   ],
   "source": [
    "# works for large numbers!!!\n",
    "x = np.array([1.2, 2, -4, 0]) * 1000\n",
    "softmax(x)\n"
   ]
  },
  {
   "cell_type": "markdown",
   "metadata": {},
   "source": [
    "### This is corrected in tensorflow and pytorch!"
   ]
  },
  {
   "cell_type": "code",
   "execution_count": 216,
   "metadata": {},
   "outputs": [
    {
     "data": {
      "text/plain": [
       "array([[0.2, 0.2, 0.2, 0.2, 0.2],\n",
       "       [0.2, 0.2, 0.2, 0.2, 0.2]], dtype=float32)"
      ]
     },
     "execution_count": 216,
     "metadata": {},
     "output_type": "execute_result"
    }
   ],
   "source": [
    "import tensorflow as tf\n",
    "tf.nn.softmax(tf.ones((2, 5)) * 10000000000000, axis=-1).numpy()\n"
   ]
  },
  {
   "cell_type": "code",
   "execution_count": 217,
   "metadata": {},
   "outputs": [
    {
     "data": {
      "text/plain": [
       "array([[0.2, 0.2, 0.2, 0.2, 0.2],\n",
       "       [0.2, 0.2, 0.2, 0.2, 0.2]], dtype=float32)"
      ]
     },
     "execution_count": 217,
     "metadata": {},
     "output_type": "execute_result"
    }
   ],
   "source": [
    "torch.nn.functional.softmax(torch.ones((2, 5)) * 10000000000000, dim=-1).numpy()"
   ]
  },
  {
   "cell_type": "markdown",
   "metadata": {},
   "source": [
    "## Compute gradients: Tensorflow Vs Pytorch"
   ]
  },
  {
   "cell_type": "code",
   "execution_count": 7,
   "metadata": {},
   "outputs": [
    {
     "data": {
      "text/plain": [
       "(120, 4)"
      ]
     },
     "execution_count": 7,
     "metadata": {},
     "output_type": "execute_result"
    }
   ],
   "source": [
    "X_data.shape"
   ]
  },
  {
   "cell_type": "code",
   "execution_count": 43,
   "metadata": {
    "collapsed": true
   },
   "outputs": [
    {
     "name": "stdout",
     "output_type": "stream",
     "text": [
      "[[ -4.2143555  -4.2143555  -4.2143555  -4.2143555  -4.2143555  -4.2143555\n",
      "   -4.2143555  -4.2143555  -4.2143555  -4.2143555]\n",
      " [-14.204567  -14.204567  -14.204567  -14.204567  -14.204567  -14.204567\n",
      "  -14.204567  -14.204567  -14.204567  -14.204567 ]\n",
      " [-12.254794  -12.254794  -12.254794  -12.254794  -12.254794  -12.254794\n",
      "  -12.254794  -12.254794  -12.254794  -12.254794 ]\n",
      " [  9.930252    9.930252    9.930252    9.930252    9.930252    9.930252\n",
      "    9.930252    9.930252    9.930252    9.930252 ]\n",
      " [-26.220028  -26.220028  -26.220028  -26.220028  -26.220028  -26.220028\n",
      "  -26.220028  -26.220028  -26.220028  -26.220028 ]\n",
      " [-10.289539  -10.289539  -10.289539  -10.289539  -10.289539  -10.289539\n",
      "  -10.289539  -10.289539  -10.289539  -10.289539 ]\n",
      " [ 18.056446   18.056446   18.056446   18.056446   18.056446   18.056446\n",
      "   18.056446   18.056446   18.056446   18.056446 ]\n",
      " [ -7.971272   -7.971272   -7.971272   -7.971272   -7.971272   -7.971272\n",
      "   -7.971272   -7.971272   -7.971272   -7.971272 ]\n",
      " [  2.7417603   2.7417603   2.7417603   2.7417603   2.7417603   2.7417603\n",
      "    2.7417603   2.7417603   2.7417603   2.7417603]\n",
      " [ -2.1923218  -2.1923218  -2.1923218  -2.1923218  -2.1923218  -2.1923218\n",
      "   -2.1923218  -2.1923218  -2.1923218  -2.1923218]\n",
      " [ -8.114975   -8.114975   -8.114975   -8.114975   -8.114975   -8.114975\n",
      "   -8.114975   -8.114975   -8.114975   -8.114975 ]\n",
      " [ -6.736726   -6.736726   -6.736726   -6.736726   -6.736726   -6.736726\n",
      "   -6.736726   -6.736726   -6.736726   -6.736726 ]]\n",
      "[120. 120. 120. 120. 120. 120. 120. 120. 120. 120.]\n"
     ]
    }
   ],
   "source": [
    "## In tensorflow\n",
    "import tensorflow as tf\n",
    "d_feat=12\n",
    "d_hid=10\n",
    "X_data = np.random.randn(120,d_feat)\n",
    "\n",
    "X = tf.convert_to_tensor(X_data, dtype=tf.float32)\n",
    "W = tf.Variable(tf.random.normal([d_feat, d_hid],mean=0., stddev=0.01,dtype=tf.float32))\n",
    "b = tf.Variable(tf.ones(d_hid, dtype=tf.float32) * 0.01)\n",
    "with tf.GradientTape() as g:\n",
    "    z = X @ W\n",
    "    a = z + b\n",
    "    s = tf.reduce_sum(a)\n",
    "ds_dW, ds_db = g.gradient(s, [W, b])\n",
    "print(ds_dW.numpy())\n",
    "print(ds_db.numpy())"
   ]
  },
  {
   "cell_type": "code",
   "execution_count": 220,
   "metadata": {
    "collapsed": true
   },
   "outputs": [
    {
     "name": "stdout",
     "output_type": "stream",
     "text": [
      "tensor([[  3.8147,   3.8147,   3.8147,   3.8147,   3.8147,   3.8147,   3.8147,\n",
      "           3.8147,   3.8147,   3.8147],\n",
      "        [ 13.4830,  13.4830,  13.4830,  13.4830,  13.4830,  13.4830,  13.4830,\n",
      "          13.4830,  13.4830,  13.4830],\n",
      "        [  1.8316,   1.8316,   1.8316,   1.8316,   1.8316,   1.8316,   1.8316,\n",
      "           1.8316,   1.8316,   1.8316],\n",
      "        [ -1.1488,  -1.1488,  -1.1488,  -1.1488,  -1.1488,  -1.1488,  -1.1488,\n",
      "          -1.1488,  -1.1488,  -1.1488],\n",
      "        [ -0.2124,  -0.2124,  -0.2124,  -0.2124,  -0.2124,  -0.2124,  -0.2124,\n",
      "          -0.2124,  -0.2124,  -0.2124],\n",
      "        [  6.3670,   6.3670,   6.3670,   6.3670,   6.3670,   6.3670,   6.3670,\n",
      "           6.3670,   6.3670,   6.3670],\n",
      "        [ -9.0083,  -9.0083,  -9.0083,  -9.0083,  -9.0083,  -9.0083,  -9.0083,\n",
      "          -9.0083,  -9.0083,  -9.0083],\n",
      "        [-14.9336, -14.9336, -14.9336, -14.9336, -14.9336, -14.9336, -14.9336,\n",
      "         -14.9336, -14.9336, -14.9336],\n",
      "        [  8.2954,   8.2954,   8.2954,   8.2954,   8.2954,   8.2954,   8.2954,\n",
      "           8.2954,   8.2954,   8.2954],\n",
      "        [ -3.5548,  -3.5548,  -3.5548,  -3.5548,  -3.5548,  -3.5548,  -3.5548,\n",
      "          -3.5548,  -3.5548,  -3.5548],\n",
      "        [  0.2021,   0.2021,   0.2021,   0.2021,   0.2021,   0.2021,   0.2021,\n",
      "           0.2021,   0.2021,   0.2021],\n",
      "        [-10.5579, -10.5579, -10.5579, -10.5579, -10.5579, -10.5579, -10.5579,\n",
      "         -10.5579, -10.5579, -10.5579]], dtype=torch.float64)\n",
      "tensor([120., 120., 120., 120., 120., 120., 120., 120., 120., 120.],\n",
      "       dtype=torch.float64)\n"
     ]
    }
   ],
   "source": [
    "## With pytorch\n",
    "import torch\n",
    "import torch.autograd\n",
    "X = torch.from_numpy(X_data)\n",
    "W = torch.normal(mean=0., std=0.01,size=[d_feat, d_hid],dtype=torch.float64,requires_grad=True)\n",
    "b = torch.ones(d_hid,requires_grad=True, dtype=torch.float64) * 0.01\n",
    "b.retain_grad()  # Retain gradients for non-leaf tensor\n",
    "z = torch.matmul(X , W)\n",
    "a = z + b\n",
    "s = a.sum()\n",
    "s.backward() ## computes the gradients\n",
    "ds_dW, ds_db = W.grad, b.grad\n",
    "print(ds_dW)\n",
    "print(ds_db)"
   ]
  },
  {
   "cell_type": "markdown",
   "metadata": {},
   "source": [
    "## Training the Neural Network\n",
    "\n",
    "The train function consists of looping through the data one batch at a time, using the optimizer to adjust the model, and computing the prediction and the loss.\n"
   ]
  },
  {
   "cell_type": "markdown",
   "metadata": {},
   "source": [
    "## Loading Data with torchvision: The Mnist data"
   ]
  },
  {
   "cell_type": "code",
   "execution_count": 7,
   "metadata": {},
   "outputs": [],
   "source": [
    "from torchvision import datasets, transforms\n",
    "from torch.utils.data import DataLoader"
   ]
  },
  {
   "cell_type": "code",
   "execution_count": 82,
   "metadata": {},
   "outputs": [],
   "source": [
    "# MNIST dataset loading\n",
    "transform = transforms.Compose([transforms.ToTensor(), transforms.Normalize((0.5,), (0.5,))])\n",
    "train_dataset = datasets.MNIST(root='./data', train=True, download=True, transform=transform)\n",
    "test_dataset = datasets.MNIST(root='./data', train=False, download=True, transform=transform)\n",
    "\n",
    "train_loader = DataLoader(dataset=train_dataset, batch_size=64, shuffle=True)\n",
    "test_loader = DataLoader(dataset=test_dataset, batch_size=1000, shuffle=False)"
   ]
  },
  {
   "cell_type": "code",
   "execution_count": 83,
   "metadata": {},
   "outputs": [
    {
     "data": {
      "text/plain": [
       "(tensor([[[-1.0000, -1.0000, -1.0000, -1.0000, -1.0000, -1.0000, -1.0000,\n",
       "           -1.0000, -1.0000, -1.0000, -1.0000, -1.0000, -1.0000, -1.0000,\n",
       "           -1.0000, -1.0000, -1.0000, -1.0000, -1.0000, -1.0000, -1.0000,\n",
       "           -1.0000, -1.0000, -1.0000, -1.0000, -1.0000, -1.0000, -1.0000],\n",
       "          [-1.0000, -1.0000, -1.0000, -1.0000, -1.0000, -1.0000, -1.0000,\n",
       "           -1.0000, -1.0000, -1.0000, -1.0000, -1.0000, -1.0000, -1.0000,\n",
       "           -1.0000, -1.0000, -1.0000, -1.0000, -1.0000, -1.0000, -1.0000,\n",
       "           -1.0000, -1.0000, -1.0000, -1.0000, -1.0000, -1.0000, -1.0000],\n",
       "          [-1.0000, -1.0000, -1.0000, -1.0000, -1.0000, -1.0000, -1.0000,\n",
       "           -1.0000, -1.0000, -1.0000, -1.0000, -1.0000, -1.0000, -1.0000,\n",
       "           -1.0000, -1.0000, -1.0000, -1.0000, -1.0000, -1.0000, -1.0000,\n",
       "           -1.0000, -1.0000, -1.0000, -1.0000, -1.0000, -1.0000, -1.0000],\n",
       "          [-1.0000, -1.0000, -1.0000, -1.0000, -1.0000, -1.0000, -1.0000,\n",
       "           -1.0000, -1.0000, -1.0000, -1.0000, -1.0000, -1.0000, -1.0000,\n",
       "           -1.0000, -1.0000, -1.0000, -1.0000, -1.0000, -1.0000, -1.0000,\n",
       "           -1.0000, -1.0000, -1.0000, -1.0000, -1.0000, -1.0000, -1.0000],\n",
       "          [-1.0000, -1.0000, -1.0000, -1.0000, -1.0000, -1.0000, -1.0000,\n",
       "           -1.0000, -1.0000, -1.0000, -1.0000, -1.0000, -1.0000, -1.0000,\n",
       "           -1.0000, -1.0000, -1.0000, -1.0000, -1.0000, -1.0000, -1.0000,\n",
       "           -1.0000, -1.0000, -1.0000, -1.0000, -1.0000, -1.0000, -1.0000],\n",
       "          [-1.0000, -1.0000, -1.0000, -1.0000, -1.0000, -1.0000, -1.0000,\n",
       "           -1.0000, -1.0000, -1.0000, -1.0000, -1.0000, -0.9765, -0.8588,\n",
       "           -0.8588, -0.8588, -0.0118,  0.0667,  0.3725, -0.7961,  0.3020,\n",
       "            1.0000,  0.9373, -0.0039, -1.0000, -1.0000, -1.0000, -1.0000],\n",
       "          [-1.0000, -1.0000, -1.0000, -1.0000, -1.0000, -1.0000, -1.0000,\n",
       "           -1.0000, -0.7647, -0.7176, -0.2627,  0.2078,  0.3333,  0.9843,\n",
       "            0.9843,  0.9843,  0.9843,  0.9843,  0.7647,  0.3490,  0.9843,\n",
       "            0.8980,  0.5294, -0.4980, -1.0000, -1.0000, -1.0000, -1.0000],\n",
       "          [-1.0000, -1.0000, -1.0000, -1.0000, -1.0000, -1.0000, -1.0000,\n",
       "           -0.6157,  0.8667,  0.9843,  0.9843,  0.9843,  0.9843,  0.9843,\n",
       "            0.9843,  0.9843,  0.9843,  0.9686, -0.2706, -0.3569, -0.3569,\n",
       "           -0.5608, -0.6941, -1.0000, -1.0000, -1.0000, -1.0000, -1.0000],\n",
       "          [-1.0000, -1.0000, -1.0000, -1.0000, -1.0000, -1.0000, -1.0000,\n",
       "           -0.8588,  0.7176,  0.9843,  0.9843,  0.9843,  0.9843,  0.9843,\n",
       "            0.5529,  0.4275,  0.9373,  0.8902, -1.0000, -1.0000, -1.0000,\n",
       "           -1.0000, -1.0000, -1.0000, -1.0000, -1.0000, -1.0000, -1.0000],\n",
       "          [-1.0000, -1.0000, -1.0000, -1.0000, -1.0000, -1.0000, -1.0000,\n",
       "           -1.0000, -0.3725,  0.2235, -0.1608,  0.9843,  0.9843,  0.6078,\n",
       "           -0.9137, -1.0000, -0.6627,  0.2078, -1.0000, -1.0000, -1.0000,\n",
       "           -1.0000, -1.0000, -1.0000, -1.0000, -1.0000, -1.0000, -1.0000],\n",
       "          [-1.0000, -1.0000, -1.0000, -1.0000, -1.0000, -1.0000, -1.0000,\n",
       "           -1.0000, -1.0000, -0.8902, -0.9922,  0.2078,  0.9843, -0.2941,\n",
       "           -1.0000, -1.0000, -1.0000, -1.0000, -1.0000, -1.0000, -1.0000,\n",
       "           -1.0000, -1.0000, -1.0000, -1.0000, -1.0000, -1.0000, -1.0000],\n",
       "          [-1.0000, -1.0000, -1.0000, -1.0000, -1.0000, -1.0000, -1.0000,\n",
       "           -1.0000, -1.0000, -1.0000, -1.0000,  0.0902,  0.9843,  0.4902,\n",
       "           -0.9843, -1.0000, -1.0000, -1.0000, -1.0000, -1.0000, -1.0000,\n",
       "           -1.0000, -1.0000, -1.0000, -1.0000, -1.0000, -1.0000, -1.0000],\n",
       "          [-1.0000, -1.0000, -1.0000, -1.0000, -1.0000, -1.0000, -1.0000,\n",
       "           -1.0000, -1.0000, -1.0000, -1.0000, -0.9137,  0.4902,  0.9843,\n",
       "           -0.4510, -1.0000, -1.0000, -1.0000, -1.0000, -1.0000, -1.0000,\n",
       "           -1.0000, -1.0000, -1.0000, -1.0000, -1.0000, -1.0000, -1.0000],\n",
       "          [-1.0000, -1.0000, -1.0000, -1.0000, -1.0000, -1.0000, -1.0000,\n",
       "           -1.0000, -1.0000, -1.0000, -1.0000, -1.0000, -0.7255,  0.8902,\n",
       "            0.7647,  0.2549, -0.1529, -0.9922, -1.0000, -1.0000, -1.0000,\n",
       "           -1.0000, -1.0000, -1.0000, -1.0000, -1.0000, -1.0000, -1.0000],\n",
       "          [-1.0000, -1.0000, -1.0000, -1.0000, -1.0000, -1.0000, -1.0000,\n",
       "           -1.0000, -1.0000, -1.0000, -1.0000, -1.0000, -1.0000, -0.3647,\n",
       "            0.8824,  0.9843,  0.9843, -0.0667, -0.8039, -1.0000, -1.0000,\n",
       "           -1.0000, -1.0000, -1.0000, -1.0000, -1.0000, -1.0000, -1.0000],\n",
       "          [-1.0000, -1.0000, -1.0000, -1.0000, -1.0000, -1.0000, -1.0000,\n",
       "           -1.0000, -1.0000, -1.0000, -1.0000, -1.0000, -1.0000, -1.0000,\n",
       "           -0.6471,  0.4588,  0.9843,  0.9843,  0.1765, -0.7882, -1.0000,\n",
       "           -1.0000, -1.0000, -1.0000, -1.0000, -1.0000, -1.0000, -1.0000],\n",
       "          [-1.0000, -1.0000, -1.0000, -1.0000, -1.0000, -1.0000, -1.0000,\n",
       "           -1.0000, -1.0000, -1.0000, -1.0000, -1.0000, -1.0000, -1.0000,\n",
       "           -1.0000, -0.8745, -0.2706,  0.9765,  0.9843,  0.4667, -1.0000,\n",
       "           -1.0000, -1.0000, -1.0000, -1.0000, -1.0000, -1.0000, -1.0000],\n",
       "          [-1.0000, -1.0000, -1.0000, -1.0000, -1.0000, -1.0000, -1.0000,\n",
       "           -1.0000, -1.0000, -1.0000, -1.0000, -1.0000, -1.0000, -1.0000,\n",
       "           -1.0000, -1.0000, -1.0000,  0.9529,  0.9843,  0.9529, -0.4980,\n",
       "           -1.0000, -1.0000, -1.0000, -1.0000, -1.0000, -1.0000, -1.0000],\n",
       "          [-1.0000, -1.0000, -1.0000, -1.0000, -1.0000, -1.0000, -1.0000,\n",
       "           -1.0000, -1.0000, -1.0000, -1.0000, -1.0000, -1.0000, -1.0000,\n",
       "           -0.6392,  0.0196,  0.4353,  0.9843,  0.9843,  0.6235, -0.9843,\n",
       "           -1.0000, -1.0000, -1.0000, -1.0000, -1.0000, -1.0000, -1.0000],\n",
       "          [-1.0000, -1.0000, -1.0000, -1.0000, -1.0000, -1.0000, -1.0000,\n",
       "           -1.0000, -1.0000, -1.0000, -1.0000, -1.0000, -0.6941,  0.1608,\n",
       "            0.7961,  0.9843,  0.9843,  0.9843,  0.9608,  0.4275, -1.0000,\n",
       "           -1.0000, -1.0000, -1.0000, -1.0000, -1.0000, -1.0000, -1.0000],\n",
       "          [-1.0000, -1.0000, -1.0000, -1.0000, -1.0000, -1.0000, -1.0000,\n",
       "           -1.0000, -1.0000, -1.0000, -0.8118, -0.1059,  0.7333,  0.9843,\n",
       "            0.9843,  0.9843,  0.9843,  0.5765, -0.3882, -1.0000, -1.0000,\n",
       "           -1.0000, -1.0000, -1.0000, -1.0000, -1.0000, -1.0000, -1.0000],\n",
       "          [-1.0000, -1.0000, -1.0000, -1.0000, -1.0000, -1.0000, -1.0000,\n",
       "           -1.0000, -0.8196, -0.4824,  0.6706,  0.9843,  0.9843,  0.9843,\n",
       "            0.9843,  0.5529, -0.3647, -0.9843, -1.0000, -1.0000, -1.0000,\n",
       "           -1.0000, -1.0000, -1.0000, -1.0000, -1.0000, -1.0000, -1.0000],\n",
       "          [-1.0000, -1.0000, -1.0000, -1.0000, -1.0000, -1.0000, -0.8588,\n",
       "            0.3412,  0.7176,  0.9843,  0.9843,  0.9843,  0.9843,  0.5294,\n",
       "           -0.3725, -0.9294, -1.0000, -1.0000, -1.0000, -1.0000, -1.0000,\n",
       "           -1.0000, -1.0000, -1.0000, -1.0000, -1.0000, -1.0000, -1.0000],\n",
       "          [-1.0000, -1.0000, -1.0000, -1.0000, -0.5686,  0.3490,  0.7725,\n",
       "            0.9843,  0.9843,  0.9843,  0.9843,  0.9137,  0.0431, -0.9137,\n",
       "           -1.0000, -1.0000, -1.0000, -1.0000, -1.0000, -1.0000, -1.0000,\n",
       "           -1.0000, -1.0000, -1.0000, -1.0000, -1.0000, -1.0000, -1.0000],\n",
       "          [-1.0000, -1.0000, -1.0000, -1.0000,  0.0667,  0.9843,  0.9843,\n",
       "            0.9843,  0.6627,  0.0588,  0.0353, -0.8745, -1.0000, -1.0000,\n",
       "           -1.0000, -1.0000, -1.0000, -1.0000, -1.0000, -1.0000, -1.0000,\n",
       "           -1.0000, -1.0000, -1.0000, -1.0000, -1.0000, -1.0000, -1.0000],\n",
       "          [-1.0000, -1.0000, -1.0000, -1.0000, -1.0000, -1.0000, -1.0000,\n",
       "           -1.0000, -1.0000, -1.0000, -1.0000, -1.0000, -1.0000, -1.0000,\n",
       "           -1.0000, -1.0000, -1.0000, -1.0000, -1.0000, -1.0000, -1.0000,\n",
       "           -1.0000, -1.0000, -1.0000, -1.0000, -1.0000, -1.0000, -1.0000],\n",
       "          [-1.0000, -1.0000, -1.0000, -1.0000, -1.0000, -1.0000, -1.0000,\n",
       "           -1.0000, -1.0000, -1.0000, -1.0000, -1.0000, -1.0000, -1.0000,\n",
       "           -1.0000, -1.0000, -1.0000, -1.0000, -1.0000, -1.0000, -1.0000,\n",
       "           -1.0000, -1.0000, -1.0000, -1.0000, -1.0000, -1.0000, -1.0000],\n",
       "          [-1.0000, -1.0000, -1.0000, -1.0000, -1.0000, -1.0000, -1.0000,\n",
       "           -1.0000, -1.0000, -1.0000, -1.0000, -1.0000, -1.0000, -1.0000,\n",
       "           -1.0000, -1.0000, -1.0000, -1.0000, -1.0000, -1.0000, -1.0000,\n",
       "           -1.0000, -1.0000, -1.0000, -1.0000, -1.0000, -1.0000, -1.0000]]]),\n",
       " 5)"
      ]
     },
     "execution_count": 83,
     "metadata": {},
     "output_type": "execute_result"
    }
   ],
   "source": [
    "train_dataset[0]"
   ]
  },
  {
   "cell_type": "code",
   "execution_count": 63,
   "metadata": {},
   "outputs": [],
   "source": [
    "examples = enumerate(train_loader)\n",
    "batch_idx, (features, target) = next(examples)"
   ]
  },
  {
   "cell_type": "code",
   "execution_count": 64,
   "metadata": {},
   "outputs": [
    {
     "data": {
      "text/plain": [
       "torch.Size([64, 1, 28, 28])"
      ]
     },
     "execution_count": 64,
     "metadata": {},
     "output_type": "execute_result"
    }
   ],
   "source": [
    "features.shape"
   ]
  },
  {
   "cell_type": "code",
   "execution_count": 73,
   "metadata": {},
   "outputs": [
    {
     "data": {
      "image/png": "[encoded data removed]",
      "text/plain": [
       "<Figure size 640x480 with 6 Axes>"
      ]
     },
     "metadata": {},
     "output_type": "display_data"
    }
   ],
   "source": [
    "import matplotlib.pyplot as plt\n",
    "examples = enumerate(test_loader)\n",
    "batch_idx, (example_data, example_targets) = next(examples)\n",
    "fig = plt.figure()\n",
    "for i in range(6):\n",
    "  plt.subplot(2,3,i+1)\n",
    "  plt.tight_layout()\n",
    "  plt.imshow(example_data[i][0], cmap='gray', interpolation='none')\n",
    "\n",
    "  plt.xticks([])\n",
    "  plt.yticks([])\n"
   ]
  },
  {
   "cell_type": "code",
   "execution_count": null,
   "metadata": {},
   "outputs": [],
   "source": [
    "#!pip uninstall scipy\n",
    "#!pip install scipy\n"
   ]
  },
  {
   "cell_type": "markdown",
   "metadata": {},
   "source": [
    "## Lets get some data from sklearn and transform it for ML. using pytorch loader"
   ]
  },
  {
   "cell_type": "code",
   "execution_count": 75,
   "metadata": {
    "scrolled": true
   },
   "outputs": [],
   "source": [
    "from sklearn.datasets import load_iris\n",
    "from sklearn.model_selection import train_test_split\n",
    "from sklearn.preprocessing import StandardScaler\n",
    "from torch.utils.data import  TensorDataset\n",
    "\n",
    "iris = load_iris()\n",
    "X = iris['data']\n",
    "y = iris['target']\n",
    "names = iris['target_names']\n",
    "feature_names = iris['feature_names']\n",
    "scaler = StandardScaler()\n",
    "X_scaled = scaler.fit_transform(X)\n",
    "\n",
    "X_train, X_test, y_train, y_test = train_test_split(X_scaled, y,stratify=y, test_size=0.2, random_state=2)"
   ]
  },
  {
   "cell_type": "code",
   "execution_count": 77,
   "metadata": {},
   "outputs": [
    {
     "data": {
      "text/plain": [
       "(120, 4)"
      ]
     },
     "execution_count": 77,
     "metadata": {},
     "output_type": "execute_result"
    }
   ],
   "source": [
    "X_train.shape"
   ]
  },
  {
   "cell_type": "markdown",
   "metadata": {},
   "source": [
    "Lets now create dataloader that enables us to iterate over the dataset in mini-batches instead of one observation at a time, and to shuffle the data while training the models. "
   ]
  },
  {
   "cell_type": "markdown",
   "metadata": {},
   "source": [
    "## Creating my Dataloader using numpy array"
   ]
  },
  {
   "cell_type": "code",
   "execution_count": 84,
   "metadata": {},
   "outputs": [],
   "source": [
    "## First convert the nupy array into tensors\n",
    "X_train, X_test, y_train, y_test=torch.Tensor(X_train),torch.Tensor(X_test),torch.Tensor(y_train),torch.Tensor(y_test)\n",
    "train_dataset = TensorDataset(X_train, y_train) ## creates a tuple of tensors (features, target)\n",
    "test_dataset = TensorDataset(X_test, y_test)\n",
    "\n",
    "# Create a DataLoader\n",
    "batch_size = 64\n",
    "shuffle = True\n",
    "num_workers = 4  # Number of parallel data loading processes\n",
    "train_loader = DataLoader(train_dataset, batch_size=batch_size, shuffle=shuffle, num_workers=num_workers)\n",
    "test_loader = DataLoader(test_dataset, batch_size=batch_size, shuffle=shuffle, num_workers=num_workers)\n"
   ]
  },
  {
   "cell_type": "code",
   "execution_count": 85,
   "metadata": {},
   "outputs": [
    {
     "data": {
      "text/plain": [
       "(tensor([ 0.3110, -0.3622,  0.5354,  0.2641]), tensor(1.))"
      ]
     },
     "execution_count": 85,
     "metadata": {},
     "output_type": "execute_result"
    }
   ],
   "source": [
    "train_dataset[0]"
   ]
  },
  {
   "cell_type": "markdown",
   "metadata": {},
   "source": [
    "## SIMPLE MLP models on the Iris dataset"
   ]
  },
  {
   "cell_type": "markdown",
   "metadata": {},
   "source": [
    "In PyTorch, everything related to neural networks is built using the torch.nn module. The network itself is written as a class that inherits from nn.Module, and, inside the class, we'll use nn to build the layers."
   ]
  },
  {
   "cell_type": "code",
   "execution_count": 86,
   "metadata": {},
   "outputs": [],
   "source": [
    "import torch.nn as nn\n",
    "class MLP(nn.Module):\n",
    "    def __init__(self, input_dim=28, output_dim=10):\n",
    "        super(MLP, self).__init__()\n",
    "        self.flatten = nn.Flatten()\n",
    "        self.hidden1 = nn.Linear(input_dim, 64)\n",
    "        self.activation= nn.ReLU()\n",
    "        self.hidden2 = nn.Linear(64, 32)\n",
    "        self.output = nn.Linear(32, output_dim)\n",
    "\n",
    "    def forward(self, x):\n",
    "        x = self.hidden1(x)\n",
    "        x = self.activation(x)\n",
    "        x = self.hidden2(x)\n",
    "        x = self.activation(x)\n",
    "        logits = self.output(x)\n",
    "        return logits"
   ]
  },
  {
   "cell_type": "code",
   "execution_count": 87,
   "metadata": {},
   "outputs": [
    {
     "name": "stdout",
     "output_type": "stream",
     "text": [
      "MLP(\n",
      "  (flatten): Flatten(start_dim=1, end_dim=-1)\n",
      "  (hidden1): Linear(in_features=4, out_features=64, bias=True)\n",
      "  (activation): ReLU()\n",
      "  (hidden2): Linear(in_features=64, out_features=32, bias=True)\n",
      "  (output): Linear(in_features=32, out_features=3, bias=True)\n",
      ")\n"
     ]
    }
   ],
   "source": [
    "# Create an instance of the model\n",
    "input_dim=4\n",
    "output_dim=3\n",
    "model = MLP(input_dim,output_dim)\n",
    "print(model)"
   ]
  },
  {
   "cell_type": "code",
   "execution_count": 88,
   "metadata": {},
   "outputs": [
    {
     "name": "stdout",
     "output_type": "stream",
     "text": [
      "Parameter hidden1.weight, shape torch.Size([64, 4])\n",
      "Parameter hidden1.bias, shape torch.Size([64])\n",
      "Parameter hidden2.weight, shape torch.Size([32, 64])\n",
      "Parameter hidden2.bias, shape torch.Size([32])\n",
      "Parameter output.weight, shape torch.Size([3, 32])\n",
      "Parameter output.bias, shape torch.Size([3])\n"
     ]
    }
   ],
   "source": [
    "for name, param in model.named_parameters():\n",
    "    print(f\"Parameter {name}, shape {param.shape}\")"
   ]
  },
  {
   "cell_type": "code",
   "execution_count": 56,
   "metadata": {},
   "outputs": [
    {
     "data": {
      "text/plain": [
       "torch.Size([1, 1000])"
      ]
     },
     "execution_count": 56,
     "metadata": {},
     "output_type": "execute_result"
    }
   ],
   "source": [
    "data = torch.rand(1, 3, 64, 64)\n",
    "labels = torch.rand(1, 1000)\n",
    "labels.shape"
   ]
  },
  {
   "cell_type": "markdown",
   "metadata": {},
   "source": [
    "## In tensorflow: you just do: model.fit(...).\n",
    "With Pytorch you have to work a little bit harder!"
   ]
  },
  {
   "cell_type": "code",
   "execution_count": 90,
   "metadata": {},
   "outputs": [
    {
     "name": "stderr",
     "output_type": "stream",
     "text": [
      "C:\\Users\\manso\\AppData\\Local\\Temp\\ipykernel_14164\\1160109764.py:17: UserWarning: To copy construct from a tensor, it is recommended to use sourceTensor.clone().detach() or sourceTensor.clone().detach().requires_grad_(True), rather than torch.tensor(sourceTensor).\n",
      "  targets = torch.tensor(targets, dtype=torch.long) ## maybe necessary sometimes\n"
     ]
    },
    {
     "name": "stdout",
     "output_type": "stream",
     "text": [
      "Train Epoch: 0 [0/120 (0%)]\tLoss: 0.771926\n",
      "Train Epoch: 1 [0/120 (0%)]\tLoss: 0.762588\n",
      "Train Epoch: 2 [0/120 (0%)]\tLoss: 0.773303\n",
      "Train Epoch: 3 [0/120 (0%)]\tLoss: 0.737701\n",
      "Train Epoch: 4 [0/120 (0%)]\tLoss: 0.713216\n",
      "Train Epoch: 5 [0/120 (0%)]\tLoss: 0.669624\n",
      "Train Epoch: 6 [0/120 (0%)]\tLoss: 0.691616\n",
      "Train Epoch: 7 [0/120 (0%)]\tLoss: 0.609659\n",
      "Train Epoch: 8 [0/120 (0%)]\tLoss: 0.598511\n",
      "Train Epoch: 9 [0/120 (0%)]\tLoss: 0.518237\n",
      "Train Epoch: 10 [0/120 (0%)]\tLoss: 0.568851\n",
      "Train Epoch: 11 [0/120 (0%)]\tLoss: 0.509526\n",
      "Train Epoch: 12 [0/120 (0%)]\tLoss: 0.433982\n",
      "Train Epoch: 13 [0/120 (0%)]\tLoss: 0.459366\n",
      "Train Epoch: 14 [0/120 (0%)]\tLoss: 0.461423\n"
     ]
    }
   ],
   "source": [
    "log_interval = 10\n",
    "# You can also specify the number of epochs and hyperparameters in the train_model function\n",
    "num_epochs=15\n",
    "\n",
    "# train the model\n",
    "loss_function = nn.CrossEntropyLoss()\n",
    "learning_rate=0.01\n",
    "momentum=0.9\n",
    "train_losses=[]\n",
    "model.train()\n",
    "# define the optimization\n",
    "optimizer = torch.optim.SGD(model.parameters(), lr=learning_rate, momentum=momentum)\n",
    "# enumerate epochs\n",
    "for epoch in range(num_epochs):\n",
    "    # enumerate mini batches\n",
    "    loss0=0.0\n",
    "    for batch_idx, (inputs, targets) in enumerate(train_loader):\n",
    "        targets = torch.tensor(targets, dtype=torch.long) ## maybe necessary sometimes\n",
    "        # clear the gradients\n",
    "        optimizer.zero_grad()\n",
    "        # compute the model output\n",
    "        yhat = model(inputs)\n",
    "        # calculate loss\n",
    "        loss = loss_function(yhat, targets)\n",
    "        loss0+=loss\n",
    "        # credit assignment\n",
    "        loss.backward()\n",
    "        ##gradient descent: update model weights\n",
    "        optimizer.step() \n",
    "        if batch_idx % log_interval == 0:\n",
    "            print('Train Epoch: {} [{}/{} ({:.0f}%)]\\tLoss: {:.6f}'.format(epoch, batch_idx * len(inputs), len(train_loader.dataset),\n",
    "            100. * batch_idx / len(train_loader), loss.item()))\n",
    "    loss0/=len(train_loader)\n",
    "    train_losses.append(loss0.item())\n"
   ]
  },
  {
   "cell_type": "code",
   "execution_count": 104,
   "metadata": {},
   "outputs": [
    {
     "data": {
      "text/plain": [
       "tensor(0.4324, grad_fn=<NllLossBackward0>)"
      ]
     },
     "execution_count": 104,
     "metadata": {},
     "output_type": "execute_result"
    }
   ],
   "source": [
    "loss"
   ]
  },
  {
   "cell_type": "code",
   "execution_count": 91,
   "metadata": {},
   "outputs": [
    {
     "data": {
      "text/plain": [
       "Text(0, 0.5, 'negative log likelihood loss')"
      ]
     },
     "execution_count": 91,
     "metadata": {},
     "output_type": "execute_result"
    },
    {
     "data": {
      "image/png": "[encoded data removed]",
      "text/plain": [
       "<Figure size 640x480 with 1 Axes>"
      ]
     },
     "metadata": {},
     "output_type": "display_data"
    }
   ],
   "source": [
    "fig = plt.figure()\n",
    "plt.plot( train_losses, color='blue')\n",
    "plt.legend(['Train Loss', 'Test Loss'], loc='upper right')\n",
    "plt.xlabel('number of epochs')\n",
    "plt.ylabel('negative log likelihood loss')\n"
   ]
  },
  {
   "cell_type": "markdown",
   "metadata": {},
   "source": [
    "## Evaluate the trained Neural Network"
   ]
  },
  {
   "cell_type": "code",
   "execution_count": 95,
   "metadata": {},
   "outputs": [
    {
     "name": "stdout",
     "output_type": "stream",
     "text": [
      "Accuracy of the network on the test dataset: 86 %\n"
     ]
    }
   ],
   "source": [
    "# Evaluation\n",
    "correct = 0\n",
    "total = 0\n",
    "model.eval()\n",
    "with torch.no_grad():\n",
    "    for samples, labels in test_loader:\n",
    "        y_hat = model(samples)\n",
    "        _, predicted = torch.max(y_hat.data, 1)\n",
    "        total += labels.size(0)\n",
    "        correct += (predicted == labels).sum().item()\n",
    "\n",
    "print('Accuracy of the network on the test dataset: %d %%' % (100 * correct / total))"
   ]
  },
  {
   "cell_type": "code",
   "execution_count": 98,
   "metadata": {},
   "outputs": [
    {
     "data": {
      "text/plain": [
       "torch.return_types.max(\n",
       "values=tensor([1.3950, 0.9741, 3.2006, 0.7369, 1.7452, 0.7646, 2.4267, 1.1672, 2.0615,\n",
       "        2.8506, 0.7003, 0.4765, 2.6596, 0.7286, 1.0782, 1.0090, 1.4388, 0.6137,\n",
       "        2.4479, 0.9227, 2.7267, 2.8710, 0.9932, 1.0790, 1.7849, 0.8427, 2.7791,\n",
       "        0.5386, 3.4010, 2.4357]),\n",
       "indices=tensor([2, 2, 0, 1, 2, 2, 0, 2, 2, 0, 1, 1, 0, 2, 2, 2, 2, 1, 0, 2, 0, 0, 2, 2,\n",
       "        2, 1, 0, 1, 0, 0]))"
      ]
     },
     "execution_count": 98,
     "metadata": {},
     "output_type": "execute_result"
    }
   ],
   "source": [
    " torch.max(y_hat.data, 1)"
   ]
  },
  {
   "cell_type": "code",
   "execution_count": 96,
   "metadata": {},
   "outputs": [
    {
     "data": {
      "text/plain": [
       "tensor([[-1.7957,  0.3904,  1.3950],\n",
       "        [-1.1149,  0.1945,  0.9741],\n",
       "        [ 3.2006, -1.4768, -1.3793],\n",
       "        [-0.9591,  0.7369,  0.4894],\n",
       "        [-2.0748,  0.2042,  1.7452],\n",
       "        [-1.3822,  0.6279,  0.7646],\n",
       "        [ 2.4267, -1.0311, -1.1261],\n",
       "        [-1.8066,  0.6599,  1.1672],\n",
       "        [-2.9430,  0.5469,  2.0615],\n",
       "        [ 2.8506, -1.0410, -1.4691],\n",
       "        [-0.9262,  0.7003,  0.4856],\n",
       "        [-0.5862,  0.4765,  0.3806],\n",
       "        [ 2.6596, -0.8646, -1.6105],\n",
       "        [-1.0526,  0.5294,  0.7286],\n",
       "        [-1.3288,  0.3065,  1.0782],\n",
       "        [-1.7370,  0.7569,  1.0090],\n",
       "        [-1.7854,  0.3307,  1.4388],\n",
       "        [-0.8392,  0.6137,  0.4629],\n",
       "        [ 2.4479, -0.9288, -1.2232],\n",
       "        [-1.3767,  0.5406,  0.9227],\n",
       "        [ 2.7267, -0.9688, -1.4383],\n",
       "        [ 2.8710, -1.0923, -1.4434],\n",
       "        [-1.5132,  0.6229,  0.9932],\n",
       "        [-1.4015,  0.4105,  1.0790],\n",
       "        [-2.5774,  0.5707,  1.7849],\n",
       "        [-0.9948,  0.8427,  0.3956],\n",
       "        [ 2.7791, -1.0138, -1.4284],\n",
       "        [-0.4428,  0.5386,  0.1224],\n",
       "        [ 3.4010, -1.3478, -1.7421],\n",
       "        [ 2.4357, -0.7488, -1.4216]])"
      ]
     },
     "execution_count": 96,
     "metadata": {},
     "output_type": "execute_result"
    }
   ],
   "source": [
    "y_hat"
   ]
  },
  {
   "cell_type": "code",
   "execution_count": 97,
   "metadata": {},
   "outputs": [
    {
     "data": {
      "text/plain": [
       "tensor([2, 2, 0, 1, 2, 2, 0, 2, 2, 0, 1, 1, 0, 2, 2, 2, 2, 1, 0, 2, 0, 0, 2, 2,\n",
       "        2, 1, 0, 1, 0, 0])"
      ]
     },
     "execution_count": 97,
     "metadata": {},
     "output_type": "execute_result"
    }
   ],
   "source": [
    "predicted"
   ]
  },
  {
   "cell_type": "markdown",
   "metadata": {},
   "source": [
    "## 3) Simple CNN model\n",
    "#Training the MLP model for image classification"
   ]
  },
  {
   "cell_type": "markdown",
   "metadata": {},
   "source": [
    "# 3.1) Fashion Mnist data"
   ]
  },
  {
   "cell_type": "code",
   "execution_count": 150,
   "metadata": {},
   "outputs": [],
   "source": [
    "from torchvision import datasets, transforms\n",
    "from torch.utils.data import DataLoader\n",
    "import torch,torchvision\n",
    "import torch.nn as nn\n",
    "import torch.optim as optim\n",
    "\n",
    "\n",
    "# MNIST dataset loading\n",
    "transform = transforms.Compose([transforms.ToTensor(), transforms.Normalize((0.5,), (0.5,))])\n",
    "train_dataset = datasets.FashionMNIST(root='./data', train=True, download=True, transform=transform)\n",
    "test_dataset = datasets.FashionMNIST(root='./data', train=False, download=True, transform=transform)\n",
    "\n",
    "train_loader = DataLoader(dataset=train_dataset, batch_size=64, shuffle=True)\n",
    "test_loader = DataLoader(dataset=test_dataset, batch_size=1000, shuffle=False)"
   ]
  },
  {
   "cell_type": "code",
   "execution_count": 2,
   "metadata": {},
   "outputs": [
    {
     "data": {
      "image/png": "[encoded data removed]",
      "text/plain": [
       "<Figure size 640x480 with 6 Axes>"
      ]
     },
     "metadata": {},
     "output_type": "display_data"
    }
   ],
   "source": [
    "import matplotlib.pyplot as plt\n",
    "examples = enumerate(test_loader)\n",
    "batch_idx, (example_data, example_targets) = next(examples)\n",
    "fig = plt.figure()\n",
    "for i in range(6):\n",
    "  plt.subplot(2,3,i+1)\n",
    "  plt.tight_layout()\n",
    "  plt.imshow(example_data[i][0], cmap='gray', interpolation='none')\n",
    "  plt.xticks([])\n",
    "  plt.yticks([])\n"
   ]
  },
  {
   "cell_type": "code",
   "execution_count": 147,
   "metadata": {},
   "outputs": [
    {
     "name": "stdout",
     "output_type": "stream",
     "text": [
      "CNN(\n",
      "  (conv1): Conv2d(1, 32, kernel_size=(5, 5), stride=(1, 1))\n",
      "  (pool): MaxPool2d(kernel_size=2, stride=2, padding=0, dilation=1, ceil_mode=False)\n",
      "  (conv2): Conv2d(32, 64, kernel_size=(5, 5), stride=(1, 1))\n",
      "  (fc1): Linear(in_features=1024, out_features=64, bias=True)\n",
      "  (fc2): Linear(in_features=64, out_features=32, bias=True)\n",
      "  (fc3): Linear(in_features=32, out_features=10, bias=True)\n",
      ")\n"
     ]
    }
   ],
   "source": [
    "import torch\n",
    "import torch.nn as nn\n",
    "import torch.nn.functional as F\n",
    "\n",
    "class CNN(nn.Module):\n",
    "    def __init__(self):\n",
    "        super(CNN, self).__init__()\n",
    "        self.conv1 = nn.Conv2d(1, 32, kernel_size=5) # Input channels = 1, output channels = 32\n",
    "        self.pool = nn.MaxPool2d(kernel_size=2, stride=2) # Pooling layer\n",
    "        self.conv2 = nn.Conv2d(32, 64, kernel_size=5) # Input channels = 32, output channels = 64\n",
    "        self.fc1 = nn.Linear(64 * 4 * 4,64) # Fully connected layer\n",
    "        self.fc2 = nn.Linear(64, 32) # Another fully connected layer\n",
    "        self.fc3 = nn.Linear(32,10) # Final layer with 10 outputs\n",
    "\n",
    "    def forward(self, x):\n",
    "        x=self.conv1(x)\n",
    "        x=F.relu(x)\n",
    "        x = self.pool(x)\n",
    "        x = self.pool(F.relu(self.conv2(x)))\n",
    "        x = x.view(-1, 64 * 4 * 4) # Flatten the tensor for the fully connected layer\n",
    "        x = F.relu(self.fc1(x))\n",
    "        x = F.relu(self.fc2(x))\n",
    "        x = self.fc3(x)\n",
    "        return x\n",
    "\n",
    "model = CNN()\n",
    "print(model)\n"
   ]
  },
  {
   "cell_type": "code",
   "execution_count": 146,
   "metadata": {},
   "outputs": [
    {
     "name": "stdout",
     "output_type": "stream",
     "text": [
      "<class 'torch.nn.modules.conv.Conv2d'>\n"
     ]
    }
   ],
   "source": [
    "print(nn.Conv2d)"
   ]
  },
  {
   "cell_type": "code",
   "execution_count": 28,
   "metadata": {},
   "outputs": [
    {
     "data": {
      "text/plain": [
       "3.5"
      ]
     },
     "execution_count": 28,
     "metadata": {},
     "output_type": "execute_result"
    }
   ],
   "source": [
    "32*4*4"
   ]
  },
  {
   "cell_type": "markdown",
   "metadata": {},
   "source": [
    "\n",
    "How to compute convlution  layer shapes:\n",
    "To compute the shape of the output tensor after applying a convolutional layer in a convolutional neural network (CNN), you can use the following formula:\n",
    "\n",
    "\n",
    "\\begin{align}\n",
    "\\text{Output height} = \\frac{{\\text{Input height} - \\text{Kernel size} + 2 \\times \\text{Padding}}}{{\\text{Stride}} + 1}\n",
    "\\end{align}\n",
    "\n",
    "\\begin{align}\n",
    "\\text{Output width}= \\frac{{\\text{Input width} - \\text{Kernel size} + 2 \\times \\text{Padding}}}{{\\text{Stride}} + 1}\n",
    "\\end{align}\n",
    "\n",
    "In our case:\n",
    "\n",
    "\n",
    "\\begin{align}\n",
    "\\text{Output height} = \\frac{28-5+2*0}{1+ 1}=11.5=12\n",
    "\\end{align}\n"
   ]
  },
  {
   "cell_type": "code",
   "execution_count": null,
   "metadata": {},
   "outputs": [],
   "source": []
  },
  {
   "cell_type": "markdown",
   "metadata": {},
   "source": [
    "How to compute Pooling  layer shapes:\n",
    "To compute the shape of the output tensor after applying a pooling layer in a convolutional neural network (CNN), you can use the following formula:\n",
    "\n",
    "\\begin{align}\n",
    "\\text{Output height} = \\left\\lfloor\\frac{\\text{Input height} - \\text{Pool size}}{{\\text{Stride}}}\\right\\rfloor + 1\n",
    "\\end{align}\n",
    "\\begin{align}\n",
    "\\text{Output width} = \\left\\lfloor\\frac{{\\text{Input width} - \\text{Pool size}}}{{\\text{Stride}}}\\right\\rfloor + 1\n",
    "\\end{align}\n",
    "\n",
    "In our case:\n",
    "\n",
    "\n",
    "\\begin{align}\n",
    "\\text{Output height} = \\frac{12-2}{1} +1=11\n",
    "\\end{align}\n"
   ]
  },
  {
   "cell_type": "markdown",
   "metadata": {},
   "source": [
    "\n"
   ]
  },
  {
   "cell_type": "code",
   "execution_count": 30,
   "metadata": {},
   "outputs": [
    {
     "data": {
      "text/plain": [
       "torch.Size([64, 1, 28, 28])"
      ]
     },
     "execution_count": 30,
     "metadata": {},
     "output_type": "execute_result"
    }
   ],
   "source": [
    "inputs.shape"
   ]
  },
  {
   "cell_type": "code",
   "execution_count": 151,
   "metadata": {},
   "outputs": [
    {
     "name": "stdout",
     "output_type": "stream",
     "text": [
      "Train Epoch: 0 \tLoss: 1204.722270\n",
      "Train Epoch: 1 \tLoss: 616.947682\n",
      "Train Epoch: 2 \tLoss: 527.406870\n",
      "Train Epoch: 3 \tLoss: 470.866647\n",
      "Train Epoch: 4 \tLoss: 430.818061\n",
      "Train Epoch: 5 \tLoss: 395.994670\n",
      "Train Epoch: 6 \tLoss: 372.802967\n",
      "Train Epoch: 7 \tLoss: 348.522525\n",
      "Train Epoch: 8 \tLoss: 330.398551\n",
      "Train Epoch: 9 \tLoss: 316.484676\n",
      "Finished Training\n"
     ]
    }
   ],
   "source": [
    "loss_function = nn.CrossEntropyLoss()\n",
    "optimizer = optim.SGD(model.parameters(), lr=0.001, momentum=0.9)\n",
    "num_epochs=10\n",
    "train_losses=[]\n",
    "for epoch in range(num_epochs):  # Loop over the dataset multiple times\n",
    "    epoch_loss = 0.0\n",
    "    for i, data in enumerate(train_loader, 0):\n",
    "        # get the inputs\n",
    "        inputs, labels = data\n",
    "\n",
    "        # zero the parameter gradients\n",
    "        optimizer.zero_grad()\n",
    "\n",
    "        # forward + backward + optimize\n",
    "        outputs = model(inputs)\n",
    "        loss = loss_function(outputs, labels)\n",
    "        loss.backward()\n",
    "        optimizer.step()\n",
    "\n",
    "        # print statistics\n",
    "        epoch_loss += loss.item()\n",
    "    \n",
    "\n",
    "    print('Train Epoch: {} \\tLoss: {:.6f}'.format(epoch, epoch_loss))\n",
    "    train_losses.append(epoch_loss)\n",
    "        \n",
    "print('Finished Training')"
   ]
  },
  {
   "cell_type": "code",
   "execution_count": 10,
   "metadata": {},
   "outputs": [
    {
     "data": {
      "text/plain": [
       "torch.Size([32, 1, 28, 28])"
      ]
     },
     "execution_count": 10,
     "metadata": {},
     "output_type": "execute_result"
    }
   ],
   "source": [
    "inputs.shape"
   ]
  },
  {
   "cell_type": "code",
   "execution_count": 11,
   "metadata": {},
   "outputs": [
    {
     "data": {
      "text/plain": [
       "7"
      ]
     },
     "execution_count": 11,
     "metadata": {},
     "output_type": "execute_result"
    }
   ],
   "source": [
    "28//4"
   ]
  },
  {
   "cell_type": "code",
   "execution_count": 152,
   "metadata": {},
   "outputs": [
    {
     "name": "stdout",
     "output_type": "stream",
     "text": [
      "Accuracy of the network on the 10000 test images: 87 %\n"
     ]
    }
   ],
   "source": [
    "# Evaluate the Model\n",
    "correct = 0\n",
    "total = 0\n",
    "with torch.no_grad(): #Disables gradient calculation, useful for inference since it reduces memory usage and speeds up computations.\n",
    "    for data in test_loader:\n",
    "        images, labels = data\n",
    "        outputs = model(images)\n",
    "        _, predicted = torch.max(outputs.data, 1)\n",
    "        total += labels.size(0)\n",
    "        correct += (predicted == labels).sum().item()\n",
    "\n",
    "print('Accuracy of the network on the 10000 test images: %d %%' % (100 * correct / total))\n"
   ]
  },
  {
   "cell_type": "code",
   "execution_count": 153,
   "metadata": {},
   "outputs": [
    {
     "data": {
      "text/plain": [
       "Text(0, 0.5, 'negative log likelihood loss')"
      ]
     },
     "execution_count": 153,
     "metadata": {},
     "output_type": "execute_result"
    },
    {
     "data": {
      "image/png": "[encoded data removed]",
      "text/plain": [
       "<Figure size 640x480 with 1 Axes>"
      ]
     },
     "metadata": {},
     "output_type": "display_data"
    }
   ],
   "source": [
    "fig = plt.figure()\n",
    "plt.plot( train_losses, color='blue')\n",
    "plt.legend(['Train Loss', 'Test Loss'], loc='upper right')\n",
    "plt.xlabel('number of epochs')\n",
    "plt.ylabel('negative log likelihood loss')\n"
   ]
  },
  {
   "cell_type": "code",
   "execution_count": 160,
   "metadata": {},
   "outputs": [
    {
     "name": "stderr",
     "output_type": "stream",
     "text": [
      "C:\\Users\\manso\\AppData\\Local\\Temp\\ipykernel_94232\\260167470.py:20: MatplotlibDeprecationWarning: Auto-removal of overlapping axes is deprecated since 3.6 and will be removed two minor releases later; explicitly call ax.remove() as needed.\n",
      "  plt.subplot(2,3,i+1)\n"
     ]
    },
    {
     "data": {
      "image/png": "[encoded data removed]",
      "text/plain": [
       "<Figure size 1200x1400 with 5 Axes>"
      ]
     },
     "metadata": {},
     "output_type": "display_data"
    }
   ],
   "source": [
    "examples = enumerate(test_loader)\n",
    "batch_idx, (example_data, example_targets) = next(examples)\n",
    "outputs = model(example_data)\n",
    "_, predicted = torch.max(outputs.data, 1)\n",
    "output_mapping = {\n",
    "                 0: \"T-shirt/Top\",\n",
    "                 1: \"Trouser\",\n",
    "                 2: \"Pullover\",\n",
    "                 3: \"Dress\",\n",
    "                 4: \"Coat\", \n",
    "                 5: \"Sandal\", \n",
    "                 6: \"Shirt\",\n",
    "                 7: \"Sneaker\",\n",
    "                 8: \"Bag\",\n",
    "                 9: \"Ankle Boot\"\n",
    "                 }\n",
    "import matplotlib.pyplot as plt\n",
    "fig = plt.figure(figsize=(12,14))\n",
    "for i in range(6):\n",
    "  plt.subplot(2,3,i+1)\n",
    "  plt.tight_layout()\n",
    "  plt.imshow(example_data[i][0], cmap='gray', interpolation='none')\n",
    "  plt.title(\"actual label {0} and Prediction: {1}\".format(output_mapping[predicted[i].item()],output_mapping[example_targets[i].item()]))\n",
    "  plt.xticks([])\n",
    "  plt.yticks([])\n",
    "#fig\n"
   ]
  },
  {
   "cell_type": "code",
   "execution_count": 155,
   "metadata": {},
   "outputs": [
    {
     "data": {
      "text/plain": [
       "tensor(9)"
      ]
     },
     "execution_count": 155,
     "metadata": {},
     "output_type": "execute_result"
    }
   ],
   "source": [
    "example_targets[i]"
   ]
  },
  {
   "cell_type": "markdown",
   "metadata": {},
   "source": [
    "# 3.2) CIFAR10 data sets"
   ]
  },
  {
   "cell_type": "code",
   "execution_count": 161,
   "metadata": {
    "scrolled": true
   },
   "outputs": [
    {
     "name": "stdout",
     "output_type": "stream",
     "text": [
      "Files already downloaded and verified\n",
      "Files already downloaded and verified\n"
     ]
    }
   ],
   "source": [
    "from torchvision import datasets, transforms\n",
    "from torch.utils.data import DataLoader\n",
    "import torch\n",
    "## We transform them to Tensors of normalized range [-1, 1]\n",
    "#DataLoader:  creating iterable data loaders that help efficiently load and manage large datasets for training machine learning models, especially deep neural networks.\n",
    "transform = transforms.Compose([transforms.ToTensor(),transforms.Normalize((0.5, 0.5, 0.5), (0.5, 0.5, 0.5))])\n",
    "\n",
    "batch_size = 64 ## the batch size\n",
    "\n",
    "trainset = datasets.CIFAR10(root='./data', train=True, ## download the dataset\n",
    "                                        download=True, transform=transform)\n",
    "trainloader = torch.utils.data.DataLoader(trainset, batch_size=batch_size,\n",
    "                                          shuffle=True, num_workers=2)\n",
    "\n",
    "testset = datasets.CIFAR10(root='./data', train=False,\n",
    "                                       download=True, transform=transform)\n",
    "testloader = torch.utils.data.DataLoader(testset, batch_size=batch_size,\n",
    "                                         shuffle=False, num_workers=2)\n",
    "\n",
    "classes = ('plane', 'car', 'bird', 'cat',\n",
    "           'deer', 'dog', 'frog', 'horse', 'ship', 'truck')"
   ]
  },
  {
   "cell_type": "code",
   "execution_count": 162,
   "metadata": {},
   "outputs": [
    {
     "name": "stderr",
     "output_type": "stream",
     "text": [
      "Clipping input data to the valid range for imshow with RGB data ([0..1] for floats or [0..255] for integers).\n",
      "Clipping input data to the valid range for imshow with RGB data ([0..1] for floats or [0..255] for integers).\n",
      "Clipping input data to the valid range for imshow with RGB data ([0..1] for floats or [0..255] for integers).\n"
     ]
    },
    {
     "data": {
      "image/png": "[encoded data removed]",
      "text/plain": [
       "<Figure size 640x480 with 3 Axes>"
      ]
     },
     "metadata": {},
     "output_type": "display_data"
    }
   ],
   "source": [
    "import matplotlib.pyplot as plt\n",
    "import numpy as np\n",
    "fig = plt.figure()\n",
    "for i in range(3):\n",
    "    plt.subplot(2,3,i+1)\n",
    "    plt.tight_layout()\n",
    "    img = testset[i][0] / 2 + 0.5     # unnormalize\n",
    "    npimg = testset[i][0].numpy()\n",
    "    plt.imshow(np.transpose(npimg, (1, 2, 0)))\n",
    "    plt.xticks([])\n",
    "    plt.yticks([])"
   ]
  },
  {
   "cell_type": "code",
   "execution_count": 164,
   "metadata": {},
   "outputs": [
    {
     "data": {
      "text/plain": [
       "torch.Size([3, 32, 32])"
      ]
     },
     "execution_count": 164,
     "metadata": {},
     "output_type": "execute_result"
    }
   ],
   "source": [
    "img.shape"
   ]
  },
  {
   "cell_type": "code",
   "execution_count": 167,
   "metadata": {},
   "outputs": [
    {
     "name": "stdout",
     "output_type": "stream",
     "text": [
      "torch.Size([3, 32, 32])\n",
      "torch.Size([3, 1024])\n"
     ]
    }
   ],
   "source": [
    "x=img\n",
    "print(img.shape)\n",
    "x = x.view(-1, 32*32)\n",
    "print(x.shape)\n"
   ]
  },
  {
   "cell_type": "code",
   "execution_count": 169,
   "metadata": {},
   "outputs": [
    {
     "data": {
      "text/plain": [
       "torch.Size([3, 1024])"
      ]
     },
     "execution_count": 169,
     "metadata": {},
     "output_type": "execute_result"
    }
   ],
   "source": [
    "img.reshape(-1,32*32).shape"
   ]
  },
  {
   "cell_type": "code",
   "execution_count": 23,
   "metadata": {},
   "outputs": [
    {
     "name": "stdout",
     "output_type": "stream",
     "text": [
      "CifarCNN(\n",
      "  (conv1): Conv2d(3, 6, kernel_size=(5, 5), stride=(1, 1))\n",
      "  (pool): MaxPool2d(kernel_size=2, stride=2, padding=0, dilation=1, ceil_mode=False)\n",
      "  (conv2): Conv2d(6, 16, kernel_size=(5, 5), stride=(1, 1))\n",
      "  (fc1): Linear(in_features=400, out_features=120, bias=True)\n",
      "  (fc2): Linear(in_features=120, out_features=84, bias=True)\n",
      "  (fc3): Linear(in_features=84, out_features=10, bias=True)\n",
      ")\n"
     ]
    }
   ],
   "source": [
    "class CifarCNN(nn.Module):\n",
    "    def __init__(self):\n",
    "        super(CifarCNN, self).__init__()\n",
    "        self.conv1 = nn.Conv2d(3, 6, 5)\n",
    "        self.pool = nn.MaxPool2d(2, 2)\n",
    "        self.conv2 = nn.Conv2d(6, 16, 5)\n",
    "        self.fc1 = nn.Linear(16 * 5 * 5, 120)\n",
    "        self.fc2 = nn.Linear(120, 84)\n",
    "        self.fc3 = nn.Linear(84, 10)\n",
    "\n",
    "    def forward(self, x):\n",
    "        x = self.pool(F.relu(self.conv1(x)))\n",
    "        x = self.pool(F.relu(self.conv2(x)))\n",
    "        x = x.view(-1, 16 * 5 * 5)\n",
    "        x = F.relu(self.fc1(x))\n",
    "        x = F.relu(self.fc2(x))\n",
    "        x = self.fc3(x)\n",
    "        return x\n",
    "\n",
    "\n",
    "model = CifarCNN()\n",
    "print(model)"
   ]
  },
  {
   "cell_type": "code",
   "execution_count": 25,
   "metadata": {},
   "outputs": [
    {
     "name": "stdout",
     "output_type": "stream",
     "text": [
      "Finished Training\n"
     ]
    }
   ],
   "source": [
    "criterion = nn.CrossEntropyLoss()\n",
    "optimizer = optim.SGD(model.parameters(), lr=0.001, momentum=0.9)\n",
    "model.train()\n",
    "for epoch in range(2):  # loop over the dataset multiple times\n",
    "\n",
    "    running_loss = 0.0\n",
    "    for i, data in enumerate(trainloader, 0):\n",
    "        # get the inputs\n",
    "        inputs, labels = data\n",
    "\n",
    "        # zero the parameter gradients\n",
    "        optimizer.zero_grad()\n",
    "\n",
    "        # forward + backward + optimize\n",
    "        outputs = model(inputs)\n",
    "        loss = criterion(outputs, labels)\n",
    "        loss.backward()\n",
    "        optimizer.step()\n",
    "\n",
    "        # print statistics\n",
    "        running_loss += loss.item()\n",
    "        if i % 2000 == 1999:    # print every 2000 mini-batches\n",
    "            print('[%d, %5d] loss: %.3f' %\n",
    "                  (epoch + 1, i + 1, running_loss / 2000))\n",
    "            running_loss = 0.0\n",
    "\n",
    "print('Finished Training')"
   ]
  },
  {
   "cell_type": "code",
   "execution_count": null,
   "metadata": {},
   "outputs": [],
   "source": []
  },
  {
   "cell_type": "markdown",
   "metadata": {},
   "source": [
    "# 3) Pytorch 3 : RNN:  LSTM network for multi-variate time series "
   ]
  },
  {
   "cell_type": "code",
   "execution_count": 142,
   "metadata": {},
   "outputs": [
    {
     "data": {
      "text/html": [
       "<img src=\"https://miro.medium.com/v2/resize:fit:1100/format:webp/1*goJVQs-p9kgLODFNyhl9zA.gif\"/>"
      ],
      "text/plain": [
       "<IPython.core.display.Image object>"
      ]
     },
     "execution_count": 142,
     "metadata": {},
     "output_type": "execute_result"
    }
   ],
   "source": [
    "from IPython.display import Image\n",
    "from IPython.core.display import HTML \n",
    "Image(url= \"https://miro.medium.com/v2/resize:fit:1100/format:webp/1*goJVQs-p9kgLODFNyhl9zA.gif\")"
   ]
  },
  {
   "cell_type": "code",
   "execution_count": 177,
   "metadata": {},
   "outputs": [
    {
     "data": {
      "text/html": [
       "<div>\n",
       "<style scoped>\n",
       "    .dataframe tbody tr th:only-of-type {\n",
       "        vertical-align: middle;\n",
       "    }\n",
       "\n",
       "    .dataframe tbody tr th {\n",
       "        vertical-align: top;\n",
       "    }\n",
       "\n",
       "    .dataframe thead th {\n",
       "        text-align: right;\n",
       "    }\n",
       "</style>\n",
       "<table border=\"1\" class=\"dataframe\">\n",
       "  <thead>\n",
       "    <tr style=\"text-align: right;\">\n",
       "      <th></th>\n",
       "      <th>pollution</th>\n",
       "      <th>dew</th>\n",
       "      <th>temp</th>\n",
       "      <th>press</th>\n",
       "      <th>wnd_dir</th>\n",
       "      <th>wnd_spd</th>\n",
       "      <th>snow</th>\n",
       "      <th>rain</th>\n",
       "    </tr>\n",
       "    <tr>\n",
       "      <th>date</th>\n",
       "      <th></th>\n",
       "      <th></th>\n",
       "      <th></th>\n",
       "      <th></th>\n",
       "      <th></th>\n",
       "      <th></th>\n",
       "      <th></th>\n",
       "      <th></th>\n",
       "    </tr>\n",
       "  </thead>\n",
       "  <tbody>\n",
       "    <tr>\n",
       "      <th>2010-01-02 00:00:00</th>\n",
       "      <td>129.0</td>\n",
       "      <td>-16</td>\n",
       "      <td>-4.0</td>\n",
       "      <td>1020.0</td>\n",
       "      <td>SE</td>\n",
       "      <td>1.79</td>\n",
       "      <td>0</td>\n",
       "      <td>0</td>\n",
       "    </tr>\n",
       "    <tr>\n",
       "      <th>2010-01-02 01:00:00</th>\n",
       "      <td>148.0</td>\n",
       "      <td>-15</td>\n",
       "      <td>-4.0</td>\n",
       "      <td>1020.0</td>\n",
       "      <td>SE</td>\n",
       "      <td>2.68</td>\n",
       "      <td>0</td>\n",
       "      <td>0</td>\n",
       "    </tr>\n",
       "    <tr>\n",
       "      <th>2010-01-02 02:00:00</th>\n",
       "      <td>159.0</td>\n",
       "      <td>-11</td>\n",
       "      <td>-5.0</td>\n",
       "      <td>1021.0</td>\n",
       "      <td>SE</td>\n",
       "      <td>3.57</td>\n",
       "      <td>0</td>\n",
       "      <td>0</td>\n",
       "    </tr>\n",
       "    <tr>\n",
       "      <th>2010-01-02 03:00:00</th>\n",
       "      <td>181.0</td>\n",
       "      <td>-7</td>\n",
       "      <td>-5.0</td>\n",
       "      <td>1022.0</td>\n",
       "      <td>SE</td>\n",
       "      <td>5.36</td>\n",
       "      <td>1</td>\n",
       "      <td>0</td>\n",
       "    </tr>\n",
       "    <tr>\n",
       "      <th>2010-01-02 04:00:00</th>\n",
       "      <td>138.0</td>\n",
       "      <td>-7</td>\n",
       "      <td>-5.0</td>\n",
       "      <td>1022.0</td>\n",
       "      <td>SE</td>\n",
       "      <td>6.25</td>\n",
       "      <td>2</td>\n",
       "      <td>0</td>\n",
       "    </tr>\n",
       "  </tbody>\n",
       "</table>\n",
       "</div>"
      ],
      "text/plain": [
       "                     pollution  dew  temp   press wnd_dir  wnd_spd  snow  rain\n",
       "date                                                                          \n",
       "2010-01-02 00:00:00      129.0  -16  -4.0  1020.0      SE     1.79     0     0\n",
       "2010-01-02 01:00:00      148.0  -15  -4.0  1020.0      SE     2.68     0     0\n",
       "2010-01-02 02:00:00      159.0  -11  -5.0  1021.0      SE     3.57     0     0\n",
       "2010-01-02 03:00:00      181.0   -7  -5.0  1022.0      SE     5.36     1     0\n",
       "2010-01-02 04:00:00      138.0   -7  -5.0  1022.0      SE     6.25     2     0"
      ]
     },
     "execution_count": 177,
     "metadata": {},
     "output_type": "execute_result"
    }
   ],
   "source": [
    "import pandas as pd\n",
    "from sklearn.model_selection import train_test_split\n",
    "from sklearn.preprocessing import StandardScaler\n",
    "from torch.utils.data import  TensorDataset\n",
    "\n",
    "DATAPATH = \"https://www.i3s.unice.fr/~riveill/dataset/pollution.csv\"\n",
    "#DATAPATH = \"https://www.i3s.unice.fr/~riveill/dataset/precipitation.csv.zip\"\n",
    "data = pd.read_csv(DATAPATH, sep=\",\", header=0, index_col=0)\n",
    "\n",
    "# Read the dataset\n",
    "#data = pd.read_csv(DATAPATH, sep=\"\\t\", engine='python', on_bad_lines=\"skip\")\n",
    "data.head()"
   ]
  },
  {
   "cell_type": "code",
   "execution_count": 36,
   "metadata": {},
   "outputs": [
    {
     "data": {
      "image/png": "[encoded data removed]",
      "text/plain": [
       "<Figure size 640x480 with 8 Axes>"
      ]
     },
     "metadata": {},
     "output_type": "display_data"
    }
   ],
   "source": [
    "plt.figure()\n",
    "for i, column in enumerate(data.columns):\n",
    "    plt.subplot(len(data.columns), 1, i+1)\n",
    "    plt.plot(data[column].to_numpy())\n",
    "    plt.title(column, y=0.5, loc='right')\n",
    "plt.show()"
   ]
  },
  {
   "cell_type": "code",
   "execution_count": 37,
   "metadata": {},
   "outputs": [
    {
     "data": {
      "text/plain": [
       "8"
      ]
     },
     "execution_count": 37,
     "metadata": {},
     "output_type": "execute_result"
    }
   ],
   "source": []
  },
  {
   "cell_type": "code",
   "execution_count": 59,
   "metadata": {},
   "outputs": [
    {
     "data": {
      "text/plain": [
       "pollution    float64\n",
       "dew            int64\n",
       "temp         float64\n",
       "press        float64\n",
       "wnd_dir       object\n",
       "wnd_spd      float64\n",
       "snow           int64\n",
       "rain           int64\n",
       "dtype: object"
      ]
     },
     "execution_count": 59,
     "metadata": {},
     "output_type": "execute_result"
    }
   ],
   "source": [
    "data.dtypes"
   ]
  },
  {
   "cell_type": "code",
   "execution_count": 117,
   "metadata": {},
   "outputs": [
    {
     "data": {
      "text/plain": [
       "['pollution', 'dew', 'temp', 'press', 'wnd_spd', 'snow', 'rain']"
      ]
     },
     "execution_count": 117,
     "metadata": {},
     "output_type": "execute_result"
    }
   ],
   "source": [
    "numeric_features"
   ]
  },
  {
   "cell_type": "code",
   "execution_count": 184,
   "metadata": {},
   "outputs": [
    {
     "data": {
      "text/html": [
       "<div>\n",
       "<style scoped>\n",
       "    .dataframe tbody tr th:only-of-type {\n",
       "        vertical-align: middle;\n",
       "    }\n",
       "\n",
       "    .dataframe tbody tr th {\n",
       "        vertical-align: top;\n",
       "    }\n",
       "\n",
       "    .dataframe thead th {\n",
       "        text-align: right;\n",
       "    }\n",
       "</style>\n",
       "<table border=\"1\" class=\"dataframe\">\n",
       "  <thead>\n",
       "    <tr style=\"text-align: right;\">\n",
       "      <th></th>\n",
       "      <th>pollution(t-12)</th>\n",
       "      <th>dew(t-12)</th>\n",
       "      <th>temp(t-12)</th>\n",
       "      <th>press(t-12)</th>\n",
       "      <th>wnd_spd(t-12)</th>\n",
       "      <th>snow(t-12)</th>\n",
       "      <th>rain(t-12)</th>\n",
       "      <th>pollution(t-11)</th>\n",
       "      <th>dew(t-11)</th>\n",
       "      <th>temp(t-11)</th>\n",
       "      <th>...</th>\n",
       "      <th>wnd_spd(t-2)</th>\n",
       "      <th>snow(t-2)</th>\n",
       "      <th>rain(t-2)</th>\n",
       "      <th>pollution(t-1)</th>\n",
       "      <th>dew(t-1)</th>\n",
       "      <th>temp(t-1)</th>\n",
       "      <th>press(t-1)</th>\n",
       "      <th>wnd_spd(t-1)</th>\n",
       "      <th>snow(t-1)</th>\n",
       "      <th>rain(t-1)</th>\n",
       "    </tr>\n",
       "    <tr>\n",
       "      <th>date</th>\n",
       "      <th></th>\n",
       "      <th></th>\n",
       "      <th></th>\n",
       "      <th></th>\n",
       "      <th></th>\n",
       "      <th></th>\n",
       "      <th></th>\n",
       "      <th></th>\n",
       "      <th></th>\n",
       "      <th></th>\n",
       "      <th></th>\n",
       "      <th></th>\n",
       "      <th></th>\n",
       "      <th></th>\n",
       "      <th></th>\n",
       "      <th></th>\n",
       "      <th></th>\n",
       "      <th></th>\n",
       "      <th></th>\n",
       "      <th></th>\n",
       "      <th></th>\n",
       "    </tr>\n",
       "  </thead>\n",
       "  <tbody>\n",
       "    <tr>\n",
       "      <th>2010-01-02 12:00:00</th>\n",
       "      <td>129.0</td>\n",
       "      <td>-1.235589</td>\n",
       "      <td>-1.349849</td>\n",
       "      <td>0.345886</td>\n",
       "      <td>-0.441890</td>\n",
       "      <td>-0.069372</td>\n",
       "      <td>-0.137706</td>\n",
       "      <td>148.0</td>\n",
       "      <td>-1.166285</td>\n",
       "      <td>-1.349849</td>\n",
       "      <td>...</td>\n",
       "      <td>-0.129229</td>\n",
       "      <td>1.245425</td>\n",
       "      <td>-0.137706</td>\n",
       "      <td>152.0</td>\n",
       "      <td>-0.681156</td>\n",
       "      <td>-1.431862</td>\n",
       "      <td>0.930038</td>\n",
       "      <td>-0.066657</td>\n",
       "      <td>-0.069372</td>\n",
       "      <td>-0.137706</td>\n",
       "    </tr>\n",
       "    <tr>\n",
       "      <th>2010-01-02 13:00:00</th>\n",
       "      <td>148.0</td>\n",
       "      <td>-1.166285</td>\n",
       "      <td>-1.349849</td>\n",
       "      <td>0.345886</td>\n",
       "      <td>-0.424098</td>\n",
       "      <td>-0.069372</td>\n",
       "      <td>-0.137706</td>\n",
       "      <td>159.0</td>\n",
       "      <td>-0.889069</td>\n",
       "      <td>-1.431862</td>\n",
       "      <td>...</td>\n",
       "      <td>-0.066657</td>\n",
       "      <td>-0.069372</td>\n",
       "      <td>-0.137706</td>\n",
       "      <td>148.0</td>\n",
       "      <td>-0.681156</td>\n",
       "      <td>-1.431862</td>\n",
       "      <td>0.930038</td>\n",
       "      <td>-0.004084</td>\n",
       "      <td>-0.069372</td>\n",
       "      <td>-0.137706</td>\n",
       "    </tr>\n",
       "    <tr>\n",
       "      <th>2010-01-02 14:00:00</th>\n",
       "      <td>159.0</td>\n",
       "      <td>-0.889069</td>\n",
       "      <td>-1.431862</td>\n",
       "      <td>0.443244</td>\n",
       "      <td>-0.406306</td>\n",
       "      <td>-0.069372</td>\n",
       "      <td>-0.137706</td>\n",
       "      <td>181.0</td>\n",
       "      <td>-0.611852</td>\n",
       "      <td>-1.431862</td>\n",
       "      <td>...</td>\n",
       "      <td>-0.004084</td>\n",
       "      <td>-0.069372</td>\n",
       "      <td>-0.137706</td>\n",
       "      <td>164.0</td>\n",
       "      <td>-0.681156</td>\n",
       "      <td>-1.431862</td>\n",
       "      <td>0.832679</td>\n",
       "      <td>0.076280</td>\n",
       "      <td>-0.069372</td>\n",
       "      <td>-0.137706</td>\n",
       "    </tr>\n",
       "    <tr>\n",
       "      <th>2010-01-02 15:00:00</th>\n",
       "      <td>181.0</td>\n",
       "      <td>-0.611852</td>\n",
       "      <td>-1.431862</td>\n",
       "      <td>0.540603</td>\n",
       "      <td>-0.370522</td>\n",
       "      <td>1.245425</td>\n",
       "      <td>-0.137706</td>\n",
       "      <td>138.0</td>\n",
       "      <td>-0.611852</td>\n",
       "      <td>-1.431862</td>\n",
       "      <td>...</td>\n",
       "      <td>0.076280</td>\n",
       "      <td>-0.069372</td>\n",
       "      <td>-0.137706</td>\n",
       "      <td>158.0</td>\n",
       "      <td>-0.750461</td>\n",
       "      <td>-1.431862</td>\n",
       "      <td>0.832679</td>\n",
       "      <td>0.156644</td>\n",
       "      <td>-0.069372</td>\n",
       "      <td>-0.137706</td>\n",
       "    </tr>\n",
       "    <tr>\n",
       "      <th>2010-01-02 16:00:00</th>\n",
       "      <td>138.0</td>\n",
       "      <td>-0.611852</td>\n",
       "      <td>-1.431862</td>\n",
       "      <td>0.540603</td>\n",
       "      <td>-0.352730</td>\n",
       "      <td>2.560223</td>\n",
       "      <td>-0.137706</td>\n",
       "      <td>109.0</td>\n",
       "      <td>-0.611852</td>\n",
       "      <td>-1.513874</td>\n",
       "      <td>...</td>\n",
       "      <td>0.156644</td>\n",
       "      <td>-0.069372</td>\n",
       "      <td>-0.137706</td>\n",
       "      <td>154.0</td>\n",
       "      <td>-0.750461</td>\n",
       "      <td>-1.431862</td>\n",
       "      <td>0.832679</td>\n",
       "      <td>0.237009</td>\n",
       "      <td>-0.069372</td>\n",
       "      <td>-0.137706</td>\n",
       "    </tr>\n",
       "  </tbody>\n",
       "</table>\n",
       "<p>5 rows × 84 columns</p>\n",
       "</div>"
      ],
      "text/plain": [
       "                     pollution(t-12)  dew(t-12)  temp(t-12)  press(t-12)  \\\n",
       "date                                                                       \n",
       "2010-01-02 12:00:00            129.0  -1.235589   -1.349849     0.345886   \n",
       "2010-01-02 13:00:00            148.0  -1.166285   -1.349849     0.345886   \n",
       "2010-01-02 14:00:00            159.0  -0.889069   -1.431862     0.443244   \n",
       "2010-01-02 15:00:00            181.0  -0.611852   -1.431862     0.540603   \n",
       "2010-01-02 16:00:00            138.0  -0.611852   -1.431862     0.540603   \n",
       "\n",
       "                     wnd_spd(t-12)  snow(t-12)  rain(t-12)  pollution(t-11)  \\\n",
       "date                                                                          \n",
       "2010-01-02 12:00:00      -0.441890   -0.069372   -0.137706            148.0   \n",
       "2010-01-02 13:00:00      -0.424098   -0.069372   -0.137706            159.0   \n",
       "2010-01-02 14:00:00      -0.406306   -0.069372   -0.137706            181.0   \n",
       "2010-01-02 15:00:00      -0.370522    1.245425   -0.137706            138.0   \n",
       "2010-01-02 16:00:00      -0.352730    2.560223   -0.137706            109.0   \n",
       "\n",
       "                     dew(t-11)  temp(t-11)  ...  wnd_spd(t-2)  snow(t-2)  \\\n",
       "date                                        ...                            \n",
       "2010-01-02 12:00:00  -1.166285   -1.349849  ...     -0.129229   1.245425   \n",
       "2010-01-02 13:00:00  -0.889069   -1.431862  ...     -0.066657  -0.069372   \n",
       "2010-01-02 14:00:00  -0.611852   -1.431862  ...     -0.004084  -0.069372   \n",
       "2010-01-02 15:00:00  -0.611852   -1.431862  ...      0.076280  -0.069372   \n",
       "2010-01-02 16:00:00  -0.611852   -1.513874  ...      0.156644  -0.069372   \n",
       "\n",
       "                     rain(t-2)  pollution(t-1)  dew(t-1)  temp(t-1)  \\\n",
       "date                                                                  \n",
       "2010-01-02 12:00:00  -0.137706           152.0 -0.681156  -1.431862   \n",
       "2010-01-02 13:00:00  -0.137706           148.0 -0.681156  -1.431862   \n",
       "2010-01-02 14:00:00  -0.137706           164.0 -0.681156  -1.431862   \n",
       "2010-01-02 15:00:00  -0.137706           158.0 -0.750461  -1.431862   \n",
       "2010-01-02 16:00:00  -0.137706           154.0 -0.750461  -1.431862   \n",
       "\n",
       "                     press(t-1)  wnd_spd(t-1)  snow(t-1)  rain(t-1)  \n",
       "date                                                                 \n",
       "2010-01-02 12:00:00    0.930038     -0.066657  -0.069372  -0.137706  \n",
       "2010-01-02 13:00:00    0.930038     -0.004084  -0.069372  -0.137706  \n",
       "2010-01-02 14:00:00    0.832679      0.076280  -0.069372  -0.137706  \n",
       "2010-01-02 15:00:00    0.832679      0.156644  -0.069372  -0.137706  \n",
       "2010-01-02 16:00:00    0.832679      0.237009  -0.069372  -0.137706  \n",
       "\n",
       "[5 rows x 84 columns]"
      ]
     },
     "execution_count": 184,
     "metadata": {},
     "output_type": "execute_result"
    }
   ],
   "source": [
    "def series_to_supervised(data, n_in=3, n_out=1, output=None, dropnan=True):\n",
    "    n_vars = 1 if type(data) is list else data.shape[1]\n",
    "    output =  [data.columns[-1]] if output is None else output\n",
    "    df = pd.DataFrame(data)\n",
    "    cols, names = list(), list()\n",
    "    \n",
    "    # input sequence (t-n, ... t-1)\n",
    "    for i in range(n_in, 0, -1):\n",
    "        cols += [df.shift(i)]\n",
    "        names += [('%s(t-%d)' % (j, i)) for j in data.columns]\n",
    "    \n",
    "    # forecast sequence (t, t+1, ... t+n)\n",
    "    for i in range(0, n_out):\n",
    "        cols += [df[output].shift(-i)]\n",
    "        if i == 0:\n",
    "            names += [('%s(t)' % (j)) for j in output]\n",
    "        else:\n",
    "            names += [('%s(t+%d)' % (j, i)) for j in output]\n",
    "    \n",
    "    # put it all together\n",
    "    agg = pd.concat(cols, axis=1)\n",
    "    agg.columns = names\n",
    "    \n",
    "    # drop rows with NaN values\n",
    "    if dropnan:\n",
    "        agg.dropna(inplace=True)\n",
    "    return agg\n",
    "\n",
    "scaler = StandardScaler()\n",
    "\n",
    "numeric_features = [i for i in data.columns if data[i].dtypes!=\"object\"]\n",
    "\n",
    "features_to_scale=['dew', 'temp', 'press', 'wnd_spd', 'snow', 'rain']\n",
    "\n",
    "X_data = data[numeric_features].copy()\n",
    "scaled_features = scaler.fit_transform(X_data[features_to_scale])\n",
    "\n",
    "# Replace the original features with their scaled versions\n",
    "X_data[features_to_scale] = scaled_features\n",
    "X_data.columns=numeric_features\n",
    "#n_features = data.shape[1] # for multivariate time series\n",
    "n_features = len(numeric_features) # for multivariate time series\n",
    "\n",
    "n_in = 12\n",
    "n_out = 1\n",
    "output = [\"pollution\"]\n",
    "\n",
    "\n",
    "ts_data = series_to_supervised(X_data, n_in=n_in, n_out= n_out,output=output,)\n",
    "X,y=ts_data.iloc[:,:-1],ts_data.iloc[:,-1]\n",
    "X.head()"
   ]
  },
  {
   "cell_type": "code",
   "execution_count": 181,
   "metadata": {},
   "outputs": [
    {
     "data": {
      "text/plain": [
       "Index(['pollution(t-3)', 'dew(t-3)', 'temp(t-3)', 'press(t-3)', 'wnd_spd(t-3)',\n",
       "       'snow(t-3)', 'rain(t-3)', 'pollution(t-2)', 'dew(t-2)', 'temp(t-2)',\n",
       "       'press(t-2)', 'wnd_spd(t-2)', 'snow(t-2)', 'rain(t-2)',\n",
       "       'pollution(t-1)', 'dew(t-1)', 'temp(t-1)', 'press(t-1)', 'wnd_spd(t-1)',\n",
       "       'snow(t-1)', 'rain(t-1)'],\n",
       "      dtype='object')"
      ]
     },
     "execution_count": 181,
     "metadata": {},
     "output_type": "execute_result"
    }
   ],
   "source": [
    "X.columns"
   ]
  },
  {
   "cell_type": "code",
   "execution_count": 186,
   "metadata": {},
   "outputs": [
    {
     "data": {
      "text/plain": [
       "((8760, 12, 7), (8760,))"
      ]
     },
     "execution_count": 186,
     "metadata": {},
     "output_type": "execute_result"
    }
   ],
   "source": [
    "# get the values\n",
    "values = ts_data.values\n",
    "n_in = 12\n",
    "# split into train and test sets\n",
    "n_train_hours = 365 * 24\n",
    "train = values[:n_train_hours, :]\n",
    "test = values[n_train_hours:, :]\n",
    "\n",
    "# split into input and outputs\n",
    "train_X, train_y = train[:, :-n_out], np.array(train[:, -n_out], dtype=\"float64\")\n",
    "test_X, test_y = test[:, :-n_out], np.array(test[:, -n_out], dtype=\"float64\")\n",
    "\n",
    "# reshape input to be 3D [samples, timesteps, features]\n",
    "train_X = train_X.reshape((train_X.shape[0], n_in, n_features)).astype('float64')\n",
    "test_X = test_X.reshape((test_X.shape[0], n_in, n_features)).astype('float64')\n",
    "train_X.shape, train_y.shape"
   ]
  },
  {
   "cell_type": "code",
   "execution_count": 53,
   "metadata": {},
   "outputs": [
    {
     "data": {
      "text/plain": [
       "numpy.ndarray"
      ]
     },
     "execution_count": 53,
     "metadata": {},
     "output_type": "execute_result"
    }
   ],
   "source": [
    "type(np.array(train_X))"
   ]
  },
  {
   "cell_type": "code",
   "execution_count": 187,
   "metadata": {},
   "outputs": [],
   "source": [
    "## First convert the nupy array into tensors\n",
    "from torch.utils.data import  TensorDataset\n",
    "X_train, X_test, y_train, y_test=torch.Tensor(train_X),torch.Tensor(test_X),torch.Tensor(train_y),torch.Tensor(test_y)\n",
    "\n",
    "train_dataset = TensorDataset(X_train, y_train) ## creates a tuple of tensors (features, target)\n",
    "test_dataset = TensorDataset(X_test, y_test)\n",
    "\n",
    "# Create a DataLoader\n",
    "batch_size = 64*4\n",
    "shuffle = False\n",
    "num_workers = 4  # Number of parallel data loading processes\n",
    "train_loader = DataLoader(train_dataset, batch_size=batch_size, shuffle=shuffle, num_workers=num_workers)\n",
    "test_loader = DataLoader(test_dataset, batch_size=batch_size, shuffle=shuffle, num_workers=num_workers)\n"
   ]
  },
  {
   "cell_type": "code",
   "execution_count": 192,
   "metadata": {},
   "outputs": [
    {
     "data": {
      "text/plain": [
       "torch.Size([12, 7])"
      ]
     },
     "execution_count": 192,
     "metadata": {},
     "output_type": "execute_result"
    }
   ],
   "source": [
    "example_data[i].shape"
   ]
  },
  {
   "cell_type": "code",
   "execution_count": 193,
   "metadata": {},
   "outputs": [
    {
     "data": {
      "image/png": "[encoded data removed]",
      "text/plain": [
       "<Figure size 640x480 with 6 Axes>"
      ]
     },
     "metadata": {},
     "output_type": "display_data"
    }
   ],
   "source": [
    "examples = enumerate(test_loader)\n",
    "batch_idx, (example_data, example_targets) = next(examples)\n",
    "import matplotlib.pyplot as plt\n",
    "fig = plt.figure()\n",
    "for i in range(6):\n",
    "  plt.subplot(2,3,i+1)\n",
    "  plt.tight_layout()\n",
    "  plt.imshow(example_data[i], cmap='gray', interpolation='none')\n",
    "  plt.xticks([])\n",
    "  plt.yticks([])\n",
    "#fig\n"
   ]
  },
  {
   "cell_type": "code",
   "execution_count": 195,
   "metadata": {},
   "outputs": [
    {
     "name": "stdout",
     "output_type": "stream",
     "text": [
      "LSTM_model(\n",
      "  (lstm): LSTM(7, 1, batch_first=True)\n",
      "  (fc): Linear(in_features=1, out_features=1, bias=True)\n",
      ")\n"
     ]
    }
   ],
   "source": [
    "import torch\n",
    "import torch.nn as nn\n",
    "\n",
    "class LSTM_model(nn.Module):\n",
    "    def __init__(self, input_size, hidden_size, num_layers, output_size):\n",
    "        super(LSTM_model, self).__init__()\n",
    "        self.hidden_size = hidden_size # number of features in the hidden state of the LSTM\n",
    "        self.num_layers = num_layers # number of LSTM layers in the network\n",
    "        self.lstm = nn.LSTM(input_size, hidden_size, num_layers, batch_first=True)\n",
    "        self.fc = nn.Linear(hidden_size, output_size)\n",
    "    \n",
    "    def forward(self, x):\n",
    "        # Initialize hidden state with zeros\n",
    "        h0 = torch.zeros(self.num_layers, x.size(0), self.hidden_size).to(x.device)\n",
    "        \n",
    "        # Initialize cell state with zeros\n",
    "        c0 = torch.zeros(self.num_layers, x.size(0), self.hidden_size).to(x.device)\n",
    "        \n",
    "        # Forward propagate LSTM\n",
    "        out, _ = self.lstm(x, (h0, c0))  # out: tensor of shape (batch_size, seq_length, hidden_size)\n",
    "        \n",
    "        # Decode the hidden state of the last time step\n",
    "        out = self.fc(out[:, -1, :])\n",
    "        return out\n",
    "\n",
    "# Example usage:\n",
    "input_size = n_features  # Number of input features (variables)\n",
    "hidden_size = 1  # Hidden size of the LSTM\n",
    "num_layers = 1  # Number of LSTM layers\n",
    "output_size = 1  # Number of output features (variables) for forecasting\n",
    "\n",
    "# Create an instance of the LSTM model\n",
    "lstm_model = LSTM_model(input_size, hidden_size, num_layers, output_size)\n",
    "\n",
    "print(lstm_model)"
   ]
  },
  {
   "cell_type": "code",
   "execution_count": 92,
   "metadata": {},
   "outputs": [
    {
     "data": {
      "text/plain": [
       "7"
      ]
     },
     "execution_count": 92,
     "metadata": {},
     "output_type": "execute_result"
    }
   ],
   "source": [
    "n_features"
   ]
  },
  {
   "cell_type": "code",
   "execution_count": 89,
   "metadata": {},
   "outputs": [
    {
     "data": {
      "text/plain": [
       "torch.Size([64, 6, 7])"
      ]
     },
     "execution_count": 89,
     "metadata": {},
     "output_type": "execute_result"
    }
   ],
   "source": [
    "examples=enumerate(train_loader)\n",
    "batch_idx, (inputs, target) = next(examples)\n",
    "inputs.shape"
   ]
  },
  {
   "cell_type": "code",
   "execution_count": 111,
   "metadata": {},
   "outputs": [
    {
     "data": {
      "text/plain": [
       "torch.Size([56])"
      ]
     },
     "execution_count": 111,
     "metadata": {},
     "output_type": "execute_result"
    }
   ],
   "source": [
    "outputs.view(-1).shape"
   ]
  },
  {
   "cell_type": "code",
   "execution_count": 196,
   "metadata": {},
   "outputs": [
    {
     "name": "stdout",
     "output_type": "stream",
     "text": [
      "Epoch 1, Train Loss: 17570.6601, Validation Loss: 17357.8733\n",
      "Epoch 2, Train Loss: 17570.6601, Validation Loss: 17357.8733\n",
      "Epoch 3, Train Loss: 17570.6601, Validation Loss: 17357.8733\n",
      "Epoch 4, Train Loss: 17570.6601, Validation Loss: 17357.8733\n",
      "Epoch 5, Train Loss: 17570.6601, Validation Loss: 17357.8733\n",
      "Epoch 6, Train Loss: 17570.6601, Validation Loss: 17357.8733\n",
      "Epoch 7, Train Loss: 17570.6601, Validation Loss: 17357.8733\n",
      "Epoch 8, Train Loss: 17570.6601, Validation Loss: 17357.8733\n",
      "Epoch 9, Train Loss: 17570.6601, Validation Loss: 17357.8733\n",
      "Epoch 10, Train Loss: 17570.6601, Validation Loss: 17357.8733\n"
     ]
    }
   ],
   "source": [
    "# Early stopping class\n",
    "class EarlyStopping:\n",
    "    def __init__(self, patience=5, verbose=False):\n",
    "        self.patience = patience\n",
    "        self.verbose = verbose\n",
    "        self.counter = 0\n",
    "        self.best_loss = None\n",
    "        self.early_stop = False\n",
    "\n",
    "    def __call__(self, val_loss):\n",
    "        if self.best_loss is None:\n",
    "            self.best_loss = val_loss\n",
    "        elif val_loss > self.best_loss:\n",
    "            self.counter += 1\n",
    "            if self.counter >= self.patience:\n",
    "                self.early_stop = True\n",
    "        else:\n",
    "            self.best_loss = val_loss\n",
    "            self.counter = 0\n",
    "\n",
    "criterion = nn.MSELoss()\n",
    "optimizer = optim.Adam(model.parameters(), lr=0.001)\n",
    "\n",
    "# Training with early stopping\n",
    "num_epochs = 10\n",
    "early_stopping = EarlyStopping(patience=5, verbose=True)\n",
    "train_losses=[]\n",
    "val_losses=[]\n",
    "for epoch in range(num_epochs):\n",
    "    lstm_model.train()\n",
    "    train_loss = 0.0\n",
    "    for inputs, labels in train_loader:\n",
    "        optimizer.zero_grad()\n",
    "        outputs = lstm_model(inputs)\n",
    "        outputs=outputs.view(-1)\n",
    "        loss = criterion(outputs, labels)\n",
    "        loss.backward()\n",
    "        optimizer.step()\n",
    "        train_loss += loss.item()\n",
    "    \n",
    "    # Validation loss\n",
    "    lstm_model.eval()\n",
    "    val_loss = 0.0\n",
    "    with torch.no_grad():\n",
    "        for val_inputs, labels in test_loader:\n",
    "            outputs = lstm_model(val_inputs)\n",
    "            outputs=outputs.view(-1)\n",
    "            loss = criterion(outputs, labels)\n",
    "            val_loss += loss.item()\n",
    "    \n",
    "    train_loss /= len(train_loader)\n",
    "    val_loss /= len(test_loader)\n",
    "    train_losses.append(train_loss)\n",
    "    val_losses.append(val_loss)\n",
    "\n",
    "    print(f'Epoch {epoch+1}, Train Loss: {train_loss:.4f}, Validation Loss: {val_loss:.4f}')\n",
    "    \n",
    "    # Check for early stopping\n",
    "    early_stopping(val_loss)\n",
    "    if early_stopping.early_stop:\n",
    "        print(\"Early stopping triggered\")\n",
    "        break\n"
   ]
  },
  {
   "cell_type": "code",
   "execution_count": 125,
   "metadata": {},
   "outputs": [
    {
     "data": {
      "text/plain": [
       "tensor([-0.7188, -0.7091, -0.6953, -0.6804, -0.6692, -0.6632, -0.6592, -0.6529,\n",
       "        -0.6443, -0.6332, -0.6250, -0.6208, -0.6214, -0.6222, -0.6208, -0.6214,\n",
       "        -0.6190, -0.6180, -0.6162, -0.6140, -0.6112, -0.6082, -0.6066, -0.6045,\n",
       "        -0.6033, -0.6020])"
      ]
     },
     "execution_count": 125,
     "metadata": {},
     "output_type": "execute_result"
    }
   ],
   "source": [
    "outputs"
   ]
  },
  {
   "cell_type": "code",
   "execution_count": 126,
   "metadata": {},
   "outputs": [
    {
     "data": {
      "text/plain": [
       "tensor([-0.9324, -0.8457, -0.9107, -0.8999, -0.8023, -0.9215, -0.9324, -0.9215,\n",
       "        -0.9324, -0.9324, -0.9324, -0.9324, -0.9432, -0.8890, -0.8348, -0.8999,\n",
       "        -0.9215, -0.8999, -0.9324, -0.9215, -0.9107, -0.9324, -0.9107, -0.9107,\n",
       "        -0.9324, -0.8890])"
      ]
     },
     "execution_count": 126,
     "metadata": {},
     "output_type": "execute_result"
    }
   ],
   "source": [
    "labels"
   ]
  }
 ],
 "metadata": {
  "kernelspec": {
   "display_name": "Python 3.8 (tensorflow)",
   "language": "python",
   "name": "tensorflow"
  },
  "language_info": {
   "codemirror_mode": {
    "name": "ipython",
    "version": 3
   },
   "file_extension": ".py",
   "mimetype": "text/x-python",
   "name": "python",
   "nbconvert_exporter": "python",
   "pygments_lexer": "ipython3",
   "version": "3.9.13"
  }
 },
 "nbformat": 4,
 "nbformat_minor": 1
}
