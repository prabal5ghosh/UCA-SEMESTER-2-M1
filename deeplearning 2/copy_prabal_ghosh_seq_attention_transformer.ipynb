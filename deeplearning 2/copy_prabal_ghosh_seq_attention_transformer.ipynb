{
  "cells": [
    {
      "cell_type": "markdown",
      "id": "e958e291-1eba-48be-8b37-6acdbfaa32ec",
      "metadata": {
        "tags": [],
        "id": "e958e291-1eba-48be-8b37-6acdbfaa32ec"
      },
      "source": [
        "# PRABAL GHOSH\n",
        "## Deep Learning Lab =  Sequence to Sequence (seq2seq) variable length and Attention and Transformer"
      ]
    },
    {
      "cell_type": "markdown",
      "id": "942a617d-f89b-41a1-8cf4-676db0fbe234",
      "metadata": {
        "id": "942a617d-f89b-41a1-8cf4-676db0fbe234"
      },
      "source": [
        "You must submit a notebook with execution traces and perfectly written corresponding to the course on Seq2Seq, Seq2Seq with Attention and Transformer architectures. This notebook will identify at least 5 sections:\n",
        "- Introduction: presentation of the problem and how to proceed\n",
        "- Data pre-processing\n",
        "- Seq2Seq architecture\n",
        "- Seq2Seq architecture with Attention (specify which attention model you used)\n",
        "- Transformer-based architecture\n",
        "- Use of a model from huggingface.co (transfer learning) to address the same problem (optional)\n",
        "- Conclusion: comparison of approaches and personal remarks\n",
        "\n",
        "Submit also a pdf version of your notebook"
      ]
    },
    {
      "cell_type": "markdown",
      "id": "bac0fdb5-35a6-40f6-8df4-755dcdef3097",
      "metadata": {
        "jp-MarkdownHeadingCollapsed": true,
        "tags": [],
        "id": "bac0fdb5-35a6-40f6-8df4-755dcdef3097"
      },
      "source": [
        "# Some important links for Sequence to Sequence (seq2seq) variable length and Attention and Transformer\n"
      ]
    },
    {
      "cell_type": "markdown",
      "id": "5b5724f2-1cea-4bd4-aca3-524d0de86603",
      "metadata": {
        "tags": [],
        "id": "5b5724f2-1cea-4bd4-aca3-524d0de86603"
      },
      "source": [
        "## <font color = green> **Data is dowlnloaded from the following link** </font>  \n",
        "[https://www.manythings.org/anki/](https://www.manythings.org/anki/)(Tab-delimited Bilingual Sentence Pairs)\n",
        "\n",
        "**The following tutorial is followed to understand the Sequence to Sequence**\n",
        "\n",
        "- \"https://lena-voita.github.io/nlp_course/seq2seq_and_attention.html\" (basics+attention part)\n",
        "- \"https://towardsdatascience.com/classic-seq2seq-model-vs-seq2seq-model-with-attention-31527c77b28a\"\n",
        "- \"https://wikidocs.net/178419\"\n",
        "- \"https://www.jeremyjordan.me/attention/\"\n",
        "- \"https://machinelearningmastery.com/a-gentle-introduction-to-positional-encoding-in-transformer-models-part-1/\"\n",
        "- \"https://www.tensorflow.org/text/tutorials/transformer\"\n",
        "- \"https://blog.keras.io/a-ten-minute-introduction-to-sequence-to-sequence-learning-in-keras.html\" (A ten-minute introduction to sequence-to-sequence learning in Keras)\n",
        "\n",
        "**The following youtube videos are good to understand the concepts**\n",
        "- \"https://www.youtube.com/watch?v=XfpMkf4rD6E\"\n",
        "- \"https://www.youtube.com/watch?v=RRP0czWtOeM&list=PLQflnv_s49v-4aH-xFcTykTpcyWSY4Tww&index=5\"\n",
        "- \"https://www.youtube.com/watch?v=7gHqxK1o7MU\""
      ]
    },
    {
      "cell_type": "markdown",
      "id": "2e8f78aa-900a-4454-83cd-c7f9b2ebf0d1",
      "metadata": {
        "id": "2e8f78aa-900a-4454-83cd-c7f9b2ebf0d1"
      },
      "source": []
    },
    {
      "cell_type": "markdown",
      "id": "d9c882e5-2189-44b7-8151-f1dc69af146a",
      "metadata": {
        "tags": [],
        "id": "d9c882e5-2189-44b7-8151-f1dc69af146a"
      },
      "source": [
        "# Normal Sequence to Sequence (seq2seq)"
      ]
    },
    {
      "cell_type": "markdown",
      "id": "f0d92122-968f-4d52-9a02-443cf4e49bcd",
      "metadata": {
        "tags": [],
        "id": "f0d92122-968f-4d52-9a02-443cf4e49bcd"
      },
      "source": [
        "## import libraries"
      ]
    },
    {
      "cell_type": "markdown",
      "id": "397a5234-f27f-40d5-b32c-c805ff8def65",
      "metadata": {
        "id": "397a5234-f27f-40d5-b32c-c805ff8def65"
      },
      "source": [
        "<img  src=\"https://www.jeremyjordan.me/content/images/size/w1600/2023/02/path-length-1-2.png\" />\n"
      ]
    },
    {
      "cell_type": "markdown",
      "id": "9e96259a-d397-4723-b289-83d29cd82607",
      "metadata": {
        "tags": [],
        "id": "9e96259a-d397-4723-b289-83d29cd82607"
      },
      "source": [
        "\n",
        "<video controls src=\"https://lena-voita.github.io/resources/lectures/seq2seq/general/seq2seq_training_with_target.mp4\" />  "
      ]
    },
    {
      "cell_type": "markdown",
      "id": "18c83fa4-bc40-47d5-8fce-ee14a0c14ad1",
      "metadata": {
        "id": "18c83fa4-bc40-47d5-8fce-ee14a0c14ad1"
      },
      "source": [
        "import matplotlib.pyplot as plt\n",
        "import matplotlib.ticker as ticker\n",
        "import numpy as np\n",
        "import pandas as pd"
      ]
    },
    {
      "cell_type": "code",
      "execution_count": 1,
      "id": "9bd92765-05bc-4579-a7ae-b4a3b018d22f",
      "metadata": {
        "tags": [],
        "id": "9bd92765-05bc-4579-a7ae-b4a3b018d22f"
      },
      "outputs": [],
      "source": [
        "import matplotlib.pyplot as plt\n",
        "import matplotlib.ticker as ticker\n",
        "import numpy as np\n",
        "import pandas as pd\n"
      ]
    },
    {
      "cell_type": "code",
      "execution_count": 2,
      "id": "0e1eea1f-9553-4c0c-a5e0-f2423d99c84a",
      "metadata": {
        "tags": [],
        "id": "0e1eea1f-9553-4c0c-a5e0-f2423d99c84a"
      },
      "outputs": [],
      "source": [
        "import tensorflow as tf\n",
        "import keras"
      ]
    },
    {
      "cell_type": "code",
      "execution_count": 3,
      "id": "711e3d1c-819a-4e39-ae17-e7265bbe112d",
      "metadata": {
        "tags": [],
        "id": "711e3d1c-819a-4e39-ae17-e7265bbe112d"
      },
      "outputs": [],
      "source": [
        "import unicodedata\n",
        "import re\n",
        "import os\n",
        "import io\n",
        "import time"
      ]
    },
    {
      "cell_type": "code",
      "execution_count": 4,
      "id": "29a5cf0d-b5d9-4eb3-aea3-9753f34ef221",
      "metadata": {
        "tags": [],
        "id": "29a5cf0d-b5d9-4eb3-aea3-9753f34ef221"
      },
      "outputs": [],
      "source": [
        "import tensorflow as tf\n",
        "\n",
        "from tensorflow.keras.models import Model\n",
        "from tensorflow.keras import optimizers\n",
        "from tensorflow.keras import layers\n",
        "from tensorflow.keras.layers import Input, Dense\n",
        "\n",
        "from tensorflow.keras.callbacks import EarlyStopping\n",
        "from tensorflow.keras.utils import plot_model"
      ]
    },
    {
      "cell_type": "markdown",
      "id": "27e98731-37f8-4ec4-b930-3a4ec62fda01",
      "metadata": {
        "tags": [],
        "id": "27e98731-37f8-4ec4-b930-3a4ec62fda01"
      },
      "source": [
        "## Data Preprocessing\n",
        "\n",
        "The data is available here: http://www.manythings.org/anki/.\n",
        "They consist of a set of pairs in the following format:\n",
        "\n",
        "  `hi .`  `hola .`\n",
        "\n",
        "There are a variety of languages available, English-Spanish data will be used.\n",
        "\n",
        "The processing of the data will consist of the following steps:\n",
        "\n",
        "1. Removal of special characters\n",
        "1. adding a start or end token to each sentence.\n",
        "1. Creating the vectorizer for each of the two languages"
      ]
    },
    {
      "cell_type": "markdown",
      "id": "537b7888",
      "metadata": {
        "id": "537b7888"
      },
      "source": [
        "**Limit the number of examples is 5000 for faster processing**\n"
      ]
    },
    {
      "cell_type": "code",
      "source": [
        "from google.colab import files\n",
        "uploaded = files.upload()\n"
      ],
      "metadata": {
        "colab": {
          "base_uri": "https://localhost:8080/",
          "height": 73
        },
        "id": "6VXV2DcaYLcR",
        "outputId": "74336f54-6ea9-4626-985b-899cef62fb06"
      },
      "id": "6VXV2DcaYLcR",
      "execution_count": 6,
      "outputs": [
        {
          "output_type": "display_data",
          "data": {
            "text/plain": [
              "<IPython.core.display.HTML object>"
            ],
            "text/html": [
              "\n",
              "     <input type=\"file\" id=\"files-23167ad4-2b55-413b-96f4-31a342c7159b\" name=\"files[]\" multiple disabled\n",
              "        style=\"border:none\" />\n",
              "     <output id=\"result-23167ad4-2b55-413b-96f4-31a342c7159b\">\n",
              "      Upload widget is only available when the cell has been executed in the\n",
              "      current browser session. Please rerun this cell to enable.\n",
              "      </output>\n",
              "      <script>// Copyright 2017 Google LLC\n",
              "//\n",
              "// Licensed under the Apache License, Version 2.0 (the \"License\");\n",
              "// you may not use this file except in compliance with the License.\n",
              "// You may obtain a copy of the License at\n",
              "//\n",
              "//      http://www.apache.org/licenses/LICENSE-2.0\n",
              "//\n",
              "// Unless required by applicable law or agreed to in writing, software\n",
              "// distributed under the License is distributed on an \"AS IS\" BASIS,\n",
              "// WITHOUT WARRANTIES OR CONDITIONS OF ANY KIND, either express or implied.\n",
              "// See the License for the specific language governing permissions and\n",
              "// limitations under the License.\n",
              "\n",
              "/**\n",
              " * @fileoverview Helpers for google.colab Python module.\n",
              " */\n",
              "(function(scope) {\n",
              "function span(text, styleAttributes = {}) {\n",
              "  const element = document.createElement('span');\n",
              "  element.textContent = text;\n",
              "  for (const key of Object.keys(styleAttributes)) {\n",
              "    element.style[key] = styleAttributes[key];\n",
              "  }\n",
              "  return element;\n",
              "}\n",
              "\n",
              "// Max number of bytes which will be uploaded at a time.\n",
              "const MAX_PAYLOAD_SIZE = 100 * 1024;\n",
              "\n",
              "function _uploadFiles(inputId, outputId) {\n",
              "  const steps = uploadFilesStep(inputId, outputId);\n",
              "  const outputElement = document.getElementById(outputId);\n",
              "  // Cache steps on the outputElement to make it available for the next call\n",
              "  // to uploadFilesContinue from Python.\n",
              "  outputElement.steps = steps;\n",
              "\n",
              "  return _uploadFilesContinue(outputId);\n",
              "}\n",
              "\n",
              "// This is roughly an async generator (not supported in the browser yet),\n",
              "// where there are multiple asynchronous steps and the Python side is going\n",
              "// to poll for completion of each step.\n",
              "// This uses a Promise to block the python side on completion of each step,\n",
              "// then passes the result of the previous step as the input to the next step.\n",
              "function _uploadFilesContinue(outputId) {\n",
              "  const outputElement = document.getElementById(outputId);\n",
              "  const steps = outputElement.steps;\n",
              "\n",
              "  const next = steps.next(outputElement.lastPromiseValue);\n",
              "  return Promise.resolve(next.value.promise).then((value) => {\n",
              "    // Cache the last promise value to make it available to the next\n",
              "    // step of the generator.\n",
              "    outputElement.lastPromiseValue = value;\n",
              "    return next.value.response;\n",
              "  });\n",
              "}\n",
              "\n",
              "/**\n",
              " * Generator function which is called between each async step of the upload\n",
              " * process.\n",
              " * @param {string} inputId Element ID of the input file picker element.\n",
              " * @param {string} outputId Element ID of the output display.\n",
              " * @return {!Iterable<!Object>} Iterable of next steps.\n",
              " */\n",
              "function* uploadFilesStep(inputId, outputId) {\n",
              "  const inputElement = document.getElementById(inputId);\n",
              "  inputElement.disabled = false;\n",
              "\n",
              "  const outputElement = document.getElementById(outputId);\n",
              "  outputElement.innerHTML = '';\n",
              "\n",
              "  const pickedPromise = new Promise((resolve) => {\n",
              "    inputElement.addEventListener('change', (e) => {\n",
              "      resolve(e.target.files);\n",
              "    });\n",
              "  });\n",
              "\n",
              "  const cancel = document.createElement('button');\n",
              "  inputElement.parentElement.appendChild(cancel);\n",
              "  cancel.textContent = 'Cancel upload';\n",
              "  const cancelPromise = new Promise((resolve) => {\n",
              "    cancel.onclick = () => {\n",
              "      resolve(null);\n",
              "    };\n",
              "  });\n",
              "\n",
              "  // Wait for the user to pick the files.\n",
              "  const files = yield {\n",
              "    promise: Promise.race([pickedPromise, cancelPromise]),\n",
              "    response: {\n",
              "      action: 'starting',\n",
              "    }\n",
              "  };\n",
              "\n",
              "  cancel.remove();\n",
              "\n",
              "  // Disable the input element since further picks are not allowed.\n",
              "  inputElement.disabled = true;\n",
              "\n",
              "  if (!files) {\n",
              "    return {\n",
              "      response: {\n",
              "        action: 'complete',\n",
              "      }\n",
              "    };\n",
              "  }\n",
              "\n",
              "  for (const file of files) {\n",
              "    const li = document.createElement('li');\n",
              "    li.append(span(file.name, {fontWeight: 'bold'}));\n",
              "    li.append(span(\n",
              "        `(${file.type || 'n/a'}) - ${file.size} bytes, ` +\n",
              "        `last modified: ${\n",
              "            file.lastModifiedDate ? file.lastModifiedDate.toLocaleDateString() :\n",
              "                                    'n/a'} - `));\n",
              "    const percent = span('0% done');\n",
              "    li.appendChild(percent);\n",
              "\n",
              "    outputElement.appendChild(li);\n",
              "\n",
              "    const fileDataPromise = new Promise((resolve) => {\n",
              "      const reader = new FileReader();\n",
              "      reader.onload = (e) => {\n",
              "        resolve(e.target.result);\n",
              "      };\n",
              "      reader.readAsArrayBuffer(file);\n",
              "    });\n",
              "    // Wait for the data to be ready.\n",
              "    let fileData = yield {\n",
              "      promise: fileDataPromise,\n",
              "      response: {\n",
              "        action: 'continue',\n",
              "      }\n",
              "    };\n",
              "\n",
              "    // Use a chunked sending to avoid message size limits. See b/62115660.\n",
              "    let position = 0;\n",
              "    do {\n",
              "      const length = Math.min(fileData.byteLength - position, MAX_PAYLOAD_SIZE);\n",
              "      const chunk = new Uint8Array(fileData, position, length);\n",
              "      position += length;\n",
              "\n",
              "      const base64 = btoa(String.fromCharCode.apply(null, chunk));\n",
              "      yield {\n",
              "        response: {\n",
              "          action: 'append',\n",
              "          file: file.name,\n",
              "          data: base64,\n",
              "        },\n",
              "      };\n",
              "\n",
              "      let percentDone = fileData.byteLength === 0 ?\n",
              "          100 :\n",
              "          Math.round((position / fileData.byteLength) * 100);\n",
              "      percent.textContent = `${percentDone}% done`;\n",
              "\n",
              "    } while (position < fileData.byteLength);\n",
              "  }\n",
              "\n",
              "  // All done.\n",
              "  yield {\n",
              "    response: {\n",
              "      action: 'complete',\n",
              "    }\n",
              "  };\n",
              "}\n",
              "\n",
              "scope.google = scope.google || {};\n",
              "scope.google.colab = scope.google.colab || {};\n",
              "scope.google.colab._files = {\n",
              "  _uploadFiles,\n",
              "  _uploadFilesContinue,\n",
              "};\n",
              "})(self);\n",
              "</script> "
            ]
          },
          "metadata": {}
        },
        {
          "output_type": "stream",
          "name": "stdout",
          "text": [
            "Saving fra.txt to fra.txt\n"
          ]
        }
      ]
    },
    {
      "cell_type": "code",
      "source": [],
      "metadata": {
        "id": "umrAy1hwYLYu"
      },
      "id": "umrAy1hwYLYu",
      "execution_count": null,
      "outputs": []
    },
    {
      "cell_type": "code",
      "source": [],
      "metadata": {
        "id": "Hqkujr1pYLKP"
      },
      "id": "Hqkujr1pYLKP",
      "execution_count": null,
      "outputs": []
    },
    {
      "cell_type": "code",
      "execution_count": 8,
      "id": "74d3d29d-b862-4561-88dc-9c2c74ba9b0a",
      "metadata": {
        "tags": [],
        "id": "74d3d29d-b862-4561-88dc-9c2c74ba9b0a",
        "outputId": "a6ae063b-966a-4c39-8f7c-0f2e698c0a24",
        "colab": {
          "base_uri": "https://localhost:8080/"
        }
      },
      "outputs": [
        {
          "output_type": "stream",
          "name": "stdout",
          "text": [
            "0    <start> go . <end>\n",
            "1    <start> go . <end>\n",
            "2    <start> go . <end>\n",
            "3    <start> hi . <end>\n",
            "4    <start> hi . <end>\n",
            "Name: Go., dtype: object\n",
            "0      <start> marche . <end>\n",
            "1    <start> en route ! <end>\n",
            "2       <start> bouge ! <end>\n",
            "3       <start> salut ! <end>\n",
            "4       <start> salut . <end>\n",
            "Name: Va !, dtype: object\n"
          ]
        }
      ],
      "source": [
        "import pandas as pd  # Import pandas library for data manipulation\n",
        "import re  # Import re library for regular expressions\n",
        "import unicodedata  # Import unicodedata library for handling Unicode characters\n",
        "\n",
        "# Load dataset from file\n",
        "# dataset = 'C:/Users/praba\\Documents/GitHub/deep_learning_uca_2/spa-eng/spa.txt'\n",
        "\n",
        "dataset = 'fra.txt'\n",
        "\n",
        "data = pd.read_table(dataset)  # Read data from file into a DataFrame\n",
        "\n",
        "# Extract source (X) and target (y) sentences from the DataFrame\n",
        "X = data.iloc[:, 0]  # Extract the first column as source sentences\n",
        "y = data.iloc[:, 1]  # Extract the second column as target sentences\n",
        "\n",
        "# Limit the number of examples for faster processing\n",
        "X = X[:5000]  # Limit the number of source sentences to 10000\n",
        "y = y[:5000]  # Limit the number of target sentences to 10000\n",
        "\n",
        "# Define a function to preprocess a sentence\n",
        "def step1(sent):\n",
        "    # Function to preprocess a sentence\n",
        "    def unicode_to_ascii(s):\n",
        "        # Normalize Unicode characters and remove accents\n",
        "        return ''.join(c for c in unicodedata.normalize('NFD', s) if unicodedata.category(c) != 'Mn')\n",
        "\n",
        "    # Convert the sentence to lowercase and remove leading/trailing whitespaces\n",
        "    sent = unicode_to_ascii(sent.lower().strip())\n",
        "\n",
        "    # Add spaces between words and punctuation\n",
        "    sent = re.sub(r\"([?.!,¿])\", r\" \\1 \", sent)\n",
        "    sent = re.sub(r'[\" \"]+', \" \", sent)\n",
        "\n",
        "    # Replace everything except letters, punctuation, and some special characters with spaces\n",
        "    sent = re.sub(r\"[^a-zA-Z?.!,¿]+\", \" \", sent)\n",
        "\n",
        "    # Add <start> and <end> tokens to the sentence\n",
        "    return '<start> ' + sent.strip() + ' <end>'\n",
        "\n",
        "# Apply the preprocessing function to each source and target sentence\n",
        "X_processed = X.apply(step1)  # Preprocess source sentences\n",
        "y_processed = y.apply(step1)  # Preprocess target sentences\n",
        "\n",
        "# Print the first few preprocessed sentences to check\n",
        "print(X_processed.head())\n",
        "print(y_processed.head())\n"
      ]
    },
    {
      "cell_type": "code",
      "execution_count": 9,
      "id": "2416e849",
      "metadata": {
        "id": "2416e849"
      },
      "outputs": [],
      "source": [
        "# data.iloc[:500, [0, 1]]"
      ]
    },
    {
      "cell_type": "code",
      "execution_count": 10,
      "id": "d0324074",
      "metadata": {
        "id": "d0324074"
      },
      "outputs": [],
      "source": [
        "# data.iloc[:, 0]"
      ]
    },
    {
      "cell_type": "code",
      "execution_count": 11,
      "id": "51ea8439-a233-4c8d-a0a8-add026e5bd03",
      "metadata": {
        "tags": [],
        "id": "51ea8439-a233-4c8d-a0a8-add026e5bd03",
        "outputId": "b6cf0bc7-fa4b-407a-bddc-defc199408ed",
        "colab": {
          "base_uri": "https://localhost:8080/"
        }
      },
      "outputs": [
        {
          "output_type": "execute_result",
          "data": {
            "text/plain": [
              "((5000,), (5000,))"
            ]
          },
          "metadata": {},
          "execution_count": 11
        }
      ],
      "source": [
        "english_sentences = X_processed_array = np.array(X_processed)\n",
        "spanish_sentences = y_processed_array = np.array(y_processed)\n",
        "X_processed_array.shape, y_processed.shape"
      ]
    },
    {
      "cell_type": "code",
      "execution_count": 12,
      "id": "65573723-d542-4d8d-99e1-4f13c52e8b54",
      "metadata": {
        "tags": [],
        "id": "65573723-d542-4d8d-99e1-4f13c52e8b54"
      },
      "outputs": [],
      "source": [
        "from sklearn.model_selection import train_test_split\n",
        "X_train, X_test, y_train, y_test = train_test_split(\n",
        "    X_processed_array, y_processed_array, test_size=0.33, random_state=42)\n"
      ]
    },
    {
      "cell_type": "code",
      "execution_count": 13,
      "id": "cfa35fc1-3023-4dac-ab45-e69aa7bdda6b",
      "metadata": {
        "tags": [],
        "id": "cfa35fc1-3023-4dac-ab45-e69aa7bdda6b",
        "outputId": "49889a3a-f682-4ef2-c880-bd485c32648f",
        "colab": {
          "base_uri": "https://localhost:8080/",
          "height": 35
        }
      },
      "outputs": [
        {
          "output_type": "execute_result",
          "data": {
            "text/plain": [
              "'<start> en route ! <end>'"
            ],
            "application/vnd.google.colaboratory.intrinsic+json": {
              "type": "string"
            }
          },
          "metadata": {},
          "execution_count": 13
        }
      ],
      "source": [
        "y_processed_array[1]"
      ]
    },
    {
      "cell_type": "code",
      "execution_count": 14,
      "id": "356c4f01-193c-406b-9e6e-a85c9d01dcc9",
      "metadata": {
        "tags": [],
        "id": "356c4f01-193c-406b-9e6e-a85c9d01dcc9"
      },
      "outputs": [],
      "source": [
        "# X_train"
      ]
    },
    {
      "cell_type": "code",
      "execution_count": 15,
      "id": "a5424c9b-dfc8-450e-92b8-84ecd4822148",
      "metadata": {
        "tags": [],
        "id": "a5424c9b-dfc8-450e-92b8-84ecd4822148"
      },
      "outputs": [],
      "source": [
        "# y_train"
      ]
    },
    {
      "cell_type": "code",
      "execution_count": 16,
      "id": "8ec71c70-5f98-4298-af68-b855f23d6e6f",
      "metadata": {
        "tags": [],
        "id": "8ec71c70-5f98-4298-af68-b855f23d6e6f"
      },
      "outputs": [],
      "source": [
        "# Search vocabulary and max_length for each language\n",
        "def voc(lang):\n",
        "    # a list of sentences in the same language\n",
        "    lengths = [len(txt.split()) for txt in lang]\n",
        "    vocab = set([w for txt in lang for w in txt.split()])\n",
        "\n",
        "    return max(lengths), list(vocab), len(vocab)+2 # for padding and OOV\n",
        "\n",
        "max_length_spanish, vocab_spanish, vocab_size_spanish = voc(y_processed_array)\n",
        "max_length_english, vocab_english, vocab_size_english = voc(X_processed_array)"
      ]
    },
    {
      "cell_type": "code",
      "execution_count": 17,
      "id": "6f5f2a3d-b509-4a00-abe3-5d3b76717d20",
      "metadata": {
        "tags": [],
        "id": "6f5f2a3d-b509-4a00-abe3-5d3b76717d20",
        "outputId": "1215637f-7fac-46c5-a4de-e424da509c73",
        "colab": {
          "base_uri": "https://localhost:8080/"
        }
      },
      "outputs": [
        {
          "output_type": "execute_result",
          "data": {
            "text/plain": [
              "(14, 7)"
            ]
          },
          "metadata": {},
          "execution_count": 17
        }
      ],
      "source": [
        "max_length_spanish,max_length_english"
      ]
    },
    {
      "cell_type": "code",
      "execution_count": 18,
      "id": "6f5c8455",
      "metadata": {
        "id": "6f5c8455",
        "outputId": "c92ed780-9582-41de-cfd5-7086d41e69a3",
        "colab": {
          "base_uri": "https://localhost:8080/"
        }
      },
      "outputs": [
        {
          "output_type": "execute_result",
          "data": {
            "text/plain": [
              "1093"
            ]
          },
          "metadata": {},
          "execution_count": 18
        }
      ],
      "source": [
        "vocab_size_english"
      ]
    },
    {
      "cell_type": "code",
      "execution_count": 19,
      "id": "cb2ce9a0-51f1-4702-aa4e-00c6a56d442e",
      "metadata": {
        "tags": [],
        "id": "cb2ce9a0-51f1-4702-aa4e-00c6a56d442e"
      },
      "outputs": [],
      "source": [
        "# Build vectorizer layer\n",
        "english_vectorizer = layers.TextVectorization(standardize=None, output_mode='int',\n",
        "                                              vocabulary=vocab_english,\n",
        "                                              name=\"English_vect\")\n",
        "# On peut connaitre le vocabulaire par english_vectorizer.get_vocabulary()\n",
        "\n",
        "# Do the same for spanish\n",
        "spanish_vectorizer = layers.TextVectorization(standardize=None, output_mode='int',\n",
        "                                              vocabulary=vocab_spanish,\n",
        "                                              name=\"Spanish_vect\")"
      ]
    },
    {
      "cell_type": "code",
      "execution_count": 20,
      "id": "e8591147-9cb3-4f70-a716-910c18e6566c",
      "metadata": {
        "tags": [],
        "id": "e8591147-9cb3-4f70-a716-910c18e6566c"
      },
      "outputs": [],
      "source": [
        "BATCH_SIZE = 32\n",
        "embedding_dim = 100\n",
        "latent_dim = 64\n",
        "dropout=0.2\n"
      ]
    },
    {
      "cell_type": "markdown",
      "id": "85ddf046-c940-46fc-9b45-aa09a216a0c2",
      "metadata": {
        "tags": [],
        "id": "85ddf046-c940-46fc-9b45-aa09a216a0c2"
      },
      "source": [
        "## basic model"
      ]
    },
    {
      "cell_type": "markdown",
      "id": "2a68b18b-d53b-488d-8417-2102e426b20a",
      "metadata": {
        "id": "2a68b18b-d53b-488d-8417-2102e426b20a"
      },
      "source": [
        "**Encoder part**"
      ]
    },
    {
      "cell_type": "code",
      "execution_count": 21,
      "id": "a59b448e-fb5a-4162-a301-6d1a82b32c14",
      "metadata": {
        "tags": [],
        "id": "a59b448e-fb5a-4162-a301-6d1a82b32c14"
      },
      "outputs": [],
      "source": [
        "from keras.models import Model\n",
        "from keras.layers import Input, LSTM, Dense\n",
        "\n",
        "# Define an input sequence and process it.\n",
        "encoder_inputs = Input(shape=(None,),name=\"spanish_input\")\n",
        "# encoder_inputs = Input(shape=(None,),dtype=tf.string, name=\"spanish_input\")\n",
        "\n",
        "# encoder_vectorizer = spanish_vectorizer(encoder_inputs)\n",
        "# layer_embedding = layers.Embedding(vocab_size_spanish, embedding_dim, name=\"sp_embedding\")\n",
        "\n",
        "layer_embedding = layers.Embedding(vocab_size_spanish, embedding_dim, name=\"sp_embedding\")\n",
        "embedding_layer_final = layer_embedding(encoder_inputs)\n",
        "layer_lstm = LSTM(latent_dim, return_sequences=False, return_state=True)\n",
        "# _, enc_state_h, enc_state_c = LSTM(latent_dim,  return_sequences=False,return_state=True,\n",
        "#                                    dropout=dropout, recurrent_dropout=dropout, name=\"encoder\")(embedding_layer_final)\n",
        "\n",
        "enc_state_output, enc_state_h, enc_state_c = layer_lstm(embedding_layer_final)\n",
        "# We discard `encoder_outputs` and only keep the states.\n",
        "encoder_states = [enc_state_h, enc_state_c]\n",
        "\n"
      ]
    },
    {
      "cell_type": "code",
      "execution_count": 21,
      "id": "2f3f050c",
      "metadata": {
        "id": "2f3f050c"
      },
      "outputs": [],
      "source": []
    },
    {
      "cell_type": "markdown",
      "id": "e78d04d1-134c-48dc-92ff-b0b01aeab542",
      "metadata": {
        "id": "e78d04d1-134c-48dc-92ff-b0b01aeab542"
      },
      "source": [
        "**Decoder part**"
      ]
    },
    {
      "cell_type": "code",
      "execution_count": 22,
      "id": "a45efe08-54b3-4058-9c21-1d313d68b116",
      "metadata": {
        "tags": [],
        "id": "a45efe08-54b3-4058-9c21-1d313d68b116"
      },
      "outputs": [],
      "source": [
        "# decoder_inputs = Input(shape=(None,), dtype=tf.int32, name=\"english_teacher\")\n",
        "decoder_inputs = Input(shape=(None,), name=\"english_teacher\")\n",
        "\n",
        "layer_embedding_decoder = layers.Embedding(vocab_size_english, embedding_dim\n",
        "                     ,name=\"english_embedding\")\n",
        "x =layer_embedding_decoder(decoder_inputs)\n",
        "decoder_lstm = layers.LSTM(latent_dim, return_sequences=True, return_state=True,\n",
        "#                            dropout=dropout, recurrent_dropout=dropout, name=\"decoder1\")\n",
        "                          )\n",
        "\n",
        "decoder_outputs, _, _ = decoder_lstm(x, initial_state=encoder_states)\n",
        "decoder_dense = layers.Dense(vocab_size_english, activation='softmax')\n",
        "decoder_outputs_final = decoder_dense(decoder_outputs)\n"
      ]
    },
    {
      "cell_type": "code",
      "execution_count": 23,
      "id": "2ce09838",
      "metadata": {
        "id": "2ce09838",
        "outputId": "a093002c-2539-49df-f2d9-8a86a12921ec",
        "colab": {
          "base_uri": "https://localhost:8080/"
        }
      },
      "outputs": [
        {
          "output_type": "execute_result",
          "data": {
            "text/plain": [
              "[(None, None, 64), (None, 64), (None, 64)]"
            ]
          },
          "metadata": {},
          "execution_count": 23
        }
      ],
      "source": [
        "decoder_lstm.output_shape\n"
      ]
    },
    {
      "cell_type": "code",
      "execution_count": 24,
      "id": "29e81454-7b06-4237-ba2c-2cce45df9587",
      "metadata": {
        "tags": [],
        "id": "29e81454-7b06-4237-ba2c-2cce45df9587"
      },
      "outputs": [],
      "source": [
        "# Define the model\n",
        "model1 = Model([encoder_inputs, decoder_inputs], decoder_outputs_final)"
      ]
    },
    {
      "cell_type": "code",
      "execution_count": 25,
      "id": "e2b16487-c92a-4827-b353-f1160ce0fac5",
      "metadata": {
        "tags": [],
        "id": "e2b16487-c92a-4827-b353-f1160ce0fac5",
        "outputId": "34cc94a2-61f4-44f8-e1d5-9a074d2f6c34",
        "colab": {
          "base_uri": "https://localhost:8080/"
        }
      },
      "outputs": [
        {
          "output_type": "stream",
          "name": "stdout",
          "text": [
            "Model: \"model\"\n",
            "__________________________________________________________________________________________________\n",
            " Layer (type)                Output Shape                 Param #   Connected to                  \n",
            "==================================================================================================\n",
            " spanish_input (InputLayer)  [(None, None)]               0         []                            \n",
            "                                                                                                  \n",
            " english_teacher (InputLaye  [(None, None)]               0         []                            \n",
            " r)                                                                                               \n",
            "                                                                                                  \n",
            " sp_embedding (Embedding)    (None, None, 100)            215400    ['spanish_input[0][0]']       \n",
            "                                                                                                  \n",
            " english_embedding (Embeddi  (None, None, 100)            109300    ['english_teacher[0][0]']     \n",
            " ng)                                                                                              \n",
            "                                                                                                  \n",
            " lstm (LSTM)                 [(None, 64),                 42240     ['sp_embedding[0][0]']        \n",
            "                              (None, 64),                                                         \n",
            "                              (None, 64)]                                                         \n",
            "                                                                                                  \n",
            " lstm_1 (LSTM)               [(None, None, 64),           42240     ['english_embedding[0][0]',   \n",
            "                              (None, 64),                            'lstm[0][1]',                \n",
            "                              (None, 64)]                            'lstm[0][2]']                \n",
            "                                                                                                  \n",
            " dense (Dense)               (None, None, 1093)           71045     ['lstm_1[0][0]']              \n",
            "                                                                                                  \n",
            "==================================================================================================\n",
            "Total params: 480225 (1.83 MB)\n",
            "Trainable params: 480225 (1.83 MB)\n",
            "Non-trainable params: 0 (0.00 Byte)\n",
            "__________________________________________________________________________________________________\n"
          ]
        }
      ],
      "source": [
        "model1.summary()"
      ]
    },
    {
      "cell_type": "code",
      "execution_count": 26,
      "id": "e45c5fba",
      "metadata": {
        "id": "e45c5fba"
      },
      "outputs": [],
      "source": [
        "import unicodedata\n",
        "import re\n",
        "import numpy as np\n",
        "import pandas as pd\n",
        "import os\n",
        "import io\n",
        "import time\n",
        "\n",
        "import tensorflow as tf\n",
        "\n",
        "from tensorflow.keras.models import Model\n",
        "from tensorflow.keras import optimizers\n",
        "from tensorflow.keras import layers\n",
        "from tensorflow.keras.callbacks import EarlyStopping\n",
        "from tensorflow.keras.utils import plot_model\n",
        "\n",
        "import matplotlib.pyplot as plt\n",
        "import matplotlib.ticker as ticker"
      ]
    },
    {
      "cell_type": "code",
      "execution_count": 27,
      "id": "44149039-a504-4817-81c1-b922db5f786c",
      "metadata": {
        "tags": [],
        "id": "44149039-a504-4817-81c1-b922db5f786c"
      },
      "outputs": [],
      "source": [
        "model1.compile(loss='sparse_categorical_crossentropy', optimizer='rmsprop', metrics=['accuracy'])\n"
      ]
    },
    {
      "cell_type": "code",
      "execution_count": 28,
      "id": "3bbb3f3e",
      "metadata": {
        "id": "3bbb3f3e",
        "outputId": "33589e4e-de67-4840-b12f-56ef7d8243a6",
        "colab": {
          "base_uri": "https://localhost:8080/",
          "height": 533
        }
      },
      "outputs": [
        {
          "output_type": "execute_result",
          "data": {
            "image/png": "[encoded data removed]",
            "text/plain": [
              "<IPython.core.display.Image object>"
            ]
          },
          "metadata": {},
          "execution_count": 28
        }
      ],
      "source": [
        "from tensorflow.keras.utils import plot_model\n",
        "\n",
        "plot_model(model1, to_file='model_plot.png', show_shapes=True, show_layer_names=True)"
      ]
    },
    {
      "cell_type": "code",
      "execution_count": 29,
      "id": "b0843f2c",
      "metadata": {
        "id": "b0843f2c"
      },
      "outputs": [],
      "source": [
        "spanish_embedded_data = spanish_vectorizer(y_processed_array)\n"
      ]
    },
    {
      "cell_type": "code",
      "execution_count": 30,
      "id": "4ff96a94-7e7a-410b-a1dc-9ef3bd14ebe6",
      "metadata": {
        "tags": [],
        "id": "4ff96a94-7e7a-410b-a1dc-9ef3bd14ebe6",
        "outputId": "2b478ccf-db72-44cc-8a45-1fbe73ad59c2",
        "colab": {
          "base_uri": "https://localhost:8080/"
        }
      },
      "outputs": [
        {
          "output_type": "execute_result",
          "data": {
            "text/plain": [
              "(5000, 7)"
            ]
          },
          "metadata": {},
          "execution_count": 30
        }
      ],
      "source": [
        "# Prepare training data with teacher forcing\n",
        "# decoder_input_data is a 2D array of shape (None, None) containing a tokenization of the English sentences.\n",
        "# decoder_target_data is the same as decoder_input_data but offset by one timestep. decoder_target_data[:, t] will be the same as decoder_input_data[:, t-1].\n",
        "\n",
        "english_teacher_enc = english_vectorizer(X_processed_array) #.numpy() # Teacher\n",
        "english_target_enc = np.zeros_like(english_teacher_enc)\n",
        "english_target_enc[:,:-1] = english_teacher_enc[:,1:] # To predict\n",
        "english_target_enc.shape"
      ]
    },
    {
      "cell_type": "code",
      "execution_count": 31,
      "id": "6d6d0e71-4fcb-4eae-8ffb-1ad7b713e695",
      "metadata": {
        "id": "6d6d0e71-4fcb-4eae-8ffb-1ad7b713e695"
      },
      "outputs": [],
      "source": [
        "# english_teacher_enc"
      ]
    },
    {
      "cell_type": "code",
      "execution_count": 32,
      "id": "62a576e5-b341-424c-b0b9-7ef5632515d2",
      "metadata": {
        "tags": [],
        "id": "62a576e5-b341-424c-b0b9-7ef5632515d2",
        "outputId": "028e44a0-2b17-4277-aea2-9fc548fce877",
        "colab": {
          "base_uri": "https://localhost:8080/"
        }
      },
      "outputs": [
        {
          "output_type": "stream",
          "name": "stdout",
          "text": [
            "Epoch 1/50\n",
            "141/141 [==============================] - 6s 23ms/step - loss: 3.6679 - accuracy: 0.3667 - val_loss: 3.3404 - val_accuracy: 0.3137\n",
            "Epoch 2/50\n",
            "141/141 [==============================] - 2s 15ms/step - loss: 2.4213 - accuracy: 0.5907 - val_loss: 2.8507 - val_accuracy: 0.5220\n",
            "Epoch 3/50\n",
            "141/141 [==============================] - 2s 15ms/step - loss: 2.0767 - accuracy: 0.6502 - val_loss: 2.6848 - val_accuracy: 0.5194\n",
            "Epoch 4/50\n",
            "141/141 [==============================] - 2s 15ms/step - loss: 1.9108 - accuracy: 0.6677 - val_loss: 2.5808 - val_accuracy: 0.5257\n",
            "Epoch 5/50\n",
            "141/141 [==============================] - 2s 15ms/step - loss: 1.7967 - accuracy: 0.6771 - val_loss: 2.5131 - val_accuracy: 0.5257\n",
            "Epoch 6/50\n",
            "141/141 [==============================] - 3s 19ms/step - loss: 1.7270 - accuracy: 0.6821 - val_loss: 2.4663 - val_accuracy: 0.5277\n",
            "Epoch 7/50\n",
            "141/141 [==============================] - 2s 16ms/step - loss: 1.6768 - accuracy: 0.6855 - val_loss: 2.4334 - val_accuracy: 0.5317\n",
            "Epoch 8/50\n",
            "141/141 [==============================] - 2s 15ms/step - loss: 1.6337 - accuracy: 0.6909 - val_loss: 2.3659 - val_accuracy: 0.5331\n",
            "Epoch 9/50\n",
            "141/141 [==============================] - 2s 15ms/step - loss: 1.5919 - accuracy: 0.6968 - val_loss: 2.3478 - val_accuracy: 0.5394\n",
            "Epoch 10/50\n",
            "141/141 [==============================] - 2s 15ms/step - loss: 1.5514 - accuracy: 0.7054 - val_loss: 2.2222 - val_accuracy: 0.5426\n",
            "Epoch 11/50\n",
            "141/141 [==============================] - 3s 19ms/step - loss: 1.5123 - accuracy: 0.7129 - val_loss: 2.2197 - val_accuracy: 0.5723\n",
            "Epoch 12/50\n",
            "141/141 [==============================] - 2s 15ms/step - loss: 1.4734 - accuracy: 0.7198 - val_loss: 2.1695 - val_accuracy: 0.6034\n",
            "Epoch 13/50\n",
            "141/141 [==============================] - 2s 15ms/step - loss: 1.4368 - accuracy: 0.7261 - val_loss: 2.1258 - val_accuracy: 0.6137\n",
            "Epoch 14/50\n",
            "141/141 [==============================] - 2s 15ms/step - loss: 1.4030 - accuracy: 0.7326 - val_loss: 2.1038 - val_accuracy: 0.6180\n",
            "Epoch 15/50\n",
            "141/141 [==============================] - 2s 15ms/step - loss: 1.3700 - accuracy: 0.7378 - val_loss: 2.0918 - val_accuracy: 0.6214\n",
            "Epoch 16/50\n",
            "141/141 [==============================] - 3s 19ms/step - loss: 1.3388 - accuracy: 0.7433 - val_loss: 2.0212 - val_accuracy: 0.6603\n",
            "Epoch 17/50\n",
            "141/141 [==============================] - 2s 16ms/step - loss: 1.3094 - accuracy: 0.7487 - val_loss: 2.0344 - val_accuracy: 0.6429\n",
            "Epoch 18/50\n",
            "141/141 [==============================] - 2s 15ms/step - loss: 1.2810 - accuracy: 0.7525 - val_loss: 1.9357 - val_accuracy: 0.6743\n",
            "Epoch 19/50\n",
            "141/141 [==============================] - 2s 15ms/step - loss: 1.2538 - accuracy: 0.7590 - val_loss: 1.9629 - val_accuracy: 0.6734\n",
            "Epoch 20/50\n",
            "141/141 [==============================] - 2s 15ms/step - loss: 1.2274 - accuracy: 0.7653 - val_loss: 1.9268 - val_accuracy: 0.6826\n",
            "Epoch 21/50\n",
            "141/141 [==============================] - 2s 17ms/step - loss: 1.2021 - accuracy: 0.7673 - val_loss: 1.8927 - val_accuracy: 0.6846\n",
            "Epoch 22/50\n",
            "141/141 [==============================] - 2s 17ms/step - loss: 1.1778 - accuracy: 0.7717 - val_loss: 1.8642 - val_accuracy: 0.7054\n",
            "Epoch 23/50\n",
            "141/141 [==============================] - 2s 14ms/step - loss: 1.1565 - accuracy: 0.7747 - val_loss: 1.8796 - val_accuracy: 0.7149\n",
            "Epoch 24/50\n",
            "141/141 [==============================] - 2s 15ms/step - loss: 1.1327 - accuracy: 0.7777 - val_loss: 1.8464 - val_accuracy: 0.7163\n",
            "Epoch 25/50\n",
            "141/141 [==============================] - 2s 15ms/step - loss: 1.1119 - accuracy: 0.7823 - val_loss: 1.8328 - val_accuracy: 0.7197\n",
            "Epoch 26/50\n",
            "141/141 [==============================] - 2s 15ms/step - loss: 1.0914 - accuracy: 0.7854 - val_loss: 1.8201 - val_accuracy: 0.7206\n",
            "Epoch 27/50\n",
            "141/141 [==============================] - 3s 19ms/step - loss: 1.0707 - accuracy: 0.7892 - val_loss: 1.8177 - val_accuracy: 0.7186\n",
            "Epoch 28/50\n",
            "141/141 [==============================] - 2s 15ms/step - loss: 1.0543 - accuracy: 0.7908 - val_loss: 1.7841 - val_accuracy: 0.7231\n",
            "Epoch 29/50\n",
            "141/141 [==============================] - 2s 15ms/step - loss: 1.0360 - accuracy: 0.7935 - val_loss: 1.8056 - val_accuracy: 0.7203\n",
            "Epoch 30/50\n",
            "141/141 [==============================] - 2s 15ms/step - loss: 1.0186 - accuracy: 0.7956 - val_loss: 1.7955 - val_accuracy: 0.7214\n",
            "Epoch 31/50\n",
            "141/141 [==============================] - 2s 15ms/step - loss: 1.0023 - accuracy: 0.7988 - val_loss: 1.8203 - val_accuracy: 0.7200\n",
            "Epoch 32/50\n",
            "141/141 [==============================] - 3s 19ms/step - loss: 0.9877 - accuracy: 0.7998 - val_loss: 1.7797 - val_accuracy: 0.7203\n",
            "Epoch 33/50\n",
            "141/141 [==============================] - 2s 14ms/step - loss: 0.9707 - accuracy: 0.8033 - val_loss: 1.7949 - val_accuracy: 0.7237\n",
            "Epoch 34/50\n",
            "141/141 [==============================] - 2s 15ms/step - loss: 0.9576 - accuracy: 0.8053 - val_loss: 1.7980 - val_accuracy: 0.7229\n",
            "Epoch 35/50\n",
            "141/141 [==============================] - 2s 15ms/step - loss: 0.9449 - accuracy: 0.8083 - val_loss: 1.7908 - val_accuracy: 0.7214\n",
            "Epoch 36/50\n",
            "141/141 [==============================] - 2s 15ms/step - loss: 0.9293 - accuracy: 0.8115 - val_loss: 1.7634 - val_accuracy: 0.7286\n",
            "Epoch 37/50\n",
            "141/141 [==============================] - 3s 19ms/step - loss: 0.9162 - accuracy: 0.8124 - val_loss: 1.7871 - val_accuracy: 0.7251\n",
            "Epoch 38/50\n",
            "141/141 [==============================] - 2s 15ms/step - loss: 0.9036 - accuracy: 0.8148 - val_loss: 1.7961 - val_accuracy: 0.7257\n",
            "Epoch 39/50\n",
            "141/141 [==============================] - 2s 15ms/step - loss: 0.8912 - accuracy: 0.8164 - val_loss: 1.7917 - val_accuracy: 0.7240\n",
            "Epoch 40/50\n",
            "141/141 [==============================] - 2s 15ms/step - loss: 0.8782 - accuracy: 0.8183 - val_loss: 1.7909 - val_accuracy: 0.7220\n",
            "Epoch 41/50\n",
            "141/141 [==============================] - 2s 15ms/step - loss: 0.8672 - accuracy: 0.8199 - val_loss: 1.7695 - val_accuracy: 0.7251\n",
            "Epoch 42/50\n",
            "141/141 [==============================] - 3s 19ms/step - loss: 0.8563 - accuracy: 0.8218 - val_loss: 1.7661 - val_accuracy: 0.7274\n",
            "Epoch 43/50\n",
            "141/141 [==============================] - 2s 15ms/step - loss: 0.8439 - accuracy: 0.8251 - val_loss: 1.7720 - val_accuracy: 0.7300\n",
            "Epoch 44/50\n",
            "141/141 [==============================] - 2s 15ms/step - loss: 0.8342 - accuracy: 0.8273 - val_loss: 1.7625 - val_accuracy: 0.7260\n",
            "Epoch 45/50\n",
            "141/141 [==============================] - 2s 15ms/step - loss: 0.8242 - accuracy: 0.8277 - val_loss: 1.7847 - val_accuracy: 0.7274\n",
            "Epoch 46/50\n",
            "141/141 [==============================] - 2s 15ms/step - loss: 0.8131 - accuracy: 0.8298 - val_loss: 1.7811 - val_accuracy: 0.7311\n",
            "Epoch 47/50\n",
            "141/141 [==============================] - 3s 19ms/step - loss: 0.8028 - accuracy: 0.8320 - val_loss: 1.7821 - val_accuracy: 0.7254\n",
            "Epoch 48/50\n",
            "141/141 [==============================] - 2s 15ms/step - loss: 0.7944 - accuracy: 0.8329 - val_loss: 1.7885 - val_accuracy: 0.7266\n",
            "Epoch 49/50\n",
            "141/141 [==============================] - 2s 15ms/step - loss: 0.7863 - accuracy: 0.8338 - val_loss: 1.7859 - val_accuracy: 0.7237\n",
            "Epoch 50/50\n",
            "141/141 [==============================] - 2s 15ms/step - loss: 0.7758 - accuracy: 0.8371 - val_loss: 1.7972 - val_accuracy: 0.7289\n"
          ]
        }
      ],
      "source": [
        "# Configure the model and start training\n",
        "# Stop training with early stopping with patience of 20\n",
        "callbacks_list = [EarlyStopping(monitor='loss', mode='min', min_delta=0.000001,\n",
        "                                patience=3, restore_best_weights=True, verbose=1,\n",
        "                                )]\n",
        "\n",
        "\n",
        "# history = model1.fit([y_processed_array, english_teacher_enc], english_target_enc,\n",
        "#                     validation_split=0.1,\n",
        "#                     epochs=5, batch_size=BATCH_SIZE,\n",
        "#                     callbacks=callbacks_list,\n",
        "#                     verbose=1)\n",
        "\n",
        "\n",
        "\n",
        "history = model1.fit([spanish_embedded_data, english_teacher_enc], english_target_enc,\n",
        "                    validation_split=0.1,\n",
        "                    epochs=50, batch_size=BATCH_SIZE,\n",
        "                    callbacks=callbacks_list,\n",
        "                    verbose=1)\n"
      ]
    },
    {
      "cell_type": "code",
      "execution_count": 33,
      "id": "3f06c77d-6189-4c5b-bbaf-eaee6f02ff3e",
      "metadata": {
        "id": "3f06c77d-6189-4c5b-bbaf-eaee6f02ff3e",
        "outputId": "53f3e932-6c41-46a7-d008-c37dc288ab21",
        "colab": {
          "base_uri": "https://localhost:8080/",
          "height": 564
        }
      },
      "outputs": [
        {
          "output_type": "display_data",
          "data": {
            "text/plain": [
              "<Figure size 2000x600 with 2 Axes>"
            ],
            "image/png": "[encoded data removed]"
          },
          "metadata": {}
        }
      ],
      "source": [
        "import matplotlib.pyplot as plt\n",
        "\n",
        "plt.figure(figsize=(20, 6))\n",
        "# Plot the first subplot  loss)\n",
        "plt.subplot(1, 2, 1)  # 1 row, 2 columns, first subplot\n",
        "plt.plot(history.history[\"loss\"])\n",
        "plt.plot(history.history[\"val_loss\"])\n",
        "plt.title(\"validation loss & training loss\")\n",
        "plt.xlabel(\"epochs\")\n",
        "plt.ylabel(\"loss\")\n",
        "leg = plt.legend([\"training loss\", \"validation loss\"],loc =\"upper right\");\n",
        "\n",
        "# Plot the second subplot ( accuracy)\n",
        "plt.subplot(1, 2, 2)  # 1 row, 2 columns, second subplot\n",
        "plt.plot(history.history[\"accuracy\"])\n",
        "plt.plot(history.history[\"val_accuracy\"])\n",
        "plt.title(\"validation accuracy & training loaccuracyss\")\n",
        "plt.xlabel(\"epochs\")\n",
        "plt.ylabel(\"accuracy\")\n",
        "leg = plt.legend([\"training accuracy\", \"validation accuracy\"],loc =\"upper left\");\n",
        "\n",
        "plt.show()\n"
      ]
    },
    {
      "cell_type": "code",
      "execution_count": 33,
      "id": "4de2b1d0",
      "metadata": {
        "id": "4de2b1d0"
      },
      "outputs": [],
      "source": []
    },
    {
      "cell_type": "markdown",
      "id": "a4d938bc",
      "metadata": {
        "id": "a4d938bc"
      },
      "source": [
        "### prediction"
      ]
    },
    {
      "cell_type": "code",
      "execution_count": 34,
      "id": "2d382247",
      "metadata": {
        "id": "2d382247",
        "outputId": "c8e684a8-84a2-456f-e963-7531598d6959",
        "colab": {
          "base_uri": "https://localhost:8080/"
        }
      },
      "outputs": [
        {
          "output_type": "stream",
          "name": "stdout",
          "text": [
            "157/157 [==============================] - 1s 4ms/step\n"
          ]
        }
      ],
      "source": [
        "y_pred=model1.predict([spanish_embedded_data, english_teacher_enc])"
      ]
    },
    {
      "cell_type": "code",
      "execution_count": 35,
      "id": "b8182e9b",
      "metadata": {
        "id": "b8182e9b",
        "outputId": "b0fa6d7c-5810-46d9-d2a4-fb7495133eb4",
        "colab": {
          "base_uri": "https://localhost:8080/"
        }
      },
      "outputs": [
        {
          "output_type": "execute_result",
          "data": {
            "text/plain": [
              "(5000, 7, 1093)"
            ]
          },
          "metadata": {},
          "execution_count": 35
        }
      ],
      "source": [
        "y_pred.shape"
      ]
    },
    {
      "cell_type": "code",
      "execution_count": 36,
      "id": "86193005",
      "metadata": {
        "id": "86193005"
      },
      "outputs": [],
      "source": [
        "# y_pred[1]"
      ]
    },
    {
      "cell_type": "code",
      "execution_count": 37,
      "id": "55574ef6",
      "metadata": {
        "id": "55574ef6"
      },
      "outputs": [],
      "source": [
        "# Pour décoder, il faut transformer un entier en mot.\n",
        "def get_word(n, tokenizer):\n",
        "    for word, index in tokenizer.word_index.items():\n",
        "        if index == n :\n",
        "            return word\n",
        "    return None\n"
      ]
    },
    {
      "cell_type": "code",
      "execution_count": 38,
      "id": "d9ffefe5",
      "metadata": {
        "id": "d9ffefe5"
      },
      "outputs": [],
      "source": [
        "from tensorflow.keras.preprocessing.text import Tokenizer\n",
        "\n",
        "# Now you can use the Tokenizer class\n",
        "# tokenizer = Tokenizer()\n",
        "\n",
        "def tokenization(lines):\n",
        "    tokenizer = Tokenizer()\n",
        "    tokenizer.fit_on_texts(lines)\n",
        "    return tokenizer\n",
        "\n"
      ]
    },
    {
      "cell_type": "code",
      "execution_count": 39,
      "id": "03311a32",
      "metadata": {
        "id": "03311a32"
      },
      "outputs": [],
      "source": [
        "import pandas as pd\n",
        "import numpy as np\n",
        "\n",
        "# Assuming df is your DataFrame\n",
        "\n",
        "# Selecting data from the first two columns\n",
        "first_two_columns_data = data.iloc[:, :2]\n",
        "\n",
        "# Convert the selected data into a NumPy array\n",
        "fra_eng = np.array(first_two_columns_data.values)\n",
        "\n",
        "# print(\"Array Data:\")\n",
        "# print(array_data)\n"
      ]
    },
    {
      "cell_type": "code",
      "execution_count": 40,
      "id": "10bc94b0",
      "metadata": {
        "id": "10bc94b0"
      },
      "outputs": [],
      "source": [
        "eng_tokenizer = tokenization(fra_eng[:,0])"
      ]
    },
    {
      "cell_type": "code",
      "execution_count": 41,
      "id": "62c52655",
      "metadata": {
        "id": "62c52655"
      },
      "outputs": [],
      "source": [
        "def get_word(index, tokenizer):\n",
        "    word = None\n",
        "    for word, idx in tokenizer.word_index.items():\n",
        "        if idx == index:\n",
        "            return word\n",
        "    return word\n"
      ]
    },
    {
      "cell_type": "code",
      "execution_count": 42,
      "id": "f0a6495a",
      "metadata": {
        "id": "f0a6495a"
      },
      "outputs": [],
      "source": [
        "# preds_text = []\n",
        "\n",
        "# for i in y_pred:\n",
        "#     temp = []\n",
        "#     for j in range(len(i)):\n",
        "#         t = get_word(i[j], eng_tokenizer)\n",
        "#         if j>0:\n",
        "#             if (t ==get_word(i[j-1],eng_tokenizer ) or (t ==  None)):\n",
        "#                 temp.append(\"\")\n",
        "#             else:\n",
        "#                 temp.append(t)\n",
        "#         else:\n",
        "#             if(t == None):\n",
        "#                 temp.append(\"\")\n",
        "#             else:\n",
        "#                 temp.append(t)\n",
        "#     preds_text.append(\"\".join(temp))\n"
      ]
    },
    {
      "cell_type": "code",
      "execution_count": 42,
      "id": "198385c1",
      "metadata": {
        "id": "198385c1"
      },
      "outputs": [],
      "source": []
    },
    {
      "cell_type": "code",
      "execution_count": 43,
      "id": "937b2a75",
      "metadata": {
        "id": "937b2a75"
      },
      "outputs": [],
      "source": [
        "# pred_df = pd.DataFrame({\"actual\":data.iloc[:1000, 0], \"predicted\": preds_text})"
      ]
    },
    {
      "cell_type": "code",
      "execution_count": 43,
      "id": "bd04239c",
      "metadata": {
        "id": "bd04239c"
      },
      "outputs": [],
      "source": []
    },
    {
      "cell_type": "code",
      "execution_count": 43,
      "id": "16f760ff",
      "metadata": {
        "id": "16f760ff"
      },
      "outputs": [],
      "source": []
    },
    {
      "cell_type": "markdown",
      "id": "38d4596a",
      "metadata": {
        "id": "38d4596a"
      },
      "source": [
        "##  basic model -2"
      ]
    },
    {
      "cell_type": "markdown",
      "id": "1d08be76",
      "metadata": {
        "id": "1d08be76"
      },
      "source": [
        "**ENCODER**"
      ]
    },
    {
      "cell_type": "code",
      "execution_count": 44,
      "id": "22391d70",
      "metadata": {
        "id": "22391d70"
      },
      "outputs": [],
      "source": [
        "from keras.models import Model\n",
        "from keras.layers import Input, LSTM, Dense\n",
        "\n",
        "# Define an input sequence and process it.\n",
        "encoder_inputs = Input(shape=(None,))\n",
        "layer_embedding = layers.Embedding(vocab_size_spanish, embedding_dim)\n",
        "embedding_layer_final = layer_embedding(encoder_inputs)\n",
        "\n",
        "encoder = LSTM(latent_dim, return_state=True)\n",
        "encoder_outputs, state_h, state_c = encoder(embedding_layer_final)\n",
        "# We discard `encoder_outputs` and only keep the states.\n",
        "encoder_states = [state_h, state_c]\n",
        "\n"
      ]
    },
    {
      "cell_type": "markdown",
      "id": "50645e55",
      "metadata": {
        "id": "50645e55"
      },
      "source": [
        "**DECODER**"
      ]
    },
    {
      "cell_type": "code",
      "execution_count": 45,
      "id": "3044a716",
      "metadata": {
        "id": "3044a716"
      },
      "outputs": [],
      "source": [
        "# Set up the decoder, using `encoder_states` as initial state.\n",
        "decoder_inputs = Input(shape=(None,))\n",
        "# We set up our decoder to return full output sequences,\n",
        "# and to return internal states as well. We don't use the\n",
        "# return states in the training model, but we will use them in inference.\n",
        "\n",
        "layer_embedding_decoder = layers.Embedding(vocab_size_english, embedding_dim)\n",
        "x =layer_embedding_decoder(decoder_inputs)\n",
        "\n",
        "decoder_lstm = LSTM(latent_dim, return_sequences=True, return_state=True)\n",
        "decoder_outputs, _, _ = decoder_lstm(x,\n",
        "                                     initial_state=encoder_states)\n",
        "decoder_dense = Dense(vocab_size_english, activation='softmax')\n",
        "decoder_outputs = decoder_dense(decoder_outputs)\n",
        "\n",
        "# Define the model that will turn\n",
        "# `encoder_input_data` & `decoder_input_data` into `decoder_target_data`\n",
        "model_encoder_training = Model([encoder_inputs, decoder_inputs], decoder_outputs, name=\"model_encoder_training\")"
      ]
    },
    {
      "cell_type": "code",
      "execution_count": 45,
      "id": "9a117c95",
      "metadata": {
        "id": "9a117c95"
      },
      "outputs": [],
      "source": []
    },
    {
      "cell_type": "code",
      "execution_count": 46,
      "id": "f1b84deb",
      "metadata": {
        "id": "f1b84deb",
        "outputId": "5a67e1eb-5d59-42b3-8879-13a83c80c613",
        "colab": {
          "base_uri": "https://localhost:8080/"
        }
      },
      "outputs": [
        {
          "output_type": "stream",
          "name": "stdout",
          "text": [
            "Model: \"model_encoder_training\"\n",
            "__________________________________________________________________________________________________\n",
            " Layer (type)                Output Shape                 Param #   Connected to                  \n",
            "==================================================================================================\n",
            " input_1 (InputLayer)        [(None, None)]               0         []                            \n",
            "                                                                                                  \n",
            " input_2 (InputLayer)        [(None, None)]               0         []                            \n",
            "                                                                                                  \n",
            " embedding (Embedding)       (None, None, 100)            215400    ['input_1[0][0]']             \n",
            "                                                                                                  \n",
            " embedding_1 (Embedding)     (None, None, 100)            109300    ['input_2[0][0]']             \n",
            "                                                                                                  \n",
            " lstm_2 (LSTM)               [(None, 64),                 42240     ['embedding[0][0]']           \n",
            "                              (None, 64),                                                         \n",
            "                              (None, 64)]                                                         \n",
            "                                                                                                  \n",
            " lstm_3 (LSTM)               [(None, None, 64),           42240     ['embedding_1[0][0]',         \n",
            "                              (None, 64),                            'lstm_2[0][1]',              \n",
            "                              (None, 64)]                            'lstm_2[0][2]']              \n",
            "                                                                                                  \n",
            " dense_1 (Dense)             (None, None, 1093)           71045     ['lstm_3[0][0]']              \n",
            "                                                                                                  \n",
            "==================================================================================================\n",
            "Total params: 480225 (1.83 MB)\n",
            "Trainable params: 480225 (1.83 MB)\n",
            "Non-trainable params: 0 (0.00 Byte)\n",
            "__________________________________________________________________________________________________\n"
          ]
        }
      ],
      "source": [
        "model_encoder_training.summary()"
      ]
    },
    {
      "cell_type": "code",
      "execution_count": 47,
      "id": "c3f8e483",
      "metadata": {
        "id": "c3f8e483",
        "outputId": "fe105a5f-06a6-4a36-def0-51031f797dbf",
        "colab": {
          "base_uri": "https://localhost:8080/",
          "height": 533
        }
      },
      "outputs": [
        {
          "output_type": "execute_result",
          "data": {
            "image/png": "[encoded data removed]",
            "text/plain": [
              "<IPython.core.display.Image object>"
            ]
          },
          "metadata": {},
          "execution_count": 47
        }
      ],
      "source": [
        "from tensorflow.keras.utils import plot_model\n",
        "\n",
        "plot_model(model_encoder_training, to_file='model_plot2.png', show_shapes=True, show_layer_names=True)"
      ]
    },
    {
      "cell_type": "code",
      "execution_count": 48,
      "id": "d31e9476",
      "metadata": {
        "id": "d31e9476"
      },
      "outputs": [],
      "source": [
        "# Run training\n",
        "# model.compile(optimizer='rmsprop', loss='categorical_crossentropy')\n",
        "\n",
        "\n",
        "model_encoder_training.compile(loss='sparse_categorical_crossentropy', optimizer='rmsprop', metrics=['accuracy'])\n",
        "\n"
      ]
    },
    {
      "cell_type": "code",
      "execution_count": 49,
      "id": "42a1f805",
      "metadata": {
        "id": "42a1f805"
      },
      "outputs": [],
      "source": [
        "# spanish_embedded_data_test = spanish_vectorizer(y_test)\n",
        "# english_teacher_enc_test = english_vectorizer(X_test)"
      ]
    },
    {
      "cell_type": "code",
      "execution_count": 49,
      "id": "f36ad506",
      "metadata": {
        "id": "f36ad506"
      },
      "outputs": [],
      "source": []
    },
    {
      "cell_type": "code",
      "execution_count": 50,
      "id": "b242d049",
      "metadata": {
        "id": "b242d049",
        "outputId": "b21f4b68-d2bc-4b10-fb68-01dd2593f839",
        "colab": {
          "base_uri": "https://localhost:8080/"
        }
      },
      "outputs": [
        {
          "output_type": "stream",
          "name": "stdout",
          "text": [
            "Epoch 1/50\n",
            "141/141 [==============================] - 6s 23ms/step - loss: 3.6493 - accuracy: 0.3739 - val_loss: 3.1938 - val_accuracy: 0.3386\n",
            "Epoch 2/50\n",
            "141/141 [==============================] - 2s 15ms/step - loss: 2.4137 - accuracy: 0.5857 - val_loss: 2.8558 - val_accuracy: 0.5129\n",
            "Epoch 3/50\n",
            "141/141 [==============================] - 2s 15ms/step - loss: 2.0695 - accuracy: 0.6533 - val_loss: 2.6656 - val_accuracy: 0.5197\n",
            "Epoch 4/50\n",
            "141/141 [==============================] - 2s 15ms/step - loss: 1.8989 - accuracy: 0.6680 - val_loss: 2.5814 - val_accuracy: 0.5274\n",
            "Epoch 5/50\n",
            "141/141 [==============================] - 2s 16ms/step - loss: 1.7881 - accuracy: 0.6800 - val_loss: 2.4668 - val_accuracy: 0.5291\n",
            "Epoch 6/50\n",
            "141/141 [==============================] - 2s 18ms/step - loss: 1.7159 - accuracy: 0.6834 - val_loss: 2.4147 - val_accuracy: 0.5289\n",
            "Epoch 7/50\n",
            "141/141 [==============================] - 2s 15ms/step - loss: 1.6626 - accuracy: 0.6868 - val_loss: 2.3474 - val_accuracy: 0.5349\n",
            "Epoch 8/50\n",
            "141/141 [==============================] - 2s 15ms/step - loss: 1.6159 - accuracy: 0.6936 - val_loss: 2.2666 - val_accuracy: 0.5454\n",
            "Epoch 9/50\n",
            "141/141 [==============================] - 2s 15ms/step - loss: 1.5710 - accuracy: 0.7015 - val_loss: 2.2083 - val_accuracy: 0.5877\n",
            "Epoch 10/50\n",
            "141/141 [==============================] - 2s 15ms/step - loss: 1.5294 - accuracy: 0.7104 - val_loss: 2.1783 - val_accuracy: 0.5929\n",
            "Epoch 11/50\n",
            "141/141 [==============================] - 3s 19ms/step - loss: 1.4897 - accuracy: 0.7186 - val_loss: 2.1245 - val_accuracy: 0.5940\n",
            "Epoch 12/50\n",
            "141/141 [==============================] - 2s 15ms/step - loss: 1.4517 - accuracy: 0.7256 - val_loss: 2.1219 - val_accuracy: 0.6029\n",
            "Epoch 13/50\n",
            "141/141 [==============================] - 2s 15ms/step - loss: 1.4165 - accuracy: 0.7323 - val_loss: 2.0794 - val_accuracy: 0.6057\n",
            "Epoch 14/50\n",
            "141/141 [==============================] - 2s 15ms/step - loss: 1.3803 - accuracy: 0.7377 - val_loss: 2.0469 - val_accuracy: 0.6251\n",
            "Epoch 15/50\n",
            "141/141 [==============================] - 2s 15ms/step - loss: 1.3479 - accuracy: 0.7421 - val_loss: 2.0616 - val_accuracy: 0.6086\n",
            "Epoch 16/50\n",
            "141/141 [==============================] - 3s 20ms/step - loss: 1.3186 - accuracy: 0.7463 - val_loss: 1.9598 - val_accuracy: 0.6594\n",
            "Epoch 17/50\n",
            "141/141 [==============================] - 2s 15ms/step - loss: 1.2917 - accuracy: 0.7503 - val_loss: 1.9838 - val_accuracy: 0.6623\n",
            "Epoch 18/50\n",
            "141/141 [==============================] - 2s 15ms/step - loss: 1.2668 - accuracy: 0.7543 - val_loss: 1.9502 - val_accuracy: 0.6386\n",
            "Epoch 19/50\n",
            "141/141 [==============================] - 2s 15ms/step - loss: 1.2417 - accuracy: 0.7590 - val_loss: 1.9701 - val_accuracy: 0.6414\n",
            "Epoch 20/50\n",
            "141/141 [==============================] - 2s 16ms/step - loss: 1.2210 - accuracy: 0.7630 - val_loss: 1.8935 - val_accuracy: 0.6863\n",
            "Epoch 21/50\n",
            "141/141 [==============================] - 3s 19ms/step - loss: 1.2000 - accuracy: 0.7664 - val_loss: 1.9071 - val_accuracy: 0.6746\n",
            "Epoch 22/50\n",
            "141/141 [==============================] - 2s 15ms/step - loss: 1.1807 - accuracy: 0.7698 - val_loss: 1.8900 - val_accuracy: 0.6823\n",
            "Epoch 23/50\n",
            "141/141 [==============================] - 2s 16ms/step - loss: 1.1617 - accuracy: 0.7733 - val_loss: 1.8918 - val_accuracy: 0.6917\n",
            "Epoch 24/50\n",
            "141/141 [==============================] - 2s 15ms/step - loss: 1.1426 - accuracy: 0.7763 - val_loss: 1.8816 - val_accuracy: 0.6866\n",
            "Epoch 25/50\n",
            "141/141 [==============================] - 2s 16ms/step - loss: 1.1268 - accuracy: 0.7806 - val_loss: 1.8541 - val_accuracy: 0.7089\n",
            "Epoch 26/50\n",
            "141/141 [==============================] - 3s 19ms/step - loss: 1.1092 - accuracy: 0.7813 - val_loss: 1.8585 - val_accuracy: 0.6966\n",
            "Epoch 27/50\n",
            "141/141 [==============================] - 2s 15ms/step - loss: 1.0921 - accuracy: 0.7863 - val_loss: 1.8476 - val_accuracy: 0.7066\n",
            "Epoch 28/50\n",
            "141/141 [==============================] - 2s 15ms/step - loss: 1.0741 - accuracy: 0.7883 - val_loss: 1.8354 - val_accuracy: 0.7163\n",
            "Epoch 29/50\n",
            "141/141 [==============================] - 2s 15ms/step - loss: 1.0590 - accuracy: 0.7922 - val_loss: 1.8014 - val_accuracy: 0.7191\n",
            "Epoch 30/50\n",
            "141/141 [==============================] - 2s 15ms/step - loss: 1.0444 - accuracy: 0.7936 - val_loss: 1.8034 - val_accuracy: 0.7174\n",
            "Epoch 31/50\n",
            "141/141 [==============================] - 3s 19ms/step - loss: 1.0303 - accuracy: 0.7967 - val_loss: 1.7815 - val_accuracy: 0.7206\n",
            "Epoch 32/50\n",
            "141/141 [==============================] - 2s 15ms/step - loss: 1.0146 - accuracy: 0.7993 - val_loss: 1.7819 - val_accuracy: 0.7257\n",
            "Epoch 33/50\n",
            "141/141 [==============================] - 2s 15ms/step - loss: 0.9999 - accuracy: 0.8017 - val_loss: 1.7911 - val_accuracy: 0.7203\n",
            "Epoch 34/50\n",
            "141/141 [==============================] - 2s 15ms/step - loss: 0.9860 - accuracy: 0.8026 - val_loss: 1.7848 - val_accuracy: 0.7220\n",
            "Epoch 35/50\n",
            "141/141 [==============================] - 2s 15ms/step - loss: 0.9748 - accuracy: 0.8059 - val_loss: 1.7921 - val_accuracy: 0.7240\n",
            "Epoch 36/50\n",
            "141/141 [==============================] - 3s 20ms/step - loss: 0.9606 - accuracy: 0.8080 - val_loss: 1.7685 - val_accuracy: 0.7271\n",
            "Epoch 37/50\n",
            "141/141 [==============================] - 2s 15ms/step - loss: 0.9481 - accuracy: 0.8100 - val_loss: 1.7715 - val_accuracy: 0.7274\n",
            "Epoch 38/50\n",
            "141/141 [==============================] - 2s 15ms/step - loss: 0.9357 - accuracy: 0.8124 - val_loss: 1.7568 - val_accuracy: 0.7283\n",
            "Epoch 39/50\n",
            "141/141 [==============================] - 2s 15ms/step - loss: 0.9231 - accuracy: 0.8138 - val_loss: 1.7491 - val_accuracy: 0.7269\n",
            "Epoch 40/50\n",
            "141/141 [==============================] - 2s 15ms/step - loss: 0.9102 - accuracy: 0.8157 - val_loss: 1.7637 - val_accuracy: 0.7300\n",
            "Epoch 41/50\n",
            "141/141 [==============================] - 3s 19ms/step - loss: 0.9004 - accuracy: 0.8184 - val_loss: 1.7500 - val_accuracy: 0.7300\n",
            "Epoch 42/50\n",
            "141/141 [==============================] - 2s 16ms/step - loss: 0.8875 - accuracy: 0.8202 - val_loss: 1.7699 - val_accuracy: 0.7266\n",
            "Epoch 43/50\n",
            "141/141 [==============================] - 2s 16ms/step - loss: 0.8768 - accuracy: 0.8221 - val_loss: 1.7622 - val_accuracy: 0.7271\n",
            "Epoch 44/50\n",
            "141/141 [==============================] - 2s 16ms/step - loss: 0.8658 - accuracy: 0.8251 - val_loss: 1.7609 - val_accuracy: 0.7306\n",
            "Epoch 45/50\n",
            "141/141 [==============================] - 2s 15ms/step - loss: 0.8572 - accuracy: 0.8253 - val_loss: 1.7520 - val_accuracy: 0.7277\n",
            "Epoch 46/50\n",
            "141/141 [==============================] - 3s 18ms/step - loss: 0.8466 - accuracy: 0.8267 - val_loss: 1.7479 - val_accuracy: 0.7314\n",
            "Epoch 47/50\n",
            "141/141 [==============================] - 2s 15ms/step - loss: 0.8352 - accuracy: 0.8293 - val_loss: 1.7593 - val_accuracy: 0.7251\n",
            "Epoch 48/50\n",
            "141/141 [==============================] - 2s 15ms/step - loss: 0.8264 - accuracy: 0.8309 - val_loss: 1.7609 - val_accuracy: 0.7303\n",
            "Epoch 49/50\n",
            "141/141 [==============================] - 2s 15ms/step - loss: 0.8170 - accuracy: 0.8329 - val_loss: 1.7450 - val_accuracy: 0.7294\n",
            "Epoch 50/50\n",
            "141/141 [==============================] - 2s 15ms/step - loss: 0.8083 - accuracy: 0.8338 - val_loss: 1.7746 - val_accuracy: 0.7309\n"
          ]
        }
      ],
      "source": [
        "# Configure the model and start training\n",
        "# Stop training with early stopping with patience of 20\n",
        "callbacks_list = [EarlyStopping(monitor='loss', mode='min', min_delta=0.000001,\n",
        "                                patience=3, restore_best_weights=True, verbose=1,\n",
        "                                )]\n",
        "\n",
        "\n",
        "# history = model1.fit([y_processed_array, english_teacher_enc], english_target_enc,\n",
        "#                     validation_split=0.1,\n",
        "#                     epochs=5, batch_size=BATCH_SIZE,\n",
        "#                     callbacks=callbacks_list,\n",
        "#                     verbose=1)\n",
        "\n",
        "\n",
        "\n",
        "history = model_encoder_training.fit([spanish_embedded_data, english_teacher_enc], english_target_enc,\n",
        "                    validation_split=0.1,\n",
        "                    epochs=50, batch_size=BATCH_SIZE,\n",
        "                    callbacks=callbacks_list,\n",
        "                    verbose=1)"
      ]
    },
    {
      "cell_type": "code",
      "execution_count": 51,
      "id": "fbbe55ba",
      "metadata": {
        "id": "fbbe55ba",
        "colab": {
          "base_uri": "https://localhost:8080/",
          "height": 564
        },
        "outputId": "3da4d0b4-b010-41d9-b828-06c91798b998"
      },
      "outputs": [
        {
          "output_type": "display_data",
          "data": {
            "text/plain": [
              "<Figure size 2000x600 with 2 Axes>"
            ],
            "image/png": "[encoded data removed]"
          },
          "metadata": {}
        }
      ],
      "source": [
        "import matplotlib.pyplot as plt\n",
        "\n",
        "plt.figure(figsize=(20, 6))\n",
        "# Plot the first subplot  loss)\n",
        "plt.subplot(1, 2, 1)  # 1 row, 2 columns, first subplot\n",
        "plt.plot(history.history[\"loss\"])\n",
        "plt.plot(history.history[\"val_loss\"])\n",
        "plt.title(\"validation loss & training loss\")\n",
        "plt.xlabel(\"epochs\")\n",
        "plt.ylabel(\"loss\")\n",
        "leg = plt.legend([\"training loss\", \"validation loss\"],loc =\"upper right\");\n",
        "\n",
        "# Plot the second subplot ( accuracy)\n",
        "plt.subplot(1, 2, 2)  # 1 row, 2 columns, second subplot\n",
        "plt.plot(history.history[\"accuracy\"])\n",
        "plt.plot(history.history[\"val_accuracy\"])\n",
        "plt.title(\"validation accuracy & training loaccuracyss\")\n",
        "plt.xlabel(\"epochs\")\n",
        "plt.ylabel(\"accuracy\")\n",
        "leg = plt.legend([\"training accuracy\", \"validation accuracy\"],loc =\"upper left\");\n",
        "\n",
        "plt.show()\n"
      ]
    },
    {
      "cell_type": "markdown",
      "id": "b463b4cc-9ebe-4c39-a893-f7ff5902e652",
      "metadata": {
        "tags": [],
        "id": "b463b4cc-9ebe-4c39-a893-f7ff5902e652"
      },
      "source": [
        "## Inference"
      ]
    },
    {
      "cell_type": "code",
      "execution_count": 51,
      "id": "b23356b2",
      "metadata": {
        "id": "b23356b2"
      },
      "outputs": [],
      "source": []
    },
    {
      "cell_type": "code",
      "execution_count": 52,
      "id": "0428f62b",
      "metadata": {
        "id": "0428f62b"
      },
      "outputs": [],
      "source": [
        "encoder_model = Model(encoder_inputs, encoder_states)\n",
        "\n",
        "decoder_state_input_h = Input(shape=(latent_dim,))\n",
        "decoder_state_input_c = Input(shape=(latent_dim,))\n",
        "decoder_states_inputs = [decoder_state_input_h, decoder_state_input_c]\n",
        "\n",
        "layer_embedding_decoder_inf = layer_embedding_decoder(decoder_inputs)\n",
        "decoder_outputs, state_h, state_c = decoder_lstm(\n",
        "    layer_embedding_decoder_inf , initial_state=decoder_states_inputs)\n",
        "\n",
        "\n",
        "decoder_states = [state_h, state_c]\n",
        "decoder_outputs = decoder_dense(decoder_outputs)\n",
        "decoder_model = Model(\n",
        "    [decoder_inputs] + decoder_states_inputs,\n",
        "    [decoder_outputs] + decoder_states)"
      ]
    },
    {
      "cell_type": "code",
      "execution_count": 53,
      "id": "81971757",
      "metadata": {
        "id": "81971757"
      },
      "outputs": [],
      "source": [
        "# def decode_sequence(input_seq):\n",
        "#     # Encode the input as state vectors.\n",
        "#     states_value = encoder_model.predict(input_seq)\n",
        "#     # Iterate over decoded sentence. Target_seq is the input of the decoder\n",
        "#     target_seq = np.zeros((len(input_seq), 1))\n",
        "#     target_seq[:, 0] = word2token[\"<start>\"]\n",
        "#     print(target_seq.shape)\n",
        "#     output_sequence = [] # Output_sequence is the output of the decoder\n",
        "#     for _ in range(vocab_size_english):   # vocab_size_english = max_output_length\n",
        "#         output_value, h, c = decoder_model.predict( [target_seq] + states_value)\n",
        "#         # Update the target sequence (of length 1) and state\n",
        "#         target_seq[:, 0] = decode(output_value)\n",
        "#         states_value = [h, c]\n",
        "#         # extend output sequence\n",
        "#         output_sequence += [target_seq]\n",
        "#     return output_sequence # eventually format i"
      ]
    },
    {
      "cell_type": "code",
      "execution_count": 54,
      "id": "185ef9ad",
      "metadata": {
        "id": "185ef9ad"
      },
      "outputs": [],
      "source": [
        "def decode_sequence(input_seq):\n",
        "    # Encode the input as state vectors.\n",
        "    states_value = encoder_model.predict(input_seq)\n",
        "\n",
        "    # Initialize target sequence\n",
        "    target_seq = np.zeros((input_seq.shape[0], 1))  # Assuming input_seq is a NumPy array\n",
        "\n",
        "    # Initialize output sequence\n",
        "    output_sequence = []\n",
        "\n",
        "    for _ in range(vocab_size_english):  # Assuming max_output_length is defined somewhere\n",
        "        output_value, h, c = decoder_model.predict([target_seq] + states_value)\n",
        "\n",
        "        # Update the target sequence\n",
        "        sampled_token_index = np.argmax(output_value, axis=-1)\n",
        "        target_seq = sampled_token_index.reshape(-1, 1)\n",
        "\n",
        "        # Update states\n",
        "        states_value = [h, c]\n",
        "\n",
        "        # Append the predicted token to the output sequence\n",
        "        output_sequence.append(sampled_token_index)\n",
        "\n",
        "    return np.array(output_sequence)  # Convert the output sequence to a NumPy array\n",
        "\n",
        "\n"
      ]
    },
    {
      "cell_type": "code",
      "execution_count": 55,
      "id": "6df61f65-c5c9-413f-aa00-33d03b81b46e",
      "metadata": {
        "id": "6df61f65-c5c9-413f-aa00-33d03b81b46e",
        "outputId": "e495787f-b36b-426e-8d80-60542a81d864",
        "colab": {
          "base_uri": "https://localhost:8080/"
        }
      },
      "outputs": [
        {
          "output_type": "stream",
          "name": "stdout",
          "text": [
            "157/157 [==============================] - 1s 2ms/step\n",
            "157/157 [==============================] - 1s 1ms/step\n",
            "157/157 [==============================] - 1s 1ms/step\n",
            "157/157 [==============================] - 0s 1ms/step\n",
            "157/157 [==============================] - 0s 1ms/step\n",
            "157/157 [==============================] - 0s 1ms/step\n",
            "157/157 [==============================] - 0s 1ms/step\n",
            "157/157 [==============================] - 0s 2ms/step\n",
            "157/157 [==============================] - 0s 2ms/step\n",
            "157/157 [==============================] - 0s 2ms/step\n",
            "157/157 [==============================] - 0s 1ms/step\n",
            "157/157 [==============================] - 0s 1ms/step\n",
            "157/157 [==============================] - 0s 1ms/step\n",
            "157/157 [==============================] - 0s 1ms/step\n",
            "157/157 [==============================] - 0s 1ms/step\n",
            "157/157 [==============================] - 0s 1ms/step\n",
            "157/157 [==============================] - 0s 1ms/step\n",
            "157/157 [==============================] - 0s 1ms/step\n",
            "157/157 [==============================] - 0s 1ms/step\n",
            "157/157 [==============================] - 0s 1ms/step\n",
            "157/157 [==============================] - 0s 1ms/step\n",
            "157/157 [==============================] - 0s 1ms/step\n",
            "157/157 [==============================] - 0s 1ms/step\n",
            "157/157 [==============================] - 0s 1ms/step\n",
            "157/157 [==============================] - 0s 1ms/step\n",
            "157/157 [==============================] - 0s 1ms/step\n",
            "157/157 [==============================] - 0s 1ms/step\n",
            "157/157 [==============================] - 0s 1ms/step\n",
            "157/157 [==============================] - 0s 2ms/step\n",
            "157/157 [==============================] - 0s 2ms/step\n",
            "157/157 [==============================] - 0s 2ms/step\n",
            "157/157 [==============================] - 0s 1ms/step\n",
            "157/157 [==============================] - 0s 1ms/step\n",
            "157/157 [==============================] - 0s 1ms/step\n",
            "157/157 [==============================] - 0s 1ms/step\n",
            "157/157 [==============================] - 0s 1ms/step\n",
            "157/157 [==============================] - 0s 1ms/step\n",
            "157/157 [==============================] - 0s 1ms/step\n",
            "157/157 [==============================] - 0s 1ms/step\n",
            "157/157 [==============================] - 0s 1ms/step\n",
            "157/157 [==============================] - 0s 1ms/step\n",
            "157/157 [==============================] - 0s 1ms/step\n",
            "157/157 [==============================] - 0s 1ms/step\n",
            "157/157 [==============================] - 0s 1ms/step\n",
            "157/157 [==============================] - 0s 1ms/step\n",
            "157/157 [==============================] - 0s 1ms/step\n",
            "157/157 [==============================] - 0s 1ms/step\n",
            "157/157 [==============================] - 0s 1ms/step\n",
            "157/157 [==============================] - 0s 1ms/step\n",
            "157/157 [==============================] - 0s 2ms/step\n",
            "157/157 [==============================] - 0s 2ms/step\n",
            "157/157 [==============================] - 0s 1ms/step\n",
            "157/157 [==============================] - 0s 1ms/step\n",
            "157/157 [==============================] - 0s 1ms/step\n",
            "157/157 [==============================] - 0s 1ms/step\n",
            "157/157 [==============================] - 0s 1ms/step\n",
            "157/157 [==============================] - 0s 1ms/step\n",
            "157/157 [==============================] - 0s 1ms/step\n",
            "157/157 [==============================] - 0s 2ms/step\n",
            "157/157 [==============================] - 0s 1ms/step\n",
            "157/157 [==============================] - 0s 1ms/step\n",
            "157/157 [==============================] - 0s 1ms/step\n",
            "157/157 [==============================] - 0s 1ms/step\n",
            "157/157 [==============================] - 0s 1ms/step\n",
            "157/157 [==============================] - 0s 1ms/step\n",
            "157/157 [==============================] - 0s 1ms/step\n",
            "157/157 [==============================] - 0s 1ms/step\n",
            "157/157 [==============================] - 0s 1ms/step\n",
            "157/157 [==============================] - 0s 1ms/step\n",
            "157/157 [==============================] - 0s 1ms/step\n",
            "157/157 [==============================] - 0s 2ms/step\n",
            "157/157 [==============================] - 0s 2ms/step\n",
            "157/157 [==============================] - 0s 2ms/step\n",
            "157/157 [==============================] - 0s 1ms/step\n",
            "157/157 [==============================] - 0s 2ms/step\n",
            "157/157 [==============================] - 0s 1ms/step\n",
            "157/157 [==============================] - 0s 1ms/step\n",
            "157/157 [==============================] - 0s 1ms/step\n",
            "157/157 [==============================] - 0s 1ms/step\n",
            "157/157 [==============================] - 0s 1ms/step\n",
            "157/157 [==============================] - 0s 1ms/step\n",
            "157/157 [==============================] - 0s 1ms/step\n",
            "157/157 [==============================] - 0s 1ms/step\n",
            "157/157 [==============================] - 0s 1ms/step\n",
            "157/157 [==============================] - 0s 1ms/step\n",
            "157/157 [==============================] - 0s 1ms/step\n",
            "157/157 [==============================] - 0s 1ms/step\n",
            "157/157 [==============================] - 0s 1ms/step\n",
            "157/157 [==============================] - 0s 1ms/step\n",
            "157/157 [==============================] - 0s 2ms/step\n",
            "157/157 [==============================] - 0s 1ms/step\n",
            "157/157 [==============================] - 0s 1ms/step\n",
            "157/157 [==============================] - 0s 2ms/step\n",
            "157/157 [==============================] - 0s 2ms/step\n",
            "157/157 [==============================] - 0s 1ms/step\n",
            "157/157 [==============================] - 0s 1ms/step\n",
            "157/157 [==============================] - 0s 2ms/step\n",
            "157/157 [==============================] - 0s 1ms/step\n",
            "157/157 [==============================] - 0s 1ms/step\n",
            "157/157 [==============================] - 0s 1ms/step\n",
            "157/157 [==============================] - 0s 2ms/step\n",
            "157/157 [==============================] - 0s 2ms/step\n",
            "157/157 [==============================] - 0s 2ms/step\n",
            "157/157 [==============================] - 0s 1ms/step\n",
            "157/157 [==============================] - 0s 1ms/step\n",
            "157/157 [==============================] - 0s 1ms/step\n",
            "157/157 [==============================] - 0s 1ms/step\n",
            "157/157 [==============================] - 0s 1ms/step\n",
            "157/157 [==============================] - 0s 1ms/step\n",
            "157/157 [==============================] - 0s 2ms/step\n",
            "157/157 [==============================] - 0s 2ms/step\n",
            "157/157 [==============================] - 0s 2ms/step\n",
            "157/157 [==============================] - 0s 1ms/step\n",
            "157/157 [==============================] - 0s 1ms/step\n",
            "157/157 [==============================] - 0s 1ms/step\n",
            "157/157 [==============================] - 0s 1ms/step\n",
            "157/157 [==============================] - 0s 2ms/step\n",
            "157/157 [==============================] - 0s 2ms/step\n",
            "157/157 [==============================] - 0s 1ms/step\n",
            "157/157 [==============================] - 0s 2ms/step\n",
            "157/157 [==============================] - 0s 2ms/step\n",
            "157/157 [==============================] - 0s 2ms/step\n",
            "157/157 [==============================] - 0s 1ms/step\n",
            "157/157 [==============================] - 0s 1ms/step\n",
            "157/157 [==============================] - 0s 1ms/step\n",
            "157/157 [==============================] - 0s 2ms/step\n",
            "157/157 [==============================] - 0s 1ms/step\n",
            "157/157 [==============================] - 0s 2ms/step\n",
            "157/157 [==============================] - 0s 1ms/step\n",
            "157/157 [==============================] - 0s 1ms/step\n",
            "157/157 [==============================] - 0s 2ms/step\n",
            "157/157 [==============================] - 0s 2ms/step\n",
            "157/157 [==============================] - 0s 1ms/step\n",
            "157/157 [==============================] - 0s 1ms/step\n",
            "157/157 [==============================] - 0s 2ms/step\n",
            "157/157 [==============================] - 0s 2ms/step\n",
            "157/157 [==============================] - 0s 2ms/step\n",
            "157/157 [==============================] - 0s 2ms/step\n",
            "157/157 [==============================] - 0s 1ms/step\n",
            "157/157 [==============================] - 0s 1ms/step\n",
            "157/157 [==============================] - 0s 2ms/step\n",
            "157/157 [==============================] - 0s 1ms/step\n",
            "157/157 [==============================] - 0s 2ms/step\n",
            "157/157 [==============================] - 0s 2ms/step\n",
            "157/157 [==============================] - 0s 1ms/step\n",
            "157/157 [==============================] - 0s 1ms/step\n",
            "157/157 [==============================] - 0s 1ms/step\n",
            "157/157 [==============================] - 0s 2ms/step\n",
            "157/157 [==============================] - 0s 1ms/step\n",
            "157/157 [==============================] - 0s 2ms/step\n",
            "157/157 [==============================] - 0s 2ms/step\n",
            "157/157 [==============================] - 0s 2ms/step\n",
            "157/157 [==============================] - 0s 1ms/step\n",
            "157/157 [==============================] - 0s 1ms/step\n",
            "157/157 [==============================] - 0s 1ms/step\n",
            "157/157 [==============================] - 0s 2ms/step\n",
            "157/157 [==============================] - 0s 1ms/step\n",
            "157/157 [==============================] - 0s 1ms/step\n",
            "157/157 [==============================] - 0s 1ms/step\n",
            "157/157 [==============================] - 0s 1ms/step\n",
            "157/157 [==============================] - 0s 2ms/step\n",
            "157/157 [==============================] - 0s 2ms/step\n",
            "157/157 [==============================] - 0s 1ms/step\n",
            "157/157 [==============================] - 0s 1ms/step\n",
            "157/157 [==============================] - 0s 1ms/step\n",
            "157/157 [==============================] - 0s 1ms/step\n",
            "157/157 [==============================] - 0s 1ms/step\n",
            "157/157 [==============================] - 0s 1ms/step\n",
            "157/157 [==============================] - 0s 1ms/step\n",
            "157/157 [==============================] - 0s 2ms/step\n",
            "157/157 [==============================] - 0s 2ms/step\n",
            "157/157 [==============================] - 0s 1ms/step\n",
            "157/157 [==============================] - 0s 1ms/step\n",
            "157/157 [==============================] - 0s 1ms/step\n",
            "157/157 [==============================] - 0s 1ms/step\n",
            "157/157 [==============================] - 0s 1ms/step\n",
            "157/157 [==============================] - 0s 1ms/step\n",
            "157/157 [==============================] - 0s 1ms/step\n",
            "157/157 [==============================] - 0s 1ms/step\n",
            "157/157 [==============================] - 0s 2ms/step\n",
            "157/157 [==============================] - 0s 2ms/step\n",
            "157/157 [==============================] - 0s 1ms/step\n",
            "157/157 [==============================] - 0s 2ms/step\n",
            "157/157 [==============================] - 0s 2ms/step\n",
            "157/157 [==============================] - 0s 1ms/step\n",
            "157/157 [==============================] - 0s 1ms/step\n",
            "157/157 [==============================] - 0s 2ms/step\n",
            "157/157 [==============================] - 0s 1ms/step\n",
            "157/157 [==============================] - 0s 1ms/step\n",
            "157/157 [==============================] - 0s 1ms/step\n",
            "157/157 [==============================] - 0s 2ms/step\n",
            "157/157 [==============================] - 0s 2ms/step\n",
            "157/157 [==============================] - 0s 2ms/step\n",
            "157/157 [==============================] - 0s 2ms/step\n",
            "157/157 [==============================] - 0s 2ms/step\n",
            "157/157 [==============================] - 0s 1ms/step\n",
            "157/157 [==============================] - 0s 1ms/step\n",
            "157/157 [==============================] - 0s 2ms/step\n",
            "157/157 [==============================] - 0s 1ms/step\n",
            "157/157 [==============================] - 0s 2ms/step\n",
            "157/157 [==============================] - 0s 1ms/step\n",
            "157/157 [==============================] - 0s 2ms/step\n",
            "157/157 [==============================] - 0s 1ms/step\n",
            "157/157 [==============================] - 0s 1ms/step\n",
            "157/157 [==============================] - 0s 1ms/step\n",
            "157/157 [==============================] - 0s 1ms/step\n",
            "157/157 [==============================] - 0s 1ms/step\n",
            "157/157 [==============================] - 0s 1ms/step\n",
            "157/157 [==============================] - 0s 1ms/step\n",
            "157/157 [==============================] - 0s 1ms/step\n",
            "157/157 [==============================] - 0s 2ms/step\n",
            "157/157 [==============================] - 0s 2ms/step\n",
            "157/157 [==============================] - 0s 2ms/step\n",
            "157/157 [==============================] - 0s 1ms/step\n",
            "157/157 [==============================] - 0s 2ms/step\n",
            "157/157 [==============================] - 0s 1ms/step\n",
            "157/157 [==============================] - 0s 2ms/step\n",
            "157/157 [==============================] - 0s 1ms/step\n",
            "157/157 [==============================] - 0s 1ms/step\n",
            "157/157 [==============================] - 0s 1ms/step\n",
            "157/157 [==============================] - 0s 1ms/step\n",
            "157/157 [==============================] - 0s 2ms/step\n",
            "157/157 [==============================] - 0s 1ms/step\n",
            "157/157 [==============================] - 0s 1ms/step\n",
            "157/157 [==============================] - 0s 1ms/step\n",
            "157/157 [==============================] - 0s 1ms/step\n",
            "157/157 [==============================] - 0s 1ms/step\n",
            "157/157 [==============================] - 0s 1ms/step\n",
            "157/157 [==============================] - 0s 1ms/step\n",
            "157/157 [==============================] - 0s 2ms/step\n",
            "157/157 [==============================] - 0s 1ms/step\n",
            "157/157 [==============================] - 0s 2ms/step\n",
            "157/157 [==============================] - 0s 2ms/step\n",
            "157/157 [==============================] - 0s 1ms/step\n",
            "157/157 [==============================] - 0s 1ms/step\n",
            "157/157 [==============================] - 0s 2ms/step\n",
            "157/157 [==============================] - 0s 1ms/step\n",
            "157/157 [==============================] - 0s 2ms/step\n",
            "157/157 [==============================] - 0s 1ms/step\n",
            "157/157 [==============================] - 0s 1ms/step\n",
            "157/157 [==============================] - 0s 2ms/step\n",
            "157/157 [==============================] - 0s 1ms/step\n",
            "157/157 [==============================] - 0s 2ms/step\n",
            "157/157 [==============================] - 0s 1ms/step\n",
            "157/157 [==============================] - 0s 2ms/step\n",
            "157/157 [==============================] - 0s 1ms/step\n",
            "157/157 [==============================] - 0s 1ms/step\n",
            "157/157 [==============================] - 0s 1ms/step\n",
            "157/157 [==============================] - 0s 1ms/step\n",
            "157/157 [==============================] - 0s 1ms/step\n",
            "157/157 [==============================] - 0s 2ms/step\n",
            "157/157 [==============================] - 0s 1ms/step\n",
            "157/157 [==============================] - 0s 2ms/step\n",
            "157/157 [==============================] - 0s 2ms/step\n",
            "157/157 [==============================] - 0s 2ms/step\n",
            "157/157 [==============================] - 0s 1ms/step\n",
            "157/157 [==============================] - 0s 2ms/step\n",
            "157/157 [==============================] - 0s 1ms/step\n",
            "157/157 [==============================] - 0s 1ms/step\n",
            "157/157 [==============================] - 0s 1ms/step\n",
            "157/157 [==============================] - 0s 1ms/step\n",
            "157/157 [==============================] - 0s 1ms/step\n",
            "157/157 [==============================] - 0s 1ms/step\n",
            "157/157 [==============================] - 0s 2ms/step\n",
            "157/157 [==============================] - 0s 2ms/step\n",
            "157/157 [==============================] - 0s 2ms/step\n",
            "157/157 [==============================] - 0s 1ms/step\n",
            "157/157 [==============================] - 0s 1ms/step\n",
            "157/157 [==============================] - 0s 1ms/step\n",
            "157/157 [==============================] - 0s 1ms/step\n",
            "157/157 [==============================] - 0s 1ms/step\n",
            "157/157 [==============================] - 0s 1ms/step\n",
            "157/157 [==============================] - 0s 2ms/step\n",
            "157/157 [==============================] - 0s 2ms/step\n",
            "157/157 [==============================] - 0s 2ms/step\n",
            "157/157 [==============================] - 0s 2ms/step\n",
            "157/157 [==============================] - 0s 1ms/step\n",
            "157/157 [==============================] - 0s 1ms/step\n",
            "157/157 [==============================] - 0s 2ms/step\n",
            "157/157 [==============================] - 0s 1ms/step\n",
            "157/157 [==============================] - 0s 1ms/step\n",
            "157/157 [==============================] - 0s 1ms/step\n",
            "157/157 [==============================] - 0s 1ms/step\n",
            "157/157 [==============================] - 0s 1ms/step\n",
            "157/157 [==============================] - 0s 2ms/step\n",
            "157/157 [==============================] - 0s 2ms/step\n",
            "157/157 [==============================] - 0s 1ms/step\n",
            "157/157 [==============================] - 0s 1ms/step\n",
            "157/157 [==============================] - 0s 1ms/step\n",
            "157/157 [==============================] - 0s 1ms/step\n",
            "157/157 [==============================] - 0s 1ms/step\n",
            "157/157 [==============================] - 0s 2ms/step\n",
            "157/157 [==============================] - 0s 1ms/step\n",
            "157/157 [==============================] - 0s 1ms/step\n",
            "157/157 [==============================] - 0s 2ms/step\n",
            "157/157 [==============================] - 0s 2ms/step\n",
            "157/157 [==============================] - 0s 2ms/step\n",
            "157/157 [==============================] - 0s 2ms/step\n",
            "157/157 [==============================] - 0s 2ms/step\n",
            "157/157 [==============================] - 0s 1ms/step\n",
            "157/157 [==============================] - 0s 2ms/step\n",
            "157/157 [==============================] - 0s 1ms/step\n",
            "157/157 [==============================] - 0s 2ms/step\n",
            "157/157 [==============================] - 0s 2ms/step\n",
            "157/157 [==============================] - 0s 1ms/step\n",
            "157/157 [==============================] - 0s 1ms/step\n",
            "157/157 [==============================] - 0s 1ms/step\n",
            "157/157 [==============================] - 0s 1ms/step\n",
            "157/157 [==============================] - 0s 1ms/step\n",
            "157/157 [==============================] - 0s 1ms/step\n",
            "157/157 [==============================] - 0s 1ms/step\n",
            "157/157 [==============================] - 0s 1ms/step\n",
            "157/157 [==============================] - 0s 1ms/step\n",
            "157/157 [==============================] - 0s 2ms/step\n",
            "157/157 [==============================] - 0s 2ms/step\n",
            "157/157 [==============================] - 0s 1ms/step\n",
            "157/157 [==============================] - 0s 1ms/step\n",
            "157/157 [==============================] - 0s 1ms/step\n",
            "157/157 [==============================] - 0s 1ms/step\n",
            "157/157 [==============================] - 0s 2ms/step\n",
            "157/157 [==============================] - 0s 1ms/step\n",
            "157/157 [==============================] - 0s 2ms/step\n",
            "157/157 [==============================] - 0s 1ms/step\n",
            "157/157 [==============================] - 0s 1ms/step\n",
            "157/157 [==============================] - 0s 1ms/step\n",
            "157/157 [==============================] - 0s 1ms/step\n",
            "157/157 [==============================] - 0s 1ms/step\n",
            "157/157 [==============================] - 0s 1ms/step\n",
            "157/157 [==============================] - 0s 1ms/step\n",
            "157/157 [==============================] - 0s 1ms/step\n",
            "157/157 [==============================] - 0s 1ms/step\n",
            "157/157 [==============================] - 0s 1ms/step\n",
            "157/157 [==============================] - 0s 2ms/step\n",
            "157/157 [==============================] - 0s 2ms/step\n",
            "157/157 [==============================] - 0s 2ms/step\n",
            "157/157 [==============================] - 0s 1ms/step\n",
            "157/157 [==============================] - 0s 2ms/step\n",
            "157/157 [==============================] - 0s 1ms/step\n",
            "157/157 [==============================] - 0s 1ms/step\n",
            "157/157 [==============================] - 0s 2ms/step\n",
            "157/157 [==============================] - 0s 1ms/step\n",
            "157/157 [==============================] - 0s 2ms/step\n",
            "157/157 [==============================] - 0s 1ms/step\n",
            "157/157 [==============================] - 0s 2ms/step\n",
            "157/157 [==============================] - 0s 1ms/step\n",
            "157/157 [==============================] - 0s 2ms/step\n",
            "157/157 [==============================] - 0s 1ms/step\n",
            "157/157 [==============================] - 0s 1ms/step\n",
            "157/157 [==============================] - 0s 1ms/step\n",
            "157/157 [==============================] - 0s 1ms/step\n",
            "157/157 [==============================] - 0s 2ms/step\n",
            "157/157 [==============================] - 0s 1ms/step\n",
            "157/157 [==============================] - 0s 1ms/step\n",
            "157/157 [==============================] - 0s 2ms/step\n",
            "157/157 [==============================] - 0s 2ms/step\n",
            "157/157 [==============================] - 0s 1ms/step\n",
            "157/157 [==============================] - 0s 2ms/step\n",
            "157/157 [==============================] - 0s 1ms/step\n",
            "157/157 [==============================] - 0s 1ms/step\n",
            "157/157 [==============================] - 0s 2ms/step\n",
            "157/157 [==============================] - 0s 1ms/step\n",
            "157/157 [==============================] - 0s 1ms/step\n",
            "157/157 [==============================] - 0s 2ms/step\n",
            "157/157 [==============================] - 0s 1ms/step\n",
            "157/157 [==============================] - 0s 1ms/step\n",
            "157/157 [==============================] - 0s 1ms/step\n",
            "157/157 [==============================] - 0s 2ms/step\n",
            "157/157 [==============================] - 0s 2ms/step\n",
            "157/157 [==============================] - 0s 2ms/step\n",
            "157/157 [==============================] - 0s 2ms/step\n",
            "157/157 [==============================] - 0s 1ms/step\n",
            "157/157 [==============================] - 0s 2ms/step\n",
            "157/157 [==============================] - 0s 1ms/step\n",
            "157/157 [==============================] - 0s 2ms/step\n",
            "157/157 [==============================] - 0s 2ms/step\n",
            "157/157 [==============================] - 0s 2ms/step\n",
            "157/157 [==============================] - 0s 1ms/step\n",
            "157/157 [==============================] - 0s 1ms/step\n",
            "157/157 [==============================] - 0s 2ms/step\n",
            "157/157 [==============================] - 0s 2ms/step\n",
            "157/157 [==============================] - 0s 1ms/step\n",
            "157/157 [==============================] - 0s 1ms/step\n",
            "157/157 [==============================] - 0s 1ms/step\n",
            "157/157 [==============================] - 0s 1ms/step\n",
            "157/157 [==============================] - 0s 1ms/step\n",
            "157/157 [==============================] - 0s 1ms/step\n",
            "157/157 [==============================] - 0s 1ms/step\n",
            "157/157 [==============================] - 0s 2ms/step\n",
            "157/157 [==============================] - 0s 1ms/step\n",
            "157/157 [==============================] - 0s 1ms/step\n",
            "157/157 [==============================] - 0s 1ms/step\n",
            "157/157 [==============================] - 0s 1ms/step\n",
            "157/157 [==============================] - 0s 1ms/step\n",
            "157/157 [==============================] - 0s 1ms/step\n",
            "157/157 [==============================] - 0s 2ms/step\n",
            "157/157 [==============================] - 0s 2ms/step\n",
            "157/157 [==============================] - 0s 1ms/step\n",
            "157/157 [==============================] - 0s 1ms/step\n",
            "157/157 [==============================] - 0s 2ms/step\n",
            "157/157 [==============================] - 0s 1ms/step\n",
            "157/157 [==============================] - 0s 1ms/step\n",
            "157/157 [==============================] - 0s 2ms/step\n",
            "157/157 [==============================] - 0s 2ms/step\n",
            "157/157 [==============================] - 0s 2ms/step\n",
            "157/157 [==============================] - 0s 2ms/step\n",
            "157/157 [==============================] - 0s 2ms/step\n",
            "157/157 [==============================] - 0s 2ms/step\n",
            "157/157 [==============================] - 0s 1ms/step\n",
            "157/157 [==============================] - 0s 2ms/step\n",
            "157/157 [==============================] - 0s 1ms/step\n",
            "157/157 [==============================] - 0s 1ms/step\n",
            "157/157 [==============================] - 0s 1ms/step\n",
            "157/157 [==============================] - 0s 1ms/step\n",
            "157/157 [==============================] - 0s 1ms/step\n",
            "157/157 [==============================] - 0s 2ms/step\n",
            "157/157 [==============================] - 0s 2ms/step\n",
            "157/157 [==============================] - 0s 2ms/step\n",
            "157/157 [==============================] - 0s 1ms/step\n",
            "157/157 [==============================] - 0s 1ms/step\n",
            "157/157 [==============================] - 0s 1ms/step\n",
            "157/157 [==============================] - 0s 2ms/step\n",
            "157/157 [==============================] - 0s 1ms/step\n",
            "157/157 [==============================] - 0s 1ms/step\n",
            "157/157 [==============================] - 0s 2ms/step\n",
            "157/157 [==============================] - 0s 1ms/step\n",
            "157/157 [==============================] - 0s 1ms/step\n",
            "157/157 [==============================] - 0s 1ms/step\n",
            "157/157 [==============================] - 0s 1ms/step\n",
            "157/157 [==============================] - 0s 1ms/step\n",
            "157/157 [==============================] - 0s 1ms/step\n",
            "157/157 [==============================] - 0s 1ms/step\n",
            "157/157 [==============================] - 0s 1ms/step\n",
            "157/157 [==============================] - 0s 2ms/step\n",
            "157/157 [==============================] - 0s 2ms/step\n",
            "157/157 [==============================] - 0s 2ms/step\n",
            "157/157 [==============================] - 0s 1ms/step\n",
            "157/157 [==============================] - 0s 1ms/step\n",
            "157/157 [==============================] - 0s 1ms/step\n",
            "157/157 [==============================] - 0s 1ms/step\n",
            "157/157 [==============================] - 0s 2ms/step\n",
            "157/157 [==============================] - 0s 2ms/step\n",
            "157/157 [==============================] - 0s 1ms/step\n",
            "157/157 [==============================] - 0s 2ms/step\n",
            "157/157 [==============================] - 0s 2ms/step\n",
            "157/157 [==============================] - 0s 1ms/step\n",
            "157/157 [==============================] - 0s 1ms/step\n",
            "157/157 [==============================] - 0s 1ms/step\n",
            "157/157 [==============================] - 0s 1ms/step\n",
            "157/157 [==============================] - 0s 2ms/step\n",
            "157/157 [==============================] - 0s 1ms/step\n",
            "157/157 [==============================] - 0s 1ms/step\n",
            "157/157 [==============================] - 0s 1ms/step\n",
            "157/157 [==============================] - 0s 1ms/step\n",
            "157/157 [==============================] - 0s 2ms/step\n",
            "157/157 [==============================] - 0s 2ms/step\n",
            "157/157 [==============================] - 0s 1ms/step\n",
            "157/157 [==============================] - 0s 1ms/step\n",
            "157/157 [==============================] - 0s 1ms/step\n",
            "157/157 [==============================] - 0s 2ms/step\n",
            "157/157 [==============================] - 0s 1ms/step\n",
            "157/157 [==============================] - 0s 1ms/step\n",
            "157/157 [==============================] - 0s 1ms/step\n",
            "157/157 [==============================] - 0s 1ms/step\n",
            "157/157 [==============================] - 0s 1ms/step\n",
            "157/157 [==============================] - 0s 2ms/step\n",
            "157/157 [==============================] - 0s 1ms/step\n",
            "157/157 [==============================] - 0s 1ms/step\n",
            "157/157 [==============================] - 0s 1ms/step\n",
            "157/157 [==============================] - 0s 1ms/step\n",
            "157/157 [==============================] - 0s 1ms/step\n",
            "157/157 [==============================] - 0s 2ms/step\n",
            "157/157 [==============================] - 0s 2ms/step\n",
            "157/157 [==============================] - 0s 2ms/step\n",
            "157/157 [==============================] - 0s 2ms/step\n",
            "157/157 [==============================] - 0s 1ms/step\n",
            "157/157 [==============================] - 0s 1ms/step\n",
            "157/157 [==============================] - 0s 1ms/step\n",
            "157/157 [==============================] - 0s 2ms/step\n",
            "157/157 [==============================] - 0s 1ms/step\n",
            "157/157 [==============================] - 0s 2ms/step\n",
            "157/157 [==============================] - 0s 2ms/step\n",
            "157/157 [==============================] - 0s 1ms/step\n",
            "157/157 [==============================] - 0s 2ms/step\n",
            "157/157 [==============================] - 0s 1ms/step\n",
            "157/157 [==============================] - 0s 2ms/step\n",
            "157/157 [==============================] - 0s 2ms/step\n",
            "157/157 [==============================] - 0s 1ms/step\n",
            "157/157 [==============================] - 0s 2ms/step\n",
            "157/157 [==============================] - 0s 1ms/step\n",
            "157/157 [==============================] - 0s 1ms/step\n",
            "157/157 [==============================] - 0s 1ms/step\n",
            "157/157 [==============================] - 0s 1ms/step\n",
            "157/157 [==============================] - 0s 2ms/step\n",
            "157/157 [==============================] - 0s 2ms/step\n",
            "157/157 [==============================] - 0s 1ms/step\n",
            "157/157 [==============================] - 0s 1ms/step\n",
            "157/157 [==============================] - 0s 2ms/step\n",
            "157/157 [==============================] - 0s 1ms/step\n",
            "157/157 [==============================] - 0s 1ms/step\n",
            "157/157 [==============================] - 0s 2ms/step\n",
            "157/157 [==============================] - 0s 1ms/step\n",
            "157/157 [==============================] - 0s 1ms/step\n",
            "157/157 [==============================] - 0s 1ms/step\n",
            "157/157 [==============================] - 0s 1ms/step\n",
            "157/157 [==============================] - 0s 1ms/step\n",
            "157/157 [==============================] - 0s 1ms/step\n",
            "157/157 [==============================] - 0s 1ms/step\n",
            "157/157 [==============================] - 0s 1ms/step\n",
            "157/157 [==============================] - 0s 1ms/step\n",
            "157/157 [==============================] - 0s 1ms/step\n",
            "157/157 [==============================] - 0s 1ms/step\n",
            "157/157 [==============================] - 0s 1ms/step\n",
            "157/157 [==============================] - 0s 2ms/step\n",
            "157/157 [==============================] - 0s 2ms/step\n",
            "157/157 [==============================] - 0s 2ms/step\n",
            "157/157 [==============================] - 0s 1ms/step\n",
            "157/157 [==============================] - 0s 1ms/step\n",
            "157/157 [==============================] - 0s 1ms/step\n",
            "157/157 [==============================] - 0s 1ms/step\n",
            "157/157 [==============================] - 0s 1ms/step\n",
            "157/157 [==============================] - 0s 1ms/step\n",
            "157/157 [==============================] - 0s 1ms/step\n",
            "157/157 [==============================] - 0s 1ms/step\n",
            "157/157 [==============================] - 0s 1ms/step\n",
            "157/157 [==============================] - 0s 2ms/step\n",
            "157/157 [==============================] - 0s 1ms/step\n",
            "157/157 [==============================] - 0s 1ms/step\n",
            "157/157 [==============================] - 0s 1ms/step\n",
            "157/157 [==============================] - 0s 1ms/step\n",
            "157/157 [==============================] - 0s 1ms/step\n",
            "157/157 [==============================] - 0s 1ms/step\n",
            "157/157 [==============================] - 0s 1ms/step\n",
            "157/157 [==============================] - 0s 1ms/step\n",
            "157/157 [==============================] - 0s 2ms/step\n",
            "157/157 [==============================] - 0s 2ms/step\n",
            "157/157 [==============================] - 0s 1ms/step\n",
            "157/157 [==============================] - 0s 1ms/step\n",
            "157/157 [==============================] - 0s 2ms/step\n",
            "157/157 [==============================] - 0s 2ms/step\n",
            "157/157 [==============================] - 0s 1ms/step\n",
            "157/157 [==============================] - 0s 1ms/step\n",
            "157/157 [==============================] - 0s 1ms/step\n",
            "157/157 [==============================] - 0s 1ms/step\n",
            "157/157 [==============================] - 0s 2ms/step\n",
            "157/157 [==============================] - 0s 1ms/step\n",
            "157/157 [==============================] - 0s 1ms/step\n",
            "157/157 [==============================] - 0s 1ms/step\n",
            "157/157 [==============================] - 0s 1ms/step\n",
            "157/157 [==============================] - 0s 1ms/step\n",
            "157/157 [==============================] - 0s 1ms/step\n",
            "157/157 [==============================] - 0s 1ms/step\n",
            "157/157 [==============================] - 0s 2ms/step\n",
            "157/157 [==============================] - 0s 1ms/step\n",
            "157/157 [==============================] - 0s 2ms/step\n",
            "157/157 [==============================] - 0s 2ms/step\n",
            "157/157 [==============================] - 0s 1ms/step\n",
            "157/157 [==============================] - 0s 1ms/step\n",
            "157/157 [==============================] - 0s 1ms/step\n",
            "157/157 [==============================] - 0s 1ms/step\n",
            "157/157 [==============================] - 0s 1ms/step\n",
            "157/157 [==============================] - 0s 1ms/step\n",
            "157/157 [==============================] - 0s 1ms/step\n",
            "157/157 [==============================] - 0s 1ms/step\n",
            "157/157 [==============================] - 0s 2ms/step\n",
            "157/157 [==============================] - 0s 1ms/step\n",
            "157/157 [==============================] - 0s 2ms/step\n",
            "157/157 [==============================] - 0s 1ms/step\n",
            "157/157 [==============================] - 0s 1ms/step\n",
            "157/157 [==============================] - 0s 1ms/step\n",
            "157/157 [==============================] - 0s 1ms/step\n",
            "157/157 [==============================] - 0s 1ms/step\n",
            "157/157 [==============================] - 0s 1ms/step\n",
            "157/157 [==============================] - 0s 1ms/step\n",
            "157/157 [==============================] - 0s 2ms/step\n",
            "157/157 [==============================] - 0s 2ms/step\n",
            "157/157 [==============================] - 0s 1ms/step\n",
            "157/157 [==============================] - 0s 1ms/step\n",
            "157/157 [==============================] - 0s 1ms/step\n",
            "157/157 [==============================] - 0s 1ms/step\n",
            "157/157 [==============================] - 0s 1ms/step\n",
            "157/157 [==============================] - 0s 2ms/step\n",
            "157/157 [==============================] - 0s 1ms/step\n",
            "157/157 [==============================] - 0s 1ms/step\n",
            "157/157 [==============================] - 0s 1ms/step\n",
            "157/157 [==============================] - 0s 1ms/step\n",
            "157/157 [==============================] - 0s 1ms/step\n",
            "157/157 [==============================] - 0s 1ms/step\n",
            "157/157 [==============================] - 0s 1ms/step\n",
            "157/157 [==============================] - 0s 1ms/step\n",
            "157/157 [==============================] - 0s 1ms/step\n",
            "157/157 [==============================] - 0s 1ms/step\n",
            "157/157 [==============================] - 0s 1ms/step\n",
            "157/157 [==============================] - 0s 1ms/step\n",
            "157/157 [==============================] - 0s 2ms/step\n",
            "157/157 [==============================] - 0s 2ms/step\n",
            "157/157 [==============================] - 0s 1ms/step\n",
            "157/157 [==============================] - 0s 1ms/step\n",
            "157/157 [==============================] - 0s 1ms/step\n",
            "157/157 [==============================] - 0s 1ms/step\n",
            "157/157 [==============================] - 0s 1ms/step\n",
            "157/157 [==============================] - 0s 1ms/step\n",
            "157/157 [==============================] - 0s 1ms/step\n",
            "157/157 [==============================] - 0s 1ms/step\n",
            "157/157 [==============================] - 0s 1ms/step\n",
            "157/157 [==============================] - 0s 1ms/step\n",
            "157/157 [==============================] - 0s 1ms/step\n",
            "157/157 [==============================] - 0s 1ms/step\n",
            "157/157 [==============================] - 0s 1ms/step\n",
            "157/157 [==============================] - 0s 1ms/step\n",
            "157/157 [==============================] - 0s 1ms/step\n",
            "157/157 [==============================] - 0s 1ms/step\n",
            "157/157 [==============================] - 0s 1ms/step\n",
            "157/157 [==============================] - 0s 2ms/step\n",
            "157/157 [==============================] - 1s 4ms/step\n",
            "157/157 [==============================] - 0s 1ms/step\n",
            "157/157 [==============================] - 0s 1ms/step\n",
            "157/157 [==============================] - 0s 1ms/step\n",
            "157/157 [==============================] - 0s 1ms/step\n",
            "157/157 [==============================] - 0s 1ms/step\n",
            "157/157 [==============================] - 0s 1ms/step\n",
            "157/157 [==============================] - 0s 1ms/step\n",
            "157/157 [==============================] - 0s 1ms/step\n",
            "157/157 [==============================] - 0s 1ms/step\n",
            "157/157 [==============================] - 0s 1ms/step\n",
            "157/157 [==============================] - 0s 2ms/step\n",
            "157/157 [==============================] - 0s 1ms/step\n",
            "157/157 [==============================] - 0s 1ms/step\n",
            "157/157 [==============================] - 0s 1ms/step\n",
            "157/157 [==============================] - 0s 1ms/step\n",
            "157/157 [==============================] - 0s 1ms/step\n",
            "157/157 [==============================] - 0s 1ms/step\n",
            "157/157 [==============================] - 0s 1ms/step\n",
            "157/157 [==============================] - 0s 1ms/step\n",
            "157/157 [==============================] - 0s 2ms/step\n",
            "157/157 [==============================] - 0s 2ms/step\n",
            "157/157 [==============================] - 0s 2ms/step\n",
            "157/157 [==============================] - 0s 2ms/step\n",
            "157/157 [==============================] - 0s 1ms/step\n",
            "157/157 [==============================] - 0s 1ms/step\n",
            "157/157 [==============================] - 0s 1ms/step\n",
            "157/157 [==============================] - 0s 1ms/step\n",
            "157/157 [==============================] - 0s 1ms/step\n",
            "157/157 [==============================] - 0s 1ms/step\n",
            "157/157 [==============================] - 0s 1ms/step\n",
            "157/157 [==============================] - 0s 1ms/step\n",
            "157/157 [==============================] - 0s 1ms/step\n",
            "157/157 [==============================] - 0s 1ms/step\n",
            "157/157 [==============================] - 0s 2ms/step\n",
            "157/157 [==============================] - 0s 1ms/step\n",
            "157/157 [==============================] - 0s 2ms/step\n",
            "157/157 [==============================] - 0s 1ms/step\n",
            "157/157 [==============================] - 0s 2ms/step\n",
            "157/157 [==============================] - 0s 1ms/step\n",
            "157/157 [==============================] - 0s 1ms/step\n",
            "157/157 [==============================] - 0s 2ms/step\n",
            "157/157 [==============================] - 0s 2ms/step\n",
            "157/157 [==============================] - 0s 1ms/step\n",
            "157/157 [==============================] - 0s 1ms/step\n",
            "157/157 [==============================] - 0s 2ms/step\n",
            "157/157 [==============================] - 0s 1ms/step\n",
            "157/157 [==============================] - 0s 2ms/step\n",
            "157/157 [==============================] - 0s 2ms/step\n",
            "157/157 [==============================] - 0s 1ms/step\n",
            "157/157 [==============================] - 0s 2ms/step\n",
            "157/157 [==============================] - 0s 1ms/step\n",
            "157/157 [==============================] - 0s 2ms/step\n",
            "157/157 [==============================] - 0s 1ms/step\n",
            "157/157 [==============================] - 0s 2ms/step\n",
            "157/157 [==============================] - 0s 1ms/step\n",
            "157/157 [==============================] - 0s 1ms/step\n",
            "157/157 [==============================] - 0s 1ms/step\n",
            "157/157 [==============================] - 0s 1ms/step\n",
            "157/157 [==============================] - 0s 1ms/step\n",
            "157/157 [==============================] - 0s 2ms/step\n",
            "157/157 [==============================] - 0s 1ms/step\n",
            "157/157 [==============================] - 0s 2ms/step\n",
            "157/157 [==============================] - 0s 2ms/step\n",
            "157/157 [==============================] - 0s 2ms/step\n",
            "157/157 [==============================] - 0s 2ms/step\n",
            "157/157 [==============================] - 0s 2ms/step\n",
            "157/157 [==============================] - 0s 1ms/step\n",
            "157/157 [==============================] - 0s 2ms/step\n",
            "157/157 [==============================] - 0s 1ms/step\n",
            "157/157 [==============================] - 0s 1ms/step\n",
            "157/157 [==============================] - 0s 2ms/step\n",
            "157/157 [==============================] - 0s 2ms/step\n",
            "157/157 [==============================] - 0s 1ms/step\n",
            "157/157 [==============================] - 0s 1ms/step\n",
            "157/157 [==============================] - 0s 1ms/step\n",
            "157/157 [==============================] - 0s 2ms/step\n",
            "157/157 [==============================] - 0s 1ms/step\n",
            "157/157 [==============================] - 0s 1ms/step\n",
            "157/157 [==============================] - 0s 1ms/step\n",
            "157/157 [==============================] - 0s 1ms/step\n",
            "157/157 [==============================] - 0s 2ms/step\n",
            "157/157 [==============================] - 0s 2ms/step\n",
            "157/157 [==============================] - 0s 2ms/step\n",
            "157/157 [==============================] - 0s 2ms/step\n",
            "157/157 [==============================] - 0s 2ms/step\n",
            "157/157 [==============================] - 0s 2ms/step\n",
            "157/157 [==============================] - 0s 1ms/step\n",
            "157/157 [==============================] - 0s 2ms/step\n",
            "157/157 [==============================] - 0s 2ms/step\n",
            "157/157 [==============================] - 0s 1ms/step\n",
            "157/157 [==============================] - 0s 1ms/step\n",
            "157/157 [==============================] - 0s 1ms/step\n",
            "157/157 [==============================] - 0s 1ms/step\n",
            "157/157 [==============================] - 0s 2ms/step\n",
            "157/157 [==============================] - 0s 2ms/step\n",
            "157/157 [==============================] - 0s 2ms/step\n",
            "157/157 [==============================] - 0s 1ms/step\n",
            "157/157 [==============================] - 0s 2ms/step\n",
            "157/157 [==============================] - 0s 2ms/step\n",
            "157/157 [==============================] - 0s 2ms/step\n",
            "157/157 [==============================] - 0s 2ms/step\n",
            "157/157 [==============================] - 0s 1ms/step\n",
            "157/157 [==============================] - 0s 1ms/step\n",
            "157/157 [==============================] - 0s 1ms/step\n",
            "157/157 [==============================] - 0s 2ms/step\n",
            "157/157 [==============================] - 0s 1ms/step\n",
            "157/157 [==============================] - 0s 2ms/step\n",
            "157/157 [==============================] - 0s 2ms/step\n",
            "157/157 [==============================] - 0s 2ms/step\n",
            "157/157 [==============================] - 0s 2ms/step\n",
            "157/157 [==============================] - 0s 2ms/step\n",
            "157/157 [==============================] - 0s 1ms/step\n",
            "157/157 [==============================] - 0s 2ms/step\n",
            "157/157 [==============================] - 0s 2ms/step\n",
            "157/157 [==============================] - 0s 2ms/step\n",
            "157/157 [==============================] - 0s 1ms/step\n",
            "157/157 [==============================] - 0s 2ms/step\n",
            "157/157 [==============================] - 0s 1ms/step\n",
            "157/157 [==============================] - 0s 2ms/step\n",
            "157/157 [==============================] - 0s 2ms/step\n",
            "157/157 [==============================] - 0s 2ms/step\n",
            "157/157 [==============================] - 0s 1ms/step\n",
            "157/157 [==============================] - 0s 2ms/step\n",
            "157/157 [==============================] - 0s 1ms/step\n",
            "157/157 [==============================] - 0s 2ms/step\n",
            "157/157 [==============================] - 0s 1ms/step\n",
            "157/157 [==============================] - 0s 1ms/step\n",
            "157/157 [==============================] - 0s 1ms/step\n",
            "157/157 [==============================] - 0s 1ms/step\n",
            "157/157 [==============================] - 0s 1ms/step\n",
            "157/157 [==============================] - 0s 1ms/step\n",
            "157/157 [==============================] - 0s 1ms/step\n",
            "157/157 [==============================] - 0s 1ms/step\n",
            "157/157 [==============================] - 0s 1ms/step\n",
            "157/157 [==============================] - 0s 1ms/step\n",
            "157/157 [==============================] - 0s 1ms/step\n",
            "157/157 [==============================] - 0s 1ms/step\n",
            "157/157 [==============================] - 0s 2ms/step\n",
            "157/157 [==============================] - 0s 2ms/step\n",
            "157/157 [==============================] - 0s 2ms/step\n",
            "157/157 [==============================] - 0s 2ms/step\n",
            "157/157 [==============================] - 0s 1ms/step\n",
            "157/157 [==============================] - 0s 2ms/step\n",
            "157/157 [==============================] - 0s 1ms/step\n",
            "157/157 [==============================] - 0s 2ms/step\n",
            "157/157 [==============================] - 0s 1ms/step\n",
            "157/157 [==============================] - 0s 2ms/step\n",
            "157/157 [==============================] - 0s 2ms/step\n",
            "157/157 [==============================] - 0s 2ms/step\n",
            "157/157 [==============================] - 0s 1ms/step\n",
            "157/157 [==============================] - 0s 1ms/step\n",
            "157/157 [==============================] - 0s 1ms/step\n",
            "157/157 [==============================] - 0s 2ms/step\n",
            "157/157 [==============================] - 0s 1ms/step\n",
            "157/157 [==============================] - 0s 1ms/step\n",
            "157/157 [==============================] - 0s 1ms/step\n",
            "157/157 [==============================] - 0s 1ms/step\n",
            "157/157 [==============================] - 0s 2ms/step\n",
            "157/157 [==============================] - 0s 2ms/step\n",
            "157/157 [==============================] - 0s 1ms/step\n",
            "157/157 [==============================] - 0s 1ms/step\n",
            "157/157 [==============================] - 0s 1ms/step\n",
            "157/157 [==============================] - 0s 1ms/step\n",
            "157/157 [==============================] - 0s 1ms/step\n",
            "157/157 [==============================] - 0s 2ms/step\n",
            "157/157 [==============================] - 0s 2ms/step\n",
            "157/157 [==============================] - 0s 1ms/step\n",
            "157/157 [==============================] - 0s 1ms/step\n",
            "157/157 [==============================] - 0s 1ms/step\n",
            "157/157 [==============================] - 0s 1ms/step\n",
            "157/157 [==============================] - 0s 2ms/step\n",
            "157/157 [==============================] - 0s 2ms/step\n",
            "157/157 [==============================] - 0s 1ms/step\n",
            "157/157 [==============================] - 0s 1ms/step\n",
            "157/157 [==============================] - 0s 2ms/step\n",
            "157/157 [==============================] - 0s 2ms/step\n",
            "157/157 [==============================] - 0s 2ms/step\n",
            "157/157 [==============================] - 0s 1ms/step\n",
            "157/157 [==============================] - 0s 1ms/step\n",
            "157/157 [==============================] - 0s 1ms/step\n",
            "157/157 [==============================] - 0s 1ms/step\n",
            "157/157 [==============================] - 0s 1ms/step\n",
            "157/157 [==============================] - 0s 1ms/step\n",
            "157/157 [==============================] - 0s 1ms/step\n",
            "157/157 [==============================] - 0s 2ms/step\n",
            "157/157 [==============================] - 0s 2ms/step\n",
            "157/157 [==============================] - 0s 1ms/step\n",
            "157/157 [==============================] - 0s 1ms/step\n",
            "157/157 [==============================] - 0s 2ms/step\n",
            "157/157 [==============================] - 0s 2ms/step\n",
            "157/157 [==============================] - 0s 1ms/step\n",
            "157/157 [==============================] - 0s 1ms/step\n",
            "157/157 [==============================] - 0s 1ms/step\n",
            "157/157 [==============================] - 0s 1ms/step\n",
            "157/157 [==============================] - 0s 2ms/step\n",
            "157/157 [==============================] - 0s 2ms/step\n",
            "157/157 [==============================] - 0s 2ms/step\n",
            "157/157 [==============================] - 0s 1ms/step\n",
            "157/157 [==============================] - 0s 1ms/step\n",
            "157/157 [==============================] - 0s 1ms/step\n",
            "157/157 [==============================] - 0s 1ms/step\n",
            "157/157 [==============================] - 0s 1ms/step\n",
            "157/157 [==============================] - 0s 1ms/step\n",
            "157/157 [==============================] - 0s 1ms/step\n",
            "157/157 [==============================] - 0s 1ms/step\n",
            "157/157 [==============================] - 0s 2ms/step\n",
            "157/157 [==============================] - 0s 1ms/step\n",
            "157/157 [==============================] - 0s 1ms/step\n",
            "157/157 [==============================] - 0s 1ms/step\n",
            "157/157 [==============================] - 0s 1ms/step\n",
            "157/157 [==============================] - 0s 1ms/step\n",
            "157/157 [==============================] - 0s 1ms/step\n",
            "157/157 [==============================] - 0s 2ms/step\n",
            "157/157 [==============================] - 0s 1ms/step\n",
            "157/157 [==============================] - 0s 2ms/step\n",
            "157/157 [==============================] - 0s 1ms/step\n",
            "157/157 [==============================] - 0s 2ms/step\n",
            "157/157 [==============================] - 0s 2ms/step\n",
            "157/157 [==============================] - 0s 1ms/step\n",
            "157/157 [==============================] - 0s 1ms/step\n",
            "157/157 [==============================] - 0s 1ms/step\n",
            "157/157 [==============================] - 0s 2ms/step\n",
            "157/157 [==============================] - 0s 2ms/step\n",
            "157/157 [==============================] - 0s 1ms/step\n",
            "157/157 [==============================] - 0s 1ms/step\n",
            "157/157 [==============================] - 0s 2ms/step\n",
            "157/157 [==============================] - 0s 1ms/step\n",
            "157/157 [==============================] - 0s 1ms/step\n",
            "157/157 [==============================] - 0s 1ms/step\n",
            "157/157 [==============================] - 0s 2ms/step\n",
            "157/157 [==============================] - 0s 2ms/step\n",
            "157/157 [==============================] - 0s 1ms/step\n",
            "157/157 [==============================] - 0s 2ms/step\n",
            "157/157 [==============================] - 0s 1ms/step\n",
            "157/157 [==============================] - 0s 2ms/step\n",
            "157/157 [==============================] - 0s 2ms/step\n",
            "157/157 [==============================] - 0s 2ms/step\n",
            "157/157 [==============================] - 0s 2ms/step\n",
            "157/157 [==============================] - 0s 1ms/step\n",
            "157/157 [==============================] - 0s 1ms/step\n",
            "157/157 [==============================] - 0s 1ms/step\n",
            "157/157 [==============================] - 0s 2ms/step\n",
            "157/157 [==============================] - 0s 2ms/step\n",
            "157/157 [==============================] - 0s 1ms/step\n",
            "157/157 [==============================] - 0s 2ms/step\n",
            "157/157 [==============================] - 0s 1ms/step\n",
            "157/157 [==============================] - 0s 2ms/step\n",
            "157/157 [==============================] - 0s 1ms/step\n",
            "157/157 [==============================] - 0s 1ms/step\n",
            "157/157 [==============================] - 0s 2ms/step\n",
            "157/157 [==============================] - 0s 1ms/step\n",
            "157/157 [==============================] - 0s 1ms/step\n",
            "157/157 [==============================] - 0s 1ms/step\n",
            "157/157 [==============================] - 0s 1ms/step\n",
            "157/157 [==============================] - 0s 1ms/step\n",
            "157/157 [==============================] - 0s 2ms/step\n",
            "157/157 [==============================] - 0s 2ms/step\n",
            "157/157 [==============================] - 0s 1ms/step\n",
            "157/157 [==============================] - 0s 2ms/step\n",
            "157/157 [==============================] - 0s 1ms/step\n",
            "157/157 [==============================] - 0s 2ms/step\n",
            "157/157 [==============================] - 0s 1ms/step\n",
            "157/157 [==============================] - 0s 1ms/step\n",
            "157/157 [==============================] - 0s 2ms/step\n",
            "157/157 [==============================] - 0s 2ms/step\n",
            "157/157 [==============================] - 0s 1ms/step\n",
            "157/157 [==============================] - 0s 2ms/step\n",
            "157/157 [==============================] - 0s 2ms/step\n",
            "157/157 [==============================] - 0s 2ms/step\n",
            "157/157 [==============================] - 0s 1ms/step\n",
            "157/157 [==============================] - 0s 2ms/step\n",
            "157/157 [==============================] - 0s 1ms/step\n",
            "157/157 [==============================] - 0s 2ms/step\n",
            "157/157 [==============================] - 0s 1ms/step\n",
            "157/157 [==============================] - 0s 2ms/step\n",
            "157/157 [==============================] - 0s 2ms/step\n",
            "157/157 [==============================] - 0s 2ms/step\n",
            "157/157 [==============================] - 0s 2ms/step\n",
            "157/157 [==============================] - 0s 1ms/step\n",
            "157/157 [==============================] - 0s 2ms/step\n",
            "157/157 [==============================] - 0s 2ms/step\n",
            "157/157 [==============================] - 0s 2ms/step\n",
            "157/157 [==============================] - 0s 1ms/step\n",
            "157/157 [==============================] - 0s 1ms/step\n",
            "157/157 [==============================] - 0s 2ms/step\n",
            "157/157 [==============================] - 0s 2ms/step\n",
            "157/157 [==============================] - 0s 2ms/step\n",
            "157/157 [==============================] - 0s 2ms/step\n",
            "157/157 [==============================] - 0s 1ms/step\n",
            "157/157 [==============================] - 0s 2ms/step\n",
            "157/157 [==============================] - 0s 1ms/step\n",
            "157/157 [==============================] - 0s 2ms/step\n",
            "157/157 [==============================] - 0s 1ms/step\n",
            "157/157 [==============================] - 0s 2ms/step\n",
            "157/157 [==============================] - 0s 2ms/step\n",
            "157/157 [==============================] - 0s 2ms/step\n",
            "157/157 [==============================] - 0s 1ms/step\n",
            "157/157 [==============================] - 0s 2ms/step\n",
            "157/157 [==============================] - 0s 2ms/step\n",
            "157/157 [==============================] - 0s 1ms/step\n",
            "157/157 [==============================] - 0s 1ms/step\n",
            "157/157 [==============================] - 0s 2ms/step\n",
            "157/157 [==============================] - 0s 2ms/step\n",
            "157/157 [==============================] - 0s 1ms/step\n",
            "157/157 [==============================] - 0s 1ms/step\n",
            "157/157 [==============================] - 0s 2ms/step\n",
            "157/157 [==============================] - 0s 1ms/step\n",
            "157/157 [==============================] - 0s 1ms/step\n",
            "157/157 [==============================] - 0s 1ms/step\n",
            "157/157 [==============================] - 0s 1ms/step\n",
            "157/157 [==============================] - 0s 1ms/step\n",
            "157/157 [==============================] - 0s 2ms/step\n",
            "157/157 [==============================] - 0s 1ms/step\n",
            "157/157 [==============================] - 0s 1ms/step\n",
            "157/157 [==============================] - 0s 2ms/step\n",
            "157/157 [==============================] - 0s 1ms/step\n",
            "157/157 [==============================] - 0s 1ms/step\n",
            "157/157 [==============================] - 0s 1ms/step\n",
            "157/157 [==============================] - 0s 2ms/step\n",
            "157/157 [==============================] - 0s 2ms/step\n",
            "157/157 [==============================] - 0s 2ms/step\n",
            "157/157 [==============================] - 0s 2ms/step\n",
            "157/157 [==============================] - 0s 1ms/step\n",
            "157/157 [==============================] - 0s 1ms/step\n",
            "157/157 [==============================] - 0s 2ms/step\n",
            "157/157 [==============================] - 0s 1ms/step\n",
            "157/157 [==============================] - 0s 1ms/step\n",
            "157/157 [==============================] - 0s 2ms/step\n",
            "157/157 [==============================] - 0s 1ms/step\n",
            "157/157 [==============================] - 0s 1ms/step\n",
            "157/157 [==============================] - 0s 1ms/step\n",
            "157/157 [==============================] - 0s 1ms/step\n",
            "157/157 [==============================] - 0s 1ms/step\n",
            "157/157 [==============================] - 0s 2ms/step\n",
            "157/157 [==============================] - 0s 2ms/step\n",
            "157/157 [==============================] - 0s 1ms/step\n",
            "157/157 [==============================] - 0s 2ms/step\n",
            "157/157 [==============================] - 0s 2ms/step\n",
            "157/157 [==============================] - 0s 2ms/step\n",
            "157/157 [==============================] - 0s 2ms/step\n",
            "157/157 [==============================] - 0s 1ms/step\n",
            "157/157 [==============================] - 0s 2ms/step\n",
            "157/157 [==============================] - 0s 2ms/step\n",
            "157/157 [==============================] - 0s 1ms/step\n",
            "157/157 [==============================] - 0s 2ms/step\n",
            "157/157 [==============================] - 0s 1ms/step\n",
            "157/157 [==============================] - 0s 2ms/step\n",
            "157/157 [==============================] - 0s 1ms/step\n",
            "157/157 [==============================] - 0s 2ms/step\n",
            "157/157 [==============================] - 0s 1ms/step\n",
            "157/157 [==============================] - 0s 1ms/step\n",
            "157/157 [==============================] - 0s 1ms/step\n",
            "157/157 [==============================] - 0s 1ms/step\n",
            "157/157 [==============================] - 0s 2ms/step\n",
            "157/157 [==============================] - 0s 2ms/step\n",
            "157/157 [==============================] - 0s 1ms/step\n",
            "157/157 [==============================] - 0s 1ms/step\n",
            "157/157 [==============================] - 0s 1ms/step\n",
            "157/157 [==============================] - 0s 2ms/step\n",
            "157/157 [==============================] - 0s 2ms/step\n",
            "157/157 [==============================] - 0s 1ms/step\n",
            "157/157 [==============================] - 0s 1ms/step\n",
            "157/157 [==============================] - 0s 2ms/step\n",
            "157/157 [==============================] - 0s 1ms/step\n",
            "157/157 [==============================] - 0s 1ms/step\n",
            "157/157 [==============================] - 0s 2ms/step\n",
            "157/157 [==============================] - 0s 1ms/step\n",
            "157/157 [==============================] - 0s 1ms/step\n",
            "157/157 [==============================] - 0s 2ms/step\n",
            "157/157 [==============================] - 0s 2ms/step\n",
            "157/157 [==============================] - 0s 1ms/step\n",
            "157/157 [==============================] - 0s 1ms/step\n",
            "157/157 [==============================] - 0s 1ms/step\n",
            "157/157 [==============================] - 0s 1ms/step\n",
            "157/157 [==============================] - 0s 2ms/step\n",
            "157/157 [==============================] - 0s 1ms/step\n",
            "157/157 [==============================] - 0s 1ms/step\n",
            "157/157 [==============================] - 0s 2ms/step\n",
            "157/157 [==============================] - 0s 2ms/step\n",
            "157/157 [==============================] - 0s 2ms/step\n",
            "157/157 [==============================] - 0s 2ms/step\n",
            "157/157 [==============================] - 0s 2ms/step\n",
            "157/157 [==============================] - 0s 1ms/step\n",
            "157/157 [==============================] - 0s 2ms/step\n",
            "157/157 [==============================] - 0s 1ms/step\n",
            "157/157 [==============================] - 0s 1ms/step\n",
            "157/157 [==============================] - 0s 2ms/step\n",
            "157/157 [==============================] - 0s 1ms/step\n",
            "157/157 [==============================] - 0s 1ms/step\n",
            "157/157 [==============================] - 0s 2ms/step\n",
            "157/157 [==============================] - 0s 1ms/step\n",
            "157/157 [==============================] - 0s 2ms/step\n",
            "157/157 [==============================] - 0s 2ms/step\n",
            "157/157 [==============================] - 0s 2ms/step\n",
            "157/157 [==============================] - 0s 2ms/step\n",
            "157/157 [==============================] - 0s 2ms/step\n",
            "157/157 [==============================] - 0s 2ms/step\n",
            "157/157 [==============================] - 0s 2ms/step\n",
            "157/157 [==============================] - 0s 2ms/step\n",
            "157/157 [==============================] - 0s 1ms/step\n",
            "157/157 [==============================] - 0s 2ms/step\n",
            "157/157 [==============================] - 0s 1ms/step\n",
            "157/157 [==============================] - 0s 1ms/step\n",
            "157/157 [==============================] - 0s 1ms/step\n",
            "157/157 [==============================] - 0s 2ms/step\n",
            "157/157 [==============================] - 0s 2ms/step\n",
            "157/157 [==============================] - 0s 1ms/step\n",
            "157/157 [==============================] - 0s 1ms/step\n",
            "157/157 [==============================] - 0s 2ms/step\n",
            "157/157 [==============================] - 0s 1ms/step\n",
            "157/157 [==============================] - 0s 1ms/step\n",
            "157/157 [==============================] - 0s 2ms/step\n",
            "157/157 [==============================] - 0s 1ms/step\n",
            "157/157 [==============================] - 0s 2ms/step\n",
            "157/157 [==============================] - 0s 1ms/step\n",
            "157/157 [==============================] - 0s 1ms/step\n",
            "157/157 [==============================] - 0s 2ms/step\n",
            "157/157 [==============================] - 0s 3ms/step\n",
            "157/157 [==============================] - 0s 1ms/step\n",
            "157/157 [==============================] - 0s 1ms/step\n",
            "157/157 [==============================] - 0s 2ms/step\n",
            "157/157 [==============================] - 0s 1ms/step\n",
            "157/157 [==============================] - 0s 1ms/step\n",
            "157/157 [==============================] - 0s 1ms/step\n",
            "157/157 [==============================] - 0s 1ms/step\n",
            "157/157 [==============================] - 0s 1ms/step\n",
            "157/157 [==============================] - 0s 1ms/step\n",
            "157/157 [==============================] - 0s 1ms/step\n",
            "157/157 [==============================] - 0s 1ms/step\n",
            "157/157 [==============================] - 0s 1ms/step\n",
            "157/157 [==============================] - 0s 2ms/step\n",
            "157/157 [==============================] - 0s 1ms/step\n",
            "157/157 [==============================] - 0s 2ms/step\n",
            "157/157 [==============================] - 0s 1ms/step\n",
            "157/157 [==============================] - 0s 2ms/step\n",
            "157/157 [==============================] - 0s 2ms/step\n",
            "157/157 [==============================] - 0s 1ms/step\n",
            "157/157 [==============================] - 0s 1ms/step\n",
            "157/157 [==============================] - 0s 1ms/step\n",
            "157/157 [==============================] - 0s 1ms/step\n",
            "157/157 [==============================] - 0s 2ms/step\n",
            "157/157 [==============================] - 0s 2ms/step\n",
            "157/157 [==============================] - 0s 1ms/step\n",
            "157/157 [==============================] - 0s 1ms/step\n",
            "157/157 [==============================] - 0s 1ms/step\n",
            "157/157 [==============================] - 0s 2ms/step\n",
            "157/157 [==============================] - 0s 2ms/step\n",
            "157/157 [==============================] - 0s 1ms/step\n",
            "157/157 [==============================] - 0s 1ms/step\n",
            "157/157 [==============================] - 0s 1ms/step\n",
            "157/157 [==============================] - 0s 2ms/step\n",
            "157/157 [==============================] - 0s 2ms/step\n",
            "157/157 [==============================] - 0s 1ms/step\n",
            "157/157 [==============================] - 0s 1ms/step\n",
            "157/157 [==============================] - 0s 1ms/step\n",
            "157/157 [==============================] - 0s 2ms/step\n",
            "157/157 [==============================] - 0s 2ms/step\n",
            "157/157 [==============================] - 0s 1ms/step\n",
            "157/157 [==============================] - 0s 1ms/step\n",
            "157/157 [==============================] - 0s 1ms/step\n",
            "157/157 [==============================] - 0s 2ms/step\n",
            "157/157 [==============================] - 0s 2ms/step\n",
            "157/157 [==============================] - 0s 2ms/step\n",
            "157/157 [==============================] - 0s 1ms/step\n",
            "157/157 [==============================] - 0s 1ms/step\n",
            "157/157 [==============================] - 0s 1ms/step\n",
            "157/157 [==============================] - 0s 2ms/step\n",
            "157/157 [==============================] - 0s 1ms/step\n",
            "157/157 [==============================] - 0s 2ms/step\n",
            "157/157 [==============================] - 0s 1ms/step\n",
            "157/157 [==============================] - 0s 1ms/step\n",
            "157/157 [==============================] - 0s 1ms/step\n",
            "157/157 [==============================] - 0s 2ms/step\n",
            "157/157 [==============================] - 0s 1ms/step\n",
            "157/157 [==============================] - 0s 1ms/step\n",
            "157/157 [==============================] - 0s 1ms/step\n",
            "157/157 [==============================] - 0s 2ms/step\n",
            "157/157 [==============================] - 0s 2ms/step\n",
            "157/157 [==============================] - 0s 2ms/step\n",
            "157/157 [==============================] - 0s 1ms/step\n"
          ]
        }
      ],
      "source": [
        "# spanish_embedded_data is input sequence\n",
        "decoded_sequence = decode_sequence(spanish_embedded_data)"
      ]
    },
    {
      "cell_type": "code",
      "execution_count": 56,
      "id": "8d00b1d3-673e-4ba5-b890-4a4854a9b5a8",
      "metadata": {
        "id": "8d00b1d3-673e-4ba5-b890-4a4854a9b5a8",
        "outputId": "526477b4-6fe7-46b9-c640-99100a85c7fe",
        "colab": {
          "base_uri": "https://localhost:8080/"
        }
      },
      "outputs": [
        {
          "output_type": "execute_result",
          "data": {
            "text/plain": [
              "(1093, 5000, 1)"
            ]
          },
          "metadata": {},
          "execution_count": 56
        }
      ],
      "source": [
        "decoded_sequence.shape"
      ]
    },
    {
      "cell_type": "code",
      "execution_count": 56,
      "id": "b7cf98b0",
      "metadata": {
        "id": "b7cf98b0"
      },
      "outputs": [],
      "source": []
    },
    {
      "cell_type": "code",
      "execution_count": 56,
      "id": "3222e58b",
      "metadata": {
        "id": "3222e58b"
      },
      "outputs": [],
      "source": []
    },
    {
      "cell_type": "code",
      "execution_count": 57,
      "id": "6fc5d2a9-8863-4b51-97ce-262e333d7ad2",
      "metadata": {
        "tags": [],
        "id": "6fc5d2a9-8863-4b51-97ce-262e333d7ad2"
      },
      "outputs": [],
      "source": [
        "# from keras.models import Model\n",
        "# from keras.layers import Input, LSTM, Dense, Embedding\n",
        "\n",
        "# # Define input shape and parameters\n",
        "# # vocab_size_spanish = ...\n",
        "# BATCH_SIZE = 32\n",
        "# embedding_dim = 100\n",
        "# latent_dim = 64\n",
        "# dropout=0.2\n",
        "\n",
        "\n",
        "# # Encoder\n",
        "# encoder_inputs = Input(shape=(None,), dtype=tf.int32, name=\"spanish_input\")\n",
        "# encoder_embedding = Embedding(vocab_size_spanish, embedding_dim, name=\"sp_embedding\")(encoder_inputs)\n",
        "# encoder_lstm = LSTM(latent_dim, return_sequences=False, return_state=True, dropout=dropout, recurrent_dropout=dropout, name=\"encoder\")\n",
        "# _, enc_state_h, enc_state_c = encoder_lstm(encoder_embedding)\n",
        "# encoder_states = [enc_state_h, enc_state_c]\n",
        "\n",
        "# # Define encoder model\n",
        "# encoder_model = Model(encoder_inputs, encoder_states)\n",
        "\n",
        "# # Decoder\n",
        "# decoder_inputs = Input(shape=(None,), dtype=tf.int32, name=\"english_teacher\")\n",
        "# decoder_embedding = Embedding(vocab_size_english, embedding_dim, name=\"english_embedding\")(decoder_inputs)\n",
        "# decoder_lstm = LSTM(latent_dim, return_sequences=True, return_state=True, dropout=dropout, recurrent_dropout=dropout, name=\"decoder\")\n",
        "# decoder_outputs, _, _ = decoder_lstm(decoder_embedding, initial_state=encoder_states)\n",
        "# decoder_dense = Dense(vocab_size_english, activation='softmax')\n",
        "# decoder_outputs_final = decoder_dense(decoder_outputs)\n",
        "\n",
        "# # Define the model\n",
        "# model = Model([encoder_inputs, decoder_inputs], decoder_outputs_final)\n"
      ]
    },
    {
      "cell_type": "code",
      "execution_count": 57,
      "id": "5eea2f2a-1366-499f-9098-349609c7aca4",
      "metadata": {
        "id": "5eea2f2a-1366-499f-9098-349609c7aca4"
      },
      "outputs": [],
      "source": []
    },
    {
      "cell_type": "code",
      "execution_count": 57,
      "id": "0cadc824-141b-459f-b71c-dc690ab243ae",
      "metadata": {
        "id": "0cadc824-141b-459f-b71c-dc690ab243ae"
      },
      "outputs": [],
      "source": []
    },
    {
      "cell_type": "markdown",
      "id": "d6284782-bc67-4e3d-91f2-b07172f06b23",
      "metadata": {
        "tags": [],
        "id": "d6284782-bc67-4e3d-91f2-b07172f06b23"
      },
      "source": [
        "# Sequence to Sequence Attention"
      ]
    },
    {
      "cell_type": "code",
      "execution_count": 57,
      "id": "07370a6b-412f-46ae-b9e7-9e3b09abf6a2",
      "metadata": {
        "id": "07370a6b-412f-46ae-b9e7-9e3b09abf6a2"
      },
      "outputs": [],
      "source": []
    },
    {
      "cell_type": "markdown",
      "id": "4f0a473c-6780-41f9-b6e6-5201fdf7e89d",
      "metadata": {
        "id": "4f0a473c-6780-41f9-b6e6-5201fdf7e89d"
      },
      "source": [
        "<img  src=\"https://lena-voita.github.io/resources/lectures/seq2seq/attention/general_scheme-min.png\" />\n"
      ]
    },
    {
      "cell_type": "code",
      "execution_count": 58,
      "id": "a71aa2df-6697-48e0-aae1-2b418a128c94",
      "metadata": {
        "tags": [],
        "id": "a71aa2df-6697-48e0-aae1-2b418a128c94"
      },
      "outputs": [],
      "source": [
        "from keras.models import Model\n",
        "from keras.layers import Input, LSTM, Dense\n",
        "import tensorflow as tf\n",
        "\n",
        "# Define an input sequence and process it.\n",
        "# encoder_inputs = Input(shape=(1,), dtype=tf.string, name=\"spanish_input\")\n",
        "encoder_inputs = Input(shape=(None,), name=\"spanish_input\")\n",
        "\n",
        "# encoder_vectorizer = spanish_vectorizer(encoder_inputs)\n",
        "\n",
        "# enc = layers.Embedding(vocab_size_spanish, embedding_dim, name=\"sp_embedding\")(encoder_vectorizer)\n",
        "\n",
        "layer_embedding = layers.Embedding(vocab_size_spanish, embedding_dim)\n",
        "embedding_layer_final = layer_embedding(encoder_inputs)\n",
        "\n",
        "enc_state_ouput, enc_state_h, enc_state_c = LSTM(latent_dim,  return_sequences=True, return_state=True,\n",
        "                                   dropout=dropout, recurrent_dropout=dropout, name=\"encoder\")(embedding_layer_final)\n",
        "# We discard `encoder_outputs` and only keep the states.\n",
        "encoder_states = [enc_state_h, enc_state_c]\n",
        "\n",
        "\n",
        "\n",
        "\n",
        "\n",
        "decoder_inputs = Input(shape=(None,), name=\"english_teacher\")\n",
        "# decoder_inputs = Input(shape=(None,), dtype=tf.int32, name=\"english_teacher\")\n",
        "x = layers.Embedding(vocab_size_english, embedding_dim, name=\"english_embedding\")(decoder_inputs)\n",
        "\n",
        "\n",
        "\n",
        "# Adding the Attention mechanism\n",
        "\n",
        "decoder_lstm = layers.LSTM(latent_dim, return_sequences=True, return_state=True,\n",
        "                           dropout=dropout, recurrent_dropout=dropout, name=\"Decoder\")\n",
        "decoder_outputs,decoder_state_h, decoder_state_c = decoder_lstm(x, initial_state=encoder_states)\n",
        "\n",
        "attention = tf.keras.layers.Attention()([decoder_outputs, enc_state_ouput])  # Using the decoder input and encoder output for attention\n",
        "decoder_combined_context = layers.concatenate([attention, decoder_outputs], name=\"Luong_Attention\")\n",
        "\n",
        "decoder_dense = layers.Dense(vocab_size_english, activation='softmax')\n",
        "decoder_outputs_final = decoder_dense(attention)\n",
        "\n",
        "# Define the model\n",
        "model2 = Model([encoder_inputs, decoder_inputs], decoder_outputs_final)\n"
      ]
    },
    {
      "cell_type": "code",
      "execution_count": 59,
      "id": "939945b5-606c-4b2f-acd9-258303ef159d",
      "metadata": {
        "tags": [],
        "id": "939945b5-606c-4b2f-acd9-258303ef159d"
      },
      "outputs": [],
      "source": [
        "# x"
      ]
    },
    {
      "cell_type": "code",
      "execution_count": 60,
      "id": "038329b9-3d1c-4ec2-bbe1-6aa2192c79c4",
      "metadata": {
        "tags": [],
        "id": "038329b9-3d1c-4ec2-bbe1-6aa2192c79c4",
        "outputId": "d6859de3-fec4-4b75-f05e-a3c09c45edb8",
        "colab": {
          "base_uri": "https://localhost:8080/"
        }
      },
      "outputs": [
        {
          "output_type": "stream",
          "name": "stdout",
          "text": [
            "Model: \"model_3\"\n",
            "__________________________________________________________________________________________________\n",
            " Layer (type)                Output Shape                 Param #   Connected to                  \n",
            "==================================================================================================\n",
            " spanish_input (InputLayer)  [(None, None)]               0         []                            \n",
            "                                                                                                  \n",
            " english_teacher (InputLaye  [(None, None)]               0         []                            \n",
            " r)                                                                                               \n",
            "                                                                                                  \n",
            " embedding_2 (Embedding)     (None, None, 100)            215400    ['spanish_input[0][0]']       \n",
            "                                                                                                  \n",
            " english_embedding (Embeddi  (None, None, 100)            109300    ['english_teacher[0][0]']     \n",
            " ng)                                                                                              \n",
            "                                                                                                  \n",
            " encoder (LSTM)              [(None, None, 64),           42240     ['embedding_2[0][0]']         \n",
            "                              (None, 64),                                                         \n",
            "                              (None, 64)]                                                         \n",
            "                                                                                                  \n",
            " Decoder (LSTM)              [(None, None, 64),           42240     ['english_embedding[0][0]',   \n",
            "                              (None, 64),                            'encoder[0][1]',             \n",
            "                              (None, 64)]                            'encoder[0][2]']             \n",
            "                                                                                                  \n",
            " attention (Attention)       (None, None, 64)             0         ['Decoder[0][0]',             \n",
            "                                                                     'encoder[0][0]']             \n",
            "                                                                                                  \n",
            " dense_2 (Dense)             (None, None, 1093)           71045     ['attention[0][0]']           \n",
            "                                                                                                  \n",
            "==================================================================================================\n",
            "Total params: 480225 (1.83 MB)\n",
            "Trainable params: 480225 (1.83 MB)\n",
            "Non-trainable params: 0 (0.00 Byte)\n",
            "__________________________________________________________________________________________________\n"
          ]
        }
      ],
      "source": [
        "model2.summary()"
      ]
    },
    {
      "cell_type": "code",
      "execution_count": 61,
      "id": "e893985e",
      "metadata": {
        "id": "e893985e",
        "outputId": "bfa90ede-3380-4e14-d11f-6d324eff895f",
        "colab": {
          "base_uri": "https://localhost:8080/",
          "height": 644
        }
      },
      "outputs": [
        {
          "output_type": "execute_result",
          "data": {
            "image/png": "[encoded data removed]",
            "text/plain": [
              "<IPython.core.display.Image object>"
            ]
          },
          "metadata": {},
          "execution_count": 61
        }
      ],
      "source": [
        "from tensorflow.keras.utils import plot_model\n",
        "\n",
        "plot_model(model2, to_file='model_plot3.png', show_shapes=True, show_layer_names=True)"
      ]
    },
    {
      "cell_type": "code",
      "execution_count": 62,
      "id": "f89266a5-8e81-44d2-a13d-84f86d820633",
      "metadata": {
        "tags": [],
        "id": "f89266a5-8e81-44d2-a13d-84f86d820633"
      },
      "outputs": [],
      "source": [
        "model2.compile(loss='sparse_categorical_crossentropy', optimizer='rmsprop', metrics=['accuracy'])\n"
      ]
    },
    {
      "cell_type": "code",
      "execution_count": 63,
      "id": "9fc254b8-57af-493c-a994-db2c1cdfbe8a",
      "metadata": {
        "tags": [],
        "id": "9fc254b8-57af-493c-a994-db2c1cdfbe8a",
        "outputId": "bcfec93b-5441-487e-918b-c8d5cbe44406",
        "colab": {
          "base_uri": "https://localhost:8080/"
        }
      },
      "outputs": [
        {
          "data": {
            "text/plain": [
              "(5000, 7)"
            ]
          },
          "execution_count": 63,
          "metadata": {},
          "output_type": "execute_result"
        }
      ],
      "source": [
        "# Prepare training data with teacher forcing\n",
        "# decoder_input_data is a 2D array of shape (None, None) containing a tokenization of the English sentences.\n",
        "# decoder_target_data is the same as decoder_input_data but offset by one timestep. decoder_target_data[:, t] will be the same as decoder_input_data[:, t-1].\n",
        "\n",
        "english_teacher_enc = english_vectorizer(X_processed_array) #.numpy() # Teacher\n",
        "english_target_enc = np.zeros_like(english_teacher_enc)\n",
        "english_target_enc[:,:-1] = english_teacher_enc[:,1:] # To predict\n",
        "english_target_enc.shape"
      ]
    },
    {
      "cell_type": "code",
      "execution_count": 64,
      "id": "17bdd726-e341-44dc-a978-8f54fb6c3c48",
      "metadata": {
        "tags": [],
        "id": "17bdd726-e341-44dc-a978-8f54fb6c3c48",
        "outputId": "6617b63a-7cba-41c6-a2c8-c9572767f455",
        "colab": {
          "base_uri": "https://localhost:8080/"
        }
      },
      "outputs": [
        {
          "output_type": "stream",
          "name": "stdout",
          "text": [
            "Epoch 1/50\n",
            "141/141 [==============================] - 8s 27ms/step - loss: 3.9622 - accuracy: 0.3419 - val_loss: 3.9045 - val_accuracy: 0.2989\n",
            "Epoch 2/50\n",
            "141/141 [==============================] - 4s 28ms/step - loss: 3.3387 - accuracy: 0.3461 - val_loss: 3.9093 - val_accuracy: 0.2989\n",
            "Epoch 3/50\n",
            "141/141 [==============================] - 4s 25ms/step - loss: 3.3355 - accuracy: 0.3461 - val_loss: 3.8694 - val_accuracy: 0.2989\n",
            "Epoch 4/50\n",
            "141/141 [==============================] - 3s 24ms/step - loss: 3.3338 - accuracy: 0.3461 - val_loss: 3.9081 - val_accuracy: 0.2989\n",
            "Epoch 5/50\n",
            "141/141 [==============================] - 4s 29ms/step - loss: 3.3319 - accuracy: 0.3461 - val_loss: 3.8661 - val_accuracy: 0.2989\n",
            "Epoch 6/50\n",
            "141/141 [==============================] - 4s 25ms/step - loss: 3.3282 - accuracy: 0.3461 - val_loss: 3.8611 - val_accuracy: 0.2989\n",
            "Epoch 7/50\n",
            "141/141 [==============================] - 3s 24ms/step - loss: 3.2734 - accuracy: 0.3461 - val_loss: 3.4787 - val_accuracy: 0.2989\n",
            "Epoch 8/50\n",
            "141/141 [==============================] - 4s 28ms/step - loss: 2.6469 - accuracy: 0.4815 - val_loss: 2.9884 - val_accuracy: 0.5000\n",
            "Epoch 9/50\n",
            "141/141 [==============================] - 4s 25ms/step - loss: 2.2380 - accuracy: 0.6333 - val_loss: 2.7873 - val_accuracy: 0.5209\n",
            "Epoch 10/50\n",
            "141/141 [==============================] - 3s 25ms/step - loss: 2.0573 - accuracy: 0.6448 - val_loss: 2.5767 - val_accuracy: 0.5331\n",
            "Epoch 11/50\n",
            "141/141 [==============================] - 4s 28ms/step - loss: 1.9338 - accuracy: 0.6610 - val_loss: 2.4380 - val_accuracy: 0.5803\n",
            "Epoch 12/50\n",
            "141/141 [==============================] - 3s 24ms/step - loss: 1.8271 - accuracy: 0.6773 - val_loss: 2.3614 - val_accuracy: 0.5843\n",
            "Epoch 13/50\n",
            "141/141 [==============================] - 3s 23ms/step - loss: 1.7355 - accuracy: 0.6923 - val_loss: 2.3001 - val_accuracy: 0.5929\n",
            "Epoch 14/50\n",
            "141/141 [==============================] - 4s 28ms/step - loss: 1.6610 - accuracy: 0.7094 - val_loss: 2.2217 - val_accuracy: 0.6040\n",
            "Epoch 15/50\n",
            "141/141 [==============================] - 3s 24ms/step - loss: 1.6006 - accuracy: 0.7175 - val_loss: 2.1624 - val_accuracy: 0.6191\n",
            "Epoch 16/50\n",
            "141/141 [==============================] - 3s 24ms/step - loss: 1.5480 - accuracy: 0.7241 - val_loss: 2.1350 - val_accuracy: 0.6483\n",
            "Epoch 17/50\n",
            "141/141 [==============================] - 3s 24ms/step - loss: 1.5041 - accuracy: 0.7292 - val_loss: 2.1082 - val_accuracy: 0.6654\n",
            "Epoch 18/50\n",
            "141/141 [==============================] - 4s 27ms/step - loss: 1.4639 - accuracy: 0.7357 - val_loss: 2.0747 - val_accuracy: 0.6523\n",
            "Epoch 19/50\n",
            "141/141 [==============================] - 3s 24ms/step - loss: 1.4307 - accuracy: 0.7402 - val_loss: 2.0538 - val_accuracy: 0.6740\n",
            "Epoch 20/50\n",
            "141/141 [==============================] - 3s 24ms/step - loss: 1.4022 - accuracy: 0.7446 - val_loss: 2.0402 - val_accuracy: 0.6749\n",
            "Epoch 21/50\n",
            "141/141 [==============================] - 4s 28ms/step - loss: 1.3710 - accuracy: 0.7486 - val_loss: 1.9914 - val_accuracy: 0.6734\n",
            "Epoch 22/50\n",
            "141/141 [==============================] - 3s 24ms/step - loss: 1.3458 - accuracy: 0.7527 - val_loss: 1.9769 - val_accuracy: 0.6931\n",
            "Epoch 23/50\n",
            "141/141 [==============================] - 3s 24ms/step - loss: 1.3225 - accuracy: 0.7565 - val_loss: 1.9720 - val_accuracy: 0.6934\n",
            "Epoch 24/50\n",
            "141/141 [==============================] - 4s 28ms/step - loss: 1.2962 - accuracy: 0.7599 - val_loss: 1.9595 - val_accuracy: 0.6997\n",
            "Epoch 25/50\n",
            "141/141 [==============================] - 3s 25ms/step - loss: 1.2744 - accuracy: 0.7630 - val_loss: 1.9599 - val_accuracy: 0.6971\n",
            "Epoch 26/50\n",
            "141/141 [==============================] - 3s 24ms/step - loss: 1.2543 - accuracy: 0.7637 - val_loss: 1.9130 - val_accuracy: 0.7037\n",
            "Epoch 27/50\n",
            "141/141 [==============================] - 4s 28ms/step - loss: 1.2339 - accuracy: 0.7661 - val_loss: 1.9071 - val_accuracy: 0.7009\n",
            "Epoch 28/50\n",
            "141/141 [==============================] - 3s 24ms/step - loss: 1.2125 - accuracy: 0.7683 - val_loss: 1.8924 - val_accuracy: 0.7049\n",
            "Epoch 29/50\n",
            "141/141 [==============================] - 3s 24ms/step - loss: 1.1954 - accuracy: 0.7713 - val_loss: 1.9085 - val_accuracy: 0.7023\n",
            "Epoch 30/50\n",
            "141/141 [==============================] - 4s 28ms/step - loss: 1.1770 - accuracy: 0.7739 - val_loss: 1.9070 - val_accuracy: 0.6983\n",
            "Epoch 31/50\n",
            "141/141 [==============================] - 3s 25ms/step - loss: 1.1588 - accuracy: 0.7748 - val_loss: 1.8899 - val_accuracy: 0.7017\n",
            "Epoch 32/50\n",
            "141/141 [==============================] - 3s 25ms/step - loss: 1.1421 - accuracy: 0.7784 - val_loss: 1.8731 - val_accuracy: 0.6986\n",
            "Epoch 33/50\n",
            "141/141 [==============================] - 4s 29ms/step - loss: 1.1269 - accuracy: 0.7788 - val_loss: 1.8837 - val_accuracy: 0.7014\n",
            "Epoch 34/50\n",
            "141/141 [==============================] - 3s 25ms/step - loss: 1.1089 - accuracy: 0.7819 - val_loss: 1.8756 - val_accuracy: 0.7017\n",
            "Epoch 35/50\n",
            "141/141 [==============================] - 3s 25ms/step - loss: 1.0937 - accuracy: 0.7845 - val_loss: 1.8607 - val_accuracy: 0.7074\n",
            "Epoch 36/50\n",
            "141/141 [==============================] - 4s 28ms/step - loss: 1.0792 - accuracy: 0.7870 - val_loss: 1.8703 - val_accuracy: 0.7066\n",
            "Epoch 37/50\n",
            "141/141 [==============================] - 4s 25ms/step - loss: 1.0627 - accuracy: 0.7889 - val_loss: 1.8751 - val_accuracy: 0.7006\n",
            "Epoch 38/50\n",
            "141/141 [==============================] - 3s 25ms/step - loss: 1.0513 - accuracy: 0.7905 - val_loss: 1.8760 - val_accuracy: 0.7029\n",
            "Epoch 39/50\n",
            "141/141 [==============================] - 4s 28ms/step - loss: 1.0365 - accuracy: 0.7924 - val_loss: 1.8559 - val_accuracy: 0.7134\n",
            "Epoch 40/50\n",
            "141/141 [==============================] - 4s 25ms/step - loss: 1.0227 - accuracy: 0.7941 - val_loss: 1.8637 - val_accuracy: 0.7094\n",
            "Epoch 41/50\n",
            "141/141 [==============================] - 3s 24ms/step - loss: 1.0094 - accuracy: 0.7965 - val_loss: 1.8808 - val_accuracy: 0.7146\n",
            "Epoch 42/50\n",
            "141/141 [==============================] - 4s 25ms/step - loss: 0.9987 - accuracy: 0.7978 - val_loss: 1.8810 - val_accuracy: 0.7197\n",
            "Epoch 43/50\n",
            "141/141 [==============================] - 4s 28ms/step - loss: 0.9864 - accuracy: 0.8005 - val_loss: 1.8655 - val_accuracy: 0.7186\n",
            "Epoch 44/50\n",
            "141/141 [==============================] - 3s 25ms/step - loss: 0.9753 - accuracy: 0.8018 - val_loss: 1.8756 - val_accuracy: 0.7203\n",
            "Epoch 45/50\n",
            "141/141 [==============================] - 4s 25ms/step - loss: 0.9609 - accuracy: 0.8050 - val_loss: 1.8622 - val_accuracy: 0.7234\n",
            "Epoch 46/50\n",
            "141/141 [==============================] - 4s 29ms/step - loss: 0.9526 - accuracy: 0.8060 - val_loss: 1.8378 - val_accuracy: 0.7143\n",
            "Epoch 47/50\n",
            "141/141 [==============================] - 3s 24ms/step - loss: 0.9403 - accuracy: 0.8068 - val_loss: 1.8510 - val_accuracy: 0.7271\n",
            "Epoch 48/50\n",
            "141/141 [==============================] - 3s 24ms/step - loss: 0.9257 - accuracy: 0.8100 - val_loss: 1.8329 - val_accuracy: 0.7249\n",
            "Epoch 49/50\n",
            "141/141 [==============================] - 4s 30ms/step - loss: 0.9184 - accuracy: 0.8108 - val_loss: 1.8636 - val_accuracy: 0.7291\n",
            "Epoch 50/50\n",
            "141/141 [==============================] - 3s 24ms/step - loss: 0.9072 - accuracy: 0.8132 - val_loss: 1.8665 - val_accuracy: 0.7231\n"
          ]
        }
      ],
      "source": [
        "# Configure the model and start training\n",
        "# Stop training with early stopping with patience of 20\n",
        "callbacks_list = [EarlyStopping(monitor='loss', mode='min', min_delta=0.000001,\n",
        "                                patience=5, restore_best_weights=True, verbose=1,\n",
        "                                )]\n",
        "\n",
        "\n",
        "# history = model2.fit([y_processed_array, english_teacher_enc], english_target_enc,\n",
        "#                     validation_split=0.1,\n",
        "#                     epochs=10, batch_size=BATCH_SIZE,\n",
        "#                     callbacks=callbacks_list,\n",
        "#                     verbose=1)\n",
        "\n",
        "\n",
        "\n",
        "\n",
        "history = model2.fit([spanish_embedded_data, english_teacher_enc], english_target_enc,\n",
        "                    validation_split=0.1,\n",
        "                    epochs=50, batch_size=BATCH_SIZE,\n",
        "                    callbacks=callbacks_list,\n",
        "                    verbose=1)\n"
      ]
    },
    {
      "cell_type": "code",
      "execution_count": null,
      "id": "d96e0bc2-c185-4fa5-84f4-c1bc29555f8d",
      "metadata": {
        "tags": [],
        "id": "d96e0bc2-c185-4fa5-84f4-c1bc29555f8d"
      },
      "outputs": [],
      "source": [
        "import matplotlib.pyplot as plt\n",
        "\n",
        "plt.figure(figsize=(20, 6))\n",
        "# Plot the first subplot  loss)\n",
        "plt.subplot(1, 2, 1)  # 1 row, 2 columns, first subplot\n",
        "plt.plot(history.history[\"loss\"])\n",
        "plt.plot(history.history[\"val_loss\"])\n",
        "plt.title(\"validation loss & training loss\")\n",
        "plt.xlabel(\"epochs\")\n",
        "plt.ylabel(\"loss\")\n",
        "leg = plt.legend([\"training loss\", \"validation loss\"],loc =\"upper right\");\n",
        "\n",
        "# Plot the second subplot ( accuracy)\n",
        "plt.subplot(1, 2, 2)  # 1 row, 2 columns, second subplot\n",
        "plt.plot(history.history[\"accuracy\"])\n",
        "plt.plot(history.history[\"val_accuracy\"])\n",
        "plt.title(\"validation accuracy & training loaccuracyss\")\n",
        "plt.xlabel(\"epochs\")\n",
        "plt.ylabel(\"accuracy\")\n",
        "leg = plt.legend([\"training accuracy\", \"validation accuracy\"],loc =\"upper left\");\n",
        "\n",
        "plt.show()\n"
      ]
    },
    {
      "cell_type": "code",
      "execution_count": null,
      "id": "db575092-484b-40cf-9dd3-1958366480c5",
      "metadata": {
        "id": "db575092-484b-40cf-9dd3-1958366480c5"
      },
      "outputs": [],
      "source": [
        "# y_pred=model2.predict([spanish_embedded_data, english_teacher_enc])"
      ]
    },
    {
      "cell_type": "code",
      "execution_count": null,
      "id": "139a7ebd-50bd-43b3-a70e-5266acaf9d84",
      "metadata": {
        "id": "139a7ebd-50bd-43b3-a70e-5266acaf9d84"
      },
      "outputs": [],
      "source": [
        "# y_pred.shape"
      ]
    },
    {
      "cell_type": "code",
      "execution_count": null,
      "id": "e925190d-5389-48f8-b9dc-317874507654",
      "metadata": {
        "id": "e925190d-5389-48f8-b9dc-317874507654"
      },
      "outputs": [],
      "source": []
    },
    {
      "cell_type": "code",
      "execution_count": null,
      "id": "33d544b2-017f-43c2-842d-9d53c68007f4",
      "metadata": {
        "id": "33d544b2-017f-43c2-842d-9d53c68007f4"
      },
      "outputs": [],
      "source": []
    },
    {
      "cell_type": "code",
      "execution_count": null,
      "id": "d4e6479d-a73d-4ce4-84bd-d904dbff55bc",
      "metadata": {
        "tags": [],
        "id": "d4e6479d-a73d-4ce4-84bd-d904dbff55bc"
      },
      "outputs": [],
      "source": [
        "from keras.models import Model\n",
        "from keras.layers import Input, LSTM, Dense\n",
        "\n",
        "# Define an input sequence and process it.\n",
        "# encoder_inputs = Input(shape=(None, num_encoder_tokens))\n",
        "A_encoder_inputs = Input(shape=(1,),dtype=tf.string, name=\"spanish_input\")\n",
        "A_encoder_vectorizer = spanish_vectorizer(A_encoder_inputs)\n",
        "\n",
        "A_enc = layers.Embedding(vocab_size_spanish, embedding_dim, name=\"sp_embedding\")(A_encoder_vectorizer)\n",
        "encoder_outputs, A_enc_state_h, A_enc_state_c = LSTM(latent_dim,  return_sequences=True,return_state=True,\n",
        "                                   dropout=dropout, recurrent_dropout=dropout, name=\"encoder\")(A_enc)\n",
        "# We discard `encoder_outputs` and only keep the states.\n",
        "A_encoder_states = [A_enc_state_h, A_enc_state_c]\n",
        "\n"
      ]
    },
    {
      "cell_type": "code",
      "execution_count": null,
      "id": "4d26239c-addd-4305-83e8-75d3fd554c5f",
      "metadata": {
        "tags": [],
        "id": "4d26239c-addd-4305-83e8-75d3fd554c5f"
      },
      "outputs": [],
      "source": [
        "decoder_inputs = Input(shape=(None,), dtype=tf.int32, name=\"english_teacher\")\n",
        "x = layers.Embedding(vocab_size_english, embedding_dim\n",
        "                     ,name=\"english_embedding\")(decoder_inputs)\n",
        "decoder_lstm = layers.LSTM(latent_dim, return_sequences=True, return_state=True,\n",
        "                           dropout=dropout, recurrent_dropout=dropout, name=\"Decoder\")\n",
        "decoder_outputs, _, _ = decoder_lstm(x, initial_state=A_encoder_states)\n"
      ]
    },
    {
      "cell_type": "code",
      "execution_count": null,
      "id": "1d56d463-34e8-4c23-bb0f-bffe9bb77a21",
      "metadata": {
        "tags": [],
        "id": "1d56d463-34e8-4c23-bb0f-bffe9bb77a21"
      },
      "outputs": [],
      "source": [
        "\"\"\" Attentional part \"\"\"\n",
        "attention = layers.dot([decoder_outputs, encoder_outputs], axes=[2,2], name=\"Attention_score\")"
      ]
    },
    {
      "cell_type": "code",
      "execution_count": null,
      "id": "82dc226b-b37d-41c0-98f0-3c735c00e28c",
      "metadata": {
        "tags": [],
        "id": "82dc226b-b37d-41c0-98f0-3c735c00e28c"
      },
      "outputs": [],
      "source": [
        "\"\"\" Context vector \"\"\"\n",
        "context = layers.dot([attention, encoder_outputs], axes=[2,1], name=\"Attention_output\")\n",
        "print(context.shape)"
      ]
    },
    {
      "cell_type": "code",
      "execution_count": null,
      "id": "23efd670-8f7e-4aed-ad50-e561465c35f0",
      "metadata": {
        "tags": [],
        "id": "23efd670-8f7e-4aed-ad50-e561465c35f0"
      },
      "outputs": [],
      "source": [
        "\"\"\" Combine attention with decoder ouput \"\"\"\n",
        "decoder_combined_context = layers.concatenate([context, decoder_outputs], name=\"Luong_Attention\")\n",
        "print(decoder_combined_context.shape)"
      ]
    },
    {
      "cell_type": "code",
      "execution_count": null,
      "id": "a378bb66-2756-4257-96f5-951d64b329ad",
      "metadata": {
        "tags": [],
        "id": "a378bb66-2756-4257-96f5-951d64b329ad"
      },
      "outputs": [],
      "source": [
        "\"\"\" Ouput of the model \"\"\"\n",
        "ouputs = layers.Dense(vocab_size_english, activation='softmax', name=\"Output\")(decoder_combined_context)\n",
        "print(decoder_outputs.shape)"
      ]
    },
    {
      "cell_type": "code",
      "execution_count": null,
      "id": "d3a707f1-d7bb-4ce5-be34-3acd7456b659",
      "metadata": {
        "tags": [],
        "id": "d3a707f1-d7bb-4ce5-be34-3acd7456b659"
      },
      "outputs": [],
      "source": [
        "model3 = Model([A_encoder_inputs, decoder_inputs], ouputs)"
      ]
    },
    {
      "cell_type": "code",
      "execution_count": null,
      "id": "3d5e062f-0a6b-46ab-90f9-bb5ecd600609",
      "metadata": {
        "tags": [],
        "id": "3d5e062f-0a6b-46ab-90f9-bb5ecd600609"
      },
      "outputs": [],
      "source": [
        "model3.summary()"
      ]
    },
    {
      "cell_type": "code",
      "execution_count": null,
      "id": "9d338a65",
      "metadata": {
        "id": "9d338a65"
      },
      "outputs": [],
      "source": [
        "from tensorflow.keras.utils import plot_model\n",
        "\n",
        "plot_model(model3, to_file='model_plot4.png', show_shapes=True, show_layer_names=True)"
      ]
    },
    {
      "cell_type": "code",
      "execution_count": 77,
      "id": "a2f654ad-b502-4f50-a17a-821ffda7df94",
      "metadata": {
        "tags": [],
        "id": "a2f654ad-b502-4f50-a17a-821ffda7df94"
      },
      "outputs": [],
      "source": [
        "model3.compile(loss='sparse_categorical_crossentropy', optimizer='rmsprop', metrics=['accuracy'])\n"
      ]
    },
    {
      "cell_type": "code",
      "execution_count": 78,
      "id": "d9f81c8e-ac8d-4e58-bed2-09327700448d",
      "metadata": {
        "tags": [],
        "id": "d9f81c8e-ac8d-4e58-bed2-09327700448d",
        "outputId": "f10e9981-21d2-40ca-d84e-69c42893ce89",
        "colab": {
          "base_uri": "https://localhost:8080/"
        }
      },
      "outputs": [
        {
          "output_type": "execute_result",
          "data": {
            "text/plain": [
              "(5000, 7)"
            ]
          },
          "metadata": {},
          "execution_count": 78
        }
      ],
      "source": [
        "# Prepare training data with teacher forcing\n",
        "# decoder_input_data is a 2D array of shape (None, None) containing a tokenization of the English sentences.\n",
        "# decoder_target_data is the same as decoder_input_data but offset by one timestep. decoder_target_data[:, t] will be the same as decoder_input_data[:, t-1].\n",
        "\n",
        "english_teacher_enc = english_vectorizer(X_processed_array) #.numpy() # Teacher\n",
        "english_target_enc = np.zeros_like(english_teacher_enc)\n",
        "english_target_enc[:,:-1] = english_teacher_enc[:,1:] # To predict\n",
        "english_target_enc.shape"
      ]
    },
    {
      "cell_type": "code",
      "execution_count": 79,
      "id": "6e90c6ab-194b-43f8-98f0-59b26b7c98fe",
      "metadata": {
        "tags": [],
        "id": "6e90c6ab-194b-43f8-98f0-59b26b7c98fe",
        "outputId": "c622edd1-258c-4e13-92c2-4a71bba300b0",
        "colab": {
          "base_uri": "https://localhost:8080/"
        }
      },
      "outputs": [
        {
          "metadata": {
            "tags": null
          },
          "name": "stdout",
          "output_type": "stream",
          "text": [
            "Epoch 1/50\n",
            "141/141 [==============================] - 8s 29ms/step - loss: 3.5111 - accuracy: 0.3456 - val_loss: 3.2676 - val_accuracy: 0.2989\n",
            "Epoch 2/50\n",
            "141/141 [==============================] - 3s 23ms/step - loss: 2.3681 - accuracy: 0.5856 - val_loss: 2.7803 - val_accuracy: 0.5191\n",
            "Epoch 3/50\n",
            "141/141 [==============================] - 3s 24ms/step - loss: 1.9093 - accuracy: 0.6704 - val_loss: 2.4559 - val_accuracy: 0.5806\n",
            "Epoch 4/50\n",
            "141/141 [==============================] - 4s 27ms/step - loss: 1.6720 - accuracy: 0.7047 - val_loss: 2.1340 - val_accuracy: 0.6426\n",
            "Epoch 5/50\n",
            "141/141 [==============================] - 3s 24ms/step - loss: 1.5161 - accuracy: 0.7287 - val_loss: 2.0666 - val_accuracy: 0.6714\n",
            "Epoch 6/50\n",
            "141/141 [==============================] - 3s 23ms/step - loss: 1.3999 - accuracy: 0.7417 - val_loss: 1.9488 - val_accuracy: 0.6926\n",
            "Epoch 7/50\n",
            "141/141 [==============================] - 4s 28ms/step - loss: 1.3067 - accuracy: 0.7531 - val_loss: 1.8995 - val_accuracy: 0.7126\n",
            "Epoch 8/50\n",
            "141/141 [==============================] - 3s 23ms/step - loss: 1.2274 - accuracy: 0.7643 - val_loss: 1.8050 - val_accuracy: 0.7243\n",
            "Epoch 9/50\n",
            "141/141 [==============================] - 3s 23ms/step - loss: 1.1520 - accuracy: 0.7743 - val_loss: 1.8603 - val_accuracy: 0.7266\n",
            "Epoch 10/50\n",
            "141/141 [==============================] - 4s 27ms/step - loss: 1.0865 - accuracy: 0.7850 - val_loss: 1.7988 - val_accuracy: 0.7329\n",
            "Epoch 11/50\n",
            "141/141 [==============================] - 3s 24ms/step - loss: 1.0290 - accuracy: 0.7931 - val_loss: 1.7476 - val_accuracy: 0.7397\n",
            "Epoch 12/50\n",
            "141/141 [==============================] - 3s 23ms/step - loss: 0.9805 - accuracy: 0.8013 - val_loss: 1.7621 - val_accuracy: 0.7414\n",
            "Epoch 13/50\n",
            "141/141 [==============================] - 4s 27ms/step - loss: 0.9345 - accuracy: 0.8085 - val_loss: 1.7480 - val_accuracy: 0.7354\n",
            "Epoch 14/50\n",
            "141/141 [==============================] - 3s 23ms/step - loss: 0.8875 - accuracy: 0.8156 - val_loss: 1.7529 - val_accuracy: 0.7357\n",
            "Epoch 15/50\n",
            "141/141 [==============================] - 3s 24ms/step - loss: 0.8491 - accuracy: 0.8203 - val_loss: 1.7499 - val_accuracy: 0.7391\n",
            "Epoch 16/50\n",
            "141/141 [==============================] - 3s 24ms/step - loss: 0.8158 - accuracy: 0.8270 - val_loss: 1.7420 - val_accuracy: 0.7397\n",
            "Epoch 17/50\n",
            "141/141 [==============================] - 4s 27ms/step - loss: 0.7839 - accuracy: 0.8313 - val_loss: 1.8458 - val_accuracy: 0.7397\n",
            "Epoch 18/50\n",
            "141/141 [==============================] - 3s 24ms/step - loss: 0.7518 - accuracy: 0.8356 - val_loss: 1.8532 - val_accuracy: 0.7394\n",
            "Epoch 19/50\n",
            "141/141 [==============================] - 3s 23ms/step - loss: 0.7305 - accuracy: 0.8397 - val_loss: 1.7827 - val_accuracy: 0.7397\n",
            "Epoch 20/50\n",
            "141/141 [==============================] - 4s 27ms/step - loss: 0.7046 - accuracy: 0.8453 - val_loss: 1.8288 - val_accuracy: 0.7449\n",
            "Epoch 21/50\n",
            "141/141 [==============================] - 3s 23ms/step - loss: 0.6757 - accuracy: 0.8476 - val_loss: 1.8603 - val_accuracy: 0.7460\n",
            "Epoch 22/50\n",
            "141/141 [==============================] - 3s 23ms/step - loss: 0.6568 - accuracy: 0.8533 - val_loss: 1.8798 - val_accuracy: 0.7486\n",
            "Epoch 23/50\n",
            "141/141 [==============================] - 4s 27ms/step - loss: 0.6351 - accuracy: 0.8565 - val_loss: 1.9007 - val_accuracy: 0.7494\n",
            "Epoch 24/50\n",
            "141/141 [==============================] - 3s 23ms/step - loss: 0.6162 - accuracy: 0.8601 - val_loss: 1.8815 - val_accuracy: 0.7471\n",
            "Epoch 25/50\n",
            "141/141 [==============================] - 3s 23ms/step - loss: 0.5962 - accuracy: 0.8639 - val_loss: 1.9065 - val_accuracy: 0.7460\n",
            "Epoch 26/50\n",
            "141/141 [==============================] - 4s 27ms/step - loss: 0.5808 - accuracy: 0.8663 - val_loss: 1.8646 - val_accuracy: 0.7477\n",
            "Epoch 27/50\n",
            "141/141 [==============================] - 3s 23ms/step - loss: 0.5635 - accuracy: 0.8706 - val_loss: 1.8669 - val_accuracy: 0.7463\n",
            "Epoch 28/50\n",
            "141/141 [==============================] - 3s 24ms/step - loss: 0.5474 - accuracy: 0.8724 - val_loss: 1.8700 - val_accuracy: 0.7409\n",
            "Epoch 29/50\n",
            "141/141 [==============================] - 3s 23ms/step - loss: 0.5305 - accuracy: 0.8759 - val_loss: 1.8856 - val_accuracy: 0.7457\n",
            "Epoch 30/50\n",
            "141/141 [==============================] - 4s 29ms/step - loss: 0.5148 - accuracy: 0.8812 - val_loss: 1.8640 - val_accuracy: 0.7491\n",
            "Epoch 31/50\n",
            "141/141 [==============================] - 3s 24ms/step - loss: 0.5009 - accuracy: 0.8843 - val_loss: 1.9056 - val_accuracy: 0.7460\n",
            "Epoch 32/50\n",
            "141/141 [==============================] - 3s 24ms/step - loss: 0.4853 - accuracy: 0.8855 - val_loss: 1.9097 - val_accuracy: 0.7531\n",
            "Epoch 33/50\n",
            "141/141 [==============================] - 4s 28ms/step - loss: 0.4764 - accuracy: 0.8873 - val_loss: 1.8686 - val_accuracy: 0.7486\n",
            "Epoch 34/50\n",
            "141/141 [==============================] - 3s 24ms/step - loss: 0.4618 - accuracy: 0.8908 - val_loss: 1.8878 - val_accuracy: 0.7523\n",
            "Epoch 35/50\n",
            "141/141 [==============================] - 3s 23ms/step - loss: 0.4466 - accuracy: 0.8931 - val_loss: 1.8912 - val_accuracy: 0.7449\n",
            "Epoch 36/50\n",
            "141/141 [==============================] - 4s 28ms/step - loss: 0.4380 - accuracy: 0.8945 - val_loss: 1.9047 - val_accuracy: 0.7494\n",
            "Epoch 37/50\n",
            "141/141 [==============================] - 3s 23ms/step - loss: 0.4289 - accuracy: 0.8968 - val_loss: 1.9001 - val_accuracy: 0.7477\n",
            "Epoch 38/50\n",
            "141/141 [==============================] - 3s 23ms/step - loss: 0.4172 - accuracy: 0.8991 - val_loss: 1.8334 - val_accuracy: 0.7497\n",
            "Epoch 39/50\n",
            "141/141 [==============================] - 4s 28ms/step - loss: 0.4105 - accuracy: 0.9022 - val_loss: 1.9308 - val_accuracy: 0.7500\n",
            "Epoch 40/50\n",
            "141/141 [==============================] - 3s 24ms/step - loss: 0.4039 - accuracy: 0.9032 - val_loss: 1.8197 - val_accuracy: 0.7557\n",
            "Epoch 41/50\n",
            "141/141 [==============================] - 3s 23ms/step - loss: 0.3936 - accuracy: 0.9045 - val_loss: 1.8829 - val_accuracy: 0.7537\n",
            "Epoch 42/50\n",
            "141/141 [==============================] - 3s 24ms/step - loss: 0.3854 - accuracy: 0.9081 - val_loss: 1.8742 - val_accuracy: 0.7500\n",
            "Epoch 43/50\n",
            "141/141 [==============================] - 4s 27ms/step - loss: 0.3786 - accuracy: 0.9073 - val_loss: 1.8733 - val_accuracy: 0.7511\n",
            "Epoch 44/50\n",
            "141/141 [==============================] - 3s 23ms/step - loss: 0.3666 - accuracy: 0.9111 - val_loss: 1.8724 - val_accuracy: 0.7534\n",
            "Epoch 45/50\n",
            "141/141 [==============================] - 3s 24ms/step - loss: 0.3635 - accuracy: 0.9105 - val_loss: 1.9193 - val_accuracy: 0.7466\n",
            "Epoch 46/50\n",
            "141/141 [==============================] - 4s 28ms/step - loss: 0.3520 - accuracy: 0.9136 - val_loss: 1.8792 - val_accuracy: 0.7546\n",
            "Epoch 47/50\n",
            "141/141 [==============================] - 3s 24ms/step - loss: 0.3545 - accuracy: 0.9130 - val_loss: 1.8926 - val_accuracy: 0.7549\n",
            "Epoch 48/50\n",
            "141/141 [==============================] - 3s 23ms/step - loss: 0.3443 - accuracy: 0.9163 - val_loss: 1.8408 - val_accuracy: 0.7594\n",
            "Epoch 49/50\n",
            "141/141 [==============================] - 4s 28ms/step - loss: 0.3393 - accuracy: 0.9155 - val_loss: 1.8481 - val_accuracy: 0.7589\n",
            "Epoch 50/50\n",
            "141/141 [==============================] - 3s 23ms/step - loss: 0.3304 - accuracy: 0.9181 - val_loss: 1.8356 - val_accuracy: 0.7580\n"
          ]
        }
      ],
      "source": [
        "# Configure the model and start training\n",
        "# Stop training with early stopping with patience of 20\n",
        "callbacks_list = [EarlyStopping(monitor='loss', mode='min', min_delta=0.000001,\n",
        "                                patience=5, restore_best_weights=True, verbose=1,\n",
        "                                )]\n",
        "\n",
        "\n",
        "history = model3.fit([y_processed_array, english_teacher_enc], english_target_enc,\n",
        "                    validation_split=0.1,\n",
        "                    epochs=50, batch_size=BATCH_SIZE,\n",
        "                    callbacks=callbacks_list,\n",
        "                    verbose=1)\n",
        "\n",
        "\n",
        "\n"
      ]
    },
    {
      "cell_type": "code",
      "execution_count": 80,
      "id": "54279d7e-37c1-47c0-b20e-4c6c995a223b",
      "metadata": {
        "tags": [],
        "id": "54279d7e-37c1-47c0-b20e-4c6c995a223b",
        "outputId": "25c17944-43ee-4caa-f5b5-5b267efebb3e",
        "colab": {
          "base_uri": "https://localhost:8080/",
          "height": 564
        }
      },
      "outputs": [
        {
          "output_type": "display_data",
          "data": {
            "text/plain": [
              "<Figure size 2000x600 with 2 Axes>"
            ],
            "image/png": "[encoded data removed]"
          },
          "metadata": {}
        }
      ],
      "source": [
        "import matplotlib.pyplot as plt\n",
        "\n",
        "plt.figure(figsize=(20, 6))\n",
        "# Plot the first subplot  loss)\n",
        "plt.subplot(1, 2, 1)  # 1 row, 2 columns, first subplot\n",
        "plt.plot(history.history[\"loss\"])\n",
        "plt.plot(history.history[\"val_loss\"])\n",
        "plt.title(\"validation loss & training loss\")\n",
        "plt.xlabel(\"epochs\")\n",
        "plt.ylabel(\"loss\")\n",
        "leg = plt.legend([\"training loss\", \"validation loss\"],loc =\"upper right\");\n",
        "\n",
        "# Plot the second subplot ( accuracy)\n",
        "plt.subplot(1, 2, 2)  # 1 row, 2 columns, second subplot\n",
        "plt.plot(history.history[\"accuracy\"])\n",
        "plt.plot(history.history[\"val_accuracy\"])\n",
        "plt.title(\"validation accuracy & training loaccuracyss\")\n",
        "plt.xlabel(\"epochs\")\n",
        "plt.ylabel(\"accuracy\")\n",
        "leg = plt.legend([\"training accuracy\", \"validation accuracy\"],loc =\"upper left\");\n",
        "\n",
        "plt.show()\n"
      ]
    },
    {
      "cell_type": "code",
      "source": [],
      "metadata": {
        "id": "2JWpSPQFgYxs"
      },
      "id": "2JWpSPQFgYxs",
      "execution_count": null,
      "outputs": []
    },
    {
      "cell_type": "code",
      "source": [],
      "metadata": {
        "id": "i8D8iBergxPu"
      },
      "id": "i8D8iBergxPu",
      "execution_count": null,
      "outputs": []
    },
    {
      "cell_type": "code",
      "source": [],
      "metadata": {
        "id": "HGEHd0tVgxUY"
      },
      "id": "HGEHd0tVgxUY",
      "execution_count": null,
      "outputs": []
    },
    {
      "cell_type": "code",
      "source": [],
      "metadata": {
        "id": "-9TVifcCgxYe"
      },
      "id": "-9TVifcCgxYe",
      "execution_count": null,
      "outputs": []
    },
    {
      "cell_type": "code",
      "source": [],
      "metadata": {
        "id": "NoYWmiN8gxcf"
      },
      "id": "NoYWmiN8gxcf",
      "execution_count": null,
      "outputs": []
    },
    {
      "cell_type": "code",
      "source": [],
      "metadata": {
        "id": "KFAwcEyKgxg0"
      },
      "id": "KFAwcEyKgxg0",
      "execution_count": null,
      "outputs": []
    },
    {
      "cell_type": "code",
      "source": [],
      "metadata": {
        "id": "_knrChaPgxlM"
      },
      "id": "_knrChaPgxlM",
      "execution_count": null,
      "outputs": []
    },
    {
      "cell_type": "code",
      "source": [],
      "metadata": {
        "id": "o3PUv_pfgxpZ"
      },
      "id": "o3PUv_pfgxpZ",
      "execution_count": null,
      "outputs": []
    },
    {
      "cell_type": "code",
      "source": [],
      "metadata": {
        "id": "zay41rZPgxtS"
      },
      "id": "zay41rZPgxtS",
      "execution_count": null,
      "outputs": []
    },
    {
      "cell_type": "markdown",
      "source": [
        "# Transformer(  Direct import transformer)"
      ],
      "metadata": {
        "id": "FvNGA4magytS"
      },
      "id": "FvNGA4magytS"
    },
    {
      "cell_type": "markdown",
      "source": [
        "Load and prepare the data\n",
        "en-fr.txt is a subset of a larger file containing more than 190,000 phrases and their corresponding translations compiled as part of the Tatoeba project. The file is tab-delimited. Each line contains an English phrase, the equivalent French phrase, and an attribution identifying where the translation came from. We don’t need the attributions, so load the dataset into a Pandas DataFrame, remove the attribution column, and shuffle and reindex the rows."
      ],
      "metadata": {
        "id": "6XEN3adnmoaP"
      },
      "id": "6XEN3adnmoaP"
    },
    {
      "cell_type": "code",
      "source": [
        "data.head()"
      ],
      "metadata": {
        "colab": {
          "base_uri": "https://localhost:8080/",
          "height": 206
        },
        "id": "m-PKIegBhgnw",
        "outputId": "3ca12630-6cfd-4d93-c1ed-11e4d72b1980"
      },
      "id": "m-PKIegBhgnw",
      "execution_count": 104,
      "outputs": [
        {
          "output_type": "execute_result",
          "data": {
            "text/plain": [
              "    en          fr                                         not_needed\n",
              "0  Go.     Marche.  CC-BY 2.0 (France) Attribution: tatoeba.org #2...\n",
              "1  Go.  En route !  CC-BY 2.0 (France) Attribution: tatoeba.org #2...\n",
              "2  Go.     Bouge !  CC-BY 2.0 (France) Attribution: tatoeba.org #2...\n",
              "3  Hi.     Salut !  CC-BY 2.0 (France) Attribution: tatoeba.org #5...\n",
              "4  Hi.      Salut.  CC-BY 2.0 (France) Attribution: tatoeba.org #5..."
            ],
            "text/html": [
              "\n",
              "  <div id=\"df-4dae4ec7-c342-4536-9c22-07dfd6156243\" class=\"colab-df-container\">\n",
              "    <div>\n",
              "<style scoped>\n",
              "    .dataframe tbody tr th:only-of-type {\n",
              "        vertical-align: middle;\n",
              "    }\n",
              "\n",
              "    .dataframe tbody tr th {\n",
              "        vertical-align: top;\n",
              "    }\n",
              "\n",
              "    .dataframe thead th {\n",
              "        text-align: right;\n",
              "    }\n",
              "</style>\n",
              "<table border=\"1\" class=\"dataframe\">\n",
              "  <thead>\n",
              "    <tr style=\"text-align: right;\">\n",
              "      <th></th>\n",
              "      <th>en</th>\n",
              "      <th>fr</th>\n",
              "      <th>not_needed</th>\n",
              "    </tr>\n",
              "  </thead>\n",
              "  <tbody>\n",
              "    <tr>\n",
              "      <th>0</th>\n",
              "      <td>Go.</td>\n",
              "      <td>Marche.</td>\n",
              "      <td>CC-BY 2.0 (France) Attribution: tatoeba.org #2...</td>\n",
              "    </tr>\n",
              "    <tr>\n",
              "      <th>1</th>\n",
              "      <td>Go.</td>\n",
              "      <td>En route !</td>\n",
              "      <td>CC-BY 2.0 (France) Attribution: tatoeba.org #2...</td>\n",
              "    </tr>\n",
              "    <tr>\n",
              "      <th>2</th>\n",
              "      <td>Go.</td>\n",
              "      <td>Bouge !</td>\n",
              "      <td>CC-BY 2.0 (France) Attribution: tatoeba.org #2...</td>\n",
              "    </tr>\n",
              "    <tr>\n",
              "      <th>3</th>\n",
              "      <td>Hi.</td>\n",
              "      <td>Salut !</td>\n",
              "      <td>CC-BY 2.0 (France) Attribution: tatoeba.org #5...</td>\n",
              "    </tr>\n",
              "    <tr>\n",
              "      <th>4</th>\n",
              "      <td>Hi.</td>\n",
              "      <td>Salut.</td>\n",
              "      <td>CC-BY 2.0 (France) Attribution: tatoeba.org #5...</td>\n",
              "    </tr>\n",
              "  </tbody>\n",
              "</table>\n",
              "</div>\n",
              "    <div class=\"colab-df-buttons\">\n",
              "\n",
              "  <div class=\"colab-df-container\">\n",
              "    <button class=\"colab-df-convert\" onclick=\"convertToInteractive('df-4dae4ec7-c342-4536-9c22-07dfd6156243')\"\n",
              "            title=\"Convert this dataframe to an interactive table.\"\n",
              "            style=\"display:none;\">\n",
              "\n",
              "  <svg xmlns=\"http://www.w3.org/2000/svg\" height=\"24px\" viewBox=\"0 -960 960 960\">\n",
              "    <path d=\"M120-120v-720h720v720H120Zm60-500h600v-160H180v160Zm220 220h160v-160H400v160Zm0 220h160v-160H400v160ZM180-400h160v-160H180v160Zm440 0h160v-160H620v160ZM180-180h160v-160H180v160Zm440 0h160v-160H620v160Z\"/>\n",
              "  </svg>\n",
              "    </button>\n",
              "\n",
              "  <style>\n",
              "    .colab-df-container {\n",
              "      display:flex;\n",
              "      gap: 12px;\n",
              "    }\n",
              "\n",
              "    .colab-df-convert {\n",
              "      background-color: #E8F0FE;\n",
              "      border: none;\n",
              "      border-radius: 50%;\n",
              "      cursor: pointer;\n",
              "      display: none;\n",
              "      fill: #1967D2;\n",
              "      height: 32px;\n",
              "      padding: 0 0 0 0;\n",
              "      width: 32px;\n",
              "    }\n",
              "\n",
              "    .colab-df-convert:hover {\n",
              "      background-color: #E2EBFA;\n",
              "      box-shadow: 0px 1px 2px rgba(60, 64, 67, 0.3), 0px 1px 3px 1px rgba(60, 64, 67, 0.15);\n",
              "      fill: #174EA6;\n",
              "    }\n",
              "\n",
              "    .colab-df-buttons div {\n",
              "      margin-bottom: 4px;\n",
              "    }\n",
              "\n",
              "    [theme=dark] .colab-df-convert {\n",
              "      background-color: #3B4455;\n",
              "      fill: #D2E3FC;\n",
              "    }\n",
              "\n",
              "    [theme=dark] .colab-df-convert:hover {\n",
              "      background-color: #434B5C;\n",
              "      box-shadow: 0px 1px 3px 1px rgba(0, 0, 0, 0.15);\n",
              "      filter: drop-shadow(0px 1px 2px rgba(0, 0, 0, 0.3));\n",
              "      fill: #FFFFFF;\n",
              "    }\n",
              "  </style>\n",
              "\n",
              "    <script>\n",
              "      const buttonEl =\n",
              "        document.querySelector('#df-4dae4ec7-c342-4536-9c22-07dfd6156243 button.colab-df-convert');\n",
              "      buttonEl.style.display =\n",
              "        google.colab.kernel.accessAllowed ? 'block' : 'none';\n",
              "\n",
              "      async function convertToInteractive(key) {\n",
              "        const element = document.querySelector('#df-4dae4ec7-c342-4536-9c22-07dfd6156243');\n",
              "        const dataTable =\n",
              "          await google.colab.kernel.invokeFunction('convertToInteractive',\n",
              "                                                    [key], {});\n",
              "        if (!dataTable) return;\n",
              "\n",
              "        const docLinkHtml = 'Like what you see? Visit the ' +\n",
              "          '<a target=\"_blank\" href=https://colab.research.google.com/notebooks/data_table.ipynb>data table notebook</a>'\n",
              "          + ' to learn more about interactive tables.';\n",
              "        element.innerHTML = '';\n",
              "        dataTable['output_type'] = 'display_data';\n",
              "        await google.colab.output.renderOutput(dataTable, element);\n",
              "        const docLink = document.createElement('div');\n",
              "        docLink.innerHTML = docLinkHtml;\n",
              "        element.appendChild(docLink);\n",
              "      }\n",
              "    </script>\n",
              "  </div>\n",
              "\n",
              "\n",
              "<div id=\"df-27c3130e-f9b7-4f89-ab1d-47dfc996fd23\">\n",
              "  <button class=\"colab-df-quickchart\" onclick=\"quickchart('df-27c3130e-f9b7-4f89-ab1d-47dfc996fd23')\"\n",
              "            title=\"Suggest charts\"\n",
              "            style=\"display:none;\">\n",
              "\n",
              "<svg xmlns=\"http://www.w3.org/2000/svg\" height=\"24px\"viewBox=\"0 0 24 24\"\n",
              "     width=\"24px\">\n",
              "    <g>\n",
              "        <path d=\"M19 3H5c-1.1 0-2 .9-2 2v14c0 1.1.9 2 2 2h14c1.1 0 2-.9 2-2V5c0-1.1-.9-2-2-2zM9 17H7v-7h2v7zm4 0h-2V7h2v10zm4 0h-2v-4h2v4z\"/>\n",
              "    </g>\n",
              "</svg>\n",
              "  </button>\n",
              "\n",
              "<style>\n",
              "  .colab-df-quickchart {\n",
              "      --bg-color: #E8F0FE;\n",
              "      --fill-color: #1967D2;\n",
              "      --hover-bg-color: #E2EBFA;\n",
              "      --hover-fill-color: #174EA6;\n",
              "      --disabled-fill-color: #AAA;\n",
              "      --disabled-bg-color: #DDD;\n",
              "  }\n",
              "\n",
              "  [theme=dark] .colab-df-quickchart {\n",
              "      --bg-color: #3B4455;\n",
              "      --fill-color: #D2E3FC;\n",
              "      --hover-bg-color: #434B5C;\n",
              "      --hover-fill-color: #FFFFFF;\n",
              "      --disabled-bg-color: #3B4455;\n",
              "      --disabled-fill-color: #666;\n",
              "  }\n",
              "\n",
              "  .colab-df-quickchart {\n",
              "    background-color: var(--bg-color);\n",
              "    border: none;\n",
              "    border-radius: 50%;\n",
              "    cursor: pointer;\n",
              "    display: none;\n",
              "    fill: var(--fill-color);\n",
              "    height: 32px;\n",
              "    padding: 0;\n",
              "    width: 32px;\n",
              "  }\n",
              "\n",
              "  .colab-df-quickchart:hover {\n",
              "    background-color: var(--hover-bg-color);\n",
              "    box-shadow: 0 1px 2px rgba(60, 64, 67, 0.3), 0 1px 3px 1px rgba(60, 64, 67, 0.15);\n",
              "    fill: var(--button-hover-fill-color);\n",
              "  }\n",
              "\n",
              "  .colab-df-quickchart-complete:disabled,\n",
              "  .colab-df-quickchart-complete:disabled:hover {\n",
              "    background-color: var(--disabled-bg-color);\n",
              "    fill: var(--disabled-fill-color);\n",
              "    box-shadow: none;\n",
              "  }\n",
              "\n",
              "  .colab-df-spinner {\n",
              "    border: 2px solid var(--fill-color);\n",
              "    border-color: transparent;\n",
              "    border-bottom-color: var(--fill-color);\n",
              "    animation:\n",
              "      spin 1s steps(1) infinite;\n",
              "  }\n",
              "\n",
              "  @keyframes spin {\n",
              "    0% {\n",
              "      border-color: transparent;\n",
              "      border-bottom-color: var(--fill-color);\n",
              "      border-left-color: var(--fill-color);\n",
              "    }\n",
              "    20% {\n",
              "      border-color: transparent;\n",
              "      border-left-color: var(--fill-color);\n",
              "      border-top-color: var(--fill-color);\n",
              "    }\n",
              "    30% {\n",
              "      border-color: transparent;\n",
              "      border-left-color: var(--fill-color);\n",
              "      border-top-color: var(--fill-color);\n",
              "      border-right-color: var(--fill-color);\n",
              "    }\n",
              "    40% {\n",
              "      border-color: transparent;\n",
              "      border-right-color: var(--fill-color);\n",
              "      border-top-color: var(--fill-color);\n",
              "    }\n",
              "    60% {\n",
              "      border-color: transparent;\n",
              "      border-right-color: var(--fill-color);\n",
              "    }\n",
              "    80% {\n",
              "      border-color: transparent;\n",
              "      border-right-color: var(--fill-color);\n",
              "      border-bottom-color: var(--fill-color);\n",
              "    }\n",
              "    90% {\n",
              "      border-color: transparent;\n",
              "      border-bottom-color: var(--fill-color);\n",
              "    }\n",
              "  }\n",
              "</style>\n",
              "\n",
              "  <script>\n",
              "    async function quickchart(key) {\n",
              "      const quickchartButtonEl =\n",
              "        document.querySelector('#' + key + ' button');\n",
              "      quickchartButtonEl.disabled = true;  // To prevent multiple clicks.\n",
              "      quickchartButtonEl.classList.add('colab-df-spinner');\n",
              "      try {\n",
              "        const charts = await google.colab.kernel.invokeFunction(\n",
              "            'suggestCharts', [key], {});\n",
              "      } catch (error) {\n",
              "        console.error('Error during call to suggestCharts:', error);\n",
              "      }\n",
              "      quickchartButtonEl.classList.remove('colab-df-spinner');\n",
              "      quickchartButtonEl.classList.add('colab-df-quickchart-complete');\n",
              "    }\n",
              "    (() => {\n",
              "      let quickchartButtonEl =\n",
              "        document.querySelector('#df-27c3130e-f9b7-4f89-ab1d-47dfc996fd23 button');\n",
              "      quickchartButtonEl.style.display =\n",
              "        google.colab.kernel.accessAllowed ? 'block' : 'none';\n",
              "    })();\n",
              "  </script>\n",
              "</div>\n",
              "    </div>\n",
              "  </div>\n"
            ],
            "application/vnd.google.colaboratory.intrinsic+json": {
              "type": "dataframe",
              "variable_name": "data"
            }
          },
          "metadata": {},
          "execution_count": 104
        }
      ]
    },
    {
      "cell_type": "code",
      "source": [
        "data.columns = [\"en\", \"fr\",\"not_needed\"]\n",
        "data.head(5)"
      ],
      "metadata": {
        "colab": {
          "base_uri": "https://localhost:8080/",
          "height": 206
        },
        "id": "DvWxjNgfiKhg",
        "outputId": "bd161161-597b-4a0c-e005-91b7e0e05a9b"
      },
      "id": "DvWxjNgfiKhg",
      "execution_count": 105,
      "outputs": [
        {
          "output_type": "execute_result",
          "data": {
            "text/plain": [
              "    en          fr                                         not_needed\n",
              "0  Go.     Marche.  CC-BY 2.0 (France) Attribution: tatoeba.org #2...\n",
              "1  Go.  En route !  CC-BY 2.0 (France) Attribution: tatoeba.org #2...\n",
              "2  Go.     Bouge !  CC-BY 2.0 (France) Attribution: tatoeba.org #2...\n",
              "3  Hi.     Salut !  CC-BY 2.0 (France) Attribution: tatoeba.org #5...\n",
              "4  Hi.      Salut.  CC-BY 2.0 (France) Attribution: tatoeba.org #5..."
            ],
            "text/html": [
              "\n",
              "  <div id=\"df-e81d3047-6775-49b2-bff6-3cff22784944\" class=\"colab-df-container\">\n",
              "    <div>\n",
              "<style scoped>\n",
              "    .dataframe tbody tr th:only-of-type {\n",
              "        vertical-align: middle;\n",
              "    }\n",
              "\n",
              "    .dataframe tbody tr th {\n",
              "        vertical-align: top;\n",
              "    }\n",
              "\n",
              "    .dataframe thead th {\n",
              "        text-align: right;\n",
              "    }\n",
              "</style>\n",
              "<table border=\"1\" class=\"dataframe\">\n",
              "  <thead>\n",
              "    <tr style=\"text-align: right;\">\n",
              "      <th></th>\n",
              "      <th>en</th>\n",
              "      <th>fr</th>\n",
              "      <th>not_needed</th>\n",
              "    </tr>\n",
              "  </thead>\n",
              "  <tbody>\n",
              "    <tr>\n",
              "      <th>0</th>\n",
              "      <td>Go.</td>\n",
              "      <td>Marche.</td>\n",
              "      <td>CC-BY 2.0 (France) Attribution: tatoeba.org #2...</td>\n",
              "    </tr>\n",
              "    <tr>\n",
              "      <th>1</th>\n",
              "      <td>Go.</td>\n",
              "      <td>En route !</td>\n",
              "      <td>CC-BY 2.0 (France) Attribution: tatoeba.org #2...</td>\n",
              "    </tr>\n",
              "    <tr>\n",
              "      <th>2</th>\n",
              "      <td>Go.</td>\n",
              "      <td>Bouge !</td>\n",
              "      <td>CC-BY 2.0 (France) Attribution: tatoeba.org #2...</td>\n",
              "    </tr>\n",
              "    <tr>\n",
              "      <th>3</th>\n",
              "      <td>Hi.</td>\n",
              "      <td>Salut !</td>\n",
              "      <td>CC-BY 2.0 (France) Attribution: tatoeba.org #5...</td>\n",
              "    </tr>\n",
              "    <tr>\n",
              "      <th>4</th>\n",
              "      <td>Hi.</td>\n",
              "      <td>Salut.</td>\n",
              "      <td>CC-BY 2.0 (France) Attribution: tatoeba.org #5...</td>\n",
              "    </tr>\n",
              "  </tbody>\n",
              "</table>\n",
              "</div>\n",
              "    <div class=\"colab-df-buttons\">\n",
              "\n",
              "  <div class=\"colab-df-container\">\n",
              "    <button class=\"colab-df-convert\" onclick=\"convertToInteractive('df-e81d3047-6775-49b2-bff6-3cff22784944')\"\n",
              "            title=\"Convert this dataframe to an interactive table.\"\n",
              "            style=\"display:none;\">\n",
              "\n",
              "  <svg xmlns=\"http://www.w3.org/2000/svg\" height=\"24px\" viewBox=\"0 -960 960 960\">\n",
              "    <path d=\"M120-120v-720h720v720H120Zm60-500h600v-160H180v160Zm220 220h160v-160H400v160Zm0 220h160v-160H400v160ZM180-400h160v-160H180v160Zm440 0h160v-160H620v160ZM180-180h160v-160H180v160Zm440 0h160v-160H620v160Z\"/>\n",
              "  </svg>\n",
              "    </button>\n",
              "\n",
              "  <style>\n",
              "    .colab-df-container {\n",
              "      display:flex;\n",
              "      gap: 12px;\n",
              "    }\n",
              "\n",
              "    .colab-df-convert {\n",
              "      background-color: #E8F0FE;\n",
              "      border: none;\n",
              "      border-radius: 50%;\n",
              "      cursor: pointer;\n",
              "      display: none;\n",
              "      fill: #1967D2;\n",
              "      height: 32px;\n",
              "      padding: 0 0 0 0;\n",
              "      width: 32px;\n",
              "    }\n",
              "\n",
              "    .colab-df-convert:hover {\n",
              "      background-color: #E2EBFA;\n",
              "      box-shadow: 0px 1px 2px rgba(60, 64, 67, 0.3), 0px 1px 3px 1px rgba(60, 64, 67, 0.15);\n",
              "      fill: #174EA6;\n",
              "    }\n",
              "\n",
              "    .colab-df-buttons div {\n",
              "      margin-bottom: 4px;\n",
              "    }\n",
              "\n",
              "    [theme=dark] .colab-df-convert {\n",
              "      background-color: #3B4455;\n",
              "      fill: #D2E3FC;\n",
              "    }\n",
              "\n",
              "    [theme=dark] .colab-df-convert:hover {\n",
              "      background-color: #434B5C;\n",
              "      box-shadow: 0px 1px 3px 1px rgba(0, 0, 0, 0.15);\n",
              "      filter: drop-shadow(0px 1px 2px rgba(0, 0, 0, 0.3));\n",
              "      fill: #FFFFFF;\n",
              "    }\n",
              "  </style>\n",
              "\n",
              "    <script>\n",
              "      const buttonEl =\n",
              "        document.querySelector('#df-e81d3047-6775-49b2-bff6-3cff22784944 button.colab-df-convert');\n",
              "      buttonEl.style.display =\n",
              "        google.colab.kernel.accessAllowed ? 'block' : 'none';\n",
              "\n",
              "      async function convertToInteractive(key) {\n",
              "        const element = document.querySelector('#df-e81d3047-6775-49b2-bff6-3cff22784944');\n",
              "        const dataTable =\n",
              "          await google.colab.kernel.invokeFunction('convertToInteractive',\n",
              "                                                    [key], {});\n",
              "        if (!dataTable) return;\n",
              "\n",
              "        const docLinkHtml = 'Like what you see? Visit the ' +\n",
              "          '<a target=\"_blank\" href=https://colab.research.google.com/notebooks/data_table.ipynb>data table notebook</a>'\n",
              "          + ' to learn more about interactive tables.';\n",
              "        element.innerHTML = '';\n",
              "        dataTable['output_type'] = 'display_data';\n",
              "        await google.colab.output.renderOutput(dataTable, element);\n",
              "        const docLink = document.createElement('div');\n",
              "        docLink.innerHTML = docLinkHtml;\n",
              "        element.appendChild(docLink);\n",
              "      }\n",
              "    </script>\n",
              "  </div>\n",
              "\n",
              "\n",
              "<div id=\"df-4ef0e50f-7d89-4755-aa96-338946eeb37d\">\n",
              "  <button class=\"colab-df-quickchart\" onclick=\"quickchart('df-4ef0e50f-7d89-4755-aa96-338946eeb37d')\"\n",
              "            title=\"Suggest charts\"\n",
              "            style=\"display:none;\">\n",
              "\n",
              "<svg xmlns=\"http://www.w3.org/2000/svg\" height=\"24px\"viewBox=\"0 0 24 24\"\n",
              "     width=\"24px\">\n",
              "    <g>\n",
              "        <path d=\"M19 3H5c-1.1 0-2 .9-2 2v14c0 1.1.9 2 2 2h14c1.1 0 2-.9 2-2V5c0-1.1-.9-2-2-2zM9 17H7v-7h2v7zm4 0h-2V7h2v10zm4 0h-2v-4h2v4z\"/>\n",
              "    </g>\n",
              "</svg>\n",
              "  </button>\n",
              "\n",
              "<style>\n",
              "  .colab-df-quickchart {\n",
              "      --bg-color: #E8F0FE;\n",
              "      --fill-color: #1967D2;\n",
              "      --hover-bg-color: #E2EBFA;\n",
              "      --hover-fill-color: #174EA6;\n",
              "      --disabled-fill-color: #AAA;\n",
              "      --disabled-bg-color: #DDD;\n",
              "  }\n",
              "\n",
              "  [theme=dark] .colab-df-quickchart {\n",
              "      --bg-color: #3B4455;\n",
              "      --fill-color: #D2E3FC;\n",
              "      --hover-bg-color: #434B5C;\n",
              "      --hover-fill-color: #FFFFFF;\n",
              "      --disabled-bg-color: #3B4455;\n",
              "      --disabled-fill-color: #666;\n",
              "  }\n",
              "\n",
              "  .colab-df-quickchart {\n",
              "    background-color: var(--bg-color);\n",
              "    border: none;\n",
              "    border-radius: 50%;\n",
              "    cursor: pointer;\n",
              "    display: none;\n",
              "    fill: var(--fill-color);\n",
              "    height: 32px;\n",
              "    padding: 0;\n",
              "    width: 32px;\n",
              "  }\n",
              "\n",
              "  .colab-df-quickchart:hover {\n",
              "    background-color: var(--hover-bg-color);\n",
              "    box-shadow: 0 1px 2px rgba(60, 64, 67, 0.3), 0 1px 3px 1px rgba(60, 64, 67, 0.15);\n",
              "    fill: var(--button-hover-fill-color);\n",
              "  }\n",
              "\n",
              "  .colab-df-quickchart-complete:disabled,\n",
              "  .colab-df-quickchart-complete:disabled:hover {\n",
              "    background-color: var(--disabled-bg-color);\n",
              "    fill: var(--disabled-fill-color);\n",
              "    box-shadow: none;\n",
              "  }\n",
              "\n",
              "  .colab-df-spinner {\n",
              "    border: 2px solid var(--fill-color);\n",
              "    border-color: transparent;\n",
              "    border-bottom-color: var(--fill-color);\n",
              "    animation:\n",
              "      spin 1s steps(1) infinite;\n",
              "  }\n",
              "\n",
              "  @keyframes spin {\n",
              "    0% {\n",
              "      border-color: transparent;\n",
              "      border-bottom-color: var(--fill-color);\n",
              "      border-left-color: var(--fill-color);\n",
              "    }\n",
              "    20% {\n",
              "      border-color: transparent;\n",
              "      border-left-color: var(--fill-color);\n",
              "      border-top-color: var(--fill-color);\n",
              "    }\n",
              "    30% {\n",
              "      border-color: transparent;\n",
              "      border-left-color: var(--fill-color);\n",
              "      border-top-color: var(--fill-color);\n",
              "      border-right-color: var(--fill-color);\n",
              "    }\n",
              "    40% {\n",
              "      border-color: transparent;\n",
              "      border-right-color: var(--fill-color);\n",
              "      border-top-color: var(--fill-color);\n",
              "    }\n",
              "    60% {\n",
              "      border-color: transparent;\n",
              "      border-right-color: var(--fill-color);\n",
              "    }\n",
              "    80% {\n",
              "      border-color: transparent;\n",
              "      border-right-color: var(--fill-color);\n",
              "      border-bottom-color: var(--fill-color);\n",
              "    }\n",
              "    90% {\n",
              "      border-color: transparent;\n",
              "      border-bottom-color: var(--fill-color);\n",
              "    }\n",
              "  }\n",
              "</style>\n",
              "\n",
              "  <script>\n",
              "    async function quickchart(key) {\n",
              "      const quickchartButtonEl =\n",
              "        document.querySelector('#' + key + ' button');\n",
              "      quickchartButtonEl.disabled = true;  // To prevent multiple clicks.\n",
              "      quickchartButtonEl.classList.add('colab-df-spinner');\n",
              "      try {\n",
              "        const charts = await google.colab.kernel.invokeFunction(\n",
              "            'suggestCharts', [key], {});\n",
              "      } catch (error) {\n",
              "        console.error('Error during call to suggestCharts:', error);\n",
              "      }\n",
              "      quickchartButtonEl.classList.remove('colab-df-spinner');\n",
              "      quickchartButtonEl.classList.add('colab-df-quickchart-complete');\n",
              "    }\n",
              "    (() => {\n",
              "      let quickchartButtonEl =\n",
              "        document.querySelector('#df-4ef0e50f-7d89-4755-aa96-338946eeb37d button');\n",
              "      quickchartButtonEl.style.display =\n",
              "        google.colab.kernel.accessAllowed ? 'block' : 'none';\n",
              "    })();\n",
              "  </script>\n",
              "</div>\n",
              "    </div>\n",
              "  </div>\n"
            ],
            "application/vnd.google.colaboratory.intrinsic+json": {
              "type": "dataframe",
              "variable_name": "data"
            }
          },
          "metadata": {},
          "execution_count": 105
        }
      ]
    },
    {
      "cell_type": "code",
      "source": [
        "df = data.iloc[:10000, [0, 1]]"
      ],
      "metadata": {
        "id": "C1zDdQAYh9Mi"
      },
      "id": "C1zDdQAYh9Mi",
      "execution_count": 106,
      "outputs": []
    },
    {
      "cell_type": "code",
      "source": [],
      "metadata": {
        "id": "0-YlSgy1h9B7"
      },
      "id": "0-YlSgy1h9B7",
      "execution_count": 106,
      "outputs": []
    },
    {
      "cell_type": "code",
      "source": [],
      "metadata": {
        "id": "rIQ0CYG_h872"
      },
      "id": "rIQ0CYG_h872",
      "execution_count": 106,
      "outputs": []
    },
    {
      "cell_type": "code",
      "source": [
        "import re\n",
        "from unicodedata import normalize\n",
        "\n",
        "def clean_text(text):\n",
        "    text = normalize('NFD', text.lower())\n",
        "    text = re.sub('[^A-Za-z ]+', '', text)\n",
        "    return text\n",
        "\n",
        "def clean_and_prepare_text(text):\n",
        "    text = '[start] ' + clean_text(text) + ' [end]'\n",
        "    return text\n",
        "\n",
        "df['en'] = df['en'].apply(lambda row: clean_text(row))\n",
        "df['fr'] = df['fr'].apply(lambda row: clean_and_prepare_text(row))\n",
        "df.head()"
      ],
      "metadata": {
        "colab": {
          "base_uri": "https://localhost:8080/",
          "height": 206
        },
        "id": "IpgY_zkKg7nN",
        "outputId": "1268b316-ac5a-42cf-c8db-37f376344091"
      },
      "id": "IpgY_zkKg7nN",
      "execution_count": 107,
      "outputs": [
        {
          "output_type": "execute_result",
          "data": {
            "text/plain": [
              "   en                       fr\n",
              "0  go     [start] marche [end]\n",
              "1  go  [start] en route  [end]\n",
              "2  go     [start] bouge  [end]\n",
              "3  hi     [start] salut  [end]\n",
              "4  hi      [start] salut [end]"
            ],
            "text/html": [
              "\n",
              "  <div id=\"df-d3507eed-10c4-4b13-89d3-a90ef61ffcfe\" class=\"colab-df-container\">\n",
              "    <div>\n",
              "<style scoped>\n",
              "    .dataframe tbody tr th:only-of-type {\n",
              "        vertical-align: middle;\n",
              "    }\n",
              "\n",
              "    .dataframe tbody tr th {\n",
              "        vertical-align: top;\n",
              "    }\n",
              "\n",
              "    .dataframe thead th {\n",
              "        text-align: right;\n",
              "    }\n",
              "</style>\n",
              "<table border=\"1\" class=\"dataframe\">\n",
              "  <thead>\n",
              "    <tr style=\"text-align: right;\">\n",
              "      <th></th>\n",
              "      <th>en</th>\n",
              "      <th>fr</th>\n",
              "    </tr>\n",
              "  </thead>\n",
              "  <tbody>\n",
              "    <tr>\n",
              "      <th>0</th>\n",
              "      <td>go</td>\n",
              "      <td>[start] marche [end]</td>\n",
              "    </tr>\n",
              "    <tr>\n",
              "      <th>1</th>\n",
              "      <td>go</td>\n",
              "      <td>[start] en route  [end]</td>\n",
              "    </tr>\n",
              "    <tr>\n",
              "      <th>2</th>\n",
              "      <td>go</td>\n",
              "      <td>[start] bouge  [end]</td>\n",
              "    </tr>\n",
              "    <tr>\n",
              "      <th>3</th>\n",
              "      <td>hi</td>\n",
              "      <td>[start] salut  [end]</td>\n",
              "    </tr>\n",
              "    <tr>\n",
              "      <th>4</th>\n",
              "      <td>hi</td>\n",
              "      <td>[start] salut [end]</td>\n",
              "    </tr>\n",
              "  </tbody>\n",
              "</table>\n",
              "</div>\n",
              "    <div class=\"colab-df-buttons\">\n",
              "\n",
              "  <div class=\"colab-df-container\">\n",
              "    <button class=\"colab-df-convert\" onclick=\"convertToInteractive('df-d3507eed-10c4-4b13-89d3-a90ef61ffcfe')\"\n",
              "            title=\"Convert this dataframe to an interactive table.\"\n",
              "            style=\"display:none;\">\n",
              "\n",
              "  <svg xmlns=\"http://www.w3.org/2000/svg\" height=\"24px\" viewBox=\"0 -960 960 960\">\n",
              "    <path d=\"M120-120v-720h720v720H120Zm60-500h600v-160H180v160Zm220 220h160v-160H400v160Zm0 220h160v-160H400v160ZM180-400h160v-160H180v160Zm440 0h160v-160H620v160ZM180-180h160v-160H180v160Zm440 0h160v-160H620v160Z\"/>\n",
              "  </svg>\n",
              "    </button>\n",
              "\n",
              "  <style>\n",
              "    .colab-df-container {\n",
              "      display:flex;\n",
              "      gap: 12px;\n",
              "    }\n",
              "\n",
              "    .colab-df-convert {\n",
              "      background-color: #E8F0FE;\n",
              "      border: none;\n",
              "      border-radius: 50%;\n",
              "      cursor: pointer;\n",
              "      display: none;\n",
              "      fill: #1967D2;\n",
              "      height: 32px;\n",
              "      padding: 0 0 0 0;\n",
              "      width: 32px;\n",
              "    }\n",
              "\n",
              "    .colab-df-convert:hover {\n",
              "      background-color: #E2EBFA;\n",
              "      box-shadow: 0px 1px 2px rgba(60, 64, 67, 0.3), 0px 1px 3px 1px rgba(60, 64, 67, 0.15);\n",
              "      fill: #174EA6;\n",
              "    }\n",
              "\n",
              "    .colab-df-buttons div {\n",
              "      margin-bottom: 4px;\n",
              "    }\n",
              "\n",
              "    [theme=dark] .colab-df-convert {\n",
              "      background-color: #3B4455;\n",
              "      fill: #D2E3FC;\n",
              "    }\n",
              "\n",
              "    [theme=dark] .colab-df-convert:hover {\n",
              "      background-color: #434B5C;\n",
              "      box-shadow: 0px 1px 3px 1px rgba(0, 0, 0, 0.15);\n",
              "      filter: drop-shadow(0px 1px 2px rgba(0, 0, 0, 0.3));\n",
              "      fill: #FFFFFF;\n",
              "    }\n",
              "  </style>\n",
              "\n",
              "    <script>\n",
              "      const buttonEl =\n",
              "        document.querySelector('#df-d3507eed-10c4-4b13-89d3-a90ef61ffcfe button.colab-df-convert');\n",
              "      buttonEl.style.display =\n",
              "        google.colab.kernel.accessAllowed ? 'block' : 'none';\n",
              "\n",
              "      async function convertToInteractive(key) {\n",
              "        const element = document.querySelector('#df-d3507eed-10c4-4b13-89d3-a90ef61ffcfe');\n",
              "        const dataTable =\n",
              "          await google.colab.kernel.invokeFunction('convertToInteractive',\n",
              "                                                    [key], {});\n",
              "        if (!dataTable) return;\n",
              "\n",
              "        const docLinkHtml = 'Like what you see? Visit the ' +\n",
              "          '<a target=\"_blank\" href=https://colab.research.google.com/notebooks/data_table.ipynb>data table notebook</a>'\n",
              "          + ' to learn more about interactive tables.';\n",
              "        element.innerHTML = '';\n",
              "        dataTable['output_type'] = 'display_data';\n",
              "        await google.colab.output.renderOutput(dataTable, element);\n",
              "        const docLink = document.createElement('div');\n",
              "        docLink.innerHTML = docLinkHtml;\n",
              "        element.appendChild(docLink);\n",
              "      }\n",
              "    </script>\n",
              "  </div>\n",
              "\n",
              "\n",
              "<div id=\"df-1b08fd5c-1cfa-4e78-b910-50fd38b4e3af\">\n",
              "  <button class=\"colab-df-quickchart\" onclick=\"quickchart('df-1b08fd5c-1cfa-4e78-b910-50fd38b4e3af')\"\n",
              "            title=\"Suggest charts\"\n",
              "            style=\"display:none;\">\n",
              "\n",
              "<svg xmlns=\"http://www.w3.org/2000/svg\" height=\"24px\"viewBox=\"0 0 24 24\"\n",
              "     width=\"24px\">\n",
              "    <g>\n",
              "        <path d=\"M19 3H5c-1.1 0-2 .9-2 2v14c0 1.1.9 2 2 2h14c1.1 0 2-.9 2-2V5c0-1.1-.9-2-2-2zM9 17H7v-7h2v7zm4 0h-2V7h2v10zm4 0h-2v-4h2v4z\"/>\n",
              "    </g>\n",
              "</svg>\n",
              "  </button>\n",
              "\n",
              "<style>\n",
              "  .colab-df-quickchart {\n",
              "      --bg-color: #E8F0FE;\n",
              "      --fill-color: #1967D2;\n",
              "      --hover-bg-color: #E2EBFA;\n",
              "      --hover-fill-color: #174EA6;\n",
              "      --disabled-fill-color: #AAA;\n",
              "      --disabled-bg-color: #DDD;\n",
              "  }\n",
              "\n",
              "  [theme=dark] .colab-df-quickchart {\n",
              "      --bg-color: #3B4455;\n",
              "      --fill-color: #D2E3FC;\n",
              "      --hover-bg-color: #434B5C;\n",
              "      --hover-fill-color: #FFFFFF;\n",
              "      --disabled-bg-color: #3B4455;\n",
              "      --disabled-fill-color: #666;\n",
              "  }\n",
              "\n",
              "  .colab-df-quickchart {\n",
              "    background-color: var(--bg-color);\n",
              "    border: none;\n",
              "    border-radius: 50%;\n",
              "    cursor: pointer;\n",
              "    display: none;\n",
              "    fill: var(--fill-color);\n",
              "    height: 32px;\n",
              "    padding: 0;\n",
              "    width: 32px;\n",
              "  }\n",
              "\n",
              "  .colab-df-quickchart:hover {\n",
              "    background-color: var(--hover-bg-color);\n",
              "    box-shadow: 0 1px 2px rgba(60, 64, 67, 0.3), 0 1px 3px 1px rgba(60, 64, 67, 0.15);\n",
              "    fill: var(--button-hover-fill-color);\n",
              "  }\n",
              "\n",
              "  .colab-df-quickchart-complete:disabled,\n",
              "  .colab-df-quickchart-complete:disabled:hover {\n",
              "    background-color: var(--disabled-bg-color);\n",
              "    fill: var(--disabled-fill-color);\n",
              "    box-shadow: none;\n",
              "  }\n",
              "\n",
              "  .colab-df-spinner {\n",
              "    border: 2px solid var(--fill-color);\n",
              "    border-color: transparent;\n",
              "    border-bottom-color: var(--fill-color);\n",
              "    animation:\n",
              "      spin 1s steps(1) infinite;\n",
              "  }\n",
              "\n",
              "  @keyframes spin {\n",
              "    0% {\n",
              "      border-color: transparent;\n",
              "      border-bottom-color: var(--fill-color);\n",
              "      border-left-color: var(--fill-color);\n",
              "    }\n",
              "    20% {\n",
              "      border-color: transparent;\n",
              "      border-left-color: var(--fill-color);\n",
              "      border-top-color: var(--fill-color);\n",
              "    }\n",
              "    30% {\n",
              "      border-color: transparent;\n",
              "      border-left-color: var(--fill-color);\n",
              "      border-top-color: var(--fill-color);\n",
              "      border-right-color: var(--fill-color);\n",
              "    }\n",
              "    40% {\n",
              "      border-color: transparent;\n",
              "      border-right-color: var(--fill-color);\n",
              "      border-top-color: var(--fill-color);\n",
              "    }\n",
              "    60% {\n",
              "      border-color: transparent;\n",
              "      border-right-color: var(--fill-color);\n",
              "    }\n",
              "    80% {\n",
              "      border-color: transparent;\n",
              "      border-right-color: var(--fill-color);\n",
              "      border-bottom-color: var(--fill-color);\n",
              "    }\n",
              "    90% {\n",
              "      border-color: transparent;\n",
              "      border-bottom-color: var(--fill-color);\n",
              "    }\n",
              "  }\n",
              "</style>\n",
              "\n",
              "  <script>\n",
              "    async function quickchart(key) {\n",
              "      const quickchartButtonEl =\n",
              "        document.querySelector('#' + key + ' button');\n",
              "      quickchartButtonEl.disabled = true;  // To prevent multiple clicks.\n",
              "      quickchartButtonEl.classList.add('colab-df-spinner');\n",
              "      try {\n",
              "        const charts = await google.colab.kernel.invokeFunction(\n",
              "            'suggestCharts', [key], {});\n",
              "      } catch (error) {\n",
              "        console.error('Error during call to suggestCharts:', error);\n",
              "      }\n",
              "      quickchartButtonEl.classList.remove('colab-df-spinner');\n",
              "      quickchartButtonEl.classList.add('colab-df-quickchart-complete');\n",
              "    }\n",
              "    (() => {\n",
              "      let quickchartButtonEl =\n",
              "        document.querySelector('#df-1b08fd5c-1cfa-4e78-b910-50fd38b4e3af button');\n",
              "      quickchartButtonEl.style.display =\n",
              "        google.colab.kernel.accessAllowed ? 'block' : 'none';\n",
              "    })();\n",
              "  </script>\n",
              "</div>\n",
              "    </div>\n",
              "  </div>\n"
            ],
            "application/vnd.google.colaboratory.intrinsic+json": {
              "type": "dataframe",
              "variable_name": "df",
              "summary": "{\n  \"name\": \"df\",\n  \"rows\": 10000,\n  \"fields\": [\n    {\n      \"column\": \"en\",\n      \"properties\": {\n        \"dtype\": \"string\",\n        \"num_unique_values\": 5445,\n        \"samples\": [\n          \"i cut class\",\n          \"no you cant\",\n          \"i frowned\"\n        ],\n        \"semantic_type\": \"\",\n        \"description\": \"\"\n      }\n    },\n    {\n      \"column\": \"fr\",\n      \"properties\": {\n        \"dtype\": \"string\",\n        \"num_unique_values\": 8571,\n        \"samples\": [\n          \"[start] je veux davantage [end]\",\n          \"[start] il me faut un travail [end]\",\n          \"[start] je vois tom [end]\"\n        ],\n        \"semantic_type\": \"\",\n        \"description\": \"\"\n      }\n    }\n  ]\n}"
            }
          },
          "metadata": {},
          "execution_count": 107
        }
      ]
    },
    {
      "cell_type": "code",
      "source": [
        "en = df['en']\n",
        "fr = df['fr']\n",
        "\n",
        "en_max_len = max(len(line.split()) for line in en)\n",
        "fr_max_len = max(len(line.split()) for line in fr)\n",
        "sequence_len = max(en_max_len, fr_max_len)\n",
        "\n",
        "print(f'Max phrase length (English): {en_max_len}')\n",
        "print(f'Max phrase length (French): {fr_max_len}')\n",
        "print(f'Sequence length: {sequence_len}')"
      ],
      "metadata": {
        "colab": {
          "base_uri": "https://localhost:8080/"
        },
        "id": "z9zzl399h7lv",
        "outputId": "cefab05d-3db8-4e69-e186-8460cc002dab"
      },
      "id": "z9zzl399h7lv",
      "execution_count": 108,
      "outputs": [
        {
          "output_type": "stream",
          "name": "stdout",
          "text": [
            "Max phrase length (English): 4\n",
            "Max phrase length (French): 12\n",
            "Sequence length: 12\n"
          ]
        }
      ]
    },
    {
      "cell_type": "code",
      "source": [
        "from tensorflow.keras.preprocessing.text import Tokenizer\n",
        "from tensorflow.keras.preprocessing.sequence import pad_sequences\n",
        "\n",
        "en_tokenizer = Tokenizer()\n",
        "en_tokenizer.fit_on_texts(en)\n",
        "en_sequences = en_tokenizer.texts_to_sequences(en)\n",
        "en_x = pad_sequences(en_sequences, maxlen=sequence_len, padding='post')\n",
        "\n",
        "fr_tokenizer = Tokenizer(filters='!\"#$%&()*+,-./:;<=>?@\\\\^_`{|}~\\t\\n')\n",
        "fr_tokenizer.fit_on_texts(fr)\n",
        "fr_sequences = fr_tokenizer.texts_to_sequences(fr)\n",
        "fr_y = pad_sequences(fr_sequences, maxlen=sequence_len + 1, padding='post')"
      ],
      "metadata": {
        "id": "7vyhihCeh7te"
      },
      "id": "7vyhihCeh7te",
      "execution_count": 109,
      "outputs": []
    },
    {
      "cell_type": "code",
      "source": [
        "en_vocab_size = len(en_tokenizer.word_index) + 1\n",
        "fr_vocab_size = len(fr_tokenizer.word_index) + 1\n",
        "\n",
        "print(f'Vocabulary size (English): {en_vocab_size}')\n",
        "print(f'Vocabulary size (French): {fr_vocab_size}')"
      ],
      "metadata": {
        "colab": {
          "base_uri": "https://localhost:8080/"
        },
        "id": "B_yF5womjDk8",
        "outputId": "c1c2da2e-962f-4135-cc9c-e94f0a5816f2"
      },
      "id": "B_yF5womjDk8",
      "execution_count": 110,
      "outputs": [
        {
          "output_type": "stream",
          "name": "stdout",
          "text": [
            "Vocabulary size (English): 2016\n",
            "Vocabulary size (French): 4236\n"
          ]
        }
      ]
    },
    {
      "cell_type": "markdown",
      "source": [
        "Finally, create the features and the labels the model will be trained with. The features are the padded English sequences and the padded French sequences minus the [end] tokens. The labels are the padded French sequences minus the [start] tokens. Package the features in a dictionary so they can be input to a model that accepts multiple inputs."
      ],
      "metadata": {
        "id": "qTOJUXGpjIy5"
      },
      "id": "qTOJUXGpjIy5"
    },
    {
      "cell_type": "code",
      "source": [
        "inputs = { 'encoder_input': en_x, 'decoder_input': fr_y[:, :-1] }\n",
        "outputs = fr_y[:, 1:]"
      ],
      "metadata": {
        "id": "C1c1fZVOjF2L"
      },
      "id": "C1c1fZVOjF2L",
      "execution_count": 111,
      "outputs": []
    },
    {
      "cell_type": "markdown",
      "source": [
        "# Build and train a model"
      ],
      "metadata": {
        "id": "qne2fkTAjcNq"
      },
      "id": "qne2fkTAjcNq"
    },
    {
      "cell_type": "markdown",
      "source": [
        "Now use Keras's functional API to define a model that includes a transformer encoder and a transformer decoder. The model accepts two inputs: padded English sequences for the encoder, and padded French sequences for the decoder. The output from the decoder is fed to a softmax output layer for classification."
      ],
      "metadata": {
        "id": "pZ6yistBji1S"
      },
      "id": "pZ6yistBji1S"
    },
    {
      "cell_type": "code",
      "source": [
        "# !pip install keras_nlp\n"
      ],
      "metadata": {
        "id": "UVl1DrzBj4Nd"
      },
      "id": "UVl1DrzBj4Nd",
      "execution_count": 112,
      "outputs": []
    },
    {
      "cell_type": "code",
      "source": [
        "import numpy as np\n",
        "import tensorflow as tf\n",
        "from tensorflow.keras import Model\n",
        "from tensorflow.keras.layers import Input, Dense, Dropout\n",
        "from keras_nlp.layers import TokenAndPositionEmbedding, TransformerEncoder\n",
        "from keras_nlp.layers import TransformerDecoder\n",
        "\n",
        "np.random.seed(42)\n",
        "tf.random.set_seed(42)\n",
        "\n",
        "num_heads = 8\n",
        "embed_dim = 256\n",
        "\n",
        "encoder_input = Input(shape=(None,), dtype='int64', name='encoder_input')\n",
        "x = TokenAndPositionEmbedding(en_vocab_size, sequence_len, embed_dim)(encoder_input)\n",
        "encoder_output = TransformerEncoder(embed_dim, num_heads)(x)\n",
        "encoded_seq_input = Input(shape=(None, embed_dim))\n",
        "\n",
        "decoder_input = Input(shape=(None,), dtype='int64', name='decoder_input')\n",
        "x = TokenAndPositionEmbedding(fr_vocab_size, sequence_len, embed_dim, mask_zero=True)(decoder_input)\n",
        "x = TransformerDecoder(embed_dim, num_heads)(x, encoded_seq_input)\n",
        "x = Dropout(0.4)(x)\n",
        "\n",
        "decoder_output = Dense(fr_vocab_size, activation='softmax')(x)\n",
        "decoder = Model([decoder_input, encoded_seq_input], decoder_output)\n",
        "decoder_output = decoder([decoder_input, encoder_output])\n",
        "\n",
        "model = Model([encoder_input, decoder_input], decoder_output)\n",
        "model.compile(optimizer='adam', loss='sparse_categorical_crossentropy', metrics=['accuracy'])\n",
        "model.summary(line_length=120)"
      ],
      "metadata": {
        "colab": {
          "base_uri": "https://localhost:8080/"
        },
        "id": "UuQ0VDpljZ3t",
        "outputId": "016a23ba-84de-49b4-9d99-407a248f0210"
      },
      "id": "UuQ0VDpljZ3t",
      "execution_count": 113,
      "outputs": [
        {
          "output_type": "stream",
          "name": "stdout",
          "text": [
            "Model: \"model_10\"\n",
            "________________________________________________________________________________________________________________________\n",
            " Layer (type)                       Output Shape                        Param #     Connected to                        \n",
            "========================================================================================================================\n",
            " encoder_input (InputLayer)         [(None, None)]                      0           []                                  \n",
            "                                                                                                                        \n",
            " token_and_position_embedding_4 (T  (None, None, 256)                   519168      ['encoder_input[0][0]']             \n",
            " okenAndPositionEmbedding)                                                                                              \n",
            "                                                                                                                        \n",
            " decoder_input (InputLayer)         [(None, None)]                      0           []                                  \n",
            "                                                                                                                        \n",
            " transformer_encoder_2 (Transforme  (None, None, 256)                   395776      ['token_and_position_embedding_4[0][\n",
            " rEncoder)                                                                          0]']                                \n",
            "                                                                                                                        \n",
            " model_9 (Functional)               (None, None, 4236)                  2835596     ['decoder_input[0][0]',             \n",
            "                                                                                     'transformer_encoder_2[0][0]']     \n",
            "                                                                                                                        \n",
            "========================================================================================================================\n",
            "Total params: 3750540 (14.31 MB)\n",
            "Trainable params: 3750540 (14.31 MB)\n",
            "Non-trainable params: 0 (0.00 Byte)\n",
            "________________________________________________________________________________________________________________________\n"
          ]
        }
      ]
    },
    {
      "cell_type": "code",
      "source": [
        "from tensorflow.keras.callbacks import EarlyStopping\n",
        "\n",
        "callback = EarlyStopping(monitor='val_accuracy', patience=5, restore_best_weights=True)\n",
        "hist = model.fit(inputs, outputs, epochs=50, validation_split=0.2, callbacks=[callback])"
      ],
      "metadata": {
        "colab": {
          "base_uri": "https://localhost:8080/"
        },
        "id": "0RbhTJ6kjla_",
        "outputId": "bb1ae101-7b47-47b8-df59-518596c43df1"
      },
      "id": "0RbhTJ6kjla_",
      "execution_count": 114,
      "outputs": [
        {
          "output_type": "stream",
          "name": "stdout",
          "text": [
            "Epoch 1/50\n",
            "250/250 [==============================] - 30s 108ms/step - loss: 3.5737 - accuracy: 0.5026 - val_loss: 3.0616 - val_accuracy: 0.5631\n",
            "Epoch 2/50\n",
            "250/250 [==============================] - 26s 105ms/step - loss: 2.4168 - accuracy: 0.6050 - val_loss: 2.7587 - val_accuracy: 0.5937\n",
            "Epoch 3/50\n",
            "250/250 [==============================] - 27s 109ms/step - loss: 1.8333 - accuracy: 0.6648 - val_loss: 2.6175 - val_accuracy: 0.6285\n",
            "Epoch 4/50\n",
            "250/250 [==============================] - 26s 105ms/step - loss: 1.4257 - accuracy: 0.7136 - val_loss: 2.5239 - val_accuracy: 0.6438\n",
            "Epoch 5/50\n",
            "250/250 [==============================] - 26s 105ms/step - loss: 1.1508 - accuracy: 0.7455 - val_loss: 2.4854 - val_accuracy: 0.6461\n",
            "Epoch 6/50\n",
            "250/250 [==============================] - 26s 104ms/step - loss: 0.9655 - accuracy: 0.7697 - val_loss: 2.5215 - val_accuracy: 0.6527\n",
            "Epoch 7/50\n",
            "250/250 [==============================] - 26s 104ms/step - loss: 0.8245 - accuracy: 0.7912 - val_loss: 2.5751 - val_accuracy: 0.6593\n",
            "Epoch 8/50\n",
            "250/250 [==============================] - 27s 106ms/step - loss: 0.7410 - accuracy: 0.8053 - val_loss: 2.5137 - val_accuracy: 0.6631\n",
            "Epoch 9/50\n",
            "250/250 [==============================] - 26s 105ms/step - loss: 0.6882 - accuracy: 0.8138 - val_loss: 2.6491 - val_accuracy: 0.6638\n",
            "Epoch 10/50\n",
            "250/250 [==============================] - 26s 105ms/step - loss: 0.6483 - accuracy: 0.8191 - val_loss: 2.5996 - val_accuracy: 0.6693\n",
            "Epoch 11/50\n",
            "250/250 [==============================] - 27s 106ms/step - loss: 0.6137 - accuracy: 0.8285 - val_loss: 2.5969 - val_accuracy: 0.6662\n",
            "Epoch 12/50\n",
            "250/250 [==============================] - 26s 105ms/step - loss: 0.5875 - accuracy: 0.8321 - val_loss: 2.6242 - val_accuracy: 0.6696\n",
            "Epoch 13/50\n",
            "250/250 [==============================] - 26s 105ms/step - loss: 0.5625 - accuracy: 0.8359 - val_loss: 2.6752 - val_accuracy: 0.6708\n",
            "Epoch 14/50\n",
            "250/250 [==============================] - 27s 107ms/step - loss: 0.5526 - accuracy: 0.8385 - val_loss: 2.7626 - val_accuracy: 0.6682\n",
            "Epoch 15/50\n",
            "250/250 [==============================] - 26s 105ms/step - loss: 0.5395 - accuracy: 0.8415 - val_loss: 2.6945 - val_accuracy: 0.6736\n",
            "Epoch 16/50\n",
            "250/250 [==============================] - 26s 105ms/step - loss: 0.5254 - accuracy: 0.8438 - val_loss: 2.7267 - val_accuracy: 0.6662\n",
            "Epoch 17/50\n",
            "250/250 [==============================] - 27s 107ms/step - loss: 0.5107 - accuracy: 0.8460 - val_loss: 2.7201 - val_accuracy: 0.6751\n",
            "Epoch 18/50\n",
            "250/250 [==============================] - 28s 111ms/step - loss: 0.4989 - accuracy: 0.8472 - val_loss: 2.6882 - val_accuracy: 0.6692\n",
            "Epoch 19/50\n",
            "250/250 [==============================] - 28s 110ms/step - loss: 0.4943 - accuracy: 0.8488 - val_loss: 2.6845 - val_accuracy: 0.6732\n",
            "Epoch 20/50\n",
            "250/250 [==============================] - 28s 111ms/step - loss: 0.4831 - accuracy: 0.8510 - val_loss: 2.7167 - val_accuracy: 0.6731\n",
            "Epoch 21/50\n",
            "250/250 [==============================] - 28s 110ms/step - loss: 0.4704 - accuracy: 0.8543 - val_loss: 2.7486 - val_accuracy: 0.6719\n",
            "Epoch 22/50\n",
            "250/250 [==============================] - 28s 112ms/step - loss: 0.4666 - accuracy: 0.8544 - val_loss: 2.7025 - val_accuracy: 0.6747\n"
          ]
        }
      ]
    },
    {
      "cell_type": "code",
      "source": [
        "import matplotlib.pyplot as plt\n",
        "\n",
        "plt.figure(figsize=(20, 6))\n",
        "# Plot the first subplot  loss)\n",
        "plt.subplot(1, 2, 1)  # 1 row, 2 columns, first subplot\n",
        "plt.plot(hist.history[\"loss\"])\n",
        "plt.plot(hist.history[\"val_loss\"])\n",
        "plt.title(\"validation loss & training loss\")\n",
        "plt.xlabel(\"epochs\")\n",
        "plt.ylabel(\"loss\")\n",
        "leg = plt.legend([\"training loss\", \"validation loss\"],loc =\"upper right\");\n",
        "\n",
        "# Plot the second subplot ( accuracy)\n",
        "plt.subplot(1, 2, 2)  # 1 row, 2 columns, second subplot\n",
        "plt.plot(hist.history[\"accuracy\"])\n",
        "plt.plot(hist.history[\"val_accuracy\"])\n",
        "plt.title(\"validation accuracy & training loaccuracyss\")\n",
        "plt.xlabel(\"epochs\")\n",
        "plt.ylabel(\"accuracy\")\n",
        "leg = plt.legend([\"training accuracy\", \"validation accuracy\"],loc =\"upper left\");\n",
        "\n",
        "plt.show()\n"
      ],
      "metadata": {
        "colab": {
          "base_uri": "https://localhost:8080/",
          "height": 573
        },
        "id": "D70tRgtfkXpO",
        "outputId": "09b2abb7-ea9f-4aec-e143-fc0b683be6d0"
      },
      "id": "D70tRgtfkXpO",
      "execution_count": 116,
      "outputs": [
        {
          "output_type": "display_data",
          "data": {
            "text/plain": [
              "<Figure size 2000x600 with 2 Axes>"
            ],
            "image/png": "[encoded data removed]"
          },
          "metadata": {}
        }
      ]
    },
    {
      "cell_type": "markdown",
      "source": [
        "## Use the model to translate text"
      ],
      "metadata": {
        "id": "GC5ehZ1AmSf3"
      },
      "id": "GC5ehZ1AmSf3"
    },
    {
      "cell_type": "code",
      "source": [
        "def translate_text(text, model, en_tokenizer, fr_tokenizer, fr_index_lookup, sequence_len):\n",
        "    input_sequence = en_tokenizer.texts_to_sequences([text])\n",
        "    padded_input_sequence = pad_sequences(input_sequence, maxlen=sequence_len, padding='post')\n",
        "    decoded_text = '[start]'\n",
        "\n",
        "    for i in range(sequence_len):\n",
        "        target_sequence = fr_tokenizer.texts_to_sequences([decoded_text])\n",
        "        padded_target_sequence = pad_sequences(target_sequence, maxlen=sequence_len, padding='post')[:, :-1]\n",
        "\n",
        "        prediction = model([padded_input_sequence, padded_target_sequence])\n",
        "\n",
        "        idx = np.argmax(prediction[0, i, :]) - 1\n",
        "        token = fr_index_lookup[idx]\n",
        "        decoded_text += ' ' + token\n",
        "\n",
        "        if token == '[end]':\n",
        "            break\n",
        "\n",
        "    return decoded_text[8:-6] # Remove [start] and [end] tokens\n",
        "\n",
        "fr_vocab = fr_tokenizer.word_index\n",
        "fr_index_lookup = dict(zip(range(len(fr_vocab)), fr_vocab))\n",
        "texts = en[40000:40010].values\n",
        "\n",
        "for text in texts:\n",
        "    translated = translate_text(text, model, en_tokenizer, fr_tokenizer, fr_index_lookup, sequence_len)\n",
        "    print(f'{text} => {translated}')"
      ],
      "metadata": {
        "id": "Iv5Ydh4Ik1GX"
      },
      "id": "Iv5Ydh4Ik1GX",
      "execution_count": 119,
      "outputs": []
    },
    {
      "cell_type": "code",
      "source": [
        "translate_text('god is god', model, en_tokenizer, fr_tokenizer, fr_index_lookup, sequence_len)\n"
      ],
      "metadata": {
        "colab": {
          "base_uri": "https://localhost:8080/",
          "height": 35
        },
        "id": "ASUws8jwmW6w",
        "outputId": "bea8ebef-3f20-44e2-a235-bca7354ee9f6"
      },
      "id": "ASUws8jwmW6w",
      "execution_count": 123,
      "outputs": [
        {
          "output_type": "execute_result",
          "data": {
            "text/plain": [
              "'dieu le dieu'"
            ],
            "application/vnd.google.colaboratory.intrinsic+json": {
              "type": "string"
            }
          },
          "metadata": {},
          "execution_count": 123
        }
      ]
    },
    {
      "cell_type": "markdown",
      "source": [
        "The model isn't perfect, but it's not bad, either. The dataset that you trained with contains just 50,000 samples, but if you trained with millions of samples, you'd have the makings of a decent NMT model."
      ],
      "metadata": {
        "id": "-UtDTwMUmf75"
      },
      "id": "-UtDTwMUmf75"
    },
    {
      "cell_type": "code",
      "source": [],
      "metadata": {
        "id": "BdkD9yTmmg4v"
      },
      "id": "BdkD9yTmmg4v",
      "execution_count": null,
      "outputs": []
    }
  ],
  "metadata": {
    "kernelspec": {
      "display_name": "Python 3 (ipykernel)",
      "language": "python",
      "name": "python3"
    },
    "language_info": {
      "codemirror_mode": {
        "name": "ipython",
        "version": 3
      },
      "file_extension": ".py",
      "mimetype": "text/x-python",
      "name": "python",
      "nbconvert_exporter": "python",
      "pygments_lexer": "ipython3",
      "version": "3.11.5"
    },
    "colab": {
      "provenance": []
    }
  },
  "nbformat": 4,
  "nbformat_minor": 5
}